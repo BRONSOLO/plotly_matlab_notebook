{
 "metadata": {
  "name": "",
  "signature": "sha256:53db1d72127aa7ab5802415cce44ba38090ea3dc832398f7849f536cdbd0f2d3"
 },
 "nbformat": 3,
 "nbformat_minor": 0,
 "worksheets": [
  {
   "cells": [
    {
     "cell_type": "markdown",
     "metadata": {},
     "source": [
      "<center>\n",
      "<img src=\"files/images/pmat.png\" style=\"width: 400px; height: 200px; margin-left: 25%;margin-right: auto\"; alt=\"\">\n",
      "</center> \n"
     ]
    },
    {
     "cell_type": "markdown",
     "metadata": {},
     "source": [
      "<h1>[PLOTLY'S MATLAB API]</h1>"
     ]
    },
    {
     "cell_type": "markdown",
     "metadata": {},
     "source": [
      "\n",
      "><center>WELCOME! This Notebook is designed to demonstrate the use of the Plotly MATLAB API and to showcase three **<font color = red>\\*NEW\\*</font>** API functions:</center>\n",
      "\n",
      "<center>\n",
      "<font color=red size = \"4\">  **\\*NEW\\* ** </font>&nbsp; &nbsp;\n",
      "<a href = ./welcome_home.ipynb/#toc class=\"nounderline\">fig2plotly.m</a>&nbsp; &nbsp; **  \u2022   ** &nbsp; &nbsp;<a href=\"#gpf\" class=\"nounderline\">getplotlyfig.m</a> &nbsp; &nbsp; **  \u2022   ** &nbsp; &nbsp; <a href=\"#matlab_basics\" class=\"nounderline\">saveplotlyfig.m</a> \n",
      "&nbsp; &nbsp;<font color=red size = \"4\">  **\\*NEW\\* **  </font>\n",
      "</center>"
     ]
    },
    {
     "cell_type": "markdown",
     "metadata": {},
     "source": [
      "<br>\n",
      "<br>\n",
      "<br>"
     ]
    },
    {
     "cell_type": "markdown",
     "metadata": {},
     "source": [
      "<h1>[INITIAL SETUP]</h1>"
     ]
    },
    {
     "cell_type": "markdown",
     "metadata": {},
     "source": [
      "The Plotly MATLAB API has been embedded into our MATLAB toolboxes and our Plotly credentials have been saved using **plotlysetup.m**. In order to start using the Plotly MATLAB API all we have to do now is start MATLAB!  More information regarding installation / setting up the Plotly MATLAB API can be found on the <a href = \"https://plot.ly/matlab/getting-started\" class = nounderline> ONLINE DOCUMENTATION</a>.\n",
      "\n",
      "Throughout this notebook we will be using the super awesome <a href=\"https://pypi.python.org/pypi/pymatbridge/0.1/\" class=\"nounderline\">pymatbridge</a> package to communicate with MATLAB from Python. Everything that comes below the **%%matlab** decorator will now be read as MATLAB code! To use the MATLAB API on your own machine, simply open the MATLAB application as you normally would."
     ]
    },
    {
     "cell_type": "heading",
     "level": 4,
     "metadata": {},
     "source": [
      ">> OPEN YOUR MATLAB ENVIRONMENT! "
     ]
    },
    {
     "cell_type": "code",
     "collapsed": false,
     "input": [
      "%load_ext pymatbridge"
     ],
     "language": "python",
     "metadata": {},
     "outputs": [
      {
       "output_type": "stream",
       "stream": "stdout",
       "text": [
        "Starting MATLAB on ZMQ socket ipc:///tmp/pymatbridge\n",
        "Send 'exit' command to kill the server\n",
        "."
       ]
      },
      {
       "output_type": "stream",
       "stream": "stdout",
       "text": [
        "."
       ]
      },
      {
       "output_type": "stream",
       "stream": "stdout",
       "text": [
        "MATLAB started and connected!\n"
       ]
      }
     ],
     "prompt_number": 1
    },
    {
     "cell_type": "markdown",
     "metadata": {},
     "source": [
      "<br>"
     ]
    },
    {
     "cell_type": "markdown",
     "metadata": {},
     "source": [
      "The following code can be used to embed your Plotly plots within your own webpage."
     ]
    },
    {
     "cell_type": "code",
     "collapsed": false,
     "input": [
      "from IPython.display import HTML\n",
      "\n",
      "def show_plot(url, width=700, height=500):\n",
      "    s = '<iframe height=\"%s\" id=\"igraph\" scrolling=\"no\" frameborder = 0 seamless=\"seamless\" src=\"%s\" width=\"%s\"></iframe>' %\\\n",
      "    (height, \"/\".join(map(str,[url, width, height])), width)\n",
      "    return HTML(s)"
     ],
     "language": "python",
     "metadata": {},
     "outputs": [],
     "prompt_number": 2
    },
    {
     "cell_type": "markdown",
     "metadata": {},
     "source": [
      "<br>\n",
      "<br>\n",
      "<h1>[fig2plotly.m]</h1>\n"
     ]
    },
    {
     "cell_type": "markdown",
     "metadata": {},
     "source": [
      "----\n",
      "<center>\n",
      "<h6>Plot a MATLAB figure object with Plotly!</h6>\n",
      "</center>\n",
      "\n",
      "---"
     ]
    },
    {
     "cell_type": "heading",
     "level": 4,
     "metadata": {},
     "source": [
      ">> TELL MATLAB WHERE TO FIND THE EXAMPLE DATA!"
     ]
    },
    {
     "cell_type": "code",
     "collapsed": false,
     "input": [
      "%%matlab \n",
      "\n",
      "api_path = ('/Users/chuckbronson/Documents/PLOTLY/MATLAB_API_REPO/TEST_PLOTS');\n",
      "addpath(genpath(api_path));"
     ],
     "language": "python",
     "metadata": {},
     "outputs": [],
     "prompt_number": 120
    },
    {
     "cell_type": "markdown",
     "metadata": {},
     "source": [
      "<h2 id=ex1>[EXAMPLE 1]</h2>"
     ]
    },
    {
     "cell_type": "code",
     "collapsed": false,
     "input": [
      "%%matlab\n",
      "\n",
      "%%%%%%%%%%%%%%%%%%%%%%%%%%%%%%%%%%%%%%%%%%%%%%%%%%%%\n",
      "%            FROM MATLAB PLOT GALLERY              %\n",
      "%  http://www.mathworks.com/discovery/gallery.html %\n",
      "%%%%%%%%%%%%%%%%%%%%%%%%%%%%%%%%%%%%%%%%%%%%%%%%%%%%\n",
      "\n",
      "load fitdata x y yfit;\n",
      "fig = figure;\n",
      "scatter(x, y, 'k');\n",
      "line(x, yfit, 'color', 'k', 'linestyle', '-', 'linewidth', 2);\n",
      "line(x, yfit + 0.3, 'color', 'r', 'linestyle', '--', 'linewidth', 2);\n",
      "line(x, yfit - 0.3, 'color', 'r', 'linestyle', '--', 'linewidth', 2);\n",
      "legend('Data', 'Localized Regression', 'Confidence Intervals', 2);\n",
      "xlabel('X');\n",
      "ylabel('Noisy');\n",
      "\n",
      "%%%%%%%%%%%%%%%%%%%%%%%%%%%%%%%\n",
      "%        PLOTLY API CODE      %\n",
      "%%%%%%%%%%%%%%%%%%%%%%%%%%%%%%%\n",
      "\n",
      "resp = fig2plotly(fig); "
     ],
     "language": "python",
     "metadata": {},
     "outputs": []
    },
    {
     "cell_type": "markdown",
     "metadata": {},
     "source": [
      "The above plot is the ouptut from calling the **scatter** and **line** functions inherent in MATLAB. Using the **fig2plotly.m** function, we are able to extract the relevant data from the MATLAB figure object and throw the output over to <a href = \"https://plot.ly\" class = nounderline>Plot.ly</a>! The returned response variable, **resp**, is a structure array which contains a **url** field with the address of our plot: \n"
     ]
    },
    {
     "cell_type": "code",
     "collapsed": false,
     "input": [
      "%%matlab \n",
      "resp.url "
     ],
     "language": "python",
     "metadata": {},
     "outputs": [
      {
       "metadata": {},
       "output_type": "display_data",
       "text": [
        "\n",
        "ans =\n",
        "\n",
        "https://plot.ly/~bronsolo/71\n",
        "\n"
       ]
      }
     ],
     "prompt_number": 414
    },
    {
     "cell_type": "markdown",
     "metadata": {},
     "source": [
      "Let's have a look at the newly produced line and scatter plot in Plotly! "
     ]
    },
    {
     "cell_type": "code",
     "collapsed": false,
     "input": [
      "show_plot('https://plot.ly/~bronsolo/71')"
     ],
     "language": "python",
     "metadata": {},
     "outputs": [
      {
       "html": [
        "<iframe height=\"500\" id=\"igraph\" scrolling=\"no\" frameborder = 0 seamless=\"seamless\" src=\"https://plot.ly/~bronsolo/71/700/500\" width=\"700\"></iframe>"
       ],
       "metadata": {},
       "output_type": "pyout",
       "prompt_number": 545,
       "text": [
        "<IPython.core.display.HTML at 0x10a716910>"
       ]
      }
     ],
     "prompt_number": 545
    },
    {
     "cell_type": "markdown",
     "metadata": {},
     "source": [
      "Nice! We can see how the **fig2plotly.m** function is able to parse all the relevant information for the MATLAB figure object and generate an awesome looking plot, the data for which is now <font size = \"5\">**stored**</font> on the cloud! This means you'll never have to worry about where your data is saved on your computer and you can <font size = \"5\">**share**</font> your newly created plot by simply embedding the link within your website or throwing it over to Facebook or Twitter!\n",
      "\n",
      "Another great thing about Plotly is the <font size = \"5\">**interactivity**</font> of the graphs. Try scrolling over the newly created plot to view the labelled data. Holding shift while clicking and dragging allows you to pan. Click and drag to zoom and double click to revert back to the original view! \n",
      "\n",
      "We can also now take advantage of the interactive <font size = \"5\">**Web App!**</font> You can view/edit all our newly created plots on your online account. By default **fig2plotly.m** will open your default browser and load your Plotly account to view the newly created plot. All the data associated with the plot has been stored and conveniently formatted in a spreadsheet that can be accessed by clicking on the the \"View data\" link on the right (below). \n",
      "\n"
     ]
    },
    {
     "cell_type": "markdown",
     "metadata": {},
     "source": [
      "<center>\n",
      "<img src=\"files/images/workspace.png\" style=\"width: 850px; height: 500px; margin-left: auto;margin-right: auto\"; alt=\"\">\n",
      "</center> "
     ]
    },
    {
     "cell_type": "markdown",
     "metadata": {},
     "source": [
      "By clicking on the \"Save & edit\" link on the left (above), we are able to access the main web GUI! This will allow us to tweak and experiment with plotting layout and style without having to write lines upon lines of code. Here is a screen shot of the Plotly web app:  "
     ]
    },
    {
     "cell_type": "markdown",
     "metadata": {},
     "source": [
      "<center>\n",
      "<img src=\"files/images/webapp.png\" style=\"width: 850px; height: 500px; margin-left: auto;margin-right: auto\"; alt=\"\">\n",
      "</center> "
     ]
    },
    {
     "cell_type": "markdown",
     "metadata": {},
     "source": [
      "There are also many style/layout themes to choose from and you can even save your own themes to apply to your graphs! Have a go at changing the syle and layout to suite your personal preferences! Here is one that we made: "
     ]
    },
    {
     "cell_type": "code",
     "collapsed": false,
     "input": [
      "show_plot('https://plot.ly/~bronsolo/48')"
     ],
     "language": "python",
     "metadata": {},
     "outputs": [
      {
       "html": [
        "<iframe height=\"500\" id=\"igraph\" scrolling=\"no\" frameborder = 0 seamless=\"seamless\" src=\"https://plot.ly/~bronsolo/48/700/500\" width=\"700\"></iframe>"
       ],
       "metadata": {},
       "output_type": "pyout",
       "prompt_number": 546,
       "text": [
        "<IPython.core.display.HTML at 0x10a716a50>"
       ]
      }
     ],
     "prompt_number": 546
    },
    {
     "cell_type": "markdown",
     "metadata": {},
     "source": [
      "<br>\n",
      "<br>\n",
      "<br>"
     ]
    },
    {
     "cell_type": "markdown",
     "metadata": {},
     "source": [
      "<br>\n",
      "<br>\n",
      "<br>\n",
      "<h2>[EXAMPLE 2]<h2>"
     ]
    },
    {
     "cell_type": "markdown",
     "metadata": {},
     "source": [
      "Lets have a look at how **fig2plotly.m** is able to handle more difficult plot layouts, such as multiple subplots of varying size!"
     ]
    },
    {
     "cell_type": "code",
     "collapsed": false,
     "input": [
      "%%matlab \n",
      "\n",
      "%%%%%%%%%%%%%%%%%%%%%%%%%%%%%%%%%%%%%%%%%%%%%%%%%%%%\n",
      "%            FROM MATLAB PLOT GALLERY              %\n",
      "%  http://www.mathworks.com/discovery/gallery.html %\n",
      "%%%%%%%%%%%%%%%%%%%%%%%%%%%%%%%%%%%%%%%%%%%%%%%%%%%%\n",
      "\n",
      "fm = 20e3;\n",
      "fc = 100e3;\n",
      "tstep = 100e-9;\n",
      "tmax  = 200e-6;\n",
      "t = 0:tstep:tmax;\n",
      "xam = (1 + cos(2*pi*fm*t)).*cos(2*pi*fc*t);\n",
      "T = 1e-6;\n",
      "N = 200;\n",
      "nT = 0:T:N*T;\n",
      "xn = (1 + cos(2*pi*fm*nT)).*cos(2*pi*fc*nT);\n",
      "figure;\n",
      "subplot(2, 2, [1 3]);\n",
      "plot(nT,xn);\n",
      "xlabel('t');\n",
      "ylabel('x[n]');\n",
      "title('Sampled Every T=1e-6 ');\n",
      "subplot(2, 2, 2);\n",
      "plot(t, xam);\n",
      "axis([0 200e-6 -2 2]);\n",
      "title('AM Modulated Signal');\n",
      "subplot(2, 2, 4);\n",
      "plot(nT, xn);\n",
      "title('Reconstruction at T=4e-6 ');\n",
      "\n",
      "%%%%%%%%%%%%%%%%%%%%%%%%%%%%%%%\n",
      "%        PLOTLY API CODE      %\n",
      "%%%%%%%%%%%%%%%%%%%%%%%%%%%%%%%\n",
      "resp = fig2plotly(fig,'strip',1); "
     ],
     "language": "python",
     "metadata": {},
     "outputs": [
      {
       "metadata": {},
       "output_type": "display_data",
       "png": "[encoded data removed]"
      }
     ],
     "prompt_number": 17
    },
    {
     "cell_type": "code",
     "collapsed": false,
     "input": [
      "show_plot('https://plot.ly/~bronsolo/67/')"
     ],
     "language": "python",
     "metadata": {},
     "outputs": [
      {
       "html": [
        "<iframe height=\"500\" id=\"igraph\" scrolling=\"no\" frameborder = 0 seamless=\"seamless\" src=\"https://plot.ly/~bronsolo/67//700/500\" width=\"700\"></iframe>"
       ],
       "metadata": {},
       "output_type": "pyout",
       "prompt_number": 556,
       "text": [
        "<IPython.core.display.HTML at 0x10a716cd0>"
       ]
      }
     ],
     "prompt_number": 556
    },
    {
     "cell_type": "markdown",
     "metadata": {},
     "source": [
      "Looks Great - **fig2plotly.m** preserves the subplot layout structure! It also converts the x-axis labels using the concise SI prefix &mu; = 10<sup>-6</sup>. You might notice that the colours for the traces generated using **fig2plotly.m** did not stay blue like the original output from MATLAB. This is because we changed the \"strip\" property of **fig2plotly.m** from \"false\" (default) to \"true\". In doing so we told **fig2plotly.m** to change the style used in MATLAB to beautiful default color schemes of Plotly! Go Plotly! "
     ]
    },
    {
     "cell_type": "markdown",
     "metadata": {},
     "source": [
      "<br>\n",
      "<br>\n",
      "<br>"
     ]
    },
    {
     "cell_type": "markdown",
     "metadata": {},
     "source": [
      "<h2>[EXAMPLE 3]</h2>"
     ]
    },
    {
     "cell_type": "markdown",
     "metadata": {},
     "source": [
      "Now let's have a look at some other chart types in MATLAB and apply **fig2plotly.m**. Let's experiment with bar charts with a double y axis!  "
     ]
    },
    {
     "cell_type": "code",
     "collapsed": false,
     "input": [
      "%%matlab \n",
      "\n",
      "%%%%%%%%%%%%%%%%%%%%%%%%%%%%%%%%%%%%%%%%%%%%%%%%%%%%\n",
      "%            FROM MATLAB PLOT GALLERY              %\n",
      "%  http://www.mathworks.com/discovery/gallery.html %\n",
      "%%%%%%%%%%%%%%%%%%%%%%%%%%%%%%%%%%%%%%%%%%%%%%%%%%%%\n",
      "\n",
      "TBdata = [1990 4889 16.4; 1991 5273 17.4; 1992 5382 17.4; 1993 5173 16.5;\n",
      "          1994 4860 15.4; 1995 4675 14.7; 1996 4313 13.5; 1997 4059 12.5;\n",
      "          1998 3855 11.7; 1999 3608 10.8; 2000 3297  9.7; 2001 3332  9.6;\n",
      "          2002 3169  9.0; 2003 3227  9.0; 2004 2989  8.2; 2005 2903  7.9;\n",
      "          2006 2779  7.4; 2007 2725  7.2];\n",
      "\n",
      "years = TBdata(:,1);\n",
      "cases = TBdata(:,2);\n",
      "rate  = TBdata(:,3);\n",
      "fig = figure;\n",
      "[ax, h1, h2] = plotyy(years, cases, years, rate, 'bar', 'plot');\n",
      "set(h1, 'FaceColor', [0.8, 0.8, 0.8]);\n",
      "set(h2, 'LineWidth', 2);\n",
      "title('Tuberculosis Cases: 1991-2007');\n",
      "xlabel('Years');\n",
      "set(get(ax(1), 'Ylabel'), 'String', 'Cases');\n",
      "set(get(ax(2), 'Ylabel'), 'String', 'Infection rate in cases per thousand');\n",
      "\n",
      "%%%%%%%%%%%%%%%%%%%%%%%%%%%%%%%\n",
      "%        PLOTLY API CODE      %\n",
      "%%%%%%%%%%%%%%%%%%%%%%%%%%%%%%%\n",
      "\n",
      "filename = 'Tuberculosis Cases';\n",
      "resp = fig2plotly(fig,'name',filename); "
     ],
     "language": "python",
     "metadata": {},
     "outputs": [
      {
       "metadata": {},
       "output_type": "display_data",
       "png": "[encoded data removed]"
      }
     ],
     "prompt_number": 68
    },
    {
     "cell_type": "markdown",
     "metadata": {},
     "source": [
      "The above plot is the ouptut we receive from calling the **plotyy** function inherent in MATLAB. Now, Let's grab that url from the **resp** structure aray and have a look at our newly genereted plot using **fig2plotly.m**! \n"
     ]
    },
    {
     "cell_type": "code",
     "collapsed": false,
     "input": [
      "%%matlab \n",
      "\n",
      "resp.url"
     ],
     "language": "python",
     "metadata": {},
     "outputs": [
      {
       "metadata": {},
       "output_type": "display_data",
       "text": [
        "\n",
        "ans =\n",
        "\n",
        "https://plot.ly/~bronsolo/82\n",
        "\n"
       ]
      }
     ],
     "prompt_number": 69
    },
    {
     "cell_type": "code",
     "collapsed": false,
     "input": [
      "show_plot('https://plot.ly/~bronsolo/82')"
     ],
     "language": "python",
     "metadata": {},
     "outputs": [
      {
       "html": [
        "<iframe height=\"500\" id=\"igraph\" scrolling=\"no\" frameborder = 0 seamless=\"seamless\" src=\"https://plot.ly/~bronsolo/82/700/500\" width=\"700\"></iframe>"
       ],
       "metadata": {},
       "output_type": "pyout",
       "prompt_number": 70,
       "text": [
        "<IPython.core.display.HTML at 0x1071f5e50>"
       ]
      }
     ],
     "prompt_number": 70
    },
    {
     "cell_type": "markdown",
     "metadata": {},
     "source": [
      "Looks great! Now we can use the Plotly web app to customize style an layout to our personal preference! <font size = \"4\">**Alternatively**</font> we can use the Plotly declaritive syntax to edit the style and layout with **plotly.m**, one of the original API functions. To do this, we will need to use another new function that simplifies everything: **getplotlyfig.m**... \n",
      "\n",
      "<br>\n",
      "<br>"
     ]
    },
    {
     "cell_type": "markdown",
     "metadata": {},
     "source": [
      "<h1 id=gpf>[getplotlyfig.m]</h1>"
     ]
    },
    {
     "cell_type": "markdown",
     "metadata": {},
     "source": [
      "----\n",
      "<center>\n",
      "<h6>Get data, style, and layout from the plots stored online! </h6>\n",
      "</center>\n",
      "\n",
      "---"
     ]
    },
    {
     "cell_type": "markdown",
     "metadata": {},
     "source": [
      "One of Plotly's secret powers is the ability to translate between MATLAB's structure/cell array syntax and JSON! This allows a smooth transition between the your figures in MATLAB and those stored in your Plotly account. In order to grab the data, style, and layout information from your plots living online, we've introduce a new funtion into the API: **getplotlyfig.m**. In fact, we can go one step further! **getploylyfig.m** lets you grab the data, style and layout of all Plotly plots as long as they are made public! See a graph you like online? Grab the data, style and layout and make one for yourself!  "
     ]
    },
    {
     "cell_type": "markdown",
     "metadata": {},
     "source": [
      "**getplotlyfig.m** takes two arguments as input: &nbsp;&nbsp; >> **getplotlyfig(file_owner,file_id)**\n"
     ]
    },
    {
     "cell_type": "markdown",
     "metadata": {},
     "source": [
      " If the provided input arguments are valid, **getplotlyfig** returns a **figure** structure with **data** and **layout** fields. The data field is a cell array containing the exact same data, and style information as is required for the **plotly.m** function input. Likewise, the **layout** structure array contains all the layout information in the same form as is required for the layout field of the optional argument structure array input to **plotly.m**. "
     ]
    },
    {
     "cell_type": "markdown",
     "metadata": {},
     "source": [
      "Now that we have a basic understanding of **getplotlyfig.m**, let's have a go at changing the bar and line colours from our previous example! "
     ]
    },
    {
     "cell_type": "code",
     "collapsed": false,
     "input": [
      "%%matlab\n",
      "\n",
      "%%%%%%%%%%%%%%%%%%%%%%%%%%%%%%%\n",
      "%       GET PLOTLY FIG!       %\n",
      "%%%%%%%%%%%%%%%%%%%%%%%%%%%%%%%\n",
      "\n",
      "plotlyfigure = getplotlyfig('bronsolo','82'); \n",
      "\n",
      "%%%%%%%%%%%%%%%%%%%%%%%%%%%%%%%\n",
      "%        PLOTLYSTYLE          %\n",
      "%%%%%%%%%%%%%%%%%%%%%%%%%%%%%%%\n",
      "\n",
      "% COLOR CHOICES\n",
      "col1 = '28B78D'; \n",
      "col2 = '#243743'; \n",
      "\n",
      "% BAR CHART STYLE \n",
      "plotlyfigure.data{1}.marker.color = col1;\n",
      "plotlyfigure.data{1}.line.width = 2; \n",
      "plotlyfigure.data{1}.line.color = 'black'; \n",
      "plotlyfigure.data{1}.name = 'Cases'; \n",
      "\n",
      "% LINE STYLE \n",
      "plotlyfigure.data{2}.line.width = 10; \n",
      "plotlyfigure.data{2}.line.color = col2; \n",
      "plotlyfigure.data{2}.name = 'Infection Rate'; \n",
      "\n",
      "% ARGS STRUCTURE \n",
      "args.filename = 'Tuberculosis Cases'; \n",
      "args.fileopt = 'overwrite'; \n",
      "\n",
      "%%%%%%%%%%%%%%%%%%%%%%%%%%%%%%%\n",
      "%         PLOTYLAYOUT         %\n",
      "%%%%%%%%%%%%%%%%%%%%%%%%%%%%%%%\n",
      "\n",
      "% Y2 AXIS STYLE\n",
      "plotlyfigure.layout.yaxis2.titlefont.color = col2;\n",
      "plotlyfigure.layout.yaxis2.tickfont.color = col2;\n",
      "plotlyfigure.layout.yaxis2.tickcolor = col2; \n",
      "plotlyfigure.layout.yaxis2.linecolor = col2; \n",
      "plotlyfigure.layout.yaxis2.linewidth = 5; \n",
      "\n",
      "% X AXIS STYLE\n",
      "plotlyfigure.layout.xaxis.mirror = 0; \n",
      "plotlyfigure.layout.xaxis.showline = 0; \n",
      "args.layout = plotlyfigure.layout; \n",
      "\n",
      "resp = plotly(plotlyfigure.data,args)"
     ],
     "language": "python",
     "metadata": {},
     "outputs": [
      {
       "metadata": {},
       "output_type": "display_data",
       "text": [
        "\n",
        "resp = \n",
        "\n",
        "         url: 'https://plot.ly/~bronsolo/82'\n",
        "     message: [1x0 char]\n",
        "     warning: [1x0 char]\n",
        "    filename: 'Tuberculosis Cases'\n",
        "       error: [1x0 char]\n",
        "\n"
       ]
      }
     ],
     "prompt_number": 83
    },
    {
     "cell_type": "code",
     "collapsed": false,
     "input": [
      "show_plot('https://plot.ly/~bronsolo/82')"
     ],
     "language": "python",
     "metadata": {},
     "outputs": [
      {
       "html": [
        "<iframe height=\"500\" id=\"igraph\" scrolling=\"no\" frameborder = 0 seamless=\"seamless\" src=\"https://plot.ly/~bronsolo/82/700/500\" width=\"700\"></iframe>"
       ],
       "metadata": {},
       "output_type": "pyout",
       "prompt_number": 84,
       "text": [
        "<IPython.core.display.HTML at 0x1071fe3d0>"
       ]
      }
     ],
     "prompt_number": 84
    },
    {
     "cell_type": "markdown",
     "metadata": {},
     "source": [
      "Awesome! We changed the names of the bar and line data so that when we scroll over the plot we get a nicely labeled interactive output. Give it a try!"
     ]
    },
    {
     "cell_type": "markdown",
     "metadata": {},
     "source": [
      "<br>\n",
      "<br>\n",
      "<br>\n",
      "<h2>[EXAMPLE 4]</h2>"
     ]
    },
    {
     "cell_type": "markdown",
     "metadata": {},
     "source": [
      "<br>\n",
      "<br>\n",
      "<br>\n",
      "<h2>[EXAMPLE 5]</h2>"
     ]
    },
    {
     "cell_type": "markdown",
     "metadata": {},
     "source": [
      "Nice, what about **contour plots**? "
     ]
    },
    {
     "cell_type": "code",
     "collapsed": false,
     "input": [
      "%%matlab \n",
      "\n",
      "%%%%%%%%%%%%%%%%%%%%%%%%%%%%%%%%%%%%%%%%%%%%%%%%%%%%\n",
      "%            FROM MATLAB PLOT GALLERY              %\n",
      "%  http://www.mathworks.com/discovery/gallery.html %\n",
      "%%%%%%%%%%%%%%%%%%%%%%%%%%%%%%%%%%%%%%%%%%%%%%%%%%%%\n",
      "\n",
      "load mtBruno Longitude Latitude Elevation;\n",
      "fig = figure;\n",
      "contour(Longitude, Latitude, Elevation, 8);\n",
      "title('Mount Bruno Elevation');\n",
      "xlabel('Longitude');\n",
      "ylabel('Latitude');\n",
      "\n",
      "\n",
      "%%%%%%%%%%%%%%%%%%%%%%%%%%%%%%%\n",
      "%        PLOTLY API CODE      %\n",
      "%%%%%%%%%%%%%%%%%%%%%%%%%%%%%%%\n",
      "\n",
      "filename = 'Mount Bruno'; \n",
      "resp = fig2plotly(fig,'strip',1,'name',filename);\n"
     ],
     "language": "python",
     "metadata": {},
     "outputs": [
      {
       "metadata": {},
       "output_type": "display_data",
       "png": "[encoded data removed]"
      }
     ],
     "prompt_number": 111
    },
    {
     "cell_type": "markdown",
     "metadata": {},
     "source": [
      "Good job MATLAB - now let's look at the Plotly graph we created! "
     ]
    },
    {
     "cell_type": "code",
     "collapsed": false,
     "input": [
      "%%matlab \n",
      "\n",
      "resp.url "
     ],
     "language": "python",
     "metadata": {},
     "outputs": [
      {
       "metadata": {},
       "output_type": "display_data",
       "text": [
        "\n",
        "ans =\n",
        "\n",
        "https://plot.ly/~bronsolo/81\n",
        "\n"
       ]
      }
     ],
     "prompt_number": 9
    },
    {
     "cell_type": "code",
     "collapsed": false,
     "input": [
      "show_plot('https://plot.ly/~bronsolo/81/')"
     ],
     "language": "python",
     "metadata": {},
     "outputs": [
      {
       "html": [
        "<iframe height=\"500\" id=\"igraph\" scrolling=\"no\" frameborder = 0 seamless=\"seamless\" src=\"https://plot.ly/~bronsolo/81//700/500\" width=\"700\"></iframe>"
       ],
       "metadata": {},
       "output_type": "pyout",
       "prompt_number": 112,
       "text": [
        "<IPython.core.display.HTML at 0x1071fe710>"
       ]
      }
     ],
     "prompt_number": 112
    },
    {
     "cell_type": "markdown",
     "metadata": {},
     "source": [
      "So awesome! Now we can add a few more modifications to make this contour plot really pop...  "
     ]
    },
    {
     "cell_type": "code",
     "collapsed": false,
     "input": [
      "%%matlab\n",
      "\n",
      "%%%%%%%%%%%%%%%%%%%%%%%%%%%%%%%\n",
      "%        PLOTLY STYLE         %\n",
      "%%%%%%%%%%%%%%%%%%%%%%%%%%%%%%%\n",
      "\n",
      "plotlyfigure = getplotlyfig('bronsolo','81');  \n",
      "plotlyfigure.data{1}.contours.coloring = 'lines'; \n",
      "\n",
      "% ARGS STRUCTURE \n",
      "args.filename = 'Mount Bruno'; \n",
      "args.fileopt = 'overwrite'; \n",
      "\n",
      "%%%%%%%%%%%%%%%%%%%%%%%%%%%%%%%\n",
      "%        PLOTLY LAYOUT        %\n",
      "%%%%%%%%%%%%%%%%%%%%%%%%%%%%%%%\n",
      "plotlyfigure.layout.colorbar.show = 1; \n",
      "args.layout = plotlyfigure.layout; \n",
      "\n",
      "resp = plotly(figure2.data,args); \n"
     ],
     "language": "python",
     "metadata": {},
     "outputs": [],
     "prompt_number": 117
    },
    {
     "cell_type": "code",
     "collapsed": false,
     "input": [
      "show_plot('https://plot.ly/~bronsolo/81')"
     ],
     "language": "python",
     "metadata": {},
     "outputs": [
      {
       "html": [
        "<iframe height=\"500\" id=\"igraph\" scrolling=\"no\" frameborder = 0 seamless=\"seamless\" src=\"https://plot.ly/~bronsolo/81/700/500\" width=\"700\"></iframe>"
       ],
       "metadata": {},
       "output_type": "pyout",
       "prompt_number": 118,
       "text": [
        "<IPython.core.display.HTML at 0x1071fe250>"
       ]
      }
     ],
     "prompt_number": 118
    },
    {
     "cell_type": "markdown",
     "metadata": {},
     "source": [
      "<br>\n",
      "<br>\n",
      "<br>\n",
      "<h2>[EXAMPLE 6]</h2>"
     ]
    },
    {
     "cell_type": "markdown",
     "metadata": {},
     "source": [
      "As a last example, let's look at heatmaps! A little audio analysis anyone? "
     ]
    },
    {
     "cell_type": "code",
     "collapsed": false,
     "input": [
      "%%matlab \n",
      "\n",
      "% This is an example of how to add a horizontal colorbar to a plot in MATLAB\n",
      "% \n",
      "% Read about the <http://www.mathworks.com/help/matlab/ref/colorbar.html |colorbar|> function in the MATLAB documentation\n",
      "%\n",
      "% Go to <http://www.mathworks.com/discovery/gallery.html MATLAB Plot Gallery>\n",
      "%\n",
      "% Copyright 2012 The MathWorks, Inc.\n",
      "\n",
      "% Load spine data\n",
      "load spine X;\n",
      "\n",
      "% Create an image plot of the spine data\n",
      "figure;\n",
      "imagesc(X);\n",
      "colormap bone;\n",
      "\n",
      "resp = fig2plotly(fig); \n",
      "resp.url "
     ],
     "language": "python",
     "metadata": {},
     "outputs": [
      {
       "metadata": {},
       "output_type": "display_data",
       "text": [
        "\n",
        "ans =\n",
        "\n",
        "https://plot.ly/~bronsolo/71\n",
        "\n"
       ]
      },
      {
       "metadata": {},
       "output_type": "display_data",
       "png": "[encoded data removed]"
      }
     ],
     "prompt_number": 167
    },
    {
     "cell_type": "code",
     "collapsed": false,
     "input": [
      "show_plot('https://plot.ly/~bronsolo/71')"
     ],
     "language": "python",
     "metadata": {},
     "outputs": [
      {
       "html": [
        "<iframe height=\"580\" id=\"igraph\" scrolling=\"no\" frameborder = 0 seamless=\"seamless\" src=\"https://plot.ly/~bronsolo/71/700/500\" width=\"780\"></iframe>"
       ],
       "metadata": {},
       "output_type": "pyout",
       "prompt_number": 474,
       "text": [
        "<IPython.core.display.HTML at 0x10a72af50>"
       ]
      }
     ],
     "prompt_number": 474
    },
    {
     "cell_type": "markdown",
     "metadata": {},
     "source": [
      "So Awesome! \n",
      "<br>\n",
      "<br>\n",
      "<br>"
     ]
    },
    {
     "cell_type": "markdown",
     "metadata": {},
     "source": [
      "----\n",
      "<center>\n",
      "<h6>Get data, style, and layout from the plots stored online! </h6>\n",
      "</center>\n",
      "\n",
      "---"
     ]
    },
    {
     "cell_type": "markdown",
     "metadata": {},
     "source": [
      "<h1>[saveplotlyfig.m]</h1>"
     ]
    },
    {
     "cell_type": "markdown",
     "metadata": {},
     "source": [
      "----\n",
      "<center>\n",
      "<h6>Save your Plotly figure as an image! </h6>\n",
      "</center>\n",
      "\n",
      "---"
     ]
    },
    {
     "cell_type": "code",
     "collapsed": false,
     "input": [
      "# CSS styling within IPython notebook\n",
      "from IPython.core.display import HTML\n",
      "def css_styling():\n",
      "    styles = open(\"./css/style_notebook.css\", \"r\").read()\n",
      "    return HTML(styles)\n",
      "css_styling()"
     ],
     "language": "python",
     "metadata": {},
     "outputs": [
      {
       "html": [
        "<style>\n",
        "@font-face {\n",
        "  font-family: \"Computer Modern\";\n",
        "  src: url('http://9dbb143991406a7c655e-aa5fcb0a5a4ec34cff238a2d56ca4144.r56.cf5.rackcdn.com/cmunss.otf');\n",
        "}\n",
        "@font-face {\n",
        "  font-family: \"Computer Modern\";\n",
        "  font-weight: bold;\n",
        "  src: url('http://9dbb143991406a7c655e-aa5fcb0a5a4ec34cff238a2d56ca4144.r56.cf5.rackcdn.com/cmunsx.otf');\n",
        "}\n",
        "@font-face {\n",
        "  font-family: \"Computer Modern\";\n",
        "  font-style: oblique;\n",
        "  src: url('http://9dbb143991406a7c655e-aa5fcb0a5a4ec34cff238a2d56ca4144.r56.cf5.rackcdn.com/cmunsi.otf');\n",
        "}\n",
        "@font-face {\n",
        "  font-family: \"Computer Modern\";\n",
        "  font-weight: bold;\n",
        "  font-style: oblique;\n",
        "  src: url('http://9dbb143991406a7c655e-aa5fcb0a5a4ec34cff238a2d56ca4144.r56.cf5.rackcdn.com/cmunso.otf');\n",
        "}\n",
        "div.cell{\n",
        "  width:800px;\n",
        "  margin-left:17% !important;\n",
        "  margin-right:auto;\n",
        "}\n",
        "h1 {\n",
        "  /* font-family: Computer Modern, serif; */\n",
        "  width:775px;\n",
        "  color:#333333;\n",
        "  font-family: \u2018Lucida Console\u2019, Monaco, monospace;\n",
        "  text-align: center;\n",
        "}\n",
        "h2 {\n",
        "  /* font-family: Computer Modern, serif; */\n",
        "  color: #333333;\n",
        "  font-family: \u2018Lucida Console\u2019, Monaco, monospace;\n",
        "  text-align: center;\n",
        "}\n",
        "h3 {\n",
        "  width:775px;\n",
        "  /* font-family: Computer Modern, serif; */\n",
        "  width:775px;\n",
        "  color: #333333;\n",
        "  font-family: \u2018Lucida Console\u2019, Monaco, monospace;\n",
        "}\n",
        "h4{\n",
        "  color: #333333;\n",
        "  font-family: \u2018Lucida Console\u2019, Monaco, monospace;\n",
        "  margin-top:15px;\n",
        "  margin-bottom: 3px;\n",
        "}\n",
        "\n",
        "div.text_cell_render{\n",
        " /* font-family: Computer Modern, \"Helvetica Neue\", Arial, Helvetica, Geneva, sans-serif; */\n",
        " color: #333333;\n",
        " /* font-family: \u2018Palatino Linotype\u2019, \u2018Book Antiqua\u2019, Palatino, serif; */\n",
        " /* font-family: \u2018Trebuchet MS\u2019, Helvetica, sans-serif; */\n",
        " font-family: \u2018Lucida Sans Unicode\u2019, \u2018Lucida Grande\u2019, sans-serif;\n",
        " line-height: 145%;\n",
        " font-size: 130%;\n",
        " width: 800px; \n",
        "}\n",
        "code{\n",
        "  font-size: 40%;\n",
        "}\n",
        "ul{\n",
        "  margin: 2em;\n",
        "}\n",
        "ul li{\n",
        " padding-left: 0.5em;\n",
        " margin-bottom: 0.5em;\n",
        " margin-top: 0.5em;\n",
        " /*font-variant: small-caps;*/\n",
        "}\n",
        "a.nounderline:link{\n",
        " color: #1d3b84;\n",
        " font-weight: bold;\n",
        " text-decoration:none;\n",
        "}\n",
        "a.nounderlineblack:link{\n",
        " color: #333333;\n",
        " font-weight: bold;\n",
        " text-decoration:none;\n",
        "}\n",
        "a.nounderlineblack:visited{\n",
        " color: #333333;\n",
        " font-weight: bold;\n",
        " text-decoration:none;\n",
        "}\n",
        "a:link{\n",
        "  color: #1d3b84;\n",
        "\n",
        "co font-weight: bold;\n",
        " text-decoration:none;\n",
        "}\n",
        "a:visited{\n",
        " font-weight: bold;\n",
        " text-decoration: none;\n",
        "}\n",
        "a:hover{\n",
        " text-decoration: none;\n",
        " font-weight: bold;\n",
        "}\n",
        "a:focus{\n",
        " text-decoration: none;\n",
        " font-weight: bold;\n",
        "}\n",
        "a:active{\n",
        " text-decoration: none;\n",
        " font-weight: bold;\n",
        "}\n",
        ".CodeMirror{ \n",
        "  font-family: \"Source Code Pro\", source-code-pro,Consolas, monospace;\n",
        "}\n",
        ".prompt{\n",
        "  display: None;\n",
        "}\n",
        "h5 {\n",
        "  font-family: 'Open sans',verdana,arial,sans-serif;\n",
        "}\n",
        ".text_cell_render h5 {\n",
        "  font-weight: 300;\n",
        "  font-style: normal;\n",
        "  color: #1d3b84;\n",
        "  font-size: 22pt;\n",
        "  margin-bottom: 0em;\n",
        "  margin-top: 1.5em;\n",
        "  display: block;\n",
        "  white-space: nowrap;\n",
        "}\n",
        ".text_cell_render h6 {\n",
        "  font-weight: 300;\n",
        "  font-size: 22pt;\n",
        "  color: #1d3b84;\n",
        "  margin-bottom: .5em;\n",
        "  margin-top: 0.5em;\n",
        "  display: block;\n",
        "}\n",
        "\n",
        "\n",
        "\n",
        ".warning{\n",
        "  color: rgb( 240, 20, 20 )\n",
        "}\n",
        "blockquote{\n",
        "  display:block;\n",
        "  background: #FFFFFF;\n",
        "  border-left: 2px dashed #1d3b84;\n",
        "  border-right: 2px dashed #1d3b84;\n",
        "  font-family: 'Open sans',verdana,arial,sans-serif;\n",
        "  padding: 25px 25px 25px 25px;\n",
        "  text-align:justify;\n",
        "  text-justify:inter-word;\n",
        "  width:auto;\n",
        "  display:table\n",
        "}\n",
        "\n",
        "blockquote p {\n",
        "  margin-bottom: 0;\n",
        "  line-height: 125%;\n",
        "  font-size: 100%;\n",
        "}\n",
        "\n",
        ".image-line {\n",
        "   margin-left: 170px;\n",
        "}\n",
        ".image-cell {\n",
        "   width: 100px;\n",
        "   margin: 10px;\n",
        "   float: left;\n",
        "}\n",
        ".image-clear {\n",
        "   clear: both;\n",
        "}\n",
        "\n",
        "\n",
        "</style>\n",
        "\n",
        "<script>\n",
        "MathJax.Hub.Config({\n",
        "  TeX: {\n",
        "   extensions: [\"AMSmath.js\"]\n",
        "   },\n",
        "   tex2jax: {\n",
        "    inlineMath: [ ['$','$'], [\"\\\\(\",\"\\\\)\"] ],\n",
        "    displayMath: [ ['$$','$$'], [\"\\\\[\",\"\\\\]\"] ]\n",
        "    },\n",
        "    displayAlign: 'center', // Change this to 'center' to center equations.\n",
        "    \"HTML-CSS\": {\n",
        "      styles: {'.MathJax_Display': {\"margin\": 4}}\n",
        "    }\n",
        "    });\n",
        "\n",
        "</script>\n"
       ],
       "metadata": {},
       "output_type": "pyout",
       "prompt_number": 4,
       "text": [
        "<IPython.core.display.HTML at 0x10a0142d0>"
       ]
      }
     ],
     "prompt_number": 4
    },
    {
     "cell_type": "code",
     "collapsed": false,
     "input": [],
     "language": "python",
     "metadata": {},
     "outputs": []
    }
   ],
   "metadata": {}
  }
 ]
}