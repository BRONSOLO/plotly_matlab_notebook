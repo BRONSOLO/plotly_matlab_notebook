{
 "metadata": {
  "name": "",
  "signature": "sha256:ef10dd2d9a810ab665a81a4d3a79d51f138068b4a6d7ad9635f553e54682a45e"
 },
 "nbformat": 3,
 "nbformat_minor": 0,
 "worksheets": [
  {
   "cells": [
    {
     "cell_type": "heading",
     "level": 1,
     "metadata": {},
     "source": [
      "<hr size = 5>\n",
      "MATLAB MARKERS - UPDATED\n",
      "<hr size = 5>"
     ]
    },
    {
     "cell_type": "code",
     "collapsed": false,
     "input": [
      "%load_ext pymatbridge"
     ],
     "language": "python",
     "metadata": {},
     "outputs": [
      {
       "output_type": "stream",
       "stream": "stdout",
       "text": [
        "Starting MATLAB on ZMQ socket ipc:///tmp/pymatbridge\n",
        "Send 'exit' command to kill the server\n",
        "."
       ]
      },
      {
       "output_type": "stream",
       "stream": "stdout",
       "text": [
        "."
       ]
      },
      {
       "output_type": "stream",
       "stream": "stdout",
       "text": [
        "."
       ]
      },
      {
       "output_type": "stream",
       "stream": "stdout",
       "text": [
        "."
       ]
      },
      {
       "output_type": "stream",
       "stream": "stdout",
       "text": [
        "."
       ]
      },
      {
       "output_type": "stream",
       "stream": "stdout",
       "text": [
        "."
       ]
      },
      {
       "output_type": "stream",
       "stream": "stdout",
       "text": [
        "."
       ]
      },
      {
       "output_type": "stream",
       "stream": "stdout",
       "text": [
        "."
       ]
      },
      {
       "output_type": "stream",
       "stream": "stdout",
       "text": [
        "."
       ]
      },
      {
       "output_type": "stream",
       "stream": "stdout",
       "text": [
        "."
       ]
      },
      {
       "output_type": "stream",
       "stream": "stdout",
       "text": [
        "."
       ]
      },
      {
       "output_type": "stream",
       "stream": "stdout",
       "text": [
        "."
       ]
      },
      {
       "output_type": "stream",
       "stream": "stdout",
       "text": [
        "MATLAB started and connected!\n"
       ]
      }
     ],
     "prompt_number": 1
    },
    {
     "cell_type": "code",
     "collapsed": false,
     "input": [
      "%%matlab\n",
      "ph = help('plot');\n",
      "ph(690:1460)"
     ],
     "language": "python",
     "metadata": {},
     "outputs": [
      {
       "metadata": {},
       "output_type": "display_data",
       "text": [
        "\n",
        "ans =\n",
        "\n",
        "\n",
        " \n",
        "           b     blue          .     point              -     solid\n",
        "           g     green         o     circle             :     dotted\n",
        "           r     red           x     x-mark             -.    dashdot \n",
        "           c     cyan          +     plus               --    dashed   \n",
        "           m     magenta       *     star             (none)  no line\n",
        "           y     yellow        s     square\n",
        "           k     black         d     diamond\n",
        "           w     white         v     triangle (down)\n",
        "                               ^     triangle (up)\n",
        "                               <     triangle (left)\n",
        "                               >     triangle (right)\n",
        "                               p     pentagram\n",
        "                               h     hexagram\n",
        "                         \n",
        "\n"
       ]
      }
     ],
     "prompt_number": 2
    },
    {
     "cell_type": "code",
     "collapsed": false,
     "input": [
      "%%matlab\n",
      "hold on\n",
      "plot(0,1,'.','MarkerSize',25,'MarkerFaceColor','b','MarkerEdgeColor','g')\n",
      "plot(0.1,1,'o','MarkerSize',25,'MarkerFaceColor','b','MarkerEdgeColor','g')\n",
      "plot(0.2,1,'x','MarkerFaceColor','b','MarkerEdgeColor','g')\n",
      "plot(0.3,1,'+','MarkerSize',25,'MarkerFaceColor','b','MarkerEdgeColor','g')\n",
      "plot(0.4,1,'*','MarkerSize',25,'MarkerFaceColor','b','MarkerEdgeColor','g')\n",
      "plot(0.5,1,'s','MarkerSize',25,'MarkerFaceColor','b','MarkerEdgeColor','g')\n",
      "plot(0.6,1,'d','MarkerSize',25,'MarkerFaceColor','b','MarkerEdgeColor','g')\n",
      "plot(0.7,1,'v','MarkerSize',25,'MarkerFaceColor','b','MarkerEdgeColor','g')\n",
      "plot(0.8,1,'^','MarkerSize',25,'MarkerFaceColor','b','MarkerEdgeColor','g')\n",
      "plot(0.9,1,'<','MarkerFaceColor','b','MarkerEdgeColor','g')\n",
      "plot(1.0,1,'>','MarkerSize',25,'MarkerFaceColor','b','MarkerEdgeColor','g')\n",
      "plot(1.1,1,'p','MarkerSize',25,'MarkerFaceColor','b','MarkerEdgeColor','g')\n",
      "plot(1.2,1,'h','MarkerFaceColor','b','MarkerEdgeColor','g')\n",
      "\n",
      "%g = get(gca);\n",
      "%get(g.Children(5))\n",
      "fig2plotly "
     ],
     "language": "python",
     "metadata": {},
     "outputs": [
      {
       "metadata": {},
       "output_type": "display_data",
       "text": [
        "\n",
        "ans = \n",
        "\n",
        "         url: 'https://plot.ly/~matlab_user_guide/750'\n",
        "     message: [1x0 char]\n",
        "     warning: [1x0 char]\n",
        "    filename: 'untitled (159)'\n",
        "       error: [1x0 char]\n",
        "\n"
       ]
      },
      {
       "metadata": {},
       "output_type": "display_data",
       "png": "[encoded data removed]"
      }
     ],
     "prompt_number": 3
    },
    {
     "cell_type": "code",
     "collapsed": false,
     "input": [
      "from IPython.display import HTML\n",
      "\n",
      "def show_plot(url, width=1000, height=750):\n",
      "    s = '<iframe height=\"%s\" id=\"igraph\" frameborder = 0 seamless=\"seamless\" scrolling=\"no\" src=\"%s\" width=\"%s\"></iframe>' %\\\n",
      "    (height, \"/\".join(map(str,[url, width, height])), width)\n",
      "    return HTML(s)"
     ],
     "language": "python",
     "metadata": {},
     "outputs": [],
     "prompt_number": 6
    },
    {
     "cell_type": "code",
     "collapsed": false,
     "input": [
      "show_plot('https://plot.ly/~matlab_user_guide/750')"
     ],
     "language": "python",
     "metadata": {},
     "outputs": [
      {
       "html": [
        "<iframe height=\"750\" id=\"igraph\" frameborder = 0 seamless=\"seamless\" scrolling=\"no\" src=\"https://plot.ly/~matlab_user_guide/750/1000/750\" width=\"1000\"></iframe>"
       ],
       "metadata": {},
       "output_type": "pyout",
       "prompt_number": 7,
       "text": [
        "<IPython.core.display.HTML at 0x1071aa990>"
       ]
      }
     ],
     "prompt_number": 7
    },
    {
     "cell_type": "code",
     "collapsed": false,
     "input": [],
     "language": "python",
     "metadata": {},
     "outputs": []
    }
   ],
   "metadata": {}
  }
 ]
}