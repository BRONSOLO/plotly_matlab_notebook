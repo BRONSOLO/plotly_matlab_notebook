{
 "metadata": {
  "name": "",
  "signature": "sha256:a0121989e48604c640d85e7f05cf5ca93ef8147045328700d8857d5c3d391f22"
 },
 "nbformat": 3,
 "nbformat_minor": 0,
 "worksheets": [
  {
   "cells": [
    {
     "cell_type": "heading",
     "level": 1,
     "metadata": {},
     "source": [
      "<center><font size = 30pt>TEXT STYLING: TEX, LATEX, AND FONTS</font></center>"
     ]
    },
    {
     "cell_type": "code",
     "collapsed": false,
     "input": [
      "%load_ext pymatbridge"
     ],
     "language": "python",
     "metadata": {},
     "outputs": [
      {
       "output_type": "stream",
       "stream": "stdout",
       "text": [
        "Starting MATLAB on ZMQ socket ipc:///tmp/pymatbridge\n",
        "Send 'exit' command to kill the server\n",
        "."
       ]
      },
      {
       "output_type": "stream",
       "stream": "stdout",
       "text": [
        "."
       ]
      },
      {
       "output_type": "stream",
       "stream": "stdout",
       "text": [
        "."
       ]
      },
      {
       "output_type": "stream",
       "stream": "stdout",
       "text": [
        "."
       ]
      },
      {
       "output_type": "stream",
       "stream": "stdout",
       "text": [
        "."
       ]
      },
      {
       "output_type": "stream",
       "stream": "stdout",
       "text": [
        "."
       ]
      },
      {
       "output_type": "stream",
       "stream": "stdout",
       "text": [
        "."
       ]
      },
      {
       "output_type": "stream",
       "stream": "stdout",
       "text": [
        "."
       ]
      },
      {
       "output_type": "stream",
       "stream": "stdout",
       "text": [
        "."
       ]
      },
      {
       "output_type": "stream",
       "stream": "stdout",
       "text": [
        "."
       ]
      },
      {
       "output_type": "stream",
       "stream": "stdout",
       "text": [
        "."
       ]
      },
      {
       "output_type": "stream",
       "stream": "stdout",
       "text": [
        "."
       ]
      },
      {
       "output_type": "stream",
       "stream": "stdout",
       "text": [
        "."
       ]
      },
      {
       "output_type": "stream",
       "stream": "stdout",
       "text": [
        "."
       ]
      },
      {
       "output_type": "stream",
       "stream": "stdout",
       "text": [
        "."
       ]
      },
      {
       "output_type": "stream",
       "stream": "stdout",
       "text": [
        "."
       ]
      },
      {
       "output_type": "stream",
       "stream": "stdout",
       "text": [
        "."
       ]
      },
      {
       "output_type": "stream",
       "stream": "stdout",
       "text": [
        "MATLAB started and connected!\n"
       ]
      }
     ],
     "prompt_number": 2
    },
    {
     "cell_type": "heading",
     "level": 1,
     "metadata": {},
     "source": [
      "TEXT + TEX + LATEX TEST: "
     ]
    },
    {
     "cell_type": "code",
     "collapsed": false,
     "input": [
      "%%matlab\n",
      "hold on; \n",
      "plot(0,0);\n",
      "plot(2,2);\n",
      "text(0.2,1.6,'basic annotation 123');\n",
      "text(0.2,1.4,'text + t_\\epsilon^x 123');\n",
      "text(0.2,1.2,'text + inline $\\int{a}t_\\epsilon^x 123$ ','Interpreter','latex');\n",
      "text(0.2,1,'text + block $$\\int{a}t_\\epsilon^x 123$$ ','Interpreter','latex');\n",
      "text(0.2,0.8,'$$straight \\text{ up } mathjax \\int{a}t_\\epsilon^x 123$$ ','Interpreter','none');\n",
      "\n",
      "title('T\\pm\\epsilonX I^n T_{IT}LE'); \n",
      "ylabel('$M\\text{A}T^H\\text{J}AX$ ','Interpreter','none');\n",
      "xlabel('TEXT + $\\int{\\frac{A}{T}}E_X$ ','Interpreter','latex')\n",
      "\n",
      "%%%%%%%%%%%%%%%%%%\n",
      "%     PLOTLY     %\n",
      "%%%%%%%%%%%%%%%%%%\n",
      "\n",
      "resp = fig2plotly(gcf,'fileopt','overwrite'); "
     ],
     "language": "python",
     "metadata": {},
     "outputs": [
      {
       "metadata": {},
       "output_type": "display_data",
       "png": "[encoded data removed]"
      }
     ],
     "prompt_number": 11
    },
    {
     "cell_type": "code",
     "collapsed": false,
     "input": [
      "from IPython.display import HTML\n",
      "\n",
      "def show_plot(url, width=1000, height=750):\n",
      "    s = '<iframe height=\"%s\" id=\"igraph\" frameborder = 0 seamless=\"seamless\" scrolling=\"no\" src=\"%s\" width=\"%s\"></iframe>' %\\\n",
      "    (height, \"/\".join(map(str,[url, width, height])), width)\n",
      "    return HTML(s)"
     ],
     "language": "python",
     "metadata": {},
     "outputs": [],
     "prompt_number": 12
    },
    {
     "cell_type": "code",
     "collapsed": false,
     "input": [
      "%%matlab\n",
      "resp.url"
     ],
     "language": "python",
     "metadata": {},
     "outputs": [
      {
       "metadata": {},
       "output_type": "display_data",
       "text": [
        "\n",
        "ans =\n",
        "\n",
        "https://plot.ly/~matlab_user_guide/646\n",
        "\n"
       ]
      }
     ],
     "prompt_number": 13
    },
    {
     "cell_type": "code",
     "collapsed": false,
     "input": [
      "show_plot('https://plot.ly/~matlab_user_guide/646')"
     ],
     "language": "python",
     "metadata": {},
     "outputs": [
      {
       "html": [
        "<iframe height=\"750\" id=\"igraph\" frameborder = 0 seamless=\"seamless\" scrolling=\"no\" src=\"https://plot.ly/~matlab_user_guide/646/1000/750\" width=\"1000\"></iframe>"
       ],
       "metadata": {},
       "output_type": "pyout",
       "prompt_number": 15,
       "text": [
        "<IPython.core.display.HTML at 0x104d7a410>"
       ]
      }
     ],
     "prompt_number": 15
    },
    {
     "cell_type": "heading",
     "level": 3,
     "metadata": {},
     "source": [
      "Fig2plotly is now able to automatically parse TeX and LaTeX in the figure title, labels, and annotations and convert them to a form interpretable by Mathjax. All this is handled by parseLatex.m "
     ]
    },
    {
     "cell_type": "code",
     "collapsed": false,
     "input": [
      "%%matlab\n",
      "\n",
      "% parseLatex(inputStr,d) converts TeX, and LaTeX\n",
      "% strings into a format that preserves the text/math\n",
      "% formatting structure used by mathjax for Plotly plots.\n",
      "%\n",
      "% TeX: parses through inputStr for instances of\n",
      "% the specials characters: \\, _, and ^. Uses whitespace\n",
      "% as a delimter for the end of \\reservedwords (enforced \n",
      "% if not already present), uses either the enclosing { } \n",
      "% brackets  as delimeters for _ and ^ or simply the\n",
      "% immediately proceeding character if no curly brackets \n",
      "% are present. If the immediately proceeding character \n",
      "% of ^ or _ is a \\reservedword, the entire word up to the \n",
      "% next whitespace is taken. All other characters are \n",
      "% contained within \\text{ } blocks. Resulting string is \n",
      "% placed within inline: formatStr = $ ...parsedStr... $ delimeters.\n",
      "%\n",
      "% LaTeX: parses through inputStr for instances of $\n",
      "% or $$. Assumes that $/$$ are only ever used as\n",
      "% delimiters. Anything chars that do not fall within the\n",
      "% $/$ or $$/$$ blocks are placed within a \\text{ } block.\n",
      "% Finally, all instances of $/$$ are removed and the\n",
      "% resulting string is placed (if no $$ instance is present)\n",
      "% within inline: formatStr = $ ...parsedStr...$ delimeters\n",
      "% or (if an instance of $$ is present) wihtin block:\n",
      "% formatStr $$... parsedStr ... $$ delimeters."
     ],
     "language": "python",
     "metadata": {},
     "outputs": [],
     "prompt_number": 16
    },
    {
     "cell_type": "heading",
     "level": 3,
     "metadata": {},
     "source": [
      "Note: The plot is named using the specified title. If there is TeX/LaTeX formatting within the title, the formatting is first stripped for improved readability. "
     ]
    },
    {
     "cell_type": "code",
     "collapsed": false,
     "input": [
      "%%matlab \n",
      "fn = resp.filename"
     ],
     "language": "python",
     "metadata": {},
     "outputs": [
      {
       "metadata": {},
       "output_type": "display_data",
       "text": [
        "\n",
        "fn =\n",
        "\n",
        "TpmepsilonXInTITLE\n",
        "\n"
       ]
      }
     ],
     "prompt_number": 17
    },
    {
     "cell_type": "heading",
     "level": 2,
     "metadata": {},
     "source": [
      "which is arguably better than this unstripped version: "
     ]
    },
    {
     "cell_type": "code",
     "collapsed": false,
     "input": [
      "%%matlab \n",
      "fn2 = 'T\\pm\\epsilonX%20I^n%20T_{IT}LE'"
     ],
     "language": "python",
     "metadata": {},
     "outputs": [
      {
       "metadata": {},
       "output_type": "display_data",
       "text": [
        "\n",
        "fn2 =\n",
        "\n",
        "T\\pm\\epsilonX%20I^n%20T_{IT}LE\n",
        "\n"
       ]
      }
     ],
     "prompt_number": 19
    },
    {
     "cell_type": "heading",
     "level": 1,
     "metadata": {},
     "source": [
      "<center><font size = 30pt>FONT FAMILIES</font></center>"
     ]
    },
    {
     "cell_type": "heading",
     "level": 3,
     "metadata": {},
     "source": [
      "The supported font families in Plotly are: "
     ]
    },
    {
     "cell_type": "code",
     "collapsed": false,
     "input": [
      "%%matlab\n",
      "\n",
      "availableFont = {'Arial, sans-serif',  'Balto, sans-serif' , ...\n",
      "                 'Courier New, monospace' , 'Droid Sans, sans-serif' ,...\n",
      "                 'Droid Serif, serif',  'Droid Sans Mono, sans-serif', ...\n",
      "                 'Georgia, serif' ,  'Gravitas One, cursive' ,  ...\n",
      "                 'Old Standard TT, serif' ,  'Open Sans, sans-serif', ...\n",
      "                 'PT Sans Narrow, sans-serif' , 'Raleway, sans-serif',...\n",
      "                 'Times New Roman, Times, serif'};"
     ],
     "language": "python",
     "metadata": {},
     "outputs": [],
     "prompt_number": 20
    },
    {
     "cell_type": "heading",
     "level": 3,
     "metadata": {},
     "source": [
      "An approximate mapping was created to convert the fonts inherent in MATLAB to Plotly fonts: "
     ]
    },
    {
     "cell_type": "code",
     "collapsed": false,
     "input": [
      "%%matlab\n",
      "\n",
      "font_family = 'user_specified_font'; \n",
      "\n",
      "    switch font_family\n",
      "        \n",
      "         case 'Abadi MT Condensed Extra Bold'\n",
      "            plotlyFont = 'Arial, sans-serif';\n",
      "        case 'Abadi MT Condensed Light'\n",
      "            plotlyFont = 'Balto, sans-serif';\n",
      "        case 'Adobe Arabic'\n",
      "            plotlyFont = 'Times New Roman, Times, serif';\n",
      "        case 'Adobe Caslon Pro'\n",
      "            plotlyFont = 'Times New Roman, Times, serif';\n",
      "        case 'Adobe Fan Heiti Std'\n",
      "            plotlyFont = 'Arial, sans-serif';\n",
      "        case 'Adobe Fangsong Std'\n",
      "            plotlyFont = 'Times New Roman, Times, serif';\n",
      "        case 'Adobe Garamond Pro'\n",
      "            plotlyFont = 'Times New Roman, Times, serif';\n",
      "        case 'Adobe Gothic Std'\n",
      "            plotlyFont = 'Arial, sans-serif';\n",
      "        case 'Adobe Hebrew'\n",
      "            plotlyFont = 'Times New Roman, Times, serif';\n",
      "        case 'Adobe Heiti Std'\n",
      "            plotlyFont = 'Droid Sans, sans-serif';\n",
      "        case 'Adobe Kaiti Std'\n",
      "            plotlyFont = 'Times New Roman, Times, serif';\n",
      "        case 'Adobe Ming Std'\n",
      "            plotlyFont = 'Times New Roman, Times, serif';\n",
      "        case 'Adobe Myungjo Std'\n",
      "            plotlyFont = 'Old Standard TT, serif';\n",
      "        case 'Adobe Song Std'\n",
      "            plotlyFont = 'Times New Roman, Times, serif';\n",
      "        case 'Al Bayan'\n",
      "            plotlyFont = 'Balto, sans-serif';\n",
      "        case 'American Typewriter'\n",
      "            plotlyFont = 'Old Standard TT, serif';\n",
      "        case 'Andale Mono'\n",
      "            plotlyFont = 'Droid Sans, sans-serif';\n",
      "        case 'Apple Braille'\n",
      "            plotlyFont = 'Balto, sans-serif';\n",
      "        case'le Chancery'\n",
      "            plotlyFont = 'Old Standard TT, serif';\n",
      "        case 'Apple Color Emoji'\n",
      "            plotlyFont = 'Balto, sans-serif';\n",
      "        case 'Apple LiGothic'\n",
      "            plotlyFont = 'Arial, sans-serif';\n",
      "        case 'Apple LiSung'\n",
      "            plotlyFont = 'Times New Roman, Times, serif';\n",
      "        case 'Apple Symbols'\n",
      "            plotlyFont = 'Balto, sans-serif';\n",
      "        case 'AppleGothic'\n",
      "            plotlyFont = 'Balto, sans-serif';\n",
      "        case 'AppleMyungjo'\n",
      "            plotlyFont = 'Old Standard TT, serif';\n",
      "        case 'Arial'\n",
      "            plotlyFont = 'Arial, sans-serif';\n",
      "        case 'Arial Black'\n",
      "            plotlyFont = 'Arial, sans-serif';\n",
      "        case 'Arial Hebrew'\n",
      "            plotlyFont = 'Arial, sans-serif';\n",
      "        case 'Arial Narrow'\n",
      "            plotlyFont = 'Arial, sans-serif';\n",
      "        case 'Arial Rounded MT Bold'\n",
      "            plotlyFont = 'Arial, sans-serif';\n",
      "        case 'Arial Unicode MS'\n",
      "            plotlyFont = 'Arial, sans-serif';\n",
      "        case 'Ayuthaya'\n",
      "            plotlyFont = 'Balto, sans-serif';\n",
      "        case 'Baghdad'\n",
      "            plotlyFont = 'Balto, sans-serif';\n",
      "        case 'Bangla MN'\n",
      "            plotlyFont ='Raleway, sans-serif';\n",
      "        case 'Bangla Sangam MN'\n",
      "            plotlyFont ='Raleway, sans-serif';\n",
      "        case 'Baskerville'\n",
      "            plotlyFont = 'Times New Roman, Times, serif';\n",
      "        case 'Baskerville Old Face'\n",
      "            plotlyFont = 'Times New Roman, Times, serif';\n",
      "        case 'Batang'\n",
      "            plotlyFont = 'Courier New, monospace';\n",
      "        case 'Bauhaus 93'\n",
      "            plotlyFont = 'Gravitas One, cursive';\n",
      "        case 'Bell MT'\n",
      "            plotlyFont = 'Times New Roman, Times, serif';\n",
      "        case 'Bernard MT Condensed'\n",
      "            plotlyFont = 'Gravitas One, cursive';\n",
      "        case 'BiauKai'\n",
      "            plotlyFont = 'Courier New, monospace';\n",
      "        case 'Big Caslon'\n",
      "            plotlyFont = 'Times New Roman, Times, serif';\n",
      "        case 'Birch Std'\n",
      "            plotlyFont = 'Droid Serif, serif';\n",
      "        case 'Blackoak Std'\n",
      "            plotlyFont = 'Gravitas One, cursive';\n",
      "        case 'Book Antiqua'\n",
      "            plotlyFont = 'Droid Serif, serif';\n",
      "        case 'Bookman Old Style'\n",
      "            plotlyFont = 'Balto, sans-serif';\n",
      "        case 'Bookshelf Symbol 7'\n",
      "            plotlyFont = 'Gravitas One, cursive';\n",
      "        case 'Braggadocio'\n",
      "            plotlyFont = 'Gravitas One, cursive';\n",
      "        case 'Britannic Bold'\n",
      "            plotlyFont = 'Courier New, monospace';\n",
      "        case 'Brush Script MT'\n",
      "            plotlyFont = 'Courier New, monospace';\n",
      "        case 'Brush Script Std'\n",
      "            plotlyFont = 'Courier New, monospace';\n",
      "        case 'Calibri'\n",
      "            plotlyFont = 'Balto, sans-serif';\n",
      "        case 'Calisto MT'\n",
      "            plotlyFont = 'Times New Roman, Times, serif';\n",
      "        case 'Cambria'\n",
      "            plotlyFont = 'Times New Roman, Times, serif';\n",
      "        case 'Cambria Math'\n",
      "            plotlyFont = 'Times New Roman, Times, serif';\n",
      "        case 'Candara'\n",
      "            plotlyFont = 'Raleway, sans-serif';\n",
      "        case 'Century'\n",
      "            plotlyFont = 'Times New Roman, Times, serif';\n",
      "        case 'Century Gothic'\n",
      "            plotlyFont = 'Balto, sans-serif';\n",
      "        case 'Century Schoolbook'\n",
      "            plotlyFont = 'Times New Roman, Times, serif';\n",
      "        case 'Chalkboard'\n",
      "            plotlyFont = 'Droid Sans, sans-serif';\n",
      "        case 'Chalkduster'\n",
      "            plotlyFont = 'Droid Sans, sans-serif';\n",
      "        case 'Chaparral Pro'\n",
      "            plotlyFont = 'Droid Serif, serif';\n",
      "        case 'Charcoal CY'\n",
      "            plotlyFont = 'Arial, sans-serif';\n",
      "        case 'Charlemagne Std'\n",
      "            plotlyFont = 'Old Standard TT, serif';\n",
      "        case 'Cochin'\n",
      "            plotlyFont = 'Old Standard TT, serif';\n",
      "        case 'Colonna MT'\n",
      "            plotlyFont = 'Times New Roman, Times, serif';\n",
      "        case 'Comic Sans MS'\n",
      "            plotlyFont = 'Droid Sans, sans-serif';\n",
      "        case 'Consolas'\n",
      "            plotlyFont = 'Balto, sans-serif';\n",
      "        case 'Constantia'\n",
      "            plotlyFont = 'Times New Roman, Times, serif';\n",
      "        case 'Cooper Black'\n",
      "            plotlyFont = 'Droid Sans, sans-serif';\n",
      "        case 'Cooper Std'\n",
      "            plotlyFont = 'Droid Sans, sans-serif';\n",
      "        case 'Copperplate'\n",
      "            plotlyFont = 'Old Standard TT, serif';\n",
      "        case 'Copperplate Gothic Bold'\n",
      "            plotlyFont = 'Old Standard TT, serif';\n",
      "        case 'Copperplate Gothic Light'\n",
      "            plotlyFont = 'Droid Serif, serif';\n",
      "        case 'Corbel'\n",
      "            plotlyFont = 'PT Sans Narrow, sans-serif';\n",
      "        case 'Corsiva Hebrew'\n",
      "            plotlyFont = 'Gravitas One, cursive';\n",
      "        case 'Courier'\n",
      "            plotlyFont = 'Courier New, monospace';\n",
      "        case 'Courier New'\n",
      "            plotlyFont = 'Courier New, monospace';\n",
      "        case 'Curlz MT'\n",
      "            plotlyFont = 'Gravitas One, cursive';\n",
      "        case 'Damascus'\n",
      "            plotlyFont = 'Arial, sans-serif';\n",
      "        case 'DecoType Naskh'\n",
      "            plotlyFont = 'Balto, sans-serif';\n",
      "        case 'Desdemona'\n",
      "            plotlyFont = 'Gravitas One, cursive';\n",
      "        case 'Devanagari MT'\n",
      "            plotlyFont = 'Old Standard TT, serif';\n",
      "        case 'Devanagari Sangam MN'\n",
      "            plotlyFont = 'Balto, sans-serif';\n",
      "        case 'Dialog'\n",
      "            plotlyFont = 'Raleway, sans-serif';\n",
      "        case 'DialogInput'\n",
      "            plotlyFont = 'Balto, sans-serif';\n",
      "        case 'Didot'\n",
      "            plotlyFont = 'Times New Roman, Times, serif';\n",
      "        case 'Edwardian Script ITC'\n",
      "            plotlyFont = 'Gravitas One, cursive';\n",
      "        case 'Engravers MT'\n",
      "            plotlyFont = 'Droid Serif, serif';\n",
      "        case 'Euphemia UCAS'\n",
      "            plotlyFont = 'Arial, sans-serif';\n",
      "        case 'Eurostile'\n",
      "            plotlyFont = 'Droid Sans, sans-serif';\n",
      "        case 'Footlight MT Light'\n",
      "            plotlyFont = 'Old Standard TT, serif';\n",
      "        case 'Franklin Gothic Book'\n",
      "            plotlyFont = 'Balto, sans-serif';\n",
      "        case 'Franklin Gothic Medium'\n",
      "            plotlyFont = 'Arial, sans-serif';\n",
      "        case 'Futura'\n",
      "            plotlyFont = 'Droid Sans, sans-serif';\n",
      "        case 'Gabriola'\n",
      "            plotlyFont = 'Gravitas One, cursive';\n",
      "        case 'Garamond'\n",
      "            plotlyFont = 'Times New Roman, Times, serif';\n",
      "        case 'GB18030 Bitmap'\n",
      "            plotlyFont = 'Arial, sans-serif';\n",
      "        case 'Geeza Pro'\n",
      "            plotlyFont = 'Balto, sans-serif';\n",
      "        case 'Geneva'\n",
      "            plotlyFont = 'Balto, sans-serif';\n",
      "        case 'Geneva CY'\n",
      "            plotlyFont = 'Arial, sans-serif';\n",
      "        case 'Georgia'\n",
      "            plotlyFont = 'Old Standard TT, serif';\n",
      "        case 'Giddyup Std'\n",
      "            plotlyFont = 'Gravitas One, cursive';\n",
      "        case 'Gill Sans'\n",
      "            plotlyFont = 'Arial, sans-serif';\n",
      "        case 'Gill Sans MT'\n",
      "            plotlyFont = 'Arial, sans-serif';\n",
      "        case 'Gill Sans Ultra Bold'\n",
      "            plotlyFont = 'Arial, sans-serif';\n",
      "        case 'Gloucester MT Extra Condensed'\n",
      "            plotlyFont = 'Droid Sans, sans-serif';\n",
      "        case 'Goudy Old Style'\n",
      "            plotlyFont = 'Times New Roman, Times, serif';\n",
      "        case 'Gujarati MT'\n",
      "            plotlyFont = 'Times New Roman, Times, serif';\n",
      "        case 'Gujarati Sangam MN'\n",
      "            plotlyFont = 'Balto, sans-serif';\n",
      "        case 'Gulim'\n",
      "            plotlyFont = 'Balto, sans-serif';\n",
      "        case 'GungSeo'\n",
      "            plotlyFont = 'Old Standard TT, serif';\n",
      "        case 'Gurmukhi MN'\n",
      "            plotlyFont = 'PT Sans Narrow, sans-serif';\n",
      "        case 'Gurmukhi MT'\n",
      "            plotlyFont = 'PT Sans Narrow, sans-serif';\n",
      "        case 'Haettenschweiler'\n",
      "            plotlyFont = 'Arial, sans-serif';\n",
      "        case 'Harrington'\n",
      "            plotlyFont = 'Gravitas One, cursive';\n",
      "        case 'HeadLineA'\n",
      "            plotlyFont = 'Arial, sans-serif';\n",
      "        case 'Hei'\n",
      "            plotlyFont = 'Balto, sans-serif';\n",
      "        case 'Heiti SC'\n",
      "            plotlyFont = 'Balto, sans-serif';\n",
      "        case 'Heiti TC'\n",
      "            plotlyFont = 'Balto, sans-serif';\n",
      "        case 'Helvetica'\n",
      "            plotlyFont = 'Arial, sans-serif';\n",
      "        case 'Helvetica CY'\n",
      "            plotlyFont = 'Arial, sans-serif';\n",
      "        case 'Helvetica Neue'\n",
      "            plotlyFont = 'Arial, sans-serif';\n",
      "        case 'Herculanum'\n",
      "            plotlyFont = 'Gravitas One, cursive';\n",
      "        case 'Hiragino Kaku Gothic Pro'\n",
      "            plotlyFont = 'Balto, sans-serif';\n",
      "        case 'Hiragino Kaku Gothic ProN'\n",
      "            plotlyFont = 'Balto, sans-serif';\n",
      "        case 'Hiragino Kaku Gothic Std'\n",
      "            plotlyFont = 'Balto, sans-serif';\n",
      "        case 'Hiragino Kaku Gothic StdN'\n",
      "            plotlyFont = 'Balto, sans-serif';\n",
      "        case 'Hiragino Maru Gothic Pro'\n",
      "            plotlyFont = 'Balto, sans-serif';\n",
      "        case 'Hiragino Maru Gothic ProN'\n",
      "            plotlyFont = 'Balto, sans-serif';\n",
      "        case 'Hiragino Mincho Pro'\n",
      "            plotlyFont = 'Times New Roman, Times, serif';\n",
      "        case 'Hiragino Mincho ProN'\n",
      "            plotlyFont = 'Times New Roman, Times, serif';\n",
      "        case 'Hiragino Sans GB'\n",
      "            plotlyFont = 'Balto, sans-serif';\n",
      "        case 'Hobo Std'\n",
      "            plotlyFont = 'Droid Sans, sans-serif';\n",
      "        case 'Hoefler Text'\n",
      "            plotlyFont = 'Times New Roman, Times, serif';\n",
      "        case 'Impact'\n",
      "            plotlyFont = 'Arial, sans-serif';\n",
      "        case 'Imprint MT Shadow'\n",
      "            plotlyFont = 'Arial, sans-serif';\n",
      "        case 'InaiMathi'\n",
      "            plotlyFont = 'Balto, sans-serif';\n",
      "        case 'Kai'\n",
      "            plotlyFont = 'Times New Roman, Times, serif';\n",
      "        case 'Kailasa'\n",
      "            plotlyFont = 'Arial, sans-serif';\n",
      "        case 'Kannada MN'\n",
      "            plotlyFont = 'PT Sans Narrow, sans-serif';\n",
      "        case 'Kannada Sangam MN'\n",
      "            plotlyFont =  'Open Sans, sans-serif';\n",
      "        case 'Kefa'\n",
      "            plotlyFont = 'Arial, sans-serif';\n",
      "        case 'Khmer MN'\n",
      "            plotlyFont = 'Balto, sans-serif';\n",
      "        case 'Khmer Sangam MN'\n",
      "            plotlyFont = 'Balto, sans-serif';\n",
      "        case 'Kino MT'\n",
      "            plotlyFont =  'Old Standard TT, serif';\n",
      "        case 'Kokonor'\n",
      "            plotlyFont =  'Gravitas One, cursive';\n",
      "        case 'Kozuka Gothic Pr6N'\n",
      "            plotlyFont = 'Arial, sans-serif';\n",
      "        case 'Kozuka Gothic Pro'\n",
      "            plotlyFont = 'Arial, sans-serif';\n",
      "        case 'Kozuka Mincho Pr6N'\n",
      "            plotlyFont = 'Times New Roman, Times, serif';\n",
      "        case 'Kozuka Mincho Pro'\n",
      "            plotlyFont = 'Times New Roman, Times, serif';\n",
      "        case 'Krungthep'\n",
      "            plotlyFont = 'Arial, sans-serif';\n",
      "        case 'KufiStandardGK'\n",
      "            plotlyFont = 'Arial, sans-serif';\n",
      "        case 'Lao MN'\n",
      "            plotlyFont = 'PT Sans Narrow, sans-serif';\n",
      "        case 'Lao Sangam MN'\n",
      "            plotlyFont = 'Balto, sans-serif';\n",
      "        case 'Letter Gothic Std'\n",
      "            plotlyFont = 'Courier New, monospace';\n",
      "        case 'LiHei Pro'\n",
      "            plotlyFont = 'Arial, sans-serif';\n",
      "        case 'LiSong Pro'\n",
      "            plotlyFont = 'Courier New, monospace';\n",
      "        case 'Lithos Pro'\n",
      "            plotlyFont = 'Gravitas One, cursive';\n",
      "        case 'Lucida Blackletter'\n",
      "            plotlyFont = 'Gravitas One, cursive';\n",
      "        case 'Lucida Bright'\n",
      "            plorltFont = 'Gravitas One, cursive';\n",
      "        case 'Lucida Calligraphy'\n",
      "            plorltFont = 'Gravitas One, cursive';\n",
      "        case 'Lucida Console'\n",
      "            plotlyFont = 'Balto, sans-serif';\n",
      "        case 'Lucida Fax'\n",
      "            plotlyFont = 'Old Standard TT, serif';\n",
      "        case 'Lucida Grande'\n",
      "            plotlyFont = 'Balto, sans-serif';\n",
      "        case 'Lucida Handwriting'\n",
      "            plotlyFont = 'Gravitas One, cursive';\n",
      "        case 'Lucida Sans'\n",
      "            plotlyFont = 'Arial, sans-serif';\n",
      "        case 'Lucida Sans Typewriter'\n",
      "            plotlyFont = 'Arial, sans-serif';\n",
      "        case 'Lucida Sans Unicode'\n",
      "            plotlyFont = 'Balto, sans-serif';\n",
      "        case 'Malayalam MN'\n",
      "            plotlyFont = 'PT Sans Narrow, sans-serif';\n",
      "        case 'Malayalam Sangam MN'\n",
      "            plotlyFont = 'Balto, sans-serif';\n",
      "        case 'Marker Felt'\n",
      "            plotlyFont = 'Gravitas One, cursive';\n",
      "        case 'Marlett'\n",
      "            plotlyFont = 'Arial, sans-serif';\n",
      "        case 'Matura MT Script Capitals'\n",
      "            plotlyFont = 'Gravitas One, cursive';\n",
      "        case 'Meiryo'\n",
      "            plotlyFont = 'Balto, sans-serif';\n",
      "        case 'Menlo'\n",
      "            plotlyFont = 'Balto, sans-serif';\n",
      "        case 'Mesquite Std'\n",
      "            plotlyFont = 'Gravitas One, cursive';\n",
      "        case 'Microsoft Sans Serif'\n",
      "            plotlyFont = 'Open Sans, sans-serif';\n",
      "        case 'Minion Pro'\n",
      "            plotlyFont = 'Times New Roman, Times, serif';\n",
      "        case 'Mistral'\n",
      "            plotlyFont = 'Gravitas One, cursive';\n",
      "        case 'Modern No. 20'\n",
      "            plotlyFont = 'Times New Roman, Times, serif';\n",
      "        case 'Monaco'\n",
      "            plotlyFont = 'Arial, sans-serif';\n",
      "        case 'Monospaced'\n",
      "            plotlyFont = 'Times New Roman, Times, serif';\n",
      "        case 'Monotype Corsiva'\n",
      "            plotlyFont = 'Gravitas One, cursive';\n",
      "        case 'Monotype Sorts'\n",
      "            plotlyFont = 'Balto, sans-serif';\n",
      "        case 'MS Gothic'\n",
      "            plotlyFont = 'Balto, sans-serif';\n",
      "        case 'MS Mincho'\n",
      "            plotlyFont = 'Courier New, monospace';\n",
      "        case 'MS PGothic'\n",
      "            plotlyFont = 'Arial, sans-serif';\n",
      "        case 'MS PMincho'\n",
      "            plotlyFont = 'Times New Roman, Times, serif';\n",
      "        case 'MS Reference Sans Serif'\n",
      "            plotlyFont = 'Arial, sans-serif';\n",
      "        case 'MS Reference Specialty'\n",
      "            plotlyFont = 'Balto, sans-serif';\n",
      "        case 'Mshtakan'\n",
      "            plotlyFont = 'Times New Roman, Times, serif';\n",
      "        case 'MT Extra'\n",
      "            plotlyFont = 'Arial, sans-serif';\n",
      "        case 'Myanmar MN'\n",
      "            plotlyFont = 'PT Sans Narrow, sans-serif';\n",
      "        case 'Myanmar Sangam MN'\n",
      "            plotlyFont = 'Balto, sans-serif';\n",
      "        case 'Myriad Pro'\n",
      "            plotlyFont = 'Arial, sans-serif';\n",
      "        case 'Nadeem'\n",
      "            plotlyFont = 'Arial, sans-serif';\n",
      "        case 'Nanum Brush Script'\n",
      "            plotlyFont = 'Gravitas One, cursive';\n",
      "        case 'Nanum Gothic'\n",
      "            plotlyFont = 'Arial, sans-serif';\n",
      "        case 'Nanum Myeongjo'\n",
      "            plotlyFont = 'Times New Roman, Times, serif';\n",
      "        case 'Nanum Pen Script'\n",
      "            plotlyFont = 'Gravitas One, cursive';\n",
      "        case 'New Peninim MT'\n",
      "            plotlyFont = 'Gravitas One, cursive';\n",
      "        case 'News Gothic MT'\n",
      "            plotlyFont = 'Arial, sans-serif';\n",
      "        case 'Noteworthy'\n",
      "            plotlyFont = 'Gravitas One, cursive';\n",
      "        case 'Nueva Std'\n",
      "            plotlyFont = 'Gravitas One, cursive';\n",
      "        case 'OCR A Std'\n",
      "            plotlyFont = 'Old Standard TT, serif';\n",
      "        case 'Onyx'\n",
      "            plotlyFont = 'PT Sans Narrow, sans-serif';\n",
      "        case 'Optima'\n",
      "            plotlyFont = 'Droid Serif, serif';\n",
      "        case 'Orator Std'\n",
      "            plotlyFont = 'PT Sans Narrow, sans-serif';\n",
      "        case 'Oriya MN'\n",
      "            plotlyFont = 'PT Sans Narrow, sans-serif';\n",
      "        case 'Oriya Sangam MN'\n",
      "            plotlyFont = 'Balto, sans-serif';\n",
      "        case 'Osaka'\n",
      "            plotlyFont = 'Arial, sans-serif';\n",
      "        case 'Palatino'\n",
      "            plotlyFont = 'Old Standard TT, serif';\n",
      "        case 'Palatino Linotype'\n",
      "            plotlyFont = 'Old Standard TT, serif';\n",
      "        case 'Papyrus'\n",
      "            plotlyFont = 'Gravitas One, cursive';\n",
      "        case 'PCMyungjo'\n",
      "            plotlyFont = 'Courier New, monospace';\n",
      "        case 'Perpetua'\n",
      "            plotlyFont = 'Droid Serif, serif';\n",
      "        case 'Perpetua Titling MT'\n",
      "            plotlyFont = 'Times New Roman, Times, serif';\n",
      "        case 'PilGi'\n",
      "            plotlyFont = 'Gravitas One, cursive';\n",
      "        case 'Plantagenet Cherokee'\n",
      "            plotlyFont = 'Times New Roman, Times, serif';\n",
      "        case 'Playbill'\n",
      "            plotlyFont = 'Arial, sans-serif';\n",
      "        case 'PMingLiU'\n",
      "            plotlyFont = 'Courier New, monospace';\n",
      "        case 'Poplar Std'\n",
      "            plotlyFont = 'Arial, sans-serif';\n",
      "        case 'Prestige Elite Std'\n",
      "            plotlyFont = 'Courier New, monospace';\n",
      "        case 'PT Sans'\n",
      "            plotlyFont = 'PT Sans Narrow, sans-serif';\n",
      "        case 'PT Sans Caption'\n",
      "            plotlyFont = 'Arial, sans-serif';\n",
      "        case 'PT Sans Narrow'\n",
      "            plotlyFont = 'PT Sans Narrow, sans-serif';\n",
      "        case 'Raanana'\n",
      "            plotlyFont = 'Times New Roman, Times, serif';\n",
      "        case 'Rockwell'\n",
      "            plotlyFont = 'Droid Serif, serif';\n",
      "        case 'Rockwell Extra Bold'\n",
      "            plotlyFont = 'Droid Serif, serif';\n",
      "        case 'Rosewood Std'\n",
      "            plotlyFont = 'Droid Serif, serif';\n",
      "        case 'SansSerif'\n",
      "            plotlyFont =  'Open Sans, sans-serif';\n",
      "        case 'Sathu'\n",
      "            plotlyFont = 'Arial, sans-serif';\n",
      "        case 'Serif'\n",
      "            plotlyFont = 'Times New Roman, Times, serif';\n",
      "        case 'Silom'\n",
      "            plotlyFont = 'Arial, sans-serif';\n",
      "        case 'SimSun'\n",
      "            plotlyFont = 'Courier New, monospace';\n",
      "        case 'Sinhala MN'\n",
      "            plotlyFont = 'Balto, sans-serif';\n",
      "        case 'Sinhala Sangam MN'\n",
      "            plotlyFont = 'Balto, sans-serif';\n",
      "        case 'Skia'\n",
      "            plotlyFont = 'Raleway, sans-serif';\n",
      "        case 'Stencil'\n",
      "            plotlyFont =  'Old Standard TT, serif';\n",
      "        case 'Stencil Std'\n",
      "            plotlyFont =  'Old Standard TT, serif';\n",
      "        case 'STFangsong'\n",
      "            plotlyFont = 'Times New Roman, Times, serif';\n",
      "        case 'STHeiti'\n",
      "            plotlyFont = 'Balto, sans-serif';\n",
      "        case 'STIXGeneral'\n",
      "            plotlyFont = 'Times New Roman, Times, serif';\n",
      "        case 'STIXIntegralsD'\n",
      "            plotlyFont = 'Arial, sans-serif';\n",
      "        case 'STIXIntegralsSm'\n",
      "            plotlyFont = 'Arial, sans-serif';\n",
      "        case 'STIXIntegralsUp'\n",
      "            plotlyFont = 'Arial, sans-serif';\n",
      "        case 'STIXIntegralsUpD'\n",
      "            plotlyFont = 'Arial, sans-serif';\n",
      "        case 'STIXIntegralsUpSm'\n",
      "            plotlyFont = 'Arial, sans-serif';\n",
      "        case 'STIXNonUnicode'\n",
      "            plotlyFont = 'Arial, sans-serif';\n",
      "        case 'STIXSizeFiveSym'\n",
      "            plotlyFont = 'Arial, sans-serif';\n",
      "        case 'STIXSizeFourSym'\n",
      "            plotlyFont = 'Arial, sans-serif';\n",
      "        case 'STIXSizeOneSym'\n",
      "            plotlyFont = 'Arial, sans-serif';\n",
      "        case 'STIXSizeThreeSym'\n",
      "            plotlyFont = 'Arial, sans-serif';\n",
      "        case 'STIXSizeTwoSym'\n",
      "            plotlyFont = 'Arial, sans-serif';\n",
      "        case 'STIXVariants'\n",
      "            plotlyFont = 'Arial, sans-serif';\n",
      "        case 'STKaiti'\n",
      "            plotlyFont = 'Times New Roman, Times, serif';\n",
      "        case 'STSong'\n",
      "            plotlyFont = 'Times New Roman, Times, serif';\n",
      "        case 'Symbol'\n",
      "            plotlyFont =  'Open Sans, sans-serif';\n",
      "        case 'Tahoma'\n",
      "            plotlyFont = 'Arial, sans-serif';\n",
      "        case 'Tamil MN'\n",
      "            plotlyFont = 'PT Sans Narrow, sans-serif';\n",
      "        case 'Tamil Sangam MN'\n",
      "            plotlyFont = 'Balto, sans-serif';\n",
      "        case 'Tekton Pro'\n",
      "            plotlyFont = 'Gravitas One, cursive';\n",
      "        case 'Telugu MN'\n",
      "            plotlyFont = 'Arial, sans-serif';\n",
      "        case 'Telugu Sangam MN'\n",
      "            plotlyFont = 'Arial, sans-serif';\n",
      "        case 'Thonburi'\n",
      "            plotlyFont = 'Arial, sans-serif';\n",
      "        case 'Times'\n",
      "            plotlyFont = 'Times New Roman, Times, serif';\n",
      "        case 'Times New Roman'\n",
      "            plotlyFont = 'Times New Roman, Times, serif';\n",
      "        case 'Trajan Pro'\n",
      "            plotlyFont = 'Times New Roman, Times, serif';\n",
      "        case 'Trebuchet MS'\n",
      "            plotlyFont = 'Arial, sans-serif';\n",
      "        case 'Tw Cen MT'\n",
      "            plotlyFont = 'Balto, sans-serif';\n",
      "        case 'Verdana'\n",
      "            plotlyFont = 'Arial, sans-serif';\n",
      "        case 'Webdings'\n",
      "            plotlyFont = 'Arial, sans-serif';\n",
      "        case 'Wide Latin'\n",
      "            plotlyFont = 'Gravitas One, cursive';\n",
      "        case 'Zapf Dingbats'\n",
      "            plotlyFont =  'Open Sans, sans-serif';\n",
      "        case 'Zapfino'\n",
      "            plotlyFont = 'Gravitas One, cursive';\n",
      "        otherwise\n",
      "            plotlyFont =  'Open Sans, sans-serif';\n",
      "    end"
     ],
     "language": "python",
     "metadata": {},
     "outputs": [],
     "prompt_number": 21
    },
    {
     "cell_type": "heading",
     "level": 1,
     "metadata": {},
     "source": [
      "Here is a showcase of some of the conversions: "
     ]
    },
    {
     "cell_type": "code",
     "collapsed": false,
     "input": [
      "%%matlab\n",
      "hold on; \n",
      "plot(0,0);\n",
      "plot(2,2);\n",
      "text(0.2,1.6,'BLACK COURIER','FontName','Courier','FontSize',20,'Color','k');\n",
      "text(0.2,1.4,'BLUE TIMES NEW ROMAN','FontName','Times New Roman','FontSize',20,'Color','b');\n",
      "text(0.2,1.2,'RED ARIAL','FontName','Arial','FontSize',20,'Color','r');\n",
      "text(0.2,1,'MAGENTA PT SANS NARROW','FontName','PT Sans Narrow','FontSize',20,'Color','m');\n",
      "text(0.2,0.8,'GREEN WIDE LATIN','FontName','Wide Latin','FontSize',15,'Color','g');\n",
      "\n",
      "%title('T\\pm\\epsilonX I^n T_{IT}LE'); \n",
      "%ylabel('$M\\text{A}T^H\\text{J}AX$ ','Interpreter','none');\n",
      "%xlabel('TEXT + $\\int{\\frac{A}{T}}E_X$ ','Interpreter','latex')\n",
      "\n",
      "%%%%%%%%%%%%%%%%%%\n",
      "%     PLOTLY     %\n",
      "%%%%%%%%%%%%%%%%%%\n",
      "\n",
      "resp = fig2plotly(gcf,'name','fonttest'); "
     ],
     "language": "python",
     "metadata": {},
     "outputs": []
    },
    {
     "cell_type": "code",
     "collapsed": false,
     "input": [
      "%%matlab\n",
      "resp.url"
     ],
     "language": "python",
     "metadata": {},
     "outputs": [
      {
       "metadata": {},
       "output_type": "display_data",
       "text": [
        "\n",
        "ans =\n",
        "\n",
        "https://plot.ly/~matlab_user_guide/650\n",
        "\n"
       ]
      }
     ],
     "prompt_number": 25
    },
    {
     "cell_type": "code",
     "collapsed": false,
     "input": [
      "show_plot('https://plot.ly/~matlab_user_guide/650',750,750)"
     ],
     "language": "python",
     "metadata": {},
     "outputs": [
      {
       "html": [
        "<iframe height=\"750\" id=\"igraph\" frameborder = 0 seamless=\"seamless\" scrolling=\"no\" src=\"https://plot.ly/~matlab_user_guide/650/750/750\" width=\"750\"></iframe>"
       ],
       "metadata": {},
       "output_type": "pyout",
       "prompt_number": 26,
       "text": [
        "<IPython.core.display.HTML at 0x10444de10>"
       ]
      }
     ],
     "prompt_number": 26
    },
    {
     "cell_type": "heading",
     "level": 3,
     "metadata": {},
     "source": [
      "Unfortunately most fonts are not a perfect match (ex: WIDE LATIN). The closer ones can be fixed (or at least improved) by making some font size adjustments."
     ]
    },
    {
     "cell_type": "code",
     "collapsed": false,
     "input": [
      "%%matlab \n",
      "plotlyfig = getplotlyfig('matlab_user_guide','650'); \n",
      "plotlyfig.layout.annotations{1}.font.size = 35; "
     ],
     "language": "python",
     "metadata": {},
     "outputs": [],
     "prompt_number": 27
    },
    {
     "cell_type": "code",
     "collapsed": false,
     "input": [
      "%%matlab\n",
      "args.layout = plotlyfig.layout; \n",
      "args.filename = 'testtext2'; \n",
      "args.fileopt = 'overwrite'; \n",
      "plotly(plotlyfig.data,args)"
     ],
     "language": "python",
     "metadata": {},
     "outputs": [
      {
       "metadata": {},
       "output_type": "display_data",
       "text": [
        "\n",
        "ans = \n",
        "\n",
        "         url: 'https://plot.ly/~matlab_user_guide/653'\n",
        "     message: [1x0 char]\n",
        "     warning: [1x0 char]\n",
        "    filename: 'testtext2'\n",
        "       error: [1x0 char]\n",
        "\n"
       ]
      }
     ],
     "prompt_number": 28
    },
    {
     "cell_type": "code",
     "collapsed": false,
     "input": [
      "show_plot('https://plot.ly/~matlab_user_guide/653')"
     ],
     "language": "python",
     "metadata": {},
     "outputs": [
      {
       "html": [
        "<iframe height=\"750\" id=\"igraph\" frameborder = 0 seamless=\"seamless\" scrolling=\"no\" src=\"https://plot.ly/~matlab_user_guide/653/1000/750\" width=\"1000\"></iframe>"
       ],
       "metadata": {},
       "output_type": "pyout",
       "prompt_number": 29,
       "text": [
        "<IPython.core.display.HTML at 0x104456050>"
       ]
      }
     ],
     "prompt_number": 29
    }
   ],
   "metadata": {}
  }
 ]
}