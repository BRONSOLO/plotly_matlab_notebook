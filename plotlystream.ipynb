{
 "metadata": {
  "name": "",
  "signature": "sha256:6f1cd65e5d35f7e50617364ede7d394d8ce13fbb19e9d58d7d8514a084e36a2c"
 },
 "nbformat": 3,
 "nbformat_minor": 0,
 "worksheets": [
  {
   "cells": [
    {
     "cell_type": "markdown",
     "metadata": {},
     "source": [
      "<br>\n",
      "<h5><center>REAL TIME SIGNAL VISUALIZATION: <br><br> **STREAMING TO PLOTLY FROM  MATLAB**</center><h5> "
     ]
    },
    {
     "cell_type": "markdown",
     "metadata": {},
     "source": [
      "Hey Guys - Guess what! <a href=\"https://plot.ly\" class = \"nounderlineblack\">Plotly</a> has recently incorporated some **<font color = red>\\*NEW\\*</font>** streaming support into the Plotly <a href = \"https://plot.ly/matlab\" class=\"nounderlineblack\">MATLAB API library</a>! Now, for the first time ever, we are able to stream our MATLAB generated data and visualize it online in real time. These streams can be made public so that your data can be viewed and re-shared by your colleagues from all over the world! This notebook provides a quick overview of how it works. If you are new to Plotly, information regarding the MATLAB API library can be found online at the  <a href = \"https://plot.ly/matlab\" class=\"nounderlineblack\">Plotly's Documtation pages</a>. If you have any questions, comments, or just want to share one of your Plotly MATLAB API library streaming plots, we would <a href = \"#contacts\" class=\"nounderline\">love to hear from you</a>!  \n",
      "\n",
      "<hr size = 5>\n"
     ]
    },
    {
     "cell_type": "heading",
     "level": 5,
     "metadata": {},
     "source": [
      "MATLAB STREAM IN ACTION:"
     ]
    },
    {
     "cell_type": "markdown",
     "metadata": {},
     "source": [
      "Before we dive into how it all works, let's have a look at a MATLAB generated stream in action. A little <a href = \"http://en.wikipedia.org/wiki/Fast_Fourier_transform\" class=\"nounderlineblack\" >Fourier analysis</a> anyone?"
     ]
    },
    {
     "cell_type": "code",
     "collapsed": false,
     "input": [
      "PLOTLY_FIGURE('https://plot.ly/~matlab_user_guide/846')"
     ],
     "language": "python",
     "metadata": {},
     "outputs": [
      {
       "html": [
        "<iframe height=\"650\" id=\"igraph\" scrolling=\"no\" frameborder = 0 seamless=\"seamless\" src=\"https://plot.ly/~matlab_user_guide/846/800/650\" width=\"800\"></iframe>"
       ],
       "metadata": {},
       "output_type": "pyout",
       "prompt_number": 3,
       "text": [
        "<IPython.core.display.HTML at 0x1080c0110>"
       ]
      }
     ],
     "prompt_number": 3
    },
    {
     "cell_type": "heading",
     "level": 5,
     "metadata": {},
     "source": [
      "<hr size = 5>\n",
      "<br>\n",
      "GETTING STREAMING (A BASIC EXAMPLE):"
     ]
    },
    {
     "cell_type": "heading",
     "level": 4,
     "metadata": {},
     "source": [
      "<br>\n",
      "** <font size = 5>[0]: </font>** OPEN YOUR MATLAB ENVIRONMENT"
     ]
    },
    {
     "cell_type": "code",
     "collapsed": false,
     "input": [
      "%load_ext pymatbridge"
     ],
     "language": "python",
     "metadata": {},
     "outputs": [
      {
       "output_type": "stream",
       "stream": "stdout",
       "text": [
        "Starting MATLAB on ZMQ socket ipc:///tmp/pymatbridge\n",
        "Send 'exit' command to kill the server\n",
        "."
       ]
      },
      {
       "output_type": "stream",
       "stream": "stdout",
       "text": [
        "."
       ]
      },
      {
       "output_type": "stream",
       "stream": "stdout",
       "text": [
        "."
       ]
      },
      {
       "output_type": "stream",
       "stream": "stdout",
       "text": [
        "."
       ]
      },
      {
       "output_type": "stream",
       "stream": "stdout",
       "text": [
        "."
       ]
      },
      {
       "output_type": "stream",
       "stream": "stdout",
       "text": [
        "."
       ]
      },
      {
       "output_type": "stream",
       "stream": "stdout",
       "text": [
        "."
       ]
      },
      {
       "output_type": "stream",
       "stream": "stdout",
       "text": [
        "."
       ]
      },
      {
       "output_type": "stream",
       "stream": "stdout",
       "text": [
        "."
       ]
      },
      {
       "output_type": "stream",
       "stream": "stdout",
       "text": [
        "."
       ]
      },
      {
       "output_type": "stream",
       "stream": "stdout",
       "text": [
        "."
       ]
      },
      {
       "output_type": "stream",
       "stream": "stdout",
       "text": [
        "."
       ]
      },
      {
       "output_type": "stream",
       "stream": "stdout",
       "text": [
        "."
       ]
      },
      {
       "output_type": "stream",
       "stream": "stdout",
       "text": [
        "."
       ]
      },
      {
       "output_type": "stream",
       "stream": "stdout",
       "text": [
        "."
       ]
      },
      {
       "output_type": "stream",
       "stream": "stdout",
       "text": [
        "."
       ]
      },
      {
       "output_type": "stream",
       "stream": "stdout",
       "text": [
        "."
       ]
      },
      {
       "output_type": "stream",
       "stream": "stdout",
       "text": [
        "MATLAB started and connected!\n"
       ]
      }
     ],
     "prompt_number": 4
    },
    {
     "cell_type": "markdown",
     "metadata": {},
     "source": [
      "<br>"
     ]
    },
    {
     "cell_type": "heading",
     "level": 4,
     "metadata": {},
     "source": [
      "** <font size = 5>[1]: </font>**Setup your Plotly MATLAB API Library. "
     ]
    },
    {
     "cell_type": "code",
     "collapsed": false,
     "input": [
      "%%matlab \n",
      "\n",
      "%plotlysetup('username','api_key'); %uncomment this line and fill in the require fields"
     ],
     "language": "python",
     "metadata": {},
     "outputs": [],
     "prompt_number": 6
    },
    {
     "cell_type": "markdown",
     "metadata": {},
     "source": [
      "Both your ' username ' and ' api_key ' are initialized once you <a href = \"https://plot.ly\" class=\"nounderline\">MAKE A PLOTLY ACCOUNT</a>!\n",
      "\n",
      "<br>\n",
      "<br>"
     ]
    },
    {
     "cell_type": "heading",
     "level": 4,
     "metadata": {},
     "source": [
      "** <font size = 5>[2]: </font>** Create a Plotly plot with a unique stream token. "
     ]
    },
    {
     "cell_type": "code",
     "collapsed": false,
     "input": [
      "%%matlab\n",
      "\n",
      "%----STORED STREAMING CREDENTIALS----%\n",
      "my_credentials = loadplotlycredentials; \n",
      "my_stream_token = my_credentials.stream_key{end};\n",
      "\n",
      "%----SETUP-----%\n",
      "\n",
      "data{1}.x = []; \n",
      "data{1}.y = [];\n",
      "data{1}.type = 'scatter';\n",
      "data{1}.stream.token = my_stream_token; \n",
      "data{1}.stream.maxpoints = 30;  \n",
      "args.filename = 'MY_FIRST_STREAM'; \n",
      "args.fileopt = 'overwrite'; \n",
      "\n",
      "%----PLOTLY-----%\n",
      "\n",
      "resp = plotly(data,args); \n",
      "URL_OF_PLOT = resp.url"
     ],
     "language": "python",
     "metadata": {},
     "outputs": [
      {
       "metadata": {},
       "output_type": "display_data",
       "text": [
        "\n",
        "URL_OF_PLOT =\n",
        "\n",
        "https://plot.ly/~matlab_user_guide/849\n",
        "\n"
       ]
      }
     ],
     "prompt_number": 7
    },
    {
     "cell_type": "markdown",
     "metadata": {},
     "source": [
      "Again - your stream token is found online once you have your <a href = \"https://plot.ly\" class=\"nounderline\">VERY OWN ACCOUNT</a>!\n",
      "\n",
      "<br>\n",
      "<br>"
     ]
    },
    {
     "cell_type": "heading",
     "level": 4,
     "metadata": {},
     "source": [
      "** <font size = 5>[3]: </font>** Initialize a plotlystream object. "
     ]
    },
    {
     "cell_type": "code",
     "collapsed": false,
     "input": [
      "%%matlab \n",
      "\n",
      "ps = plotlystream(my_stream_token); "
     ],
     "language": "python",
     "metadata": {},
     "outputs": [],
     "prompt_number": 8
    },
    {
     "cell_type": "markdown",
     "metadata": {},
     "source": [
      "\n",
      "<br>\n",
      "<br>\n"
     ]
    },
    {
     "cell_type": "heading",
     "level": 4,
     "metadata": {},
     "source": [
      "** <font size = 5>[4]: </font>** Stream your data using the plotlystream object methods. "
     ]
    },
    {
     "cell_type": "code",
     "collapsed": false,
     "input": [
      "%%matlab \n",
      "\n",
      "%----open the stream----%\n",
      "\n",
      "ps.open(); \n",
      "\n",
      "%----write to the stream----%\n",
      "\n",
      "for i = 1:1000\n",
      "    mydata.x = i; \n",
      "    mydata.y = rand; \n",
      "    ps.write(mydata);\n",
      "    %take a breath \n",
      "    pause(0.05); \n",
      "end\n",
      "\n",
      "%----close the stream----% \n",
      "ps.close(); \n"
     ],
     "language": "python",
     "metadata": {},
     "outputs": [
      {
       "metadata": {},
       "output_type": "display_data",
       "text": [
        "\n",
        "[Connection Successful]\n",
        "\n"
       ]
      }
     ],
     "prompt_number": 9
    },
    {
     "cell_type": "markdown",
     "metadata": {},
     "source": [
      "<br>\n",
      "<br>\n",
      "<center><font size = 10><a href=\"https://plot.ly/~matlab_user_guide/849\" class=\"nounderline\">**Click here to take a look at the basic example stream in action over at Plot.ly!**</a></font></center>"
     ]
    },
    {
     "cell_type": "heading",
     "level": 5,
     "metadata": {},
     "source": [
      "<br>\n",
      "\n",
      "<hr size = 5>\n",
      "<br>\n",
      "STREAMING SIGNAL ANALYSIS (FROM ABOVE):"
     ]
    },
    {
     "cell_type": "markdown",
     "metadata": {},
     "source": [
      "The following code is used to generate the Fourier analysis streaming plot from the above example. Feel free to copy the code and modify it in any way! Again, we would love to hear from you with links to the streams you create. \n",
      "<br>"
     ]
    },
    {
     "cell_type": "code",
     "collapsed": false,
     "input": [
      "%%capture \n",
      "%%matlab \n",
      "\n",
      "%----plotly setup----%\n",
      "\n",
      "%max streaming points\n",
      "maxpoints = 32;\n",
      "\n",
      "%credientials \n",
      "my_credentials = loadplotlycredentials; \n",
      "\n",
      "%signal1 (time domain)\n",
      "data{1}.type = 'scatter';\n",
      "data{1}.mode = 'lines+markers';\n",
      "data{1}.x = [];\n",
      "data{1}.y = [];\n",
      "data{1}.line.width = 5;\n",
      "data{1}.line.shape = 'spline';\n",
      "data{1}.line.color = 'rgba(100,20,250,0.5)';\n",
      "data{1}.marker.symbol = 'circle';\n",
      "data{1}.marker.size = 10;\n",
      "data{1}.marker.line.width = 2;\n",
      "data{1}.stream.token = my_credentials.stream_key{end-4};\n",
      "data{1}.stream.maxpoints = maxpoints;\n",
      "data{1}.autorange = true;\n",
      "data{1}.name = '$s_1$';\n",
      "data{1}.xaxis = 'x1';\n",
      "data{1}.yaxis = 'y1';\n",
      "\n",
      "%signal2 (time domain)\n",
      "data{2}.type = 'scatter';\n",
      "data{2}.mode = 'lines+markers';\n",
      "data{2}.line.width = 5;\n",
      "data{2}.line.color = 'rgba(0,200,200,0.5)';\n",
      "data{2}.line.shape = 'spline';\n",
      "data{2}.marker.symbol = 'circle';\n",
      "data{2}.marker.size = 10;\n",
      "data{2}.marker.line.width = 2;\n",
      "data{2}.x = [];\n",
      "data{2}.y = [];\n",
      "data{2}.stream.token = my_credentials.stream_key{end-3};\n",
      "data{2}.stream.maxpoints = maxpoints;\n",
      "data{2}.name = '$s_2$';\n",
      "data{2}.xaxis = 'x1';\n",
      "data{2}.yaxis = 'y1';\n",
      "\n",
      "%signal1 (frequency domain)\n",
      "data{3}.type = 'scatter';\n",
      "data{3}.mode = 'lines';\n",
      "data{3}.x = [];\n",
      "data{3}.y = [];\n",
      "data{3}.stream.token = my_credentials.stream_key{end-2};\n",
      "data{3}.line.color = 'rgba(0,0,0,1)';\n",
      "data{3}.line.width = 3;\n",
      "data{3}.name = '$|FFT(s_1)|$';\n",
      "data{3}.fill = 'tozeroy';\n",
      "data{3}.fillcolor =  'rgba(100,20,250,0.5)';\n",
      "data{3}.xaxis = 'x2';\n",
      "data{3}.yaxis = 'y2';\n",
      "\n",
      "%signal2 (frequency domain)\n",
      "data{4}.type = 'scatter';\n",
      "data{4}.mode = 'lines';\n",
      "data{4}.x = [];\n",
      "data{4}.y = [];\n",
      "data{4}.stream.token = my_credentials.stream_key{end-1};\n",
      "data{4}.line.color = 'rgba(0,0,0,1)';\n",
      "data{4}.line.width = 3;\n",
      "data{4}.fillcolor = 'rgba(0,200,200,0.5)';\n",
      "data{4}.fill = 'tozeroy';\n",
      "data{4}.name = '$|FFT(s_2)|$';\n",
      "data{4}.xaxis = 'x2';\n",
      "data{4}.yaxis = 'y2';\n",
      "\n",
      "%---layout and plot options---%\n",
      "args.layout.title = 'REAL TIME SIGNAL ANALYSIS';\n",
      "args.layout.xaxis1.title = 'Time [s.]';\n",
      "args.layout.xaxis1.showgrid = true;\n",
      "args.layout.xaxis1.showline = false; \n",
      "args.layout.xaxis1.mirror = false;\n",
      "args.layout.xaxis1.anchor = 'y1';\n",
      "args.layout.yaxis1.title = 'Amplitude';\n",
      "args.layout.yaxis1.anchor = 'x1';\n",
      "args.layout.yaxis1.range = [-7 7];\n",
      "args.layout.yaxis1.nticks = 10;\n",
      "args.layout.yaxis1.showline = true;\n",
      "args.layout.yaxis1.mirror = false;\n",
      "args.layout.yaxis1.zeroline = true;\n",
      "args.layout.yaxis1.zerolinewidth = 2;\n",
      "args.layout.yaxis1.showgrid = true;\n",
      "args.layout.yaxis1.domain = [0.6 1];\n",
      "\n",
      "args.layout.yaxis2.title = 'Magnitude';\n",
      "args.layout.xaxis2.title = 'Frequency [Hz.]';\n",
      "args.layout.xaxis2.showline = true;\n",
      "args.layout.xaxis2.zeroline = false;\n",
      "args.layout.xaxis2.mirror = false;\n",
      "args.layout.xaxis2.nticks = 20;\n",
      "args.layout.xaxis2.anchor = 'y2';\n",
      "args.layout.xaxis2.linewidth = 2;\n",
      "args.layout.yaxis2.showline = true;\n",
      "args.layout.yaxis2.linewidth = 2;\n",
      "args.layout.yaxis2.mirror = false;\n",
      "args.layout.yaxis2.nticks = 10;\n",
      "args.layout.yaxis2.zeroline = false;\n",
      "args.layout.yaxis2.domain = [0 0.4];\n",
      "args.layout.yaxis2.anchor = 'x2';\n",
      "args.layout.yaxis2.range = [0 100];\n",
      "\n",
      "args.filename = 'stream_example_fourier';\n",
      "args.fileopt = 'overwrite';\n",
      "resp = plotly(data,args);\n",
      "resp.url \n",
      "\n",
      "\n",
      "%----SIGNAL GENERATION---%\n",
      "\n",
      "%Sampling frequency\n",
      "SR = 20;\n",
      "\n",
      "%N (length of fft)\n",
      "N = 128;\n",
      "\n",
      "%Duration\n",
      "dur = 50*SR;\n",
      "\n",
      "%Amplitude vector\n",
      "A = [1 2 3 4 5];\n",
      "\n",
      "src1 = [ A(1)*sin(2*pi*1*(0*dur/5 + 1:1*dur/5)/SR)' ,...\n",
      "           ; A(2)*sin(2*pi*2*(1*dur/5 + 1:2*dur/5)/SR)',...\n",
      "           ; A(3)*sin(2*pi*3*(2*dur/5 + 1:3*dur/5)/SR)',...\n",
      "           ; A(4)*sin(2*pi*4*(3*dur/5 + 1:4*dur/5)/SR)',....\n",
      "           ; A(5)*sin(2*pi*5*(4*dur/5 + 1:5*dur/5)/SR)'];\n",
      "       \n",
      "src2 = [ A(5)*sin(2*pi*5*(0*dur/5 + 1:1*dur/5)/SR)',...\n",
      "           ; A(4)*sin(2*pi*4*(1*dur/5 + 1:2*dur/5)/SR)',...\n",
      "           ; A(3)*sin(2*pi*3*(2*dur/5 + 1:3*dur/5)/SR)',....\n",
      "           ; A(2)*sin(2*pi*2*(3*dur/5 + 1:4*dur/5)/SR)',....\n",
      "           ; A(1)*sin(2*pi*1*(4*dur/5 + 1:5*dur/5)/SR)'];\n",
      "\n",
      "%frequency vector\n",
      "freq = (0:N/2)*SR/(N);\n",
      "\n",
      "%length of stream\n",
      "los = length(src1);\n",
      "\n",
      "%create plotlystream objects\n",
      "sigstream_time1 = plotlystream(data{1}.stream.token);\n",
      "sigstream_time2 = plotlystream(data{2}.stream.token);\n",
      "sigstream_freq1 = plotlystream(data{3}.stream.token);\n",
      "sigstream_freq2 = plotlystream(data{4}.stream.token);\n",
      "\n",
      "%open the streams\n",
      "sigstream_time1.open;\n",
      "sigstream_time2.open;\n",
      "sigstream_freq1.open;\n",
      "sigstream_freq2.open;\n",
      "\n",
      "s = maxpoints;\n",
      "i = 0; \n",
      "\n",
      "while true \n",
      "    i = i + 1; \n",
      "    s = mod(i,los)+1; \n",
      "    \n",
      "    %stream data of signal 1 (time)\n",
      "    datast1t.x = i/SR;\n",
      "    datast1t.y = src1(s);\n",
      "    \n",
      "    %stream data of signal 2 (time)\n",
      "    datast2t.x = i/SR;\n",
      "    datast2t.y = src2(s);\n",
      "    \n",
      "    %stream data of signal 1 (freq)\n",
      "    datast1f.x = freq;\n",
      "    F = abs(fft(src1(mod(i-data{1}.stream.maxpoints:(i-1),los)+1),N));\n",
      "    datast1f.y = F(1:length(freq));\n",
      "    \n",
      "    %stream data of signal 2 (freq)\n",
      "    datast2f.x = freq;\n",
      "    F = abs(fft(src2(mod(i-data{1}.stream.maxpoints:(i-1),los)+1),N));\n",
      "    datast2f.y = F(1:length(freq));\n",
      "    \n",
      "    %write stream data\n",
      "    sigstream_time1.write(datast1t);\n",
      "    sigstream_time2.write(datast2t);\n",
      "    sigstream_freq1.write(datast1f);\n",
      "    sigstream_freq2.write(datast2f);\n",
      "    \n",
      "    %take a breath\n",
      "       pause(0.05);\n",
      "   \n",
      "end\n",
      "\n",
      "%close the streams before they cross! (a la Ghostbusters)\n",
      "\n",
      "sigstream_time1.close;\n",
      "sigstream_time2.close;\n",
      "sigstream_freq1.close;\n",
      "sigstream_freq2.close;"
     ],
     "language": "python",
     "metadata": {},
     "outputs": [],
     "prompt_number": 10
    },
    {
     "cell_type": "markdown",
     "metadata": {},
     "source": [
      "<br>\n",
      "<br>\n",
      "<br>\n",
      "<center><h2>CONTACT</h2></center>"
     ]
    },
    {
     "cell_type": "markdown",
     "metadata": {},
     "source": [
      "--- \n",
      "Want to help improve this user guide? Please send us your comments/questions! Feedback concerning this user guide can be directed to <font color=#1d3b84>** chuck [at] plot.ly **</font>. You can also reach and follow us online via social media outlets.<br>\n",
      "<br>\n",
      "\n",
      "<div class=\"image-line\">\n",
      "\n",
      "<div class=\"image-cell\">\n",
      "<a href=\"https://twitter.com/plotlygraphs\">\n",
      "<img src=\"files/images/twitter.png\" style=\"width: 40px; height: 40px; margin-left: 1px; margin-right: 1px\"; alt=\"\"> \n",
      "</a>\n",
      "</div>\n",
      "\n",
      "<div class=\"image-cell\">\n",
      "<a href=\"https://www.facebook.com/Plotly\">\n",
      "<img src=\"files/images/facebook.png\" style=\"width: 40px; height: 40px; margin-left: 1px; margin-right: 1px\"; alt=\"\"> \n",
      "</a>\n",
      "</div>\n",
      "\n",
      "<div class=\"image-cell\">\n",
      "<a href= https://plus.google.com/101741663283396748386/posts>\n",
      "<img src=\"files/images/gplus.png\" style=\"width: 40px; height: 40px; margin-left: 1px; margin-right: 1px\"; alt=\"\"> \n",
      "</a>\n",
      "</div>\n",
      "\n",
      "<div class=\"image-cell\">\n",
      "<a href= https://www.edmodo.com/publisher/plotly>\n",
      "<img src=\"files/images/ed.png\" style=\"width: 40px; height: 40px; margin-left: 1px; margin-right: 1px\"; alt=\"\"> \n",
      "</a>\n",
      "</div>\n",
      "\n",
      "</div>\n",
      "<br>\n",
      "<br>\n",
      "\n",
      "---"
     ]
    },
    {
     "cell_type": "markdown",
     "metadata": {},
     "source": [
      "<br>\n",
      "<h4>\n",
      "<center>\n",
      "**  \u2022   ** <br><br>\n",
      "**  \u2022   ** <br><br>\n",
      "**  \u2022   ** <br><br>\n",
      "**  \u2022   ** <br><br>\n",
      "</center>    \n",
      "</h4>\n",
      "<br>"
     ]
    },
    {
     "cell_type": "markdown",
     "metadata": {},
     "source": [
      "<h2>EMBED PLOTLY FIGURES IN YOUR NB</h2>"
     ]
    },
    {
     "cell_type": "code",
     "collapsed": false,
     "input": [
      "from IPython.display import HTML\n",
      "\n",
      "def PLOTLY_FIGURE(url, width=800, height=650):\n",
      "    s = '<iframe height=\"%s\" id=\"igraph\" frameborder = 0 seamless=\"seamless\" scrolling=\"no\" src=\"%s\" width=\"%s\"></iframe>' %\\\n",
      "    (height, \"/\".join(map(str,[url, width, height])), width)\n",
      "    return HTML(s)"
     ],
     "language": "python",
     "metadata": {},
     "outputs": [],
     "prompt_number": 1
    },
    {
     "cell_type": "markdown",
     "metadata": {},
     "source": [
      "<br>\n",
      "<h2>NOTEBOOK BEAUTIFICATION</h2>"
     ]
    },
    {
     "cell_type": "code",
     "collapsed": false,
     "input": [
      "\n",
      "# CSS styling within IPython notebook\n",
      "from IPython.core.display import HTML\n",
      "def css_styling():\n",
      "    styles = open(\"./css/style_notebook.css\", \"r\").read()\n",
      "    return HTML(styles)\n",
      "css_styling()"
     ],
     "language": "python",
     "metadata": {},
     "outputs": [
      {
       "html": [
        "<style>\n",
        "@font-face {\n",
        "  font-family: \"Computer Modern\";\n",
        "  src: url('http://9dbb143991406a7c655e-aa5fcb0a5a4ec34cff238a2d56ca4144.r56.cf5.rackcdn.com/cmunss.otf');\n",
        "}\n",
        "@font-face {\n",
        "  font-family: \"Computer Modern\";\n",
        "  font-weight: bold;\n",
        "  src: url('http://9dbb143991406a7c655e-aa5fcb0a5a4ec34cff238a2d56ca4144.r56.cf5.rackcdn.com/cmunsx.otf');\n",
        "}\n",
        "@font-face {\n",
        "  font-family: \"Computer Modern\";\n",
        "  font-style: oblique;\n",
        "  src: url('http://9dbb143991406a7c655e-aa5fcb0a5a4ec34cff238a2d56ca4144.r56.cf5.rackcdn.com/cmunsi.otf');\n",
        "}\n",
        "@font-face {\n",
        "  font-family: \"Computer Modern\";\n",
        "  font-weight: bold;\n",
        "  font-style: oblique;\n",
        "  src: url('http://9dbb143991406a7c655e-aa5fcb0a5a4ec34cff238a2d56ca4144.r56.cf5.rackcdn.com/cmunso.otf');\n",
        "}\n",
        "div.cell{\n",
        "  width:800px;\n",
        "  margin-left:16% !important;\n",
        "  margin-right:auto;\n",
        "}\n",
        "\n",
        "div.text_cell_render{\n",
        " /* font-family: Computer Modern, \"Helvetica Neue\", Arial, Helvetica, Geneva, sans-serif; */\n",
        " color: #333333;\n",
        " /* font-family: \u2018Palatino Linotype\u2019, \u2018Book Antiqua\u2019, Palatino, serif; */\n",
        " /* font-family: \u2018Trebuchet MS\u2019, Helvetica, sans-serif; */\n",
        " font-family: \u2018Lucida Sans Unicode\u2019, \u2018Lucida Grande\u2019, sans-serif;\n",
        " line-height: 145%;\n",
        " font-size: 130%;\n",
        " width: 800px; \n",
        "}\n",
        "\n",
        "code{\n",
        "  font-size: 40%;\n",
        "}\n",
        "\n",
        "ul{\n",
        "  margin: 2em;\n",
        "}\n",
        "\n",
        "ul li{\n",
        " padding-left: 0.5em;\n",
        " margin-bottom: 0.5em;\n",
        " margin-top: 0.5em;\n",
        " /*font-variant: small-caps;*/\n",
        "}\n",
        "\n",
        "a.nounderline:link{\n",
        " color: #1d3b84;\n",
        " font-weight: bold;\n",
        " text-decoration:none;\n",
        "}\n",
        "a.nounderlineblack:link{\n",
        " color: #333333;\n",
        " font-weight: bold;\n",
        " text-decoration:none;\n",
        "}\n",
        "a.nounderlineblack:visited{\n",
        " color: #333333;\n",
        " font-weight: bold;\n",
        " text-decoration:none;\n",
        "}\n",
        "a:link{\n",
        "  color: #447adb;\n",
        "  font-weight: bold;\n",
        "  text-decoration:none;\n",
        "}\n",
        "a:visited{\n",
        " font-weight: bold;\n",
        " text-decoration: none;\n",
        "}\n",
        "a:hover{\n",
        " text-decoration: none;\n",
        " font-weight: bold;\n",
        "}\n",
        "a:focus{\n",
        " text-decoration: none;\n",
        " font-weight: bold;\n",
        "}\n",
        "a:active{\n",
        " text-decoration: none;\n",
        " font-weight: bold;\n",
        "}\n",
        ".CodeMirror{ \n",
        "  background-color: white;\n",
        "  width:790px;\n",
        "  font-family: \"Source Code Pro\", source-code-pro,Consolas, monospace;\n",
        "}\n",
        ".prompt{\n",
        "  display: None;\n",
        "}\n",
        "\n",
        ".col1 {\n",
        "  background-color: white;\n",
        "  float: left;\n",
        "  width: 300px;\n",
        "  height: 100px;\n",
        "}\n",
        ".col2 {\n",
        "  background-color: white;\n",
        "  width: 400px;\n",
        "  height: 100px;\n",
        "  float:center; \n",
        "  display: table-cell; \n",
        "}\n",
        ".col3 {\n",
        "  background-color: white;\n",
        "  float: right;\n",
        "  width: 200px;\n",
        "  height: 100px; \n",
        "}\n",
        "\n",
        ".text_cell_render h1 {\n",
        "  font-size: 30pt;\n",
        "  width:775px;\n",
        "  color:#333333;\n",
        "  font-family: \u2018Lucida Console\u2019, Monaco, monospace;\n",
        "  text-align: center;\n",
        "  font-size: 50; \n",
        "}\n",
        "\n",
        ".text_cell_render h2 {\n",
        "  /* font-family: Computer Modern, serif; */\n",
        "  font-size: 20pt;\n",
        "  color: #333333;\n",
        "  font-family: \u2018Lucida Console\u2019, Monaco, monospace;\n",
        "  text-align: center;\n",
        "}\n",
        "\n",
        ".text_cell_render h3 {\n",
        "  font-weight: 10;\n",
        "  font-style: italic;\n",
        "  color:#003366; \n",
        "  font-size: 15pt;\n",
        "  margin-bottom: 0em;\n",
        "  margin-top: 1.5em;\n",
        "  display: inline;\n",
        "  white-space: nowrap;\n",
        "}\n",
        "\n",
        ".text_cell_render h4{\n",
        "  color: #333333;\n",
        "  font-family: \u2018Lucida Console\u2019, Monaco, monospace;\n",
        "  margin-top:15px;\n",
        "  margin-bottom: 3px;\n",
        "  font-size: 10pt; \n",
        "}\n",
        "\n",
        ".text_cell_render h5 {\n",
        "  font-weight: 300;\n",
        "  font-style: normal;\n",
        "  color:#003366; \n",
        "  font-size: 25pt;\n",
        "  margin-bottom: 0em;\n",
        "  margin-top: 1.5em;\n",
        "  display: inline;\n",
        "  white-space: nowrap;\n",
        "}\n",
        "\n",
        ".text_cell_render h6 {\n",
        "  font-weight: 0;\n",
        "  font-style: normal;\n",
        "  color:#003366; \n",
        "  font-size: 16pt;\n",
        "  margin-bottom: 0em;\n",
        "  margin-top: 1.5em;\n",
        "  display: inline;\n",
        "  white-space: nowrap;\n",
        "}\n",
        "\n",
        ".warning{\n",
        "  color: rgb( 240, 20, 20 )\n",
        "}\n",
        "\n",
        "blockquote{\n",
        "  display:block;\n",
        "  background: #FFFFFF;\n",
        "  border-left: 2px dashed #1d3b84;\n",
        "  border-right: 2px dashed #1d3b84;\n",
        "  font-family: 'Open sans',verdana,arial,sans-serif;\n",
        "  padding: 25px 25px 25px 25px;\n",
        "  text-align:justify;\n",
        "  text-justify:inter-word;\n",
        "  width:auto;\n",
        "  display:table\n",
        "}\n",
        "\n",
        "blockquote p {\n",
        "  margin-bottom: 0;\n",
        "  line-height: 125%;\n",
        "  font-size: 80%;\n",
        "}\n",
        "\n",
        ".image-line {\n",
        " margin-left: 22%;\n",
        "}\n",
        "\n",
        ".image-cell {\n",
        " width: 100px;\n",
        " margin: 10px;\n",
        " float: left;\n",
        "}\n",
        "\n",
        ".image-clear {\n",
        " clear: both;\n",
        "}\n",
        "\n",
        "\n",
        "</style>\n",
        "\n",
        "<script>\n",
        "MathJax.Hub.Config({\n",
        "  TeX: {\n",
        "   extensions: [\"AMSmath.js\"]\n",
        "   },\n",
        "   tex2jax: {\n",
        "    inlineMath: [ ['$','$'], [\"\\\\(\",\"\\\\)\"] ],\n",
        "    displayMath: [ ['$$','$$'], [\"\\\\[\",\"\\\\]\"] ]\n",
        "    },\n",
        "    displayAlign: 'center', // Change this to 'center' to center equations.\n",
        "    \"HTML-CSS\": {\n",
        "      styles: {'.MathJax_Display': {\"margin\": 4}}\n",
        "    }\n",
        "    });\n",
        "\n",
        "</script>\n"
       ],
       "metadata": {},
       "output_type": "pyout",
       "prompt_number": 11,
       "text": [
        "<IPython.core.display.HTML at 0x108b85490>"
       ]
      }
     ],
     "prompt_number": 11
    },
    {
     "cell_type": "markdown",
     "metadata": {},
     "source": [
      "<center><sup><a href = \"http://camdavidsonpilon.github.io/Probabilistic-Programming-and-Bayesian-Methods-for-Hackers/\" class=\"nounderlineblack\">STYLE INSPIRED BY CAM DAVIDSON'S NB'S - THANK YOU</a></sup></center>"
     ]
    }
   ],
   "metadata": {}
  }
 ]
}