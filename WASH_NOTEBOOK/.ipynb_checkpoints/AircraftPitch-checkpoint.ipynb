{
 "metadata": {
  "name": "",
  "signature": "sha256:b463c4cba62f55f597b70cab7d795e1979ec885e17de58a4c2686f3f09fcf294"
 },
 "nbformat": 3,
 "nbformat_minor": 0,
 "worksheets": [
  {
   "cells": [
    {
     "cell_type": "markdown",
     "metadata": {},
     "source": [
      "<h1>**Aircraft Pitch: Frequency Domain Methods for Controller Design**</h1>\n",
      "\n",
      "Key MATLAB commands used in this tutorial are: <a href =\"http://www.mathworks.com/help/control/ref/tf.html\" class = 'nounderline'>tf</a> , <a href = \"http://www.mathworks.com/help/control/ref/step.html\" class = 'nounderline'>step</a> , <a href = \"http://www.mathworks.com/help/control/ref/feedback.html\" class = 'nounderline'>feedback</a> , <a href = \"http://www.mathworks.com/help/control/ref/pole.html\" class = 'nounderline'>pole</a> , <a href = \"http://www.mathworks.com/help/control/ref/margin.html\" class = 'nounderline'>margin</a> , <a href = \"http://www.mathworks.com/help/control/ref/stepinfo.html\" class = 'nounderline'>stepinfo</a>\n",
      "\n",
      "<h2> Contents </h2>\n",
      "\n",
      "- <a href = \"#olr\" class = 'nounderline'>Open-loop response</a>\n",
      "\n",
      "- <a href = \"#clr\" class = 'nounderline'>Closed-loop response</a>\n",
      "\n",
      "- <a href = \"#lc\" class = 'nounderline'>Lead compensator</a>"
     ]
    },
    {
     "cell_type": "markdown",
     "metadata": {},
     "source": [
      "From the main problem, the open-loop transfer function for the aircraft pitch dynamics is\n"
     ]
    },
    {
     "cell_type": "markdown",
     "metadata": {},
     "source": [
      "<span class=\"eqn_num\">(1)</span> $$ P(s) = \\frac{\\Theta(s)}{\\Delta(s)} = \\frac {1.151s+0.1774}{s^3+0.739s^2+0.921s}$$ "
     ]
    },
    {
     "cell_type": "markdown",
     "metadata": {},
     "source": [
      "where the input is elevator deflection angle $\\delta$ and the output is the aircraft pitch angle $\\theta$.\n",
      "\n",
      "For the original problem setup and the derivation of the above transfer function please refer to the Aircraft Pitch: System Modeling page\n",
      "\n",
      "For a step reference of 0.2 radians, the design criteria are the following.\n",
      "\n",
      "- Overshoot less than 10%\n",
      "- Rise time less than 2 seconds\n",
      "- Settling time less than 10 seconds\n",
      "- Steady-state error less than 2%\n",
      "\n",
      "<h2 id = olr>**Open-loop response**</h2>"
     ]
    },
    {
     "cell_type": "markdown",
     "metadata": {},
     "source": [
      "Let's first begin by examining the behavior of the open-loop plant. Specifically, create a new m-file, and enter the following commands. Note the scaling of the step response by 0.2 to account for the fact that the input is a step of 0.2 radians (11 degrees). Running this m-file in the MATLAB command window should give you the step response plot shown below."
     ]
    },
    {
     "cell_type": "code",
     "collapsed": false,
     "input": [
      "%load_ext pymatbridge"
     ],
     "language": "python",
     "metadata": {},
     "outputs": [
      {
       "output_type": "stream",
       "stream": "stdout",
       "text": [
        "Starting MATLAB on ZMQ socket ipc:///tmp/pymatbridge\n",
        "Send 'exit' command to kill the server\n",
        "."
       ]
      },
      {
       "output_type": "stream",
       "stream": "stdout",
       "text": [
        "."
       ]
      },
      {
       "output_type": "stream",
       "stream": "stdout",
       "text": [
        "."
       ]
      },
      {
       "output_type": "stream",
       "stream": "stdout",
       "text": [
        "."
       ]
      },
      {
       "output_type": "stream",
       "stream": "stdout",
       "text": [
        "."
       ]
      },
      {
       "output_type": "stream",
       "stream": "stdout",
       "text": [
        "."
       ]
      },
      {
       "output_type": "stream",
       "stream": "stdout",
       "text": [
        "."
       ]
      },
      {
       "output_type": "stream",
       "stream": "stdout",
       "text": [
        "."
       ]
      },
      {
       "output_type": "stream",
       "stream": "stdout",
       "text": [
        "."
       ]
      },
      {
       "output_type": "stream",
       "stream": "stdout",
       "text": [
        "."
       ]
      },
      {
       "output_type": "stream",
       "stream": "stdout",
       "text": [
        "."
       ]
      },
      {
       "output_type": "stream",
       "stream": "stdout",
       "text": [
        "."
       ]
      },
      {
       "output_type": "stream",
       "stream": "stdout",
       "text": [
        "."
       ]
      },
      {
       "output_type": "stream",
       "stream": "stdout",
       "text": [
        "."
       ]
      },
      {
       "output_type": "stream",
       "stream": "stdout",
       "text": [
        "."
       ]
      },
      {
       "output_type": "stream",
       "stream": "stdout",
       "text": [
        "."
       ]
      },
      {
       "output_type": "stream",
       "stream": "stdout",
       "text": [
        "MATLAB started and connected!\n"
       ]
      }
     ],
     "prompt_number": 22
    },
    {
     "cell_type": "code",
     "collapsed": false,
     "input": [
      "%%capture\n",
      "%%matlab \n",
      "\n",
      "f = figure;\n",
      "t = [0:0.01:10];\n",
      "s = tf('s');\n",
      "P_pitch = (1.151*s + 0.1774)/(s^3 + 0.739*s^2 + 0.921*s);\n",
      "step(0.2*P_pitch,t);\n",
      "axis([0 10 0 0.8]);\n",
      "ylabel('pitch angle (rad)');\n",
      "title('Open-loop Step Response');\n",
      "grid\n",
      "\n",
      "\n",
      "%%%%%%%%%%%%%%%%%%%\n",
      "%     PLOTLY      % \n",
      "%%%%%%%%%%%%%%%%%%%\n",
      "\n",
      "fig2plotly(f);\n"
     ],
     "language": "python",
     "metadata": {},
     "outputs": [],
     "prompt_number": 24
    },
    {
     "cell_type": "code",
     "collapsed": false,
     "input": [
      "show_plot('https://plot.ly/~UMichiganControl/0/')"
     ],
     "language": "python",
     "metadata": {},
     "outputs": [
      {
       "html": [
        "<center><iframe height=\"500\" id=\"igraph\" scrolling=\"no\" frameborder = 0 seamless=\"seamless\" src=\"https://plot.ly/~UMichiganControl/0//700/500\" width=\"700\"></iframe></center>"
       ],
       "metadata": {},
       "output_type": "pyout",
       "prompt_number": 55,
       "text": [
        "<IPython.core.display.HTML at 0x106b0ced0>"
       ]
      }
     ],
     "prompt_number": 55
    },
    {
     "cell_type": "markdown",
     "metadata": {},
     "source": [
      "Examination of the above plot indicates that the open-loop system is unstable for a step input, that is, its output grows unbounded when given a step input. This is due to the fact that the transfer function has a pole at the origin.\n",
      "\n",
      "<br>"
     ]
    },
    {
     "cell_type": "markdown",
     "metadata": {},
     "source": [
      "<h2 id=clr>**Closed-loop response**</h2>\n",
      "\n",
      "Let's now close the loop on our plant and see if that stabilizes the system. Consider the following unity feedback architecture for our system."
     ]
    },
    {
     "cell_type": "markdown",
     "metadata": {},
     "source": [
      "<img src=\"http://ctms.engin.umich.edu/CTMS/Content/AircraftPitch/Control/Frequency/figures/feedback_pitch2.png\">"
     ]
    },
    {
     "cell_type": "markdown",
     "metadata": {},
     "source": [
      "The following code entered in the MATLAB command window generates the closed-loop transfer function assuming the unity-feedback architecture above and a unity-gain controller, C(s) = 1."
     ]
    },
    {
     "cell_type": "code",
     "collapsed": false,
     "input": [
      "%%matlab\n",
      "sys_cl = feedback(P_pitch,1)\n"
     ],
     "language": "python",
     "metadata": {},
     "outputs": [
      {
       "metadata": {},
       "output_type": "display_data",
       "text": [
        " \n",
        "Transfer function:\n",
        "         1.151 s + 0.1774\n",
        "----------------------------------\n",
        "s^3 + 0.739 s^2 + 2.072 s + 0.1774\n",
        " \n"
       ]
      }
     ],
     "prompt_number": 25
    },
    {
     "cell_type": "markdown",
     "metadata": {},
     "source": [
      "Examining the poles of this transfer function using the pole command as shown below, it can be seen that this closed-loop system is indeed stable since all of the poles have negative real part.\n",
      "\n"
     ]
    },
    {
     "cell_type": "code",
     "collapsed": false,
     "input": [
      "%%matlab \n",
      "pole(sys_cl)"
     ],
     "language": "python",
     "metadata": {},
     "outputs": [
      {
       "metadata": {},
       "output_type": "display_data",
       "text": [
        "\n",
        "ans =\n",
        "\n",
        "  -0.3255 + 1.3816i\n",
        "  -0.3255 - 1.3816i\n",
        "  -0.0881          \n",
        "\n"
       ]
      }
     ],
     "prompt_number": 33
    },
    {
     "cell_type": "markdown",
     "metadata": {},
     "source": [
      "Stability of this closed-loop system can also be determined using the frequency response of the open-loop system. The margin command generates the Bode plot for the given transfer function with annotations for the gain margin and phase margin of the system when the loop is closed as demonstrated below."
     ]
    },
    {
     "cell_type": "code",
     "collapsed": false,
     "input": [
      "%%capture \n",
      "%%matlab\n",
      "\n",
      "f = figure; \n",
      "margin(P_pitch)\n",
      "grid\n",
      "\n",
      "%%%%%%%%%%%%%%%%%%%\n",
      "%     PLOTLY      % \n",
      "%%%%%%%%%%%%%%%%%%%\n",
      "\n",
      "fig2plotly(f);"
     ],
     "language": "python",
     "metadata": {},
     "outputs": [],
     "prompt_number": 34
    },
    {
     "cell_type": "code",
     "collapsed": false,
     "input": [
      "show_plot('https://plot.ly/~UMichiganControl/1/')"
     ],
     "language": "python",
     "metadata": {},
     "outputs": [
      {
       "html": [
        "<center><iframe height=\"500\" id=\"igraph\" scrolling=\"no\" frameborder = 0 seamless=\"seamless\" src=\"https://plot.ly/~UMichiganControl/1//700/500\" width=\"700\"></iframe></center>"
       ],
       "metadata": {},
       "output_type": "pyout",
       "prompt_number": 54,
       "text": [
        "<IPython.core.display.HTML at 0x106b0cc10>"
       ]
      }
     ],
     "prompt_number": 54
    },
    {
     "cell_type": "markdown",
     "metadata": {},
     "source": [
      "Examination of the above demonstrates that the closed-loop system is indeed stable since the phase margin and gain margin are both positive. Specifically, the phase margin equals 46.9 degrees and the gain margin is infinite. It is good that this closed-loop system is stable, but does it meet our requirements? Add the following code to your m-file and re-run and you will generate the step response plot shown below.\n"
     ]
    },
    {
     "cell_type": "code",
     "collapsed": false,
     "input": [
      "%%capture\n",
      "%%matlab \n",
      "\n",
      "f = figure; \n",
      "sys_cl = feedback(P_pitch,1);\n",
      "step(0.2*sys_cl), grid\n",
      "ylabel('pitch angle (rad)');\n",
      "title('Closed-loop Step Response')\n",
      "\n",
      "%%%%%%%%%%%%%%%%%%%\n",
      "%     PLOTLY      % \n",
      "%%%%%%%%%%%%%%%%%%%\n",
      "\n",
      "fig2plotly(f);"
     ],
     "language": "python",
     "metadata": {},
     "outputs": [],
     "prompt_number": 13
    },
    {
     "cell_type": "code",
     "collapsed": false,
     "input": [
      "show_plot('https://plot.ly/~UMichiganControl/2/')"
     ],
     "language": "python",
     "metadata": {},
     "outputs": [
      {
       "html": [
        "<center><iframe height=\"500\" id=\"igraph\" scrolling=\"no\" frameborder = 0 seamless=\"seamless\" src=\"https://plot.ly/~UMichiganControl/2//700/500\" width=\"700\"></iframe></center>"
       ],
       "metadata": {},
       "output_type": "pyout",
       "prompt_number": 53,
       "text": [
        "<IPython.core.display.HTML at 0x106b0cb50>"
       ]
      }
     ],
     "prompt_number": 53
    },
    {
     "cell_type": "markdown",
     "metadata": {},
     "source": [
      "Examination of the above demonstrates that the settle time requirement of 10 seconds is not close to being met. One way to address this is to make the system response faster, but then the overshoot shown above will likely become a problem. Therefore, the overshoot must be reduced in conjunction with making the system response faster. We can accomplish these goals by adding a compensator to reshape the Bode plot of the open-loop system. The Bode plot of the open-loop system indicates behavior of the closed-loop system. More specifically,\n",
      "\n",
      "- the gain crossover frequency is directly related to the closed-loop system's speed of response, and\n",
      "\n",
      "- the phase margin is inversely related to the closed-loop system's overshoot.\n",
      "\n",
      "the gain crossover frequency is directly related to the closed-loop system's speed of response, and\n",
      "the phase margin is inversely related to the closed-loop system's overshoot.\n",
      "Therefore, we need to add a compensator that will increase the gain crossover frequency and increase the phase margin as indicated in the Bode plot of the open-loop system.\n",
      "\n",
      "<br>\n"
     ]
    },
    {
     "cell_type": "markdown",
     "metadata": {},
     "source": [
      "<h2 id = \"lc\"> **Lead compensator**</h2>\n",
      "\n",
      "A type of compensator that can accomplish both of our goals is a lead compensator. Referring to the Lead and Lag Compensators page, a lead compensator adds positive phase to the system. Additional positive phase increases the phase margin, thus, increasing the damping. The lead compensator also generally increases the magnitude of the open-loop frequency response at higher frequencies, thereby, increasing the gain crossover frequency and overall speed of the system. Therefore, the settling time should decrease as a result of the addition of a lead compensator. The general form of the transfer function of a lead compensator is the following."
     ]
    },
    {
     "cell_type": "markdown",
     "metadata": {},
     "source": [
      "<span class=\"eqn_num\">(2)</span>$$ C(s)=K \\frac{Ts + 1}{\\alpha Ts+1} \\ \\ \\ (\\alpha < 1) $$"
     ]
    },
    {
     "cell_type": "markdown",
     "metadata": {},
     "source": [
      "We thus need to find $\\alpha$, T and K. Typically, the gain K is set to satisfy requirements on steady-state error. Since our system is already type 1 (the plant has an integrator) the steady-state error for a step input will be zero for any value of K. Even though the steady-state error is zero, the slow tail on the response can be attributed to the fact the velocity-error constant is too small. This deficiency can be addressed by employing a value of K that is greater than 1, in other words, a value of K that will shift the magnitude plot upward. Through some trial and error, we will somewhat arbitrarily choose K = 10. Running the following code in the MATLAB window will demonstrate the effect of adding this K.\n",
      "\n"
     ]
    },
    {
     "cell_type": "code",
     "collapsed": false,
     "input": [
      "%%capture\n",
      "%%matlab \n",
      "\n",
      "f = figure;\n",
      "K = 10;\n",
      "margin(K*P_pitch), grid\n",
      "sys_cl = feedback(K*P_pitch,1);\n",
      "step(0.2*sys_cl), grid\n",
      "title('Closed-loop Step Response with K = 10')\n",
      "\n",
      "%%%%%%%%%%%%%%%%%%%\n",
      "%     PLOTLY      % \n",
      "%%%%%%%%%%%%%%%%%%%\n",
      "\n",
      "fig2plotly(f);"
     ],
     "language": "python",
     "metadata": {},
     "outputs": [],
     "prompt_number": 42
    },
    {
     "cell_type": "code",
     "collapsed": false,
     "input": [
      "show_plot('https://plot.ly/~UMichiganControl/3/')"
     ],
     "language": "python",
     "metadata": {},
     "outputs": [
      {
       "html": [
        "<center><iframe height=\"500\" id=\"igraph\" scrolling=\"no\" frameborder = 0 seamless=\"seamless\" src=\"https://plot.ly/~UMichiganControl/3//700/500\" width=\"700\"></iframe></center>"
       ],
       "metadata": {},
       "output_type": "pyout",
       "prompt_number": 52,
       "text": [
        "<IPython.core.display.HTML at 0x106b0cf90>"
       ]
      }
     ],
     "prompt_number": 52
    },
    {
     "cell_type": "code",
     "collapsed": false,
     "input": [
      "show_plot('https://plot.ly/~UMichiganControl/4/')"
     ],
     "language": "python",
     "metadata": {},
     "outputs": [
      {
       "html": [
        "<center><iframe height=\"500\" id=\"igraph\" scrolling=\"no\" frameborder = 0 seamless=\"seamless\" src=\"https://plot.ly/~UMichiganControl/4//700/500\" width=\"700\"></iframe></center>"
       ],
       "metadata": {},
       "output_type": "pyout",
       "prompt_number": 51,
       "text": [
        "<IPython.core.display.HTML at 0x106b0c990>"
       ]
      }
     ],
     "prompt_number": 51
    },
    {
     "cell_type": "markdown",
     "metadata": {},
     "source": [
      "From examination of the above Bode plot, we have increased the system's magnitude at all frequencies and have pushed the gain crossover frequency higher. The effect of these changes are evident in the closed-loop step response shown above. Unfortunately, the addition of the K has also reduced the system's phase margin as evidenced by the increased overshoot in the system's step response. As mentioned previously, the lead compensator will help add damping to the system in order to reduce the overshoot in the step response.\n",
      "\n",
      "Continuing with the design of our compensator, we will next address the parameter $\\alpha$ which is defined as the ratio between the zero and pole. The larger the separation between the zero and the pole the greater the bump in phase where the maximum amount of phase that can be added with a single pole-zero pair is 90 degrees. The following equation captures the maximum phase added by a lead compensator as a function of $\\alpha$."
     ]
    },
    {
     "cell_type": "markdown",
     "metadata": {},
     "source": [
      "<span class=\"eqn_num\">(3)</span>$$ \\sin(\\phi_m)=\\frac{1 - \\alpha}{1 + \\alpha} $$"
     ]
    },
    {
     "cell_type": "markdown",
     "metadata": {},
     "source": [
      "Relationships between the time response and frequency response of a standard underdamped second-order system can be derived. One such relationship that is a good approximation for damping ratios less than approximately 0.6 or 0.7 is the following"
     ]
    },
    {
     "cell_type": "markdown",
     "metadata": {},
     "source": [
      "<span class=\"eqn_num\">(4)</span>$$ \\zeta \\approx \\frac{PM (degrees)}{100^{\\circ}} $$"
     ]
    },
    {
     "cell_type": "markdown",
     "metadata": {},
     "source": [
      "While our system does not have the form of a standard second-order system, we can use the above relationship as a starting point in our design. As we are required to have overshoot less than 10%, we need our damping ratio $\\zeta$ to be approximately larger than 0.59 and thus need a phase margin greater than about 59 degrees. Since our current phase margin (with the addition of K) is approximately 10.4 degrees, an additional 50 degrees of phase bump from the lead compensator should be sufficient. Since it is known that the lead compensator will further increase the magnitude of the frequency response, we will need to add more than 50 degrees of phase lead to account for the fact that the gain crossover frequency will increase to a point where the system has more phase lag. We will somewhat arbitrarily add 5 degrees and aim for a total bump in phase of 50+5 = 55 degrees.\n",
      "\n",
      "We can then use this number to solve the above relationship for $\\alpha$ as shown below."
     ]
    },
    {
     "cell_type": "markdown",
     "metadata": {},
     "source": [
      "<span class=\"eqn_num\">(5)</span>$$ \\alpha = \\frac{1 - \\sin(55^{\\circ})}{1 + \\sin(55^{\\circ})} \\approx 0.10 $$"
     ]
    },
    {
     "cell_type": "markdown",
     "metadata": {},
     "source": [
      "From the above, we can calculate that $\\alpha$ must be less than approximately 0.10. For this value of $\\alpha$, the following relationship can be used to determine the amount of magnitude increase that will be supplied by the lead compensator at the location of the maximum bump in phase.\n",
      "\n"
     ]
    },
    {
     "cell_type": "markdown",
     "metadata": {},
     "source": [
      "<span class=\"eqn_num\">(6)</span>$$ 20 \\log \\left( \\frac{1}{\\sqrt{\\alpha}} \\right) \\approx 20 \\log \\left( \\frac{1}{\\sqrt{0.10}} \\right) \\approx 10 dB $$"
     ]
    },
    {
     "cell_type": "markdown",
     "metadata": {},
     "source": [
      "Examining the Bode plot shown above, the magnitude of the uncompensated system equals -10 dB at approximately 6.1 rad/sec. Therefore, the addition of our lead compensator will move the gain crossover frequency from 3.49 rad/sec to approximately 6.1 rad/sec. Using this information, we can then calculate a value of T from the following in order to center the maximum bump in phase at the new gain crossover frequency in order to maximize the system's resulting phase margin."
     ]
    },
    {
     "cell_type": "markdown",
     "metadata": {},
     "source": [
      "<span class=\"eqn_num\">(7)</span>$$ \\omega_m = \\frac{1}{T \\sqrt{\\alpha}} \\Rightarrow T = \\frac{1}{6.1\\sqrt{.10}} \\approx 0.52 $$"
     ]
    },
    {
     "cell_type": "markdown",
     "metadata": {},
     "source": [
      "With the values K = 10, $\\alpha$ = 0.10, and T = 0.52 calculated above, we now have a first attempt at our lead compensator. Adding the following lines to your m-file and running at the command line will generate the plot shown below demonstrating the effect of your lead compensator on the system's frequency response.\n",
      "\n"
     ]
    },
    {
     "cell_type": "code",
     "collapsed": false,
     "input": [
      "%%capture\n",
      "%%matlab \n",
      "\n",
      "f = figure;\n",
      "K = 10;\n",
      "alpha = 0.10; \n",
      "T = 0.52;\n",
      "C_lead = K*(T*s + 1) / (alpha*T*s + 1);\n",
      "margin(C_lead*P_pitch), grid\n",
      "\n",
      "%%%%%%%%%%%%%%%%%%%\n",
      "%     PLOTLY      % \n",
      "%%%%%%%%%%%%%%%%%%%\n",
      "\n",
      "fig2plotly(f);"
     ],
     "language": "python",
     "metadata": {},
     "outputs": [],
     "prompt_number": 61
    },
    {
     "cell_type": "code",
     "collapsed": false,
     "input": [
      "show_plot('https://plot.ly/~UMichiganControl/5/')"
     ],
     "language": "python",
     "metadata": {},
     "outputs": [
      {
       "html": [
        "<center><iframe height=\"500\" id=\"igraph\" scrolling=\"no\" frameborder = 0 seamless=\"seamless\" src=\"https://plot.ly/~UMichiganControl/5//700/500\" width=\"700\"></iframe></center>"
       ],
       "metadata": {},
       "output_type": "pyout",
       "prompt_number": 50,
       "text": [
        "<IPython.core.display.HTML at 0x106b0c610>"
       ]
      }
     ],
     "prompt_number": 50
    },
    {
     "cell_type": "markdown",
     "metadata": {},
     "source": [
      "Examination of the above demonstrates that the lead compensator increased the system's phase margin and gain crossover frequency as desired. We now need to look at the actual closed-loop step response in order to determine if we are close to meeting our requirements. Replace the step response code in your m-file with the following and re-run in the MATLAB command window."
     ]
    },
    {
     "cell_type": "code",
     "collapsed": false,
     "input": [
      "%%capture\n",
      "%%matlab \n",
      "\n",
      "f = figure; \n",
      "sys_cl = feedback(C_lead*P_pitch,1);\n",
      "step(0.2*sys_cl), grid\n",
      "title('Closed-loop Step Response with K = 10, alpha = 0.10, and T = 0.52')\n",
      "\n",
      "%%%%%%%%%%%%%%%%%%%\n",
      "%     PLOTLY      % \n",
      "%%%%%%%%%%%%%%%%%%%\n",
      "\n",
      "fig2plotly(f);"
     ],
     "language": "python",
     "metadata": {},
     "outputs": [],
     "prompt_number": 64
    },
    {
     "cell_type": "code",
     "collapsed": false,
     "input": [
      "show_plot('https://plot.ly/~UMichiganControl/6/')"
     ],
     "language": "python",
     "metadata": {},
     "outputs": [
      {
       "html": [
        "<center><iframe height=\"500\" id=\"igraph\" scrolling=\"no\" frameborder = 0 seamless=\"seamless\" src=\"https://plot.ly/~UMichiganControl/6//700/500\" width=\"700\"></iframe></center>"
       ],
       "metadata": {},
       "output_type": "pyout",
       "prompt_number": 71,
       "text": [
        "<IPython.core.display.HTML at 0x10676ffd0>"
       ]
      }
     ],
     "prompt_number": 71
    },
    {
     "cell_type": "markdown",
     "metadata": {},
     "source": [
      "Examination of the above demonstrates that we are close to meeting our requirements. Using the MATLAB command stepinfo as shown below we can see precisely the characteristics of the closed-loop step response.\n",
      "\n"
     ]
    },
    {
     "cell_type": "code",
     "collapsed": false,
     "input": [
      "%%matlab \n",
      "\n",
      "stepinfo(0.2*sys_cl)\n"
     ],
     "language": "python",
     "metadata": {},
     "outputs": [
      {
       "metadata": {},
       "output_type": "display_data",
       "text": [
        "\n",
        "ans = \n",
        "\n",
        "        RiseTime: 1.7479\n",
        "    SettlingTime: 35.0902\n",
        "     SettlingMin: 0.1156\n",
        "     SettlingMax: 0.1999\n",
        "       Overshoot: 0\n",
        "      Undershoot: 0\n",
        "            Peak: 0.1999\n",
        "        PeakTime: 75.0320\n",
        "\n"
       ]
      }
     ],
     "prompt_number": 80
    },
    {
     "cell_type": "markdown",
     "metadata": {},
     "source": [
      "From the above, all of our requirements are met except for the overshoot which is a bit larger than the requirement of 10%. Iterating on the above design process, we arrive at the parameters K = 10, $\\alpha$ = 0.04, and T = 0.55. The performance achieved with this controller can then be verified by modifying the code in your m-file as follows.\n",
      "\n"
     ]
    },
    {
     "cell_type": "code",
     "collapsed": false,
     "input": [
      "%%capture \n",
      "%%matlab \n",
      "\n",
      "f = figure; \n",
      "K = 10;\n",
      "alpha = 0.04;\n",
      "T = 0.55;\n",
      "C_lead = K*(T*s + 1) / (alpha*T*s + 1);\n",
      "sys_cl = feedback(C_lead*P_pitch,1);\n",
      "step(0.2*sys_cl), grid\n",
      "title('Closed-loop Step Response with K = 10, alpha = 0.04, and T = 0.55')\n",
      "\n",
      "%%%%%%%%%%%%%%%%%%%\n",
      "%     PLOTLY      % \n",
      "%%%%%%%%%%%%%%%%%%%\n",
      "\n",
      "fig2plotly(f);\n"
     ],
     "language": "python",
     "metadata": {},
     "outputs": [],
     "prompt_number": 50
    },
    {
     "cell_type": "code",
     "collapsed": false,
     "input": [
      "show_plot('https://plot.ly/~UMichiganControl/7/')"
     ],
     "language": "python",
     "metadata": {},
     "outputs": [
      {
       "html": [
        "<center><iframe height=\"500\" id=\"igraph\" scrolling=\"no\" frameborder = 0 seamless=\"seamless\" src=\"https://plot.ly/~UMichiganControl/7//700/500\" width=\"700\"></iframe></center>"
       ],
       "metadata": {},
       "output_type": "pyout",
       "prompt_number": 66,
       "text": [
        "<IPython.core.display.HTML at 0x10676f7d0>"
       ]
      }
     ],
     "prompt_number": 66
    },
    {
     "cell_type": "markdown",
     "metadata": {},
     "source": [
      "Examination of the above step response demonstrates that the requirements are now met. Using the stepinfo command again more clearly demonstrates that the requirements are met."
     ]
    },
    {
     "cell_type": "code",
     "collapsed": false,
     "input": [
      "%%matlab \n",
      "\n",
      "stepinfo(0.2*sys_cl)"
     ],
     "language": "python",
     "metadata": {},
     "outputs": [
      {
       "metadata": {},
       "output_type": "display_data",
       "text": [
        "\n",
        "ans = \n",
        "\n",
        "        RiseTime: 1.7479\n",
        "    SettlingTime: 35.0902\n",
        "     SettlingMin: 0.1156\n",
        "     SettlingMax: 0.1999\n",
        "       Overshoot: 0\n",
        "      Undershoot: 0\n",
        "            Peak: 0.1999\n",
        "        PeakTime: 75.0320\n",
        "\n"
       ]
      }
     ],
     "prompt_number": 72
    },
    {
     "cell_type": "markdown",
     "metadata": {},
     "source": [
      "Therefore, the following lead compensator is able to satisfy all of our design requirements.\n",
      "\n"
     ]
    },
    {
     "cell_type": "markdown",
     "metadata": {},
     "source": [
      "<span class=\"eqn_num\">(8)</span>$$ C(s)=10 \\frac{0.55s + 1}{0.022s+1} $$"
     ]
    },
    {
     "cell_type": "code",
     "collapsed": false,
     "input": [
      "# CSS styling within IPython notebook\n",
      "from IPython.core.display import HTML\n",
      "def css_styling():\n",
      "    styles = open(\"./css/style_notebook_wash.css\", \"r\").read()\n",
      "    return HTML(styles)\n",
      "\n",
      "css_styling()"
     ],
     "language": "python",
     "metadata": {},
     "outputs": [
      {
       "html": [
        "<style>\n",
        "@font-face {\n",
        "  font-family: \"Computer Modern\";\n",
        "  src: url('http://9dbb143991406a7c655e-aa5fcb0a5a4ec34cff238a2d56ca4144.r56.cf5.rackcdn.com/cmunss.otf');\n",
        "}\n",
        "@font-face {\n",
        "  font-family: \"Computer Modern\";\n",
        "  font-weight: bold;\n",
        "  src: url('http://9dbb143991406a7c655e-aa5fcb0a5a4ec34cff238a2d56ca4144.r56.cf5.rackcdn.com/cmunsx.otf');\n",
        "}\n",
        "@font-face {\n",
        "  font-family: \"Computer Modern\";\n",
        "  font-style: oblique;\n",
        "  src: url('http://9dbb143991406a7c655e-aa5fcb0a5a4ec34cff238a2d56ca4144.r56.cf5.rackcdn.com/cmunsi.otf');\n",
        "}\n",
        "@font-face {    \n",
        "  font-family: \"Computer Modern\";\n",
        "  font-weight: bold;\n",
        "  font-style: oblique;\n",
        "  src: url('http://9dbb143991406a7c655e-aa5fcb0a5a4ec34cff238a2d56ca4144.r56.cf5.rackcdn.com/cmunso.otf');\n",
        "}\n",
        "div.cell{\n",
        "  width:1200px;\n",
        "  margin-left:auto !important;\n",
        "  margin-right:auto;\n",
        "}\n",
        "\n",
        "#top{\n",
        "  position: relative;\n",
        "  height: 85px;\n",
        "  background-image: url('Images/banner.png');\n",
        "  background-repeat: no-repeat;\n",
        "}\n",
        "\n",
        "div.text_cell_render{\n",
        " /* font-family: Computer Modern, \"Helvetica Neue\", Arial, Helvetica, Geneva, sans-serif; */\n",
        " color: #333333;\n",
        " /* font-family: \u2018Palatino Linotype\u2019, \u2018Book Antiqua\u2019, Palatino, serif; */\n",
        " /* font-family: \u2018Trebuchet MS\u2019, Helvetica, sans-serif; */\n",
        " font-family: \u2018Lucida Sans Unicode\u2019, \u2018Lucida Grande\u2019, sans-serif;\n",
        " line-height: 145%;\n",
        " font-size: 130%;\n",
        " width: 1200px; \n",
        "}\n",
        "code{\n",
        "  font-size: 40%;\n",
        "}\n",
        "ul{\n",
        "  margin: 2em;\n",
        "}\n",
        "ul li{\n",
        " padding-left: 0.5em;\n",
        " margin-bottom: 0.5em;\n",
        " margin-top: 0.5em;\n",
        " /*font-variant: small-caps;*/\n",
        "}\n",
        "\n",
        "a.nounderline:link{\n",
        " color: #1d3b84;\n",
        " font-weight: bold;\n",
        " text-decoration:none;\n",
        "}\n",
        "a.nounderlineblack:link{\n",
        " color: #333333;\n",
        " font-weight: bold;\n",
        " text-decoration:none;\n",
        "}\n",
        "a.nounderlineblack:visited{\n",
        " color: #333333;\n",
        " font-weight: bold;\n",
        " text-decoration:none;\n",
        "}\n",
        "a:link{\n",
        "  color: #447adb;\n",
        "\n",
        "co font-weight: bold;\n",
        " text-decoration:none;\n",
        "}\n",
        "a:visited{\n",
        " font-weight: bold;\n",
        " text-decoration: none;\n",
        "}\n",
        "a:hover{\n",
        " text-decoration: none;\n",
        " font-weight: bold;\n",
        "}\n",
        "a:focus{\n",
        " text-decoration: none;\n",
        " font-weight: bold;\n",
        "}\n",
        "a:active{\n",
        " text-decoration: none;\n",
        " font-weight: bold;\n",
        "}\n",
        ".CodeMirror{ \n",
        "  background-color: white; \n",
        "  border-bottom: 10; \n",
        "  font-family: \"Source Code Pro\", source-code-pro,Consolas, monospace;\n",
        "}\n",
        ".prompt{\n",
        "  display: None;\n",
        "}\n",
        "h5 {\n",
        "  font-family: 'Open sans',verdana,arial,sans-serif;\n",
        "}\n",
        "\n",
        "   \n",
        "\n",
        ".text_cell_render h1 { padding: 15px 0px 15px 0px; margin: 5px 0px 5px 0px; font-size:1.4em; color:#D55000; line-height:1.5em; font-weight:bold; border-bottom:1px solid #d6d4d4; text-align:left;}\n",
        ".text_cell_render h2 { padding: 5px 0px; margin:25px 0px 10px; font-size:1.2em; color:#000; font-weight:bold; line-height:140%; border-bottom:1px solid #d6d4d4; display:block; text-align:left; }\n",
        "\n",
        ".text_cell_render h3 { padding: 0px; margin:0px 0px 5px; font-size:1.1em; color:#000; font-weight:bold; line-height:140%; text-align:left; }\n",
        "\n",
        ".text_cell_render a { color:#005fce; text-decoration:none; }\n",
        ".text_cell_render a:hover { color:#005fce; text-decoration:underline; }\n",
        ".text_cell_render a:visited { color:#004aa0; text-decoration:none; }\n",
        "\n",
        ".text_cell_render p { padding:0px; margin:0px 0px 10px; clear: both;}\n",
        "\n",
        ".text_cell_render ul { padding:0px; margin:0px 0px 20px 23px; list-style:square; }\n",
        ".text_cell_render ul li { padding:0px; margin:0px 0px 2px 0px; }\n",
        ".text_cell_render ul li ul { padding:5px 0px 0px; margin:0px 0px 7px 23px; }\n",
        ".text_cell_render ul li ol li { list-style:decimal; }\n",
        ".text_cell_render ol { padding:0px; margin:0px 0px 20px 0px; list-style:decimal; }\n",
        ".text_cell_render ol li { padding:0px; margin:0px 0px 7px 23px; list-style-type:decimal; }\n",
        ".text_cell_render ol li ol { padding:5px 0px 0px; margin:0px 0px 7px 0px; }\n",
        ".text_cell_render ol li ol li { list-style-type:lower-alpha; }\n",
        ".text_cell_render ol li ul { padding-top:7px; }\n",
        ".text_cell_render ol li ul li { list-style:square; }\n",
        "\n",
        ".text_cell_render  .eqn_num{\n",
        "  float: right;\n",
        "}\n",
        "\n",
        ".text_cell_render h4{\n",
        "  color: #333333;\n",
        "  font-family: \u2018Lucida Console\u2019, Monaco, monospace;\n",
        "  margin-top:15px;\n",
        "  margin-bottom: 3px;\n",
        "  font-size: 10pt; \n",
        "}\n",
        "\n",
        ".text_cell_render h5 {\n",
        "  font-weight: 300;\n",
        "  font-style: normal;\n",
        "  color:#003366; \n",
        "  font-size: 25pt;\n",
        "  margin-bottom: 0em;\n",
        "  margin-top: 1.5em;\n",
        "  display: inline;\n",
        "  white-space: nowrap;\n",
        "}\n",
        "\n",
        ".text_cell_render h6 {\n",
        "  font-weight: 0;\n",
        "  font-style: normal;\n",
        "  color:#003366; \n",
        "  font-size: 16pt;\n",
        "  margin-bottom: 0em;\n",
        "  margin-top: 1.5em;\n",
        "  display: inline;\n",
        "  white-space: nowrap;\n",
        "}\n",
        "\n",
        "\n",
        "\n",
        ".warning{\n",
        "  color: rgb( 240, 20, 20 )\n",
        "}\n",
        "blockquote{\n",
        "  display:block;\n",
        "  background: #FFFFFF;\n",
        "  border-left: 2px dashed #1d3b84;\n",
        "  border-right: 2px dashed #1d3b84;\n",
        "  font-family: 'Open sans',verdana,arial,sans-serif;\n",
        "  padding: 25px 25px 25px 25px;\n",
        "  text-align:justify;\n",
        "  text-justify:inter-word;\n",
        "  width:auto;\n",
        "  display:table\n",
        "}\n",
        "\n",
        "blockquote p {\n",
        "  margin-bottom: 0;\n",
        "  line-height: 125%;\n",
        "  font-size: 100%;\n",
        "}\n",
        "\n",
        ".image-line {\n",
        "   margin-left: 170px;\n",
        "}\n",
        ".image-cell {\n",
        "   width: 100px;\n",
        "   margin: 10px;\n",
        "   float: left;\n",
        "}\n",
        ".image-clear {\n",
        "   clear: both;\n",
        "}\n",
        "\n",
        "\n",
        "</style>\n",
        "\n",
        "<script>\n",
        "MathJax.Hub.Config({\n",
        "  TeX: {\n",
        "   extensions: [\"AMSmath.js\"]\n",
        "   },\n",
        "   tex2jax: {\n",
        "    inlineMath: [ ['$','$'], [\"\\\\(\",\"\\\\)\"] ],\n",
        "    displayMath: [ ['$$','$$'], [\"\\\\[\",\"\\\\]\"] ]\n",
        "    },\n",
        "    displayAlign: 'center', // Change this to 'center' to center equations.\n",
        "    \"HTML-CSS\": {\n",
        "      styles: {'.MathJax_Display': {\"margin\": 4}}\n",
        "    }\n",
        "    });\n",
        "\n",
        "</script>\n"
       ],
       "metadata": {},
       "output_type": "pyout",
       "prompt_number": 70,
       "text": [
        "<IPython.core.display.HTML at 0x1065597d0>"
       ]
      }
     ],
     "prompt_number": 70
    },
    {
     "cell_type": "code",
     "collapsed": false,
     "input": [
      "from IPython.display import HTML\n",
      "\n",
      "def show_plot(url, width=700, height=500):\n",
      "    s = '<center><iframe height=\"%s\" id=\"igraph\" scrolling=\"no\" frameborder = 0 seamless=\"seamless\" src=\"%s\" width=\"%s\"></iframe></center>' %\\\n",
      "    (height, \"/\".join(map(str,[url, width, height])), width)\n",
      "    return HTML(s)"
     ],
     "language": "python",
     "metadata": {},
     "outputs": [],
     "prompt_number": 67
    }
   ],
   "metadata": {}
  }
 ]
}