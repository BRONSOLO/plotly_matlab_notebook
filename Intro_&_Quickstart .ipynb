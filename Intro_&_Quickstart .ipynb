{
 "metadata": {
  "name": "",
  "signature": "sha256:bace3264903e8eb7bef94f323da20165a6fca9d5b11b6614f567ddaa745f5439"
 },
 "nbformat": 3,
 "nbformat_minor": 0,
 "worksheets": [
  {
   "cells": [
    {
     "cell_type": "markdown",
     "metadata": {},
     "source": [
      "<center>\n",
      "<img src=\"files/images/p2mfont.png\" style=\"width: 300px; height: 150px; margin-left: auto;margin-right: auto\"; alt=\"\">\n",
      "</center> \n"
     ]
    },
    {
     "cell_type": "markdown",
     "metadata": {},
     "source": [
      "[INTRODUCTION TO PLOTLY'S MATLAB API]\n",
      "=="
     ]
    },
    {
     "cell_type": "markdown",
     "metadata": {},
     "source": [
      "Not familliar with Plotly? Plotly allows for easy sculpting, streaming, storing and sharing of all your scientific data! These notebooks are intended to be used as a quick and easy guide to the world of beautiful and informative plot generation viz-a-viz the all powerful Plotly Matlab API! Choose the plot type you want to make and copy the code to make your own. We would love to hear from you with any feedback! Drop us a line at: matlabapi[at]plot.ly or leave your question in the FAQ section found below. "
     ]
    },
    {
     "cell_type": "heading",
     "level": 2,
     "metadata": {},
     "source": [
      "[CHOOSE A PLOT TYPE]"
     ]
    },
    {
     "cell_type": "markdown",
     "metadata": {},
     "source": [
      "<ul>\n",
      "<li>SCATTER AND LINE</li>\n",
      "<li>BAR CHART</li>\n",
      "<li>HISTORGRAM<ul><li>1D</li><li>2D</li></ul></li>\n",
      "<li>BOX PLOTS</li>\n",
      "<li>HEATMAPS</li>\n",
      "<li>BUBBLE </li>\n",
      "<li>BAR CHART</li>\n",
      "</ul>"
     ]
    },
    {
     "cell_type": "code",
     "collapsed": false,
     "input": [],
     "language": "python",
     "metadata": {},
     "outputs": []
    }
   ],
   "metadata": {}
  }
 ]
}