{
 "metadata": {
  "name": "",
  "signature": "sha256:422f8afb870c000ddce9880735656ae563a6d2582bc64368b1f6e9bb0b5016e4"
 },
 "nbformat": 3,
 "nbformat_minor": 0,
 "worksheets": [
  {
   "cells": [
    {
     "cell_type": "code",
     "collapsed": false,
     "input": [],
     "language": "python",
     "metadata": {},
     "outputs": []
    }
   ],
   "metadata": {}
  }
 ]
}