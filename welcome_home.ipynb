{
 "metadata": {
  "name": "",
  "signature": "sha256:3e294a28e74c64bb7feac19a84b19dd2a628928a0ceb18eebe3858532537bb8c"
 },
 "nbformat": 3,
 "nbformat_minor": 0,
 "worksheets": [
  {
   "cells": [
    {
     "cell_type": "markdown",
     "metadata": {},
     "source": [
      "<center>\n",
      "<img src=\"files/images/pmat.png\" style=\"width: 400px; height: 200px; margin-left: 25%;margin-right: auto\"; alt=\"\">\n",
      "</center> \n"
     ]
    },
    {
     "cell_type": "markdown",
     "metadata": {},
     "source": [
      "<h1>MATLAB API USER GUIDE</h1>"
     ]
    },
    {
     "cell_type": "markdown",
     "metadata": {},
     "source": [
      "<br>\n",
      "<center>\n",
      "<h6>Analyze and visualize data, together.</h6>\n",
      "</center>\n",
      "\n",
      "> \"Here at **Plotly**, we are on a mission to build a platform where data scientists can **analyze data, create beautiful graphs** and **collaborate**: like a GitHub for data, where you can share and find plots, data, and code.\" <font size=\"2pt\">- Matt Sundquist Plotly's Co-Founder.</font>\n",
      "\n",
      "\n",
      "<br>\n",
      "<br>\n",
      "<br>"
     ]
    },
    {
     "cell_type": "markdown",
     "metadata": {},
     "source": [
      "<h5>New to Plotly?</h5>\n",
      "<br>"
     ]
    },
    {
     "cell_type": "markdown",
     "metadata": {},
     "source": [
      "Plotly is a **browser-based** data analysis and visualization tool that creates **interactive**, **customizable**, **publication quality figures**. This API allows MATLAB users to generate **Plotly** graphs from their desktop **MATLAB** environment. All graphs can be styled and shared through Plotly's interactive web application.\n",
      "<br>\n",
      "<br>"
     ]
    },
    {
     "cell_type": "markdown",
     "metadata": {},
     "source": [
      "<h5>Plotly MATLAB API Workflow:</h5>\n",
      "<br>"
     ]
    },
    {
     "cell_type": "markdown",
     "metadata": {},
     "source": [
      "- Collect or generate some data in your MATLAB environment\n",
      "- Send data to your Plotly account through this Plotly MATLAB API\n",
      "- View interactive graph in your browser\n",
      "- Style graph in the Plotly GUI\n",
      "- Share graph by URL shortlinks, Facebook, or Twitter\n",
      "- Export to PNG, PDF, EPS, SVG\n",
      "<br>\n",
      "<br>"
     ]
    },
    {
     "cell_type": "markdown",
     "metadata": {},
     "source": [
      "<h5>Plotly MATLAB API Updates:</h5>"
     ]
    },
    {
     "cell_type": "markdown",
     "metadata": {},
     "source": [
      "- <font color=red>**\\*NEW\\***</font> Plot your MATLAB figure objects with Plotly using **fig2plotly.m**\n",
      "- <font color=red>**\\*NEW\\***</font> Get data, style, and layout from the plots stored online  **getplotlyfig.m**\n",
      "- <font color=red>**\\*NEW\\***</font> Save your Plotly figures as an image in MATLAB using **saveplotlyfig.m**\n",
      "\n",
      "<br>\n"
     ]
    },
    {
     "cell_type": "markdown",
     "metadata": {},
     "source": [
      "<h5>Why a User Guide?</h5>"
     ]
    },
    {
     "cell_type": "markdown",
     "metadata": {},
     "source": [
      "This User Guide is designed to provide a **documentation** of The Plotly MATLAB API functionality. Whereas the documentation provided <a href=\"https://plot.ly/MATLAB/\" class = \"nounderline\">ONLINE</a> serves as a nice reference for begginner/intermediate users, these notebooks provide a richer learning experience, enabling beginer/intermediate users to quickly become Plotly Gurus! \n",
      "\n",
      "<br>   \n"
     ]
    },
    {
     "cell_type": "markdown",
     "metadata": {},
     "source": [
      "<h5>Getting Intimate with the User Guide:</h5>\n",
      "\n",
      "These user guide notebooks are inteded to be read online and are rendered using the <a href = \"http://nbviewer.ipython.org/\" class=\"nounderline\">nbviewer</a> website. However, if you want to get your hands dirty and use these notebooks more interactively, the source code lives <a href = \"https://github.com/BRONSOLO\" class = \"nounderline\">HERE </a> on github. Feel free to download the code or cloan the repository to your local machine!   \n",
      "\n",
      "<br>\n",
      "<br>"
     ]
    },
    {
     "cell_type": "markdown",
     "metadata": {},
     "source": [
      "<hr size = \"5px\">\n",
      "<center><h1 id=\"toc\">TABLE OF CONTENTS</h1></center>\n",
      "<hr size = \"5px\">"
     ]
    },
    {
     "cell_type": "markdown",
     "metadata": {},
     "source": [
      "Found below is a list of the various plot types handled by Plotly, covering many standard data representations. Please <a href=\"#contact\" class = \"nounderline\">LET US KNOW</a> if there are any plot types not covered that you want us to handle! We are constantly updating and expanding to new plot types."
     ]
    },
    {
     "cell_type": "markdown",
     "metadata": {},
     "source": [
      "**[0] &nbsp; &nbsp;&nbsp;&nbsp;&nbsp;&nbsp;** <a href=\"./getting_started.ipynb\" class=\"nounderline\"> GETTING STARTED / API DOCUMENTATION</a> <br>\n",
      "**[1] &nbsp; &nbsp;&nbsp;&nbsp;&nbsp;&nbsp;** <a href=\"./overview.ipynb\" class=\"nounderline\"> OVERVIEW</a> <br>\n",
      "**[2] &nbsp; &nbsp;&nbsp;&nbsp;&nbsp;&nbsp;**<a href=\"./00_Scatter_%26_Line_Plots.ipynb\" class=\"nounderline\"> LINE AND SCATTER PLOTS </a> <br>\n",
      " **[3] &nbsp; &nbsp;&nbsp;&nbsp;&nbsp;&nbsp;**<a href=\"#ex\" class=\"nounderline\"> BAR CHARTS </a> (coming soon)  <br>\n",
      " **[4] &nbsp; &nbsp;&nbsp;&nbsp;&nbsp;&nbsp;**<a href=\"#ex\" class=\"nounderline\"> SUBPLOTS </a>(coming soon) <br>\n",
      " **[5] &nbsp; &nbsp;&nbsp;&nbsp;&nbsp;&nbsp;**<a href=\"#ex\" class=\"nounderline\"> ERROR BARS </a>(coming soon) <br>\n",
      " **[6] &nbsp; &nbsp;&nbsp;&nbsp;&nbsp;&nbsp;**<a href=\"#ex\" class=\"nounderline\"> HISTROGRAMS </a>(coming soon) <br>\n",
      " **[7] &nbsp; &nbsp;&nbsp;&nbsp;&nbsp;&nbsp;**<a href=\"#ex\" class=\"nounderline\"> BOX PLOTS </a>(coming soon) <br>\n",
      " **[8] &nbsp; &nbsp;&nbsp;&nbsp;&nbsp;&nbsp;**<a href=\"#ex\" class=\"nounderline\"> HEAT MAPS AND COLOUR SCALES </a>(coming soon) <br>\n",
      " **[9] &nbsp; &nbsp;&nbsp;&nbsp;&nbsp;&nbsp;**<a href=\"#ex\" class=\"nounderline\"> BUBBLE CHARTS </a> (coming soon)<br>\n",
      " **[10] &nbsp; &nbsp;&nbsp;&nbsp;&nbsp;&nbsp;**<a href=\"#ex\" class=\"nounderline\"> 2D HISTROGRAMS </a> (coming soon)<br>\n",
      " **[11] &nbsp;&nbsp;&nbsp;&nbsp;&nbsp;**<a href=\"#ex\" class=\"nounderline\"> CONTOUR PLOTS </a>(coming soon) <br>\n",
      " **[12] &nbsp;&nbsp;&nbsp;&nbsp;&nbsp;**<a href=\"#ex\" class=\"nounderline\"> STREAMING AND REAL TIME DATA </a>(coming soon) <br>\n",
      " **[13] &nbsp;&nbsp;&nbsp;&nbsp;&nbsp;**<a href=\"#ex\" class=\"nounderline\"> RETRIEVING DATA </a>(coming soon) <br>\n",
      " **[14] &nbsp;&nbsp;&nbsp;&nbsp;&nbsp;**<a href=\"#ex\" class=\"nounderline\"> 3D SURFACE PLOTS </a>(coming soon) <br>\n",
      " **[15] &nbsp;&nbsp;&nbsp;&nbsp;&nbsp;**<a href=\"#ex\" class=\"nounderline\"> MAPS </a>(coming soon)\n",
      " <br>\n",
      "\n",
      " <hr size = \"5px\">\n"
     ]
    },
    {
     "cell_type": "markdown",
     "metadata": {},
     "source": [
      "<br>\n",
      "<br>\n",
      "<br>\n",
      "<br>"
     ]
    },
    {
     "cell_type": "markdown",
     "metadata": {},
     "source": [
      "<h1 id=\"contact\">CONTACT</h1>"
     ]
    },
    {
     "cell_type": "markdown",
     "metadata": {},
     "source": [
      "--- \n",
      "Want to help improve this user guide? Please send us your comments/questions! Feedback concerning this user guide can be directed to <font color=#1d3b84>** chuck [at] plot.ly **</font>. You can also reach and follow us online via social media outlets.<br>\n",
      "\n",
      "<div class=\"image-line\">\n",
      "\n",
      "<div class=\"image-cell\">\n",
      "<a href=\"https://twitter.com/plotlygraphs\">\n",
      "<img src=\"files/images/twitter.png\" style=\"width: 40px; height: 40px; margin-left: 1px; margin-right: 1px\"; alt=\"\"> \n",
      "</a>\n",
      "</div>\n",
      "\n",
      "<div class=\"image-cell\">\n",
      "<a href=\"https://www.facebook.com/Plotly\">\n",
      "<img src=\"files/images/facebook.png\" style=\"width: 40px; height: 40px; margin-left: 1px; margin-right: 1px\"; alt=\"\"> \n",
      "</a>\n",
      "</div>\n",
      "\n",
      "<div class=\"image-cell\">\n",
      "<a href= https://plus.google.com/101741663283396748386/posts>\n",
      "<img src=\"files/images/gplus.png\" style=\"width: 40px; height: 40px; margin-left: 1px; margin-right: 1px\"; alt=\"\"> \n",
      "</a>\n",
      "</div>\n",
      "\n",
      "<div class=\"image-cell\">\n",
      "<a href= https://www.edmodo.com/publisher/plotly>\n",
      "<img src=\"files/images/ed.png\" style=\"width: 40px; height: 40px; margin-left: 1px; margin-right: 1px\"; alt=\"\"> \n",
      "</a>\n",
      "</div>\n",
      "\n",
      "</div>\n",
      "<br>\n",
      "<br>\n",
      "\n",
      "---"
     ]
    },
    {
     "cell_type": "markdown",
     "metadata": {},
     "source": [
      "<br>\n",
      "<h4>\n",
      "<center>\n",
      "**  \u2022   ** <br><br>\n",
      "**  \u2022   ** <br><br>\n",
      "**  \u2022   ** <br><br>\n",
      "**  \u2022   ** <br><br>\n",
      "</center>    \n",
      "</h4>\n",
      "<br>"
     ]
    },
    {
     "cell_type": "markdown",
     "metadata": {},
     "source": [
      "<center><h2>NOTEBOOK BEAUTIFICATION</h2></center>"
     ]
    },
    {
     "cell_type": "code",
     "collapsed": false,
     "input": [
      "# CSS styling within IPython notebook\n",
      "from IPython.core.display import HTML\n",
      "def css_styling():\n",
      "    styles = open(\"./css/style_notebook.css\", \"r\").read()\n",
      "    return HTML(styles)\n",
      "css_styling()"
     ],
     "language": "python",
     "metadata": {},
     "outputs": [
      {
       "html": [
        "<style>\n",
        "@font-face {\n",
        "  font-family: \"Computer Modern\";\n",
        "  src: url('http://9dbb143991406a7c655e-aa5fcb0a5a4ec34cff238a2d56ca4144.r56.cf5.rackcdn.com/cmunss.otf');\n",
        "}\n",
        "@font-face {\n",
        "  font-family: \"Computer Modern\";\n",
        "  font-weight: bold;\n",
        "  src: url('http://9dbb143991406a7c655e-aa5fcb0a5a4ec34cff238a2d56ca4144.r56.cf5.rackcdn.com/cmunsx.otf');\n",
        "}\n",
        "@font-face {\n",
        "  font-family: \"Computer Modern\";\n",
        "  font-style: oblique;\n",
        "  src: url('http://9dbb143991406a7c655e-aa5fcb0a5a4ec34cff238a2d56ca4144.r56.cf5.rackcdn.com/cmunsi.otf');\n",
        "}\n",
        "@font-face {\n",
        "  font-family: \"Computer Modern\";\n",
        "  font-weight: bold;\n",
        "  font-style: oblique;\n",
        "  src: url('http://9dbb143991406a7c655e-aa5fcb0a5a4ec34cff238a2d56ca4144.r56.cf5.rackcdn.com/cmunso.otf');\n",
        "}\n",
        "div.cell{\n",
        "  width:800px;\n",
        "  margin-left:17% !important;\n",
        "  margin-right:auto;\n",
        "}\n",
        "h1 {\n",
        "  /* font-family: Computer Modern, serif; */\n",
        "  width:775px;\n",
        "  color:#1d3b84;\n",
        "  font-family: \u2018Lucida Console\u2019, Monaco, monospace;\n",
        "  text-align: center;\n",
        "  font-size: 50; \n",
        "}\n",
        "h2 {\n",
        "  /* font-family: Computer Modern, serif; */\n",
        "  color: #333333;\n",
        "  font-family: \u2018Lucida Console\u2019, Monaco, monospace;\n",
        "  text-align: center;\n",
        "}\n",
        "h3 {\n",
        "  /* font-family: Computer Modern, serif; */\n",
        "  width:775px;\n",
        "  color: #333333;\n",
        "  font-family: \u2018Lucida Console\u2019, Monaco, monospace;\n",
        "}\n",
        "h4{\n",
        "  color: #333333;\n",
        "  font-family: \u2018Lucida Console\u2019, Monaco, monospace;\n",
        "  margin-top:15px;\n",
        "  margin-bottom: 3px;\n",
        "}\n",
        "h6{\n",
        "  color: #333333;\n",
        "  font-family: \u2018Lucida Console\u2019, Monaco, monospace;\n",
        "  margin-top:15px;\n",
        "  margin-bottom: 3px;\n",
        "}\n",
        "\n",
        "div.text_cell_render{\n",
        " /* font-family: Computer Modern, \"Helvetica Neue\", Arial, Helvetica, Geneva, sans-serif; */\n",
        " color: #333333;\n",
        " /* font-family: \u2018Palatino Linotype\u2019, \u2018Book Antiqua\u2019, Palatino, serif; */\n",
        " /* font-family: \u2018Trebuchet MS\u2019, Helvetica, sans-serif; */\n",
        " font-family: \u2018Lucida Sans Unicode\u2019, \u2018Lucida Grande\u2019, sans-serif;\n",
        " line-height: 145%;\n",
        " font-size: 130%;\n",
        " width: 800px; \n",
        "}\n",
        "code{\n",
        "  font-size: 40%;\n",
        "}\n",
        "ul{\n",
        "  margin: 2em;\n",
        "}\n",
        "ul li{\n",
        " padding-left: 0.5em;\n",
        " margin-bottom: 0.5em;\n",
        " margin-top: 0.5em;\n",
        " /*font-variant: small-caps;*/\n",
        "}\n",
        "\n",
        "a.nounderline:link{\n",
        " color: #1d3b84;\n",
        " font-weight: bold;\n",
        " text-decoration:none;\n",
        "}\n",
        "a.nounderlineblack:link{\n",
        " color: #333333;\n",
        " font-weight: bold;\n",
        " text-decoration:none;\n",
        "}\n",
        "a.nounderlineblack:visited{\n",
        " color: #333333;\n",
        " font-weight: bold;\n",
        " text-decoration:none;\n",
        "}\n",
        "a:link{\n",
        "  color: #447adb;\n",
        "\n",
        "co font-weight: bold;\n",
        " text-decoration:none;\n",
        "}\n",
        "a:visited{\n",
        " font-weight: bold;\n",
        " text-decoration: none;\n",
        "}\n",
        "a:hover{\n",
        " text-decoration: none;\n",
        " font-weight: bold;\n",
        "}\n",
        "a:focus{\n",
        " text-decoration: none;\n",
        " font-weight: bold;\n",
        "}\n",
        "a:active{\n",
        " text-decoration: none;\n",
        " font-weight: bold;\n",
        "}\n",
        ".CodeMirror{ \n",
        "  background-color: white; \n",
        "  border-bottom: 10; \n",
        "  font-family: \"Source Code Pro\", source-code-pro,Consolas, monospace;\n",
        "}\n",
        ".prompt{\n",
        "  display: None;\n",
        "}\n",
        "h5 {\n",
        "  font-family: 'Open sans',verdana,arial,sans-serif;\n",
        "}\n",
        "\n",
        "   \n",
        "\n",
        ".text_cell_render h1 {\n",
        "  font-size: 35pt;\n",
        "  width:775px;\n",
        "  color:#333333;\n",
        "  font-family: \u2018Lucida Console\u2019, Monaco, monospace;\n",
        "  text-align: center;\n",
        "  font-size: 50; \n",
        "}\n",
        "\n",
        ".text_cell_render h3 {\n",
        "  font-weight: 10;\n",
        "  font-style: italic;\n",
        "  color:#003366; \n",
        "  font-size: 15pt;\n",
        "  margin-bottom: 0em;\n",
        "  margin-top: 1.5em;\n",
        "  display: inline;\n",
        "  white-space: nowrap;\n",
        "}\n",
        "\n",
        ".text_cell_render h4{\n",
        "  color: #333333;\n",
        "  font-family: \u2018Lucida Console\u2019, Monaco, monospace;\n",
        "  margin-top:15px;\n",
        "  margin-bottom: 3px;\n",
        "  font-size: 10pt; \n",
        "}\n",
        "\n",
        ".text_cell_render h5 {\n",
        "  font-weight: 300;\n",
        "  font-style: normal;\n",
        "  color:#003366; \n",
        "  font-size: 25pt;\n",
        "  margin-bottom: 0em;\n",
        "  margin-top: 1.5em;\n",
        "  display: inline;\n",
        "  white-space: nowrap;\n",
        "}\n",
        "\n",
        ".text_cell_render h6 {\n",
        "  font-weight: 0;\n",
        "  font-style: normal;\n",
        "  color:#003366; \n",
        "  font-size: 16pt;\n",
        "  margin-bottom: 0em;\n",
        "  margin-top: 1.5em;\n",
        "  display: inline;\n",
        "  white-space: nowrap;\n",
        "}\n",
        "\n",
        "\n",
        "\n",
        ".warning{\n",
        "  color: rgb( 240, 20, 20 )\n",
        "}\n",
        "blockquote{\n",
        "  display:block;\n",
        "  background: #FFFFFF;\n",
        "  border-left: 2px dashed #1d3b84;\n",
        "  border-right: 2px dashed #1d3b84;\n",
        "  font-family: 'Open sans',verdana,arial,sans-serif;\n",
        "  padding: 25px 25px 25px 25px;\n",
        "  text-align:justify;\n",
        "  text-justify:inter-word;\n",
        "  width:auto;\n",
        "  display:table\n",
        "}\n",
        "\n",
        "blockquote p {\n",
        "  margin-bottom: 0;\n",
        "  line-height: 125%;\n",
        "  font-size: 100%;\n",
        "}\n",
        "\n",
        ".image-line {\n",
        "   margin-left: 170px;\n",
        "}\n",
        ".image-cell {\n",
        "   width: 100px;\n",
        "   margin: 10px;\n",
        "   float: left;\n",
        "}\n",
        ".image-clear {\n",
        "   clear: both;\n",
        "}\n",
        "\n",
        "\n",
        "</style>\n",
        "\n",
        "<script>\n",
        "MathJax.Hub.Config({\n",
        "  TeX: {\n",
        "   extensions: [\"AMSmath.js\"]\n",
        "   },\n",
        "   tex2jax: {\n",
        "    inlineMath: [ ['$','$'], [\"\\\\(\",\"\\\\)\"] ],\n",
        "    displayMath: [ ['$$','$$'], [\"\\\\[\",\"\\\\]\"] ]\n",
        "    },\n",
        "    displayAlign: 'center', // Change this to 'center' to center equations.\n",
        "    \"HTML-CSS\": {\n",
        "      styles: {'.MathJax_Display': {\"margin\": 4}}\n",
        "    }\n",
        "    });\n",
        "\n",
        "</script>\n"
       ],
       "metadata": {},
       "output_type": "pyout",
       "prompt_number": 2,
       "text": [
        "<IPython.core.display.HTML at 0x107897250>"
       ]
      }
     ],
     "prompt_number": 2
    },
    {
     "cell_type": "markdown",
     "metadata": {},
     "source": [
      "<center><sup>[<a href = \"http://camdavidsonpilon.github.io/Probabilistic-Programming-and-Bayesian-Methods-for-Hackers/\" class=\"nounderline\">STYLE INSPIRED BY CAM DAVIDSON'S NB'S - THANK YOU</a>]</sup></center>"
     ]
    }
   ],
   "metadata": {}
  }
 ]
}