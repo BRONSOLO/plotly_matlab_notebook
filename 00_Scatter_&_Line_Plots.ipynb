{
 "metadata": {
  "name": "",
  "signature": "sha256:7ef8c406494834c2f8737fcd0288515df8607e6d95aedb7ebc01c70842b4d313"
 },
 "nbformat": 3,
 "nbformat_minor": 0,
 "worksheets": [
  {
   "cells": [
    {
     "cell_type": "markdown",
     "metadata": {},
     "source": [
      "<center>\n",
      "<img src=\"files/images/pmat.png\" style=\"width: 400px; height: 200px; margin-left: auto;margin-right: auto\"; alt=\"\">\n",
      "</center> \n"
     ]
    },
    {
     "cell_type": "markdown",
     "metadata": {},
     "source": [
      "<h1 id=\"lasp\">[1] LINE AND SCATTER PLOTS</h1>"
     ]
    },
    {
     "cell_type": "heading",
     "level": 4,
     "metadata": {},
     "source": [
      "<center>\n",
      "  &nbsp; &nbsp;  **  \u2022   ** &nbsp; &nbsp; **  \u2022   ** &nbsp; &nbsp; **  \u2022   ** &nbsp; &nbsp; **  \u2022   ** &nbsp; &nbsp; **  \u2022   ** &nbsp; &nbsp; \n",
      "</center>"
     ]
    },
    {
     "cell_type": "markdown",
     "metadata": {},
     "source": [
      "This notebook provides relevant examples of **LINE AND SCATTER PLOTS** creation using the Plotly Matlatb API. Please have a look at the code provided below to get started! If **LINE AND SCATTER PLOTS** are not the droids you are looking for, please check out the other Plotly Matlatb API notebooks, which provide examples of the wide range of fabulous plot types handled by Plotly. If you have any questions, suggestions or just want to chat, please\n",
      "<a href=\"/.\" class=\"nounderline\">drop us a line</a>."
     ]
    },
    {
     "cell_type": "markdown",
     "metadata": {},
     "source": [
      " "
     ]
    },
    {
     "cell_type": "markdown",
     "metadata": {},
     "source": [
      "<center>\n",
      "<a href=\"#gs\" class=\"nounderline\">[1.1] GETTING STARTED</a> &nbsp; &nbsp; **  \u2022   ** &nbsp; &nbsp; <a href=\"#doc\" class=\"nounderline\"> [1.2] DOCUMENTATION </a> &nbsp; &nbsp;**  \u2022  ** &nbsp; &nbsp;<a href=\"#ex\" class=\"nounderline\"> [1.3] EXAMPLE PLOTS</a>\n",
      "</center>"
     ]
    },
    {
     "cell_type": "markdown",
     "metadata": {},
     "source": [
      "- - - - - - - - - - - - - - - - - - - - - - - - - - - - - - - - - - - - - - - - - - - - - - - - - - -"
     ]
    },
    {
     "cell_type": "heading",
     "level": 6,
     "metadata": {},
     "source": [
      " "
     ]
    },
    {
     "cell_type": "markdown",
     "metadata": {},
     "source": [
      "<h1 id=\"gs\">[1.1] GETTING STARTED</h1>"
     ]
    },
    {
     "cell_type": "heading",
     "level": 4,
     "metadata": {},
     "source": [
      "<center>\n",
      "  &nbsp; &nbsp;  **  \u2022   ** &nbsp; &nbsp; **  \u2022   ** &nbsp; &nbsp; **  \u2022   ** &nbsp; &nbsp; **  \u2022   ** &nbsp; &nbsp; **  \u2022   ** &nbsp; &nbsp; \n",
      "</center>"
     ]
    },
    {
     "cell_type": "markdown",
     "metadata": {},
     "source": [
      "<h2>[MATLAB API STARTUP]</h2>"
     ]
    },
    {
     "cell_type": "markdown",
     "metadata": {},
     "source": [
      "**NOTE:** throughout this notebook we will be using the super awesome <a href=\"https://pypi.python.org/pypi/pymatbridge/0.1/\" class=\"nounderline\">pymatbridge</a> package to communicate with Matlab from Python. Everything that comes below the **%%matlab** decorator will now be read as Matlab code!"
     ]
    },
    {
     "cell_type": "heading",
     "level": 4,
     "metadata": {},
     "source": [
      ">> OPEN YOUR MATLAB ENVIRONMENT"
     ]
    },
    {
     "cell_type": "code",
     "collapsed": false,
     "input": [
      "%load_ext pymatbridge"
     ],
     "language": "python",
     "metadata": {},
     "outputs": [
      {
       "output_type": "stream",
       "stream": "stdout",
       "text": [
        "The pymatbridge extension is already loaded. To reload it, use:\n",
        "  %reload_ext pymatbridge\n"
       ]
      }
     ],
     "prompt_number": 190
    },
    {
     "cell_type": "heading",
     "level": 4,
     "metadata": {},
     "source": [
      ">> TELL MATLAB WHERE TO FIND THE PLOTLY API"
     ]
    },
    {
     "cell_type": "code",
     "collapsed": false,
     "input": [
      "%%matlab\n",
      "\n",
      "api_path = ('/Users/chuckbronson/Documents/PLOTLY/MATLAB_API/');\n",
      "addpath(genpath(api_path));"
     ],
     "language": "python",
     "metadata": {},
     "outputs": [],
     "prompt_number": 191
    },
    {
     "cell_type": "heading",
     "level": 6,
     "metadata": {},
     "source": [
      " "
     ]
    },
    {
     "cell_type": "markdown",
     "metadata": {},
     "source": [
      "<h2>[SIGN UP]</h2>"
     ]
    },
    {
     "cell_type": "markdown",
     "metadata": {},
     "source": [
      "**NOTE:** If you are already signed up with Plotly, skip ahead. If not - no worries! You can either sign up for a **FREE** Plotly account <a href=\"http://www.plot.ly\" class=\"nounderline\">online</a> *or* from the comfort of your Matlab command window using the **signup.m** function. Just copy and uncomment the lines in the code below (under the **%%matlab** decorator) into your Matlab command window. You'll also need to provide a username of your choice and valid email address! "
     ]
    },
    {
     "cell_type": "heading",
     "level": 4,
     "metadata": {},
     "source": [
      ">> SIGN UP WITH PLOTLY!"
     ]
    },
    {
     "cell_type": "code",
     "collapsed": false,
     "input": [
      "%%matlab\n",
      "\n",
      "%username = PICK_A_USERNAME;\n",
      "%email = VALID_EMAIL_ADDRESS;\n",
      "%response = signup(username,email)"
     ],
     "language": "python",
     "metadata": {},
     "outputs": [],
     "prompt_number": 208
    },
    {
     "cell_type": "heading",
     "level": 6,
     "metadata": {},
     "source": [
      " "
     ]
    },
    {
     "cell_type": "markdown",
     "metadata": {},
     "source": [
      "<h2>[SIGN IN]</h2>"
     ]
    },
    {
     "cell_type": "markdown",
     "metadata": {},
     "source": [
      "**NOTE:** Once you are signed up with Plotly you can sign in using the username and api key provided. If you decided to delete either of these pieces of information from your brain, you can check them <a href=\"http://www.plot.ly\" class=\"nounderline\">online</a>. Signing in is performed using the **signin.m** function. "
     ]
    },
    {
     "cell_type": "heading",
     "level": 4,
     "metadata": {},
     "source": [
      ">> SIGN IN TO PLOTLY!"
     ]
    },
    {
     "cell_type": "code",
     "collapsed": false,
     "input": [
      "%%matlab \n",
      "load('config'); \n",
      "signin(config.un,config.key);"
     ],
     "language": "python",
     "metadata": {},
     "outputs": [],
     "prompt_number": 209
    },
    {
     "cell_type": "markdown",
     "metadata": {},
     "source": [
      "**NOTE:** We suggest storing your username and api key in a matlab structure array for easy access/portability between matlab sessions/systems. Here we have loaded our \"config\" structure array which contains the aformentioned information. "
     ]
    },
    {
     "cell_type": "markdown",
     "metadata": {},
     "source": [
      "- - - - - - - - - - - - - - - - - - - - - - - - - - - - - - - - - - - - - - - - - - - - - - - - - - -"
     ]
    },
    {
     "cell_type": "heading",
     "level": 6,
     "metadata": {},
     "source": [
      "   "
     ]
    },
    {
     "cell_type": "markdown",
     "metadata": {},
     "source": [
      "<h1 id=\"doc\">[1.2] DOCUMENTATION</h1>\n"
     ]
    },
    {
     "cell_type": "heading",
     "level": 4,
     "metadata": {},
     "source": [
      "<center>\n",
      "  &nbsp; &nbsp;  **  \u2022   ** &nbsp; &nbsp; **  \u2022   ** &nbsp; &nbsp; **  \u2022   ** &nbsp; &nbsp; **  \u2022   ** &nbsp; &nbsp; **  \u2022   ** &nbsp; &nbsp; \n",
      "</center>"
     ]
    },
    {
     "cell_type": "markdown",
     "metadata": {},
     "source": [
      "<h2>[API FUNCTIONS]</h2>"
     ]
    },
    {
     "cell_type": "markdown",
     "metadata": {},
     "source": [
      "Plot creation, stylization and layout are all handled with **three** Plotly Matlab API functions: "
     ]
    },
    {
     "cell_type": "markdown",
     "metadata": {},
     "source": [
      "<center>\n",
      "<a href=\"#plotlym\" class=\"nounderlineblack\">**plotly.m**</a> &nbsp; &nbsp; **  \u2022   ** &nbsp; &nbsp; <a href=\"#plotlystylem\" class=\"nounderlineblack\">**plotlystyle.m**</a> &nbsp; &nbsp;**  \u2022  ** &nbsp; &nbsp; <a href=\"#plotlym\" class=\"nounderlineblack\">**plotlylayout.m**</a>\n",
      "</center>\n",
      "\n",
      "Once you master these three functions, you'll officially be a Plotly's Matlab API guru! In fact, we can go one step futher and say that almost all Plotly interactions via the Matlab API will take place using the **plotly.m** function. The functionality of **plotlystyle.m** and **plotlylayout.m** can be thought of a subset of the functionailty inherent in  **plotly.m**. The following section provides a documentation of these three functions."
     ]
    },
    {
     "cell_type": "markdown",
     "metadata": {},
     "source": [
      " <br>"
     ]
    },
    {
     "cell_type": "markdown",
     "metadata": {},
     "source": [
      "<center><h3 id=\"plotlym\">[plotly.m]</h3></center>"
     ]
    },
    {
     "cell_type": "markdown",
     "metadata": {},
     "source": [
      "---\n",
      "<center><h4>Create a graph in your plotly account</h4></center> \n",
      "\n",
      "---"
     ]
    },
    {
     "cell_type": "heading",
     "level": 4,
     "metadata": {},
     "source": [
      " >> CALL:"
     ]
    },
    {
     "cell_type": "code",
     "collapsed": false,
     "input": [
      "%%matlab\n",
      "\n",
      "% [response] = plotly(x1,y1, x2,y2, ..., xn,yn, kwargs);\n",
      "% [response] = plotly({data1, data2, ..., datan}, kwargs);"
     ],
     "language": "python",
     "metadata": {},
     "outputs": [],
     "prompt_number": 216
    },
    {
     "cell_type": "heading",
     "level": 4,
     "metadata": {},
     "source": [
      " >> INPUT:"
     ]
    },
    {
     "cell_type": "code",
     "collapsed": false,
     "input": [
      "%%matlab\n",
      "\n",
      "% x1,y1, x2,y2, ..., xn,yn;   ----->   [data arrays]\n",
      "% {data1, data2, ..., datan}; ----->   [cell array of data structure arrays]\n",
      "% kwargs;                     ----->   [style/layout structure array] (optional)"
     ],
     "language": "python",
     "metadata": {},
     "outputs": [],
     "prompt_number": 217
    },
    {
     "cell_type": "heading",
     "level": 4,
     "metadata": {},
     "source": [
      " >> OUTPUT:"
     ]
    },
    {
     "cell_type": "code",
     "collapsed": false,
     "input": [
      "%%matlab\n",
      "\n",
      "% response                    ----->   [structure array]\n",
      "%    \"\"   .url                ----->   [string]\n",
      "%    \"\"   .message            ----->   [string] \n",
      "%    \"\"   .warning            ----->   [string] \n",
      "%    \"\"   .filename           ----->   [string] \n",
      "%    \"\"   .error              ----->   [string] "
     ],
     "language": "python",
     "metadata": {},
     "outputs": [],
     "prompt_number": 218
    },
    {
     "cell_type": "markdown",
     "metadata": {},
     "source": [
      " <br>\n",
      " <br>"
     ]
    },
    {
     "cell_type": "markdown",
     "metadata": {},
     "source": [
      "<center><h3 id=\"plotlystylem\">[plotlystyle.m]</h3></center>"
     ]
    },
    {
     "cell_type": "markdown",
     "metadata": {},
     "source": [
      "---\n",
      "<center><h4>Apply style to the traces of a plotly plot</h4></center> \n",
      "\n",
      "---\n"
     ]
    },
    {
     "cell_type": "heading",
     "level": 4,
     "metadata": {},
     "source": [
      ">> CALL: "
     ]
    },
    {
     "cell_type": "code",
     "collapsed": false,
     "input": [
      "%%matlab\n",
      "\n",
      "% [response] = plotly(x1,y1, x2,y2, ..., xn,yn, kwargs);\n",
      "% [response] = plotly({data1, data2, ..., datan}, kwargs);"
     ],
     "language": "python",
     "metadata": {},
     "outputs": [],
     "prompt_number": 213
    },
    {
     "cell_type": "heading",
     "level": 4,
     "metadata": {},
     "source": [
      " >> INPUT:"
     ]
    },
    {
     "cell_type": "code",
     "collapsed": false,
     "input": [
      "%%matlab\n",
      "\n",
      "% x1,y1, x2,y2, ..., xn,yn;   ----->   [data arrays]\n",
      "% {data1, data2, ..., datan}; ----->   [cell array of data structure arrays]\n",
      "% kwargs;                     ----->   [style/layout structure array] (optional)"
     ],
     "language": "python",
     "metadata": {},
     "outputs": [],
     "prompt_number": 214
    },
    {
     "cell_type": "heading",
     "level": 4,
     "metadata": {},
     "source": [
      ">> OUTPUT: "
     ]
    },
    {
     "cell_type": "code",
     "collapsed": false,
     "input": [
      "%%matlab\n",
      "\n",
      "% response                    ----->   [structure array]\n",
      "%    \"\"   .url                ----->   [string]\n",
      "%    \"\"   .message            ----->   [string] \n",
      "%    \"\"   .warning            ----->   [string] \n",
      "%    \"\"   .filename           ----->   [string] \n",
      "%    \"\"   .error              ----->   [string] "
     ],
     "language": "python",
     "metadata": {},
     "outputs": [],
     "prompt_number": 215
    },
    {
     "cell_type": "markdown",
     "metadata": {},
     "source": [
      " <br>\n",
      " <br>"
     ]
    },
    {
     "cell_type": "markdown",
     "metadata": {},
     "source": [
      "<center><h3 id=\"plotlystylem\">[plotlylayout.m]</h3></center>"
     ]
    },
    {
     "cell_type": "markdown",
     "metadata": {},
     "source": [
      "---\n",
      "<center><h4>Apply layout to a plotly plot</h4></center> \n",
      "\n",
      "---\n"
     ]
    },
    {
     "cell_type": "heading",
     "level": 4,
     "metadata": {},
     "source": [
      ">> CALL: "
     ]
    },
    {
     "cell_type": "heading",
     "level": 4,
     "metadata": {},
     "source": [
      ">> INPUT: "
     ]
    },
    {
     "cell_type": "heading",
     "level": 4,
     "metadata": {},
     "source": [
      ">> OUTPUT: "
     ]
    },
    {
     "cell_type": "heading",
     "level": 2,
     "metadata": {},
     "source": [
      "[DATA SYNTAX]"
     ]
    },
    {
     "cell_type": "heading",
     "level": 2,
     "metadata": {},
     "source": [
      "[STYLE SYNTAX]"
     ]
    },
    {
     "cell_type": "heading",
     "level": 2,
     "metadata": {},
     "source": [
      "[LAYOUT SYNTAX]"
     ]
    },
    {
     "cell_type": "markdown",
     "metadata": {},
     "source": [
      "* * * "
     ]
    },
    {
     "cell_type": "heading",
     "level": 6,
     "metadata": {},
     "source": [
      " "
     ]
    },
    {
     "cell_type": "markdown",
     "metadata": {},
     "source": [
      "<h1 id=\"ex\">[1.3] EXAMPLE PLOTS</h1>"
     ]
    },
    {
     "cell_type": "markdown",
     "metadata": {},
     "source": [
      "\n"
     ]
    },
    {
     "cell_type": "markdown",
     "metadata": {},
     "source": [
      " * * * "
     ]
    },
    {
     "cell_type": "code",
     "collapsed": false,
     "input": [
      "from IPython.display import HTML\n",
      "\n",
      "def show_plot(url, width=700, height=500):\n",
      "    s = '<iframe height=\"%s\" id=\"igraph\" scrolling=\"no\" seamless=\"seamless\" src=\"%s\" width=\"%s\"></iframe>'\n",
      "    (height+50, \"/\".join(map(str,[url, width, height])), width+50)\n",
      "    return HTML(s)\n",
      "\n",
      "\n"
     ],
     "language": "python",
     "metadata": {},
     "outputs": [],
     "prompt_number": 110
    },
    {
     "cell_type": "heading",
     "level": 2,
     "metadata": {},
     "source": [
      "[BASIC PLOT]"
     ]
    },
    {
     "cell_type": "code",
     "collapsed": false,
     "input": [
      "%%matlab \n",
      "% SIN2t \n",
      "\n",
      "%data setup\n",
      "\n",
      "Fs = 100; %sampling frequency \n",
      "tf = 1; %total time duration \n",
      "t = 0:(1/Fs):tf; %discrete time variable \n",
      "w1 = 2*pi; \n",
      "w2 = 2*pi; \n",
      "\n",
      "%first trace\n",
      "trace1 = cos(w1*t);\n",
      "trace2 = sin(w2*t); \n",
      "plot(t,trace1.^2);\n",
      "hold on\n",
      "plot(t,trace2.^2,'ro'); \n",
      "hold on\n",
      "plot(t,trace2.^2 + trace1.^2,'g-'); \n",
      "\n",
      "\n",
      "%specify the style of each trace\n",
      "data1 = struct(...note\n",
      "  'x', x1, ...\n",
      "  'y', y1, ...\n",
      "  'type', 'scatter', ...options\n",
      "  'name', 'Experiment', ...\n",
      "  'line', struct('color','rgb(3,78,123)',... options\n",
      "        'width',6, ...\n",
      "    'dash','dot'), ...options\n",
      "  'marker', struct('opacity', 1.0, ...\n",
      "    'symbol','square', ...  options\n",
      "    'size',12, ...\n",
      "    'color', 'rgb(54,144,192)', ...\n",
      "    'line', struct('width',3, ... note\n",
      "      'color','lightblue') ...\n",
      "    ) ...\n",
      "  );\n",
      "\n",
      "data2 = struct( ...\n",
      "  'x', x2, ...\n",
      "  'y', y2, ...\n",
      "  'name', 'Control', ...\n",
      "  'line', struct('color', 'purple', ...\n",
      "    'width', 4, ...\n",
      "    'dash', 'dashdot'), ...\n",
      "  'marker', struct('opacity', 0.9, ...\n",
      "    'symbol', 'cross', ...\n",
      "    'size', 16, ...\n",
      "    'color', 'fuchsia', ...\n",
      "    'line', struct( 'width', 0, ...\n",
      "      'color','') ...\n",
      "    ) ...\n",
      "  );\n",
      "\n",
      "response = plotly({data1, data2})\n",
      "url = response.url\n",
      "filename = response.filename"
     ],
     "language": "python",
     "metadata": {},
     "outputs": [
      {
       "ename": "MatlabInterperterError",
       "evalue": "Failed to parse and evaluate line u\"\\n%data setup\\n\\nFs = 100; %sampling frequency \\ntf = 1; %total time duration \\nt = 0:(1/Fs):tf; %discrete time variable \\nw1 = 2*pi; \\nw2 = 2*pi; \\n\\n%first trace\\ntrace1 = cos(w1*t);\\ntrace2 = sin(w2*t); \\nplot(t,trace1.^2);\\nhold on\\nplot(t,trace2.^2,'ro'); \\nhold on\\nplot(t,trace2.^2 + trace1.^2,'g-'); \\n\\n\\n%specify the style of each trace\\ndata1 = struct(...note\\n  'x', x1, ...\\n  'y', y1, ...\\n  'type', 'scatter', ...options\\n  'name', 'Experiment', ...\\n  'line', struct('color','rgb(3,78,123)',... options\\n        'width',6, ...\\n    'dash','dot'), ...options\\n  'marker', struct('opacity', 1.0, ...\\n    'symbol','square', ...  options\\n    'size',12, ...\\n    'color', 'rgb(54,144,192)', ...\\n    'line', struct('width',3, ... note\\n      'color','lightblue') ...\\n    ) ...\\n  );\\n\\ndata2 = struct( ...\\n  'x', x2, ...\\n  'y', y2, ...\\n  'name', 'Control', ...\\n  'line', struct('color', 'purple', ...\\n    'width', 4, ...\\n    'dash', 'dashdot'), ...\\n  'marker', struct('opacity', 0.9, ...\\n    'symbol', 'cross', ...\\n    'size', 16, ...\\n    'color', 'fuchsia', ...\\n    'line', struct( 'width', 0, ...\\n      'color','') ...\\n    ) ...\\n  );\\n\\nresponse = plotly({data1, data2})\\nurl = response.url\\nfilename = response.filename\".\n Matlab error message: u\"Undefined function or variable 'x1'.\"",
       "output_type": "pyerr",
       "traceback": [
        "\u001b[0;31m---------------------------------------------------------------------------\u001b[0m\n\u001b[0;31mMatlabInterperterError\u001b[0m                    Traceback (most recent call last)",
        "\u001b[0;32m<ipython-input-58-db522d30c474>\u001b[0m in \u001b[0;36m<module>\u001b[0;34m()\u001b[0m\n\u001b[0;32m----> 1\u001b[0;31m \u001b[0mget_ipython\u001b[0m\u001b[0;34m(\u001b[0m\u001b[0;34m)\u001b[0m\u001b[0;34m.\u001b[0m\u001b[0mrun_cell_magic\u001b[0m\u001b[0;34m(\u001b[0m\u001b[0;34mu'matlab'\u001b[0m\u001b[0;34m,\u001b[0m \u001b[0;34mu''\u001b[0m\u001b[0;34m,\u001b[0m \u001b[0;34mu\"\\n%data setup\\n\\nFs = 100; %sampling frequency \\ntf = 1; %total time duration \\nt = 0:(1/Fs):tf; %discrete time variable \\nw1 = 2*pi; \\nw2 = 2*pi; \\n\\n%first trace\\ntrace1 = cos(w1*t);\\ntrace2 = sin(w2*t); \\nplot(t,trace1.^2);\\nhold on\\nplot(t,trace2.^2,'ro'); \\nhold on\\nplot(t,trace2.^2 + trace1.^2,'g-'); \\n\\n\\n%specify the style of each trace\\ndata1 = struct(...note\\n  'x', x1, ...\\n  'y', y1, ...\\n  'type', 'scatter', ...options\\n  'name', 'Experiment', ...\\n  'line', struct('color','rgb(3,78,123)',... options\\n        'width',6, ...\\n    'dash','dot'), ...options\\n  'marker', struct('opacity', 1.0, ...\\n    'symbol','square', ...  options\\n    'size',12, ...\\n    'color', 'rgb(54,144,192)', ...\\n    'line', struct('width',3, ... note\\n      'color','lightblue') ...\\n    ) ...\\n  );\\n\\ndata2 = struct( ...\\n  'x', x2, ...\\n  'y', y2, ...\\n  'name', 'Control', ...\\n  'line', struct('color', 'purple', ...\\n    'width', 4, ...\\n    'dash', 'dashdot'), ...\\n  'marker', struct('opacity', 0.9, ...\\n    'symbol', 'cross', ...\\n    'size', 16, ...\\n    'color', 'fuchsia', ...\\n    'line', struct( 'width', 0, ...\\n      'color','') ...\\n    ) ...\\n  );\\n\\nresponse = plotly({data1, data2})\\nurl = response.url\\nfilename = response.filename\"\u001b[0m\u001b[0;34m)\u001b[0m\u001b[0;34m\u001b[0m\u001b[0m\n\u001b[0m",
        "\u001b[0;32m/Library/Python/2.7/site-packages/ipython-2.0.0-py2.7.egg/IPython/core/interactiveshell.pyc\u001b[0m in \u001b[0;36mrun_cell_magic\u001b[0;34m(self, magic_name, line, cell)\u001b[0m\n\u001b[1;32m   2160\u001b[0m             \u001b[0mmagic_arg_s\u001b[0m \u001b[0;34m=\u001b[0m \u001b[0mself\u001b[0m\u001b[0;34m.\u001b[0m\u001b[0mvar_expand\u001b[0m\u001b[0;34m(\u001b[0m\u001b[0mline\u001b[0m\u001b[0;34m,\u001b[0m \u001b[0mstack_depth\u001b[0m\u001b[0;34m)\u001b[0m\u001b[0;34m\u001b[0m\u001b[0m\n\u001b[1;32m   2161\u001b[0m             \u001b[0;32mwith\u001b[0m \u001b[0mself\u001b[0m\u001b[0;34m.\u001b[0m\u001b[0mbuiltin_trap\u001b[0m\u001b[0;34m:\u001b[0m\u001b[0;34m\u001b[0m\u001b[0m\n\u001b[0;32m-> 2162\u001b[0;31m                 \u001b[0mresult\u001b[0m \u001b[0;34m=\u001b[0m \u001b[0mfn\u001b[0m\u001b[0;34m(\u001b[0m\u001b[0mmagic_arg_s\u001b[0m\u001b[0;34m,\u001b[0m \u001b[0mcell\u001b[0m\u001b[0;34m)\u001b[0m\u001b[0;34m\u001b[0m\u001b[0m\n\u001b[0m\u001b[1;32m   2163\u001b[0m             \u001b[0;32mreturn\u001b[0m \u001b[0mresult\u001b[0m\u001b[0;34m\u001b[0m\u001b[0m\n\u001b[1;32m   2164\u001b[0m \u001b[0;34m\u001b[0m\u001b[0m\n",
        "\u001b[0;32m/Library/Python/2.7/site-packages/pymatbridge/matlab_magic.pyc\u001b[0m in \u001b[0;36mmatlab\u001b[0;34m(self, line, cell, local_ns)\u001b[0m\n",
        "\u001b[0;32m/Library/Python/2.7/site-packages/ipython-2.0.0-py2.7.egg/IPython/core/magic.pyc\u001b[0m in \u001b[0;36m<lambda>\u001b[0;34m(f, *a, **k)\u001b[0m\n\u001b[1;32m    191\u001b[0m     \u001b[0;31m# but it's overkill for just that one bit of state.\u001b[0m\u001b[0;34m\u001b[0m\u001b[0;34m\u001b[0m\u001b[0m\n\u001b[1;32m    192\u001b[0m     \u001b[0;32mdef\u001b[0m \u001b[0mmagic_deco\u001b[0m\u001b[0;34m(\u001b[0m\u001b[0marg\u001b[0m\u001b[0;34m)\u001b[0m\u001b[0;34m:\u001b[0m\u001b[0;34m\u001b[0m\u001b[0m\n\u001b[0;32m--> 193\u001b[0;31m         \u001b[0mcall\u001b[0m \u001b[0;34m=\u001b[0m \u001b[0;32mlambda\u001b[0m \u001b[0mf\u001b[0m\u001b[0;34m,\u001b[0m \u001b[0;34m*\u001b[0m\u001b[0ma\u001b[0m\u001b[0;34m,\u001b[0m \u001b[0;34m**\u001b[0m\u001b[0mk\u001b[0m\u001b[0;34m:\u001b[0m \u001b[0mf\u001b[0m\u001b[0;34m(\u001b[0m\u001b[0;34m*\u001b[0m\u001b[0ma\u001b[0m\u001b[0;34m,\u001b[0m \u001b[0;34m**\u001b[0m\u001b[0mk\u001b[0m\u001b[0;34m)\u001b[0m\u001b[0;34m\u001b[0m\u001b[0m\n\u001b[0m\u001b[1;32m    194\u001b[0m \u001b[0;34m\u001b[0m\u001b[0m\n\u001b[1;32m    195\u001b[0m         \u001b[0;32mif\u001b[0m \u001b[0mcallable\u001b[0m\u001b[0;34m(\u001b[0m\u001b[0marg\u001b[0m\u001b[0;34m)\u001b[0m\u001b[0;34m:\u001b[0m\u001b[0;34m\u001b[0m\u001b[0m\n",
        "\u001b[0;32m/Library/Python/2.7/site-packages/pymatbridge/matlab_magic.pyc\u001b[0m in \u001b[0;36mmatlab\u001b[0;34m(self, line, cell, local_ns)\u001b[0m\n\u001b[1;32m    211\u001b[0m             \u001b[0;32melse\u001b[0m\u001b[0;34m:\u001b[0m\u001b[0;34m\u001b[0m\u001b[0m\n\u001b[1;32m    212\u001b[0m                 \u001b[0me_s\u001b[0m \u001b[0;34m=\u001b[0m \u001b[0;34m\"There was an error running the code:\\n %s\"\u001b[0m\u001b[0;34m%\u001b[0m\u001b[0mcode\u001b[0m\u001b[0;34m\u001b[0m\u001b[0m\n\u001b[0;32m--> 213\u001b[0;31m                 \u001b[0mresult_dict\u001b[0m \u001b[0;34m=\u001b[0m \u001b[0mself\u001b[0m\u001b[0;34m.\u001b[0m\u001b[0meval\u001b[0m\u001b[0;34m(\u001b[0m\u001b[0mcode\u001b[0m\u001b[0;34m)\u001b[0m\u001b[0;34m\u001b[0m\u001b[0m\n\u001b[0m\u001b[1;32m    214\u001b[0m         \u001b[0;32mexcept\u001b[0m \u001b[0mURLError\u001b[0m\u001b[0;34m:\u001b[0m\u001b[0;34m\u001b[0m\u001b[0m\n\u001b[1;32m    215\u001b[0m             \u001b[0me_s\u001b[0m \u001b[0;34m+=\u001b[0m \u001b[0;34m\"\\n-----------------------\"\u001b[0m\u001b[0;34m\u001b[0m\u001b[0m\n",
        "\u001b[0;32m/Library/Python/2.7/site-packages/pymatbridge/matlab_magic.pyc\u001b[0m in \u001b[0;36meval\u001b[0;34m(self, line)\u001b[0m\n\u001b[1;32m    118\u001b[0m \u001b[0;34m\u001b[0m\u001b[0m\n\u001b[1;32m    119\u001b[0m         \u001b[0;32mif\u001b[0m \u001b[0mrun_dict\u001b[0m\u001b[0;34m[\u001b[0m\u001b[0;34m'success'\u001b[0m\u001b[0;34m]\u001b[0m \u001b[0;34m==\u001b[0m \u001b[0;34m'false'\u001b[0m\u001b[0;34m:\u001b[0m\u001b[0;34m\u001b[0m\u001b[0m\n\u001b[0;32m--> 120\u001b[0;31m             \u001b[0;32mraise\u001b[0m \u001b[0mMatlabInterperterError\u001b[0m\u001b[0;34m(\u001b[0m\u001b[0mline\u001b[0m\u001b[0;34m,\u001b[0m \u001b[0mrun_dict\u001b[0m\u001b[0;34m[\u001b[0m\u001b[0;34m'content'\u001b[0m\u001b[0;34m]\u001b[0m\u001b[0;34m[\u001b[0m\u001b[0;34m'stdout'\u001b[0m\u001b[0;34m]\u001b[0m\u001b[0;34m)\u001b[0m\u001b[0;34m\u001b[0m\u001b[0m\n\u001b[0m\u001b[1;32m    121\u001b[0m \u001b[0;34m\u001b[0m\u001b[0m\n\u001b[1;32m    122\u001b[0m         \u001b[0;31m# This is the matlab stdout:\u001b[0m\u001b[0;34m\u001b[0m\u001b[0;34m\u001b[0m\u001b[0m\n",
        "\u001b[0;31mMatlabInterperterError\u001b[0m: Failed to parse and evaluate line u\"\\n%data setup\\n\\nFs = 100; %sampling frequency \\ntf = 1; %total time duration \\nt = 0:(1/Fs):tf; %discrete time variable \\nw1 = 2*pi; \\nw2 = 2*pi; \\n\\n%first trace\\ntrace1 = cos(w1*t);\\ntrace2 = sin(w2*t); \\nplot(t,trace1.^2);\\nhold on\\nplot(t,trace2.^2,'ro'); \\nhold on\\nplot(t,trace2.^2 + trace1.^2,'g-'); \\n\\n\\n%specify the style of each trace\\ndata1 = struct(...note\\n  'x', x1, ...\\n  'y', y1, ...\\n  'type', 'scatter', ...options\\n  'name', 'Experiment', ...\\n  'line', struct('color','rgb(3,78,123)',... options\\n        'width',6, ...\\n    'dash','dot'), ...options\\n  'marker', struct('opacity', 1.0, ...\\n    'symbol','square', ...  options\\n    'size',12, ...\\n    'color', 'rgb(54,144,192)', ...\\n    'line', struct('width',3, ... note\\n      'color','lightblue') ...\\n    ) ...\\n  );\\n\\ndata2 = struct( ...\\n  'x', x2, ...\\n  'y', y2, ...\\n  'name', 'Control', ...\\n  'line', struct('color', 'purple', ...\\n    'width', 4, ...\\n    'dash', 'dashdot'), ...\\n  'marker', struct('opacity', 0.9, ...\\n    'symbol', 'cross', ...\\n    'size', 16, ...\\n    'color', 'fuchsia', ...\\n    'line', struct( 'width', 0, ...\\n      'color','') ...\\n    ) ...\\n  );\\n\\nresponse = plotly({data1, data2})\\nurl = response.url\\nfilename = response.filename\".\n Matlab error message: u\"Undefined function or variable 'x1'.\""
       ]
      }
     ],
     "prompt_number": 58
    },
    {
     "cell_type": "heading",
     "level": 2,
     "metadata": {},
     "source": [
      "[ADVANCED PLOT]"
     ]
    },
    {
     "cell_type": "markdown",
     "metadata": {},
     "source": []
    },
    {
     "cell_type": "code",
     "collapsed": false,
     "input": [
      "%%matlab \n",
      "%generate some data\n",
      "x1 = [1, 2, 3]; y1 = [2, 10, 12];\n",
      "x2 = [1, 2, 3]; y2 = [4, 5, 6];\n",
      "\n",
      "%specify the style of each trace\n",
      "data1 = struct(...note\n",
      "  'x', x1, ...\n",
      "  'y', y1, ...\n",
      "  'type', 'scatter', ...options\n",
      "  'name', 'Experiment', ...\n",
      "  'line', struct('color','rgb(3,78,123)',... options\n",
      "        'width',6, ...\n",
      "    'dash','dot'), ...options\n",
      "  'marker', struct('opacity', 1.0, ...\n",
      "    'symbol','square', ...  options\n",
      "    'size',12, ...\n",
      "    'color', 'rgb(54,144,192)', ...\n",
      "    'line', struct('width',3, ... note\n",
      "      'color','lightblue') ...\n",
      "    ) ...\n",
      "  );\n",
      "\n",
      "data2 = struct( ...\n",
      "  'x', x2, ...\n",
      "  'y', y2, ...\n",
      "  'name', 'Control', ...\n",
      "  'line', struct('color', 'purple', ...\n",
      "    'width', 4, ...\n",
      "    'dash', 'dashdot'), ...\n",
      "  'marker', struct('opacity', 0.9, ...\n",
      "    'symbol', 'cross', ...\n",
      "    'size', 16, ...\n",
      "    'color', 'fuchsia', ...\n",
      "    'line', struct( 'width', 0, ...\n",
      "      'color','') ...\n",
      "    ) ...\n",
      "  );\n",
      "\n",
      "response = plotly({data1, data2})\n",
      "url = response.url\n",
      "filename = response.filename"
     ],
     "language": "python",
     "metadata": {},
     "outputs": []
    },
    {
     "cell_type": "code",
     "collapsed": false,
     "input": [
      "show_plot('https://plot.ly/~bronsolo/21')"
     ],
     "language": "python",
     "metadata": {},
     "outputs": [
      {
       "html": [
        "<iframe height=\"550\" id=\"igraph\" scrolling=\"no\" seamless=\"seamless\" src=\"https://plot.ly/~bronsolo/21/700/500\" width=\"750\"></iframe>"
       ],
       "metadata": {},
       "output_type": "pyout",
       "prompt_number": 7,
       "text": [
        "<IPython.core.display.HTML at 0x10f6c76d0>"
       ]
      }
     ],
     "prompt_number": 7
    },
    {
     "cell_type": "code",
     "collapsed": false,
     "input": [
      "# CSS styling within IPython notebook\n",
      "from IPython.core.display import HTML\n",
      "def css_styling():\n",
      "    styles = open(\"/Users/chuckbronson/Documents/IPYTHON/PLOTLY_NOTEBOOK/css/style_notebook.css\", \"r\").read()\n",
      "    return HTML(styles)\n",
      "css_styling()\n",
      "\n"
     ],
     "language": "python",
     "metadata": {},
     "outputs": [
      {
       "html": [
        "<style>\n",
        "    @font-face {\n",
        "        font-family: \"Computer Modern\";\n",
        "        src: url('http://9dbb143991406a7c655e-aa5fcb0a5a4ec34cff238a2d56ca4144.r56.cf5.rackcdn.com/cmunss.otf');\n",
        "    }\n",
        "    @font-face {\n",
        "        font-family: \"Computer Modern\";\n",
        "        font-weight: bold;\n",
        "        src: url('http://9dbb143991406a7c655e-aa5fcb0a5a4ec34cff238a2d56ca4144.r56.cf5.rackcdn.com/cmunsx.otf');\n",
        "    }\n",
        "    @font-face {\n",
        "        font-family: \"Computer Modern\";\n",
        "        font-style: oblique;\n",
        "        src: url('http://9dbb143991406a7c655e-aa5fcb0a5a4ec34cff238a2d56ca4144.r56.cf5.rackcdn.com/cmunsi.otf');\n",
        "    }\n",
        "    @font-face {\n",
        "        font-family: \"Computer Modern\";\n",
        "        font-weight: bold;\n",
        "        font-style: oblique;\n",
        "        src: url('http://9dbb143991406a7c655e-aa5fcb0a5a4ec34cff238a2d56ca4144.r56.cf5.rackcdn.com/cmunso.otf');\n",
        "    }\n",
        "    div.cell{\n",
        "        width:800px;\n",
        "        margin-left:17% !important;\n",
        "        margin-right:auto;\n",
        "    }\n",
        "    h1 {\n",
        "        /* font-family: Computer Modern, serif; */\n",
        "        width:775px;\n",
        "        color:#333333;\n",
        "        font-family: \u2018Lucida Console\u2019, Monaco, monospace;\n",
        "        text-align: center;\n",
        "    }\n",
        "    h2 {\n",
        "        /* font-family: Computer Modern, serif; */\n",
        "        color: #333333;\n",
        "        font-family: \u2018Lucida Console\u2019, Monaco, monospace;\n",
        "        text-align: center;\n",
        "    }\n",
        "    h3 {\n",
        "        width:775px;\n",
        "        /* font-family: Computer Modern, serif; */\n",
        "        width:775px;\n",
        "        color: #333333;\n",
        "        font-family: \u2018Lucida Console\u2019, Monaco, monospace;\n",
        "    }\n",
        "    h4{\n",
        "        color: #333333;\n",
        "        font-family: \u2018Lucida Console\u2019, Monaco, monospace;\n",
        "        margin-top:15px;\n",
        "        margin-bottom: 3px;\n",
        "       }\n",
        "    div.text_cell_render{\n",
        "     /* font-family: Computer Modern, \"Helvetica Neue\", Arial, Helvetica, Geneva, sans-serif; */\n",
        "        color: #333333;\n",
        "     /* font-family: \u2018Palatino Linotype\u2019, \u2018Book Antiqua\u2019, Palatino, serif; */\n",
        "     /* font-family: \u2018Trebuchet MS\u2019, Helvetica, sans-serif; */\n",
        "        font-family: \u2018Lucida Sans Unicode\u2019, \u2018Lucida Grande\u2019, sans-serif;\n",
        "        line-height: 145%;\n",
        "        font-size: 130%;\n",
        "        width: 800px; \n",
        "    }\n",
        "    code{\n",
        "          font-size: 40%;\n",
        "    }\n",
        "    ul{\n",
        "        margin: 2em;\n",
        "    }\n",
        "    ul li{\n",
        "           padding-left: 0.5em;\n",
        "           margin-bottom: 0.5em;\n",
        "           margin-top: 0.5em;\n",
        "           /*font-variant: small-caps;*/\n",
        "    }\n",
        "    a.nounderline:link{\n",
        "       font-weight: bold;\n",
        "       text-decoration:none;\n",
        "    }\n",
        "    a.nounderlineblack:link{\n",
        "       color: #333333;\n",
        "       font-weight: bold;\n",
        "       text-decoration:none;\n",
        "    }\n",
        "    a.nounderlineblack:visited{\n",
        "       color: #333333;\n",
        "       font-weight: bold;\n",
        "       text-decoration:none;\n",
        "    }\n",
        "    a:link{\n",
        "       font-weight: bold;\n",
        "       text-decoration:none;\n",
        "    }\n",
        "    a:visited{\n",
        "       font-weight: bold;\n",
        "       text-decoration: none;\n",
        "    }\n",
        "    a:hover{\n",
        "       text-decoration: none;\n",
        "       font-weight: bold;\n",
        "    }\n",
        "    a:focus{\n",
        "       text-decoration: none;\n",
        "       font-weight: bold;\n",
        "    }\n",
        "    a:active{\n",
        "       text-decoration: none;\n",
        "       font-weight: bold;\n",
        "    }\n",
        "    .CodeMirror{\n",
        "            font-family: \"Source Code Pro\", source-code-pro,Consolas, monospace;\n",
        "    }\n",
        "    .prompt{\n",
        "        display: None;\n",
        "    }\n",
        "    .text_cell_render h5 {\n",
        "        font-weight: 300;\n",
        "        font-size: 22pt;\n",
        "        color: #4057A1;\n",
        "        font-style: italic;\n",
        "        margin-bottom: .5em;\n",
        "        margin-top: 0.5em;\n",
        "        display: block;\n",
        "    }\n",
        "    .warning{\n",
        "        color: rgb( 240, 20, 20 )\n",
        "        }\n",
        "\n",
        "</style>\n",
        "<script>\n",
        "    MathJax.Hub.Config({\n",
        "                        TeX: {\n",
        "                           extensions: [\"AMSmath.js\"]\n",
        "                           },\n",
        "                tex2jax: {\n",
        "                    inlineMath: [ ['$','$'], [\"\\\\(\",\"\\\\)\"] ],\n",
        "                    displayMath: [ ['$$','$$'], [\"\\\\[\",\"\\\\]\"] ]\n",
        "                },\n",
        "                displayAlign: 'center', // Change this to 'center' to center equations.\n",
        "                \"HTML-CSS\": {\n",
        "                    styles: {'.MathJax_Display': {\"margin\": 4}}\n",
        "                }\n",
        "        });\n",
        "</script>"
       ],
       "metadata": {},
       "output_type": "pyout",
       "prompt_number": 123,
       "text": [
        "<IPython.core.display.HTML at 0x10d9a9550>"
       ]
      }
     ],
     "prompt_number": 123
    },
    {
     "cell_type": "code",
     "collapsed": false,
     "input": [],
     "language": "python",
     "metadata": {},
     "outputs": []
    }
   ],
   "metadata": {}
  }
 ]
}