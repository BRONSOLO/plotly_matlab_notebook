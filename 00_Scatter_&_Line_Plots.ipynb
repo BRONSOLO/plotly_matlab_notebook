{
 "metadata": {
  "name": "",
  "signature": "sha256:5f32782021822006fd886aedabd0b75b3af0faf0984efccd962d30a0e0f75852"
 },
 "nbformat": 3,
 "nbformat_minor": 0,
 "worksheets": [
  {
   "cells": [
    {
     "cell_type": "markdown",
     "metadata": {},
     "source": [
      "<center>\n",
      "<img src=\"files/images/pmat.png\" style=\"width: 400px; height: 200px; margin-left: 24.5%;margin-right: auto\"; alt=\"\">\n",
      "</center> \n"
     ]
    },
    {
     "cell_type": "markdown",
     "metadata": {},
     "source": [
      "<h1 id=\"lasp\">LINE AND SCATTER PLOTS</h1>"
     ]
    },
    {
     "cell_type": "markdown",
     "metadata": {},
     "source": [
      ">This notebook provides relevant examples of **LINE AND SCATTER PLOTS** creation using the Plotly Matlatb API. Please have a look at the code provided below to get started! If you are new to Plotly please see the <a href = ./welcome_home.ipynb class = nounderline><font size = \"3pt\">WELCOME HOME</font></a> notebook. If you have any questions, suggestions or just want to chat, please\n",
      "<a href=\"/.\" class=\"nounderline\"><font size = \"3pt\">DROP US A LINE</font></a>."
     ]
    },
    {
     "cell_type": "markdown",
     "metadata": {},
     "source": [
      "<center>\n",
      "<a href = ./welcome_home.ipynb/#toc class=\"nounderline\">TABLE OF CONTENTS</a>&nbsp; &nbsp; **  \u2022   ** &nbsp; &nbsp;<a href=\"#mse\" class=\"nounderline\">MATLAB SYNTAX + FIG2PLOTLY.M </a> &nbsp; &nbsp; **  \u2022   ** &nbsp; &nbsp; <a href=\"#pse\" class=\"nounderline\">PLOTLY SYNTAX</a>"
     ]
    },
    {
     "cell_type": "markdown",
     "metadata": {},
     "source": [
      "<br>\n",
      "<br>\n",
      "<br>\n",
      "<br>"
     ]
    },
    {
     "cell_type": "markdown",
     "metadata": {},
     "source": [
      "<hr size = 5>\n",
      "<center><h2 id=\"mse\">LINE AND SCATTER PLOT: MATLAB SYNTAX</h2></center>\n",
      "<hr size = 5>"
     ]
    },
    {
     "cell_type": "markdown",
     "metadata": {},
     "source": [
      "Line and scatter plots are an excellent way to visualize underlying trend within data consisting of two variables. Typically, line and scatter plots are used to observe relationships between a measured parameter (dependent variable), whose values may vary as a function of an incremented control parameter (indepent variable). Line and scatter plots can also be used to visualize the strength and direction of the correlation between two variables, regardless of whether or not a clear dependent variable exists. For this line and scatter plot walkthrough, we will be considering the <a href = \"http://travel.trade.gov/outreachpages/inbound.general_information.inbound_overview.html\" class = nounderline>2014 U.S. TRAVEL AND TOURISM STATISTICS</a> on the monthly import / export of travel and tourism within the U.S.A. We begin by launching our MATLAB environment and importing <a href = \"http://travel.trade.gov/outreachpages/download_data_table/Monthly_Exports_Imports_Balance.xlsx\" class = nounderline> THE COLLECTED DATA</a>.    "
     ]
    },
    {
     "cell_type": "markdown",
     "metadata": {},
     "source": [
      "\n",
      "<h4>>> OPEN YOUR MATLAB ENVIRONMENT</h4>"
     ]
    },
    {
     "cell_type": "code",
     "collapsed": false,
     "input": [
      "%load_ext pymatbridge"
     ],
     "language": "python",
     "metadata": {},
     "outputs": [
      {
       "output_type": "stream",
       "stream": "stdout",
       "text": [
        "Starting MATLAB on ZMQ socket ipc:///tmp/pymatbridge\n",
        "Send 'exit' command to kill the server\n",
        "."
       ]
      },
      {
       "output_type": "stream",
       "stream": "stdout",
       "text": [
        "."
       ]
      },
      {
       "output_type": "stream",
       "stream": "stdout",
       "text": [
        "."
       ]
      },
      {
       "output_type": "stream",
       "stream": "stdout",
       "text": [
        "."
       ]
      },
      {
       "output_type": "stream",
       "stream": "stdout",
       "text": [
        "."
       ]
      },
      {
       "output_type": "stream",
       "stream": "stdout",
       "text": [
        "."
       ]
      },
      {
       "output_type": "stream",
       "stream": "stdout",
       "text": [
        "."
       ]
      },
      {
       "output_type": "stream",
       "stream": "stdout",
       "text": [
        "."
       ]
      },
      {
       "output_type": "stream",
       "stream": "stdout",
       "text": [
        "."
       ]
      },
      {
       "output_type": "stream",
       "stream": "stdout",
       "text": [
        "."
       ]
      },
      {
       "output_type": "stream",
       "stream": "stdout",
       "text": [
        "."
       ]
      },
      {
       "output_type": "stream",
       "stream": "stdout",
       "text": [
        "."
       ]
      },
      {
       "output_type": "stream",
       "stream": "stdout",
       "text": [
        "."
       ]
      },
      {
       "output_type": "stream",
       "stream": "stdout",
       "text": [
        "."
       ]
      },
      {
       "output_type": "stream",
       "stream": "stdout",
       "text": [
        "MATLAB started and connected!\n"
       ]
      }
     ],
     "prompt_number": 1
    },
    {
     "cell_type": "markdown",
     "metadata": {},
     "source": [
      "<h4> >> LOAD THE TRAVEL AND TOURISM DATA </h4>"
     ]
    },
    {
     "cell_type": "code",
     "collapsed": false,
     "input": [
      "%%matlab\n",
      "\n",
      "    %LOAD THE DATA\n",
      "    travelData = load('./DATA/travelusa.mat'); \n",
      "\n",
      "    %SEPARATE IMPORTS\n",
      "    imports = travelData.balance.imports\n",
      "\n",
      "    %SEPARATE EXPORTS\n",
      "    exports = travelData.balance.exports \n"
     ],
     "language": "python",
     "metadata": {},
     "outputs": [
      {
       "metadata": {},
       "output_type": "display_data",
       "text": [
        "\n",
        "imports = \n",
        "\n",
        "     total: [1x267 double]\n",
        "    travel: [1x267 double]\n",
        "      fare: [1x267 double]\n",
        "\n",
        "\n",
        "exports = \n",
        "\n",
        "    travel: [1x267 double]\n",
        "     total: [1x267 double]\n",
        "     fares: [1x267 double]\n",
        "\n"
       ]
      }
     ],
     "prompt_number": 2
    },
    {
     "cell_type": "markdown",
     "metadata": {},
     "source": [
      "As we can see, the returned fields of the travelData structure array consist of **imports.travel** / **imports.fare** and **exports.travel** / **exports.fare**. Lets take a step back and ask: what is this data describing? For the purposes of this example, **imports** can be equated to all the money associated with travel-related good / services that the U.S.A spends (loses) and **exports** can be equated to all the money associated with any travel-related goods / services that the U.S.A. earns (gains). According to the descriptions included in the spreadsheet of  <a href = \"http://travel.trade.gov/outreachpages/download_data_table/Monthly_Exports_Imports_Balance.xlsx\" class = nounderline> THE COLLECTED DATA</a>, we can break down each term as follows: \n",
      "\n",
      "\n",
      ">**IMPORTS.TRAVEL**: These accounts cover purchases of goods and services by U.S. persons traveling abroad.<br><br>\n",
      "**IMPORTS.FARE**: These accounts cover the fares paid by U.S. residents to foreign air carriers for travel between the United States and foreign countries and foreign vessel operators for travel on cruise vessels.<br><br>\n",
      "**EXPORTS.TRAVEL**: These accounts cover purchases by foreign travelers in the United States for business or personal reasons.<br><br>\n",
      "**EXPORT.FARE**: These accounts cover the fares received by U.S. air carriers from foreign residents for travel between the United States and foreign countries and between two foreign points, the fares received by U.S vessel operators for travel on cruise vessels. \n",
      "<br>"
     ]
    },
    {
     "cell_type": "markdown",
     "metadata": {},
     "source": [
      "<hr size = 5>\n",
      "<center><h2 id=\"mse\">BASIC SCATTER PLOT</h2></center>\n",
      "<hr size = 5>\n",
      "\n"
     ]
    },
    {
     "cell_type": "markdown",
     "metadata": {},
     "source": [
      "Let's have a look at how to create our first Plotly scatter plot using the MATLAB API **fig2plotly.m** function. For more information regading **fig2plotly.m** and all other Plotly MATLAB API functions, consult the complete <a href = \"./getting_started.ipynb#doc\" class = \"nounderline\">FUNCTION DOCUMENTATION</a>. Take a moment to review the syntax if you are unfamilliar with this function call. We will begin by creating a scatter plot in MATLAB using the inherent scatter plot function: \n",
      "<hr size = 3>\n",
      "<font size = 4> <h4> >> scatter.m </h4> </font>\n",
      "<hr size = 3>"
     ]
    },
    {
     "cell_type": "code",
     "collapsed": false,
     "input": [
      "%%matlab\n",
      "scatter_help = help('scatter'); \n",
      "scatter_help_out = scatter_help(1:730)"
     ],
     "language": "python",
     "metadata": {},
     "outputs": [
      {
       "metadata": {},
       "output_type": "display_data",
       "text": [
        "\n",
        "scatter_help_out =\n",
        "\n",
        " SCATTER Scatter/bubble plot.\n",
        "    SCATTER(X,Y,S,C) displays colored circles at the locations specified\n",
        "    by the vectors X and Y (which must be the same size).  \n",
        " \n",
        "    S determines the area of each marker (in points^2). S can be a\n",
        "    vector the same length a X and Y or a scalar. If S is a scalar, \n",
        "    MATLAB draws all the markers the same size. If S is empty, the\n",
        "    default size is used.\n",
        "    \n",
        "    C determines the colors of the markers. When C is a vector the\n",
        "    same length as X and Y, the values in C are linearly mapped\n",
        "    to the colors in the current colormap. When C is a \n",
        "    length(X)-by-3 matrix, it directly specifies the colors of the  \n",
        "    markers as RGB values. C can also be a color string. See ColorSpec.\n",
        " \n",
        " \n",
        "\n"
       ]
      }
     ],
     "prompt_number": 4
    },
    {
     "cell_type": "markdown",
     "metadata": {},
     "source": [
      "<hr size = 3>"
     ]
    },
    {
     "cell_type": "markdown",
     "metadata": {},
     "source": [
      "We can now create a first visualization of our data and throw it over to Plotly as follows: "
     ]
    },
    {
     "cell_type": "code",
     "collapsed": false,
     "input": [
      "%%matlab\n",
      "\n",
      "%new matlab figure\n",
      "fig = figure; \n",
      "\n",
      "%first scatter plot colour\n",
      "col1 = [50 200 200]/255; \n",
      "\n",
      "%scatter plot imports.travel vs. imports.fare\n",
      "scatter(imports.travel,imports.fare,100,col1,'o')\n",
      "\n",
      "%on the same plot... \n",
      "hold on\n",
      "\n",
      "%second scatter plot colour \n",
      "col2 = [100 20 250]/255; \n",
      "\n",
      "%scatter plot exorts.travel vs. exports.fare \n",
      "scatter(exports.travel,exports.fares,100, col2,'o')\n",
      "\n",
      "%turn on the axes grid\n",
      "grid\n",
      "\n",
      "\n",
      "%%%%%%%%%%%%%%%%%%%%%%\n",
      "%       PLOTLY       %\n",
      "%%%%%%%%%%%%%%%%%%%%%%\n",
      "\n",
      "resp = fig2plotly(fig,'name','tourism_scatter_basic');"
     ],
     "language": "python",
     "metadata": {},
     "outputs": [
      {
       "metadata": {},
       "output_type": "display_data",
       "png": "[encoded data removed]"
      }
     ],
     "prompt_number": 54
    },
    {
     "cell_type": "markdown",
     "metadata": {},
     "source": [
      "The last line of the above code was our call to Plotly using **fig2plotly.m**. We can now inspect the resulting response variable, **resp**, as follows: "
     ]
    },
    {
     "cell_type": "code",
     "collapsed": false,
     "input": [
      "%%matlab\n",
      "resp"
     ],
     "language": "python",
     "metadata": {},
     "outputs": [
      {
       "metadata": {},
       "output_type": "display_data",
       "text": [
        "\n",
        "resp = \n",
        "\n",
        "         url: 'https://plot.ly/~matlab_user_guide/726'\n",
        "     message: [1x0 char]\n",
        "     warning: [1x0 char]\n",
        "    filename: 'tourism_scatter_basic'\n",
        "       error: [1x0 char]\n",
        "\n"
       ]
      }
     ],
     "prompt_number": 34
    },
    {
     "cell_type": "markdown",
     "metadata": {},
     "source": [
      "The url specified in **resp.url** indicates the location of our newly created Plotly scatter plot. Let's have a look at our newest creation: "
     ]
    },
    {
     "cell_type": "code",
     "collapsed": false,
     "input": [
      "show_plot('https://plot.ly/~matlab_user_guide/726')"
     ],
     "language": "python",
     "metadata": {},
     "outputs": [
      {
       "html": [
        "<iframe height=\"650\" id=\"igraph\" frameborder = 0 seamless=\"seamless\" scrolling=\"no\" src=\"https://plot.ly/~matlab_user_guide/726/800/650\" width=\"800\"></iframe>"
       ],
       "metadata": {},
       "output_type": "pyout",
       "prompt_number": 35,
       "text": [
        "<IPython.core.display.HTML at 0x108d1da50>"
       ]
      }
     ],
     "prompt_number": 35
    },
    {
     "cell_type": "markdown",
     "metadata": {},
     "source": [
      "So Awesome! Try scrolling over the data visualized above to experience the interactivity of the Plotly generated plots. Clicking and dragging allows you to zoom in, holding shift while click-and-dragging allows you to pan, and double clicking reverts back to the original view. Now that our scatter plot is online, we can easily share it with our colleagues, embed it in our online documents, and never have to worry about local data storage. Plotly handles all of that for you!\n",
      "<br>\n",
      "<br>"
     ]
    },
    {
     "cell_type": "markdown",
     "metadata": {},
     "source": [
      "<hr size = 5>\n",
      "<center><h2 id=\"mse\">TITLES, LABELS ANS LEGENDS</h2></center>\n",
      "<hr size = 5>"
     ]
    },
    {
     "cell_type": "markdown",
     "metadata": {},
     "source": [
      "To help ouselves and our colleagues better understand the information being conveyed, we must add four essential ingredients to this plot: a **title**, **x-axis label**, **y-axis label**, and **legend**. We can use the following inherent MATLAB functions to accomplish this task: \n",
      "\n",
      "<hr size = 3>\n",
      "<font size = 4> <h4> >> title.m </h4> </font>\n",
      "<hr size = 3>"
     ]
    },
    {
     "cell_type": "code",
     "collapsed": false,
     "input": [
      "%%matlab\n",
      "title_help = help('title'); \n",
      "title_help_out = title_help(1:360)"
     ],
     "language": "python",
     "metadata": {},
     "outputs": [
      {
       "metadata": {},
       "output_type": "display_data",
       "text": [
        "\n",
        "title_help_out =\n",
        "\n",
        " TITLE  Graph title.\n",
        "    TITLE('text') adds text at the top of the current axis.\n",
        " \n",
        "    TITLE('text','Property1',PropertyValue1,'Property2',PropertyValue2,...)\n",
        "    sets the values of the specified properties of the title.\n",
        " \n",
        "    TITLE(AX,...) adds the title to the specified axes.\n",
        " \n",
        "    H = TITLE(...) returns the handle to the text object used as the title.\n",
        " \n",
        " \n",
        "\n"
       ]
      }
     ],
     "prompt_number": 8
    },
    {
     "cell_type": "markdown",
     "metadata": {},
     "source": [
      "<hr size = 1>"
     ]
    },
    {
     "cell_type": "markdown",
     "metadata": {},
     "source": [
      "<hr size = 3>\n",
      "<font size = 4> <h4> >> xlabel.m </h4> </font>\n",
      "<hr size = 3>\n"
     ]
    },
    {
     "cell_type": "code",
     "collapsed": false,
     "input": [
      "%%matlab\n",
      "xlabel_help = help('xlabel'); \n",
      "xlabel_help_out = xlabel_help(1:370)"
     ],
     "language": "python",
     "metadata": {},
     "outputs": [
      {
       "metadata": {},
       "output_type": "display_data",
       "text": [
        "\n",
        "xlabel_help_out =\n",
        "\n",
        " XLABEL X-axis label.\n",
        "    XLABEL('text') adds text beside the X-axis on the current axis.\n",
        " \n",
        "    XLABEL('text','Property1',PropertyValue1,'Property2',PropertyValue2,...)\n",
        "    sets the values of the specified properties of the xlabel.\n",
        " \n",
        "    XLABEL(AX,...) adds the xlabel to the specified axes.\n",
        " \n",
        "    H = XLABEL(...) returns the handle to the text object used as the label.\n",
        "\n"
       ]
      }
     ],
     "prompt_number": 10
    },
    {
     "cell_type": "markdown",
     "metadata": {},
     "source": [
      "<hr size = 1>"
     ]
    },
    {
     "cell_type": "markdown",
     "metadata": {},
     "source": [
      "<hr size = 3>\n",
      "<font size = 4> <h4> >> ylabel.m </h4></font> \n",
      "<hr size = 3>\n"
     ]
    },
    {
     "cell_type": "code",
     "collapsed": false,
     "input": [
      "%%matlab\n",
      "ylabel_help = help('ylabel'); \n",
      "ylabel_help_out = ylabel_help(1:370)"
     ],
     "language": "python",
     "metadata": {},
     "outputs": [
      {
       "metadata": {},
       "output_type": "display_data",
       "text": [
        "\n",
        "ylabel_help_out =\n",
        "\n",
        " YLABEL Y-axis label.\n",
        "    YLABEL('text') adds text beside the Y-axis on the current axis.\n",
        " \n",
        "    YLABEL('text','Property1',PropertyValue1,'Property2',PropertyValue2,...)\n",
        "    sets the values of the specified properties of the ylabel.\n",
        " \n",
        "    YLABEL(AX,...) adds the ylabel to the specified axes.\n",
        " \n",
        "    H = YLABEL(...) returns the handle to the text object used as the label.\n",
        "\n"
       ]
      }
     ],
     "prompt_number": 12
    },
    {
     "cell_type": "markdown",
     "metadata": {},
     "source": [
      "<hr size = 1>"
     ]
    },
    {
     "cell_type": "markdown",
     "metadata": {},
     "source": [
      "<hr size = 3>\n",
      "<font size = 4> <h4> >> legend.m </h4> </font>\n",
      "<hr size = 3>\n"
     ]
    },
    {
     "cell_type": "code",
     "collapsed": false,
     "input": [
      "%%matlab\n",
      "legend_help = help('legend'); \n",
      "legend_help_out = legend_help(1:380)"
     ],
     "language": "python",
     "metadata": {},
     "outputs": [
      {
       "metadata": {},
       "output_type": "display_data",
       "text": [
        "\n",
        "legend_help_out =\n",
        "\n",
        " LEGEND Display legend.\n",
        "    LEGEND(string1,string2,string3, ...) puts a legend on the current plot\n",
        "    using the specified strings as labels. LEGEND works on line graphs,\n",
        "    bar graphs, pie graphs, ribbon plots, etc.  You can label any\n",
        "    solid-colored patch or surface object.  The fontsize and fontname for\n",
        "    the legend strings matches the axes fontsize and fontname.\n",
        " \n",
        "    \n",
        "\n"
       ]
      }
     ],
     "prompt_number": 13
    },
    {
     "cell_type": "markdown",
     "metadata": {},
     "source": [
      "Let's have a go at adding all four of these elements to the plot we just created. "
     ]
    },
    {
     "cell_type": "code",
     "collapsed": false,
     "input": [
      "%%matlab\n",
      "\n",
      "%---- FROM BEFORE ---- %\n",
      "\n",
      "%new matlab figure\n",
      "fig = figure; \n",
      "\n",
      "%first scatter plot colour\n",
      "col1 = [50 200 200]/255; \n",
      "\n",
      "%scatter plot imports.travel vs. imports.fare\n",
      "scatter(imports.travel,imports.fare,100,col1)\n",
      "\n",
      "%on the same plot... \n",
      "hold on\n",
      "\n",
      "%second scatter plot colour \n",
      "col2 = [100 20 250]/255; \n",
      "\n",
      "%scatter plot exorts.travel vs. exports.fare \n",
      "scatter(exports.travel,exports.fares,100, col2)\n",
      "\n",
      "%turn on the axes grid\n",
      "grid\n",
      "\n",
      "%---- TITLE/LABELS/LEGEND ---%\n",
      "\n",
      "title('2014 U.S. Travel and Tourism Statistics')\n",
      "xlabel('Travel (Millions USD)')\n",
      "ylabel('Fares (Millions USD)')\n",
      "legend('Imports','Exports','Location','BestOutside')\n",
      "\n",
      "%turn off the legend box \n",
      "legend boxoff\n",
      "\n",
      "%%%%%%%%%%%%%%%%%%%%%%\n",
      "%       PLOTLY       %\n",
      "%%%%%%%%%%%%%%%%%%%%%%\n",
      "\n",
      "resp = fig2plotly(fig,'name','tourism_scatter_title_label_legend');"
     ],
     "language": "python",
     "metadata": {},
     "outputs": [
      {
       "metadata": {},
       "output_type": "display_data",
       "png": "[encoded data removed]"
      }
     ],
     "prompt_number": 93
    },
    {
     "cell_type": "markdown",
     "metadata": {},
     "source": [
      "Let's take a look at our Plotly generated plot!"
     ]
    },
    {
     "cell_type": "code",
     "collapsed": false,
     "input": [
      "%%matlab\n",
      "resp"
     ],
     "language": "python",
     "metadata": {},
     "outputs": [
      {
       "metadata": {},
       "output_type": "display_data",
       "text": [
        "\n",
        "resp = \n",
        "\n",
        "         url: 'https://plot.ly/~matlab_user_guide/746'\n",
        "     message: [1x0 char]\n",
        "     warning: [1x0 char]\n",
        "    filename: 'tourism_scatter_title_label_legend'\n",
        "       error: [1x0 char]\n",
        "\n"
       ]
      }
     ],
     "prompt_number": 94
    },
    {
     "cell_type": "code",
     "collapsed": false,
     "input": [
      "show_plot('https://plot.ly/~matlab_user_guide/746')"
     ],
     "language": "python",
     "metadata": {},
     "outputs": [
      {
       "html": [
        "<iframe height=\"650\" id=\"igraph\" frameborder = 0 seamless=\"seamless\" scrolling=\"no\" src=\"https://plot.ly/~matlab_user_guide/746/800/650\" width=\"800\"></iframe>"
       ],
       "metadata": {},
       "output_type": "pyout",
       "prompt_number": 95,
       "text": [
        "<IPython.core.display.HTML at 0x109450a10>"
       ]
      }
     ],
     "prompt_number": 95
    },
    {
     "cell_type": "markdown",
     "metadata": {},
     "source": [
      "This is starting to look really good! Now would be a good time to introduce a little statistical analysis into our plots. For this, we will need to introduce line plots. "
     ]
    },
    {
     "cell_type": "markdown",
     "metadata": {},
     "source": [
      "<hr size = 5>\n",
      "<center><h2 id=\"mse\">BASIC SCATTER + LINE PLOT</h2></center>\n",
      "<hr size = 5>"
     ]
    },
    {
     "cell_type": "markdown",
     "metadata": {},
     "source": [
      "Trend lines, or lines of best fit, are standard practice when it comes to describing a suspected linear relationship between two variables. Upon visual inspection of the above plot, there is a seemingly strong linear realtionship between the **travel** and **fares expenditures**. "
     ]
    },
    {
     "cell_type": "code",
     "collapsed": false,
     "input": [
      "%%matlab\n",
      "plot_help = help('plot'); \n",
      "plot_help_out = plot_help(1:320)"
     ],
     "language": "python",
     "metadata": {},
     "outputs": [
      {
       "metadata": {},
       "output_type": "display_data",
       "text": [
        "\n",
        "plot_help_out =\n",
        "\n",
        " PLOT   Linear plot. \n",
        "    PLOT(X,Y) plots vector Y versus vector X. If X or Y is a matrix,\n",
        "    then the vector is plotted versus the rows or columns of the matrix,\n",
        "    whichever line up.  If X is a scalar and Y is a vector, disconnected\n",
        "    line objects are created and plotted as discrete points vertically at\n",
        "    X.\n",
        " \n",
        "\n",
        "\n"
       ]
      }
     ],
     "prompt_number": 96
    },
    {
     "cell_type": "code",
     "collapsed": false,
     "input": [
      "%%matlab \n",
      "\n",
      "%---- FROM BEFORE ---- %\n",
      "\n",
      "%new matlab figure\n",
      "fig = figure; \n",
      "\n",
      "%first scatter plot colour\n",
      "col1 = [50 200 200]/255; \n",
      "\n",
      "%scatter plot imports.travel vs. imports.fare\n",
      "scatter(imports.travel,imports.fare,100,col1)\n",
      "\n",
      "%on the same plot... \n",
      "hold on\n",
      "\n",
      "%second scatter plot colour \n",
      "col2 = [100 20 250]/255; \n",
      "\n",
      "%scatter plot exorts.travel vs. exports.fare \n",
      "scatter(exports.travel,exports.fares,100, col2)\n",
      "\n",
      "%Title/labels \n",
      "title('2014 U.S. Travel and Tourism Statistics')\n",
      "xlabel('Travel (Millions USD)')\n",
      "ylabel('Fares (Millions USD)')\n",
      "\n",
      "%---- LINE PLOTS ---%\n",
      "\n",
      "%line plot for imports: line of best fit\n",
      "coeffs1 = polyfit(imports.travel,imports.fare, 1);\n",
      "\n",
      "% Get fitted values\n",
      "fittedX1 = linspace(min(imports.travel), max(imports.travel), 200);\n",
      "fittedY1 = polyval(coeffs1, fittedX1);\n",
      "\n",
      "%first trend line  colour \n",
      "col3 = [50 100 100]/255; \n",
      "\n",
      "%Plot the fitted line\n",
      "hold on;\n",
      "plot(fittedX1, fittedY1, 'LineWidth', 4,'Color',col3,'LineStyle','--');\n",
      "\n",
      "%line plot for exports: line of best fit\n",
      "coeffs2 = polyfit(exports.travel,exports.fares, 1);\n",
      "\n",
      "% Get fitted values\n",
      "fittedX2 = linspace(min(exports.travel), max(exports.travel), 200);\n",
      "fittedY2 = polyval(coeffs2, fittedX2);\n",
      "\n",
      "%second trend line colour \n",
      "col4 = [100 20 150]/255; \n",
      "\n",
      "% Plot the fitted line\n",
      "hold on;\n",
      "plot(fittedX2, fittedY2, 'LineWidth', 4,'Color',col4,'LineStyle','--');\n",
      "\n",
      "%turn on the axes grid\n",
      "grid\n",
      "\n",
      "%add a legend with the newly created trend lines\n",
      "legend('Imports','Exports','LBF: Imports','LBF: Exports','Location','BestOutside')\n",
      "\n",
      "%turn off the legend border\n",
      "legend boxoff\n",
      "\n",
      "%%%%%%%%%%%%%%%%%%%%%%\n",
      "%       PLOTLY       %\n",
      "%%%%%%%%%%%%%%%%%%%%%%\n",
      "\n",
      "resp = fig2plotly(fig,'name','tourism_line_trend');"
     ],
     "language": "python",
     "metadata": {},
     "outputs": [
      {
       "metadata": {},
       "output_type": "display_data",
       "png": "[encoded data removed]"
      }
     ],
     "prompt_number": 98
    },
    {
     "cell_type": "code",
     "collapsed": false,
     "input": [
      "%%matlab \n",
      "resp"
     ],
     "language": "python",
     "metadata": {},
     "outputs": [
      {
       "metadata": {},
       "output_type": "display_data",
       "text": [
        "\n",
        "resp = \n",
        "\n",
        "         url: 'https://plot.ly/~matlab_user_guide/730'\n",
        "     message: [1x0 char]\n",
        "     warning: [1x0 char]\n",
        "    filename: 'tourism_line_trend'\n",
        "       error: [1x0 char]\n",
        "\n"
       ]
      }
     ],
     "prompt_number": 100
    },
    {
     "cell_type": "code",
     "collapsed": false,
     "input": [
      "show_plot('https://plot.ly/~matlab_user_guide/730')"
     ],
     "language": "python",
     "metadata": {},
     "outputs": [
      {
       "html": [
        "<iframe height=\"650\" id=\"igraph\" frameborder = 0 seamless=\"seamless\" scrolling=\"no\" src=\"https://plot.ly/~matlab_user_guide/730/800/650\" width=\"800\"></iframe>"
       ],
       "metadata": {},
       "output_type": "pyout",
       "prompt_number": 101,
       "text": [
        "<IPython.core.display.HTML at 0x109450d50>"
       ]
      }
     ],
     "prompt_number": 101
    },
    {
     "cell_type": "markdown",
     "metadata": {},
     "source": [
      "<hr size = 5>\n",
      "<center><h2 id=\"mse\">ANNOTATIONS</h2></center>\n",
      "<hr size = 5>"
     ]
    },
    {
     "cell_type": "markdown",
     "metadata": {},
     "source": [
      "Once we have visually described the underlying trends in the data (using the estimated lines of best fit), it is beneficial to also include a mathematical description of the estimated behaviour. This is easily accomplished using the inherent **text.m** MATLAB function:  "
     ]
    },
    {
     "cell_type": "code",
     "collapsed": false,
     "input": [
      "%%matlab\n",
      "plot_help = help('text');                                                                                                                                                                                                                                                                                                                                                                                                                                     \n",
      "plot_help_out = plot_help(1:400)"
     ],
     "language": "python",
     "metadata": {},
     "outputs": [
      {
       "metadata": {},
       "output_type": "display_data",
       "text": [
        "\n",
        "plot_help_out =\n",
        "\n",
        " TEXT   Text annotation.\n",
        "    TEXT(X,Y,'string') adds the text in the quotes to location (X,Y)\n",
        "    on the current axes, where (X,Y) is in units from the current\n",
        "    plot. If X and Y are vectors, TEXT writes the text at all locations\n",
        "    given. If 'string' is an array the same number of rows as the\n",
        "    length of X and Y, TEXT marks each point with the corresponding row\n",
        "    of the 'string' array.\n",
        " \n",
        " \n",
        "\n"
       ]
      }
     ],
     "prompt_number": 102
    },
    {
     "cell_type": "markdown",
     "metadata": {},
     "source": [
      "Using the above syntax, we can now add a basic annotation, labelling each line of best fit. "
     ]
    },
    {
     "cell_type": "code",
     "collapsed": false,
     "input": [
      "%%matlab \n",
      "\n",
      "%---- FROM BEFORE ---- %\n",
      "\n",
      "%new matlab figure\n",
      "fig = figure; \n",
      "\n",
      "%first scatter plot colour\n",
      "col1 = [50 200 200]/255; \n",
      "\n",
      "%scatter plot imports.travel vs. imports.fare\n",
      "scatter(imports.travel,imports.fare,100,col1)\n",
      "\n",
      "%on the same plot... \n",
      "hold on\n",
      "\n",
      "%second scatter plot colour \n",
      "col2 = [100 20 250]/255; \n",
      "\n",
      "%scatter plot exorts.travel vs. exports.fare \n",
      "scatter(exports.travel,exports.fares,100, col2)\n",
      "\n",
      "title('2014 U.S. Travel and Tourism Statistics')\n",
      "xlabel('Travel (Millions USD)')\n",
      "ylabel('Fares (Millions USD)')\n",
      "\n",
      "%line plot for imports: line of best fit\n",
      "coeffs1 = polyfit(imports.travel,imports.fare, 1);\n",
      "\n",
      "% Get fitted values\n",
      "fittedX1 = linspace(min(imports.travel), max(imports.travel), 200);\n",
      "fittedY1 = polyval(coeffs1, fittedX1);\n",
      "\n",
      "%first trend line  colour \n",
      "col3 = [50 100 100]/255; \n",
      "\n",
      "%Plot the fitted line\n",
      "hold on;\n",
      "plot(fittedX1, fittedY1, 'LineWidth', 4,'Color',col3,'LineStyle','--');\n",
      "\n",
      "%line plot for exports: line of best fit\n",
      "coeffs2 = polyfit(exports.travel,exports.fares, 1);\n",
      "\n",
      "% Get fitted values\n",
      "fittedX2 = linspace(min(exports.travel), max(exports.travel), 200);\n",
      "fittedY2 = polyval(coeffs2, fittedX2);\n",
      "\n",
      "%second trend line colour \n",
      "col4 = [100 20 150]/255; \n",
      "\n",
      "\n",
      "% Plot the fitted line\n",
      "hold on;\n",
      "plot(fittedX2, fittedY2, 'LineWidth', 4,'Color',col4,'LineStyle','--');\n",
      "\n",
      "%turn on the axes grid\n",
      "grid\n",
      "\n",
      "%add a legend with the newly created trend lines\n",
      "legend('Imports','Exports','LBF: Imports','LBF: Exports','Location','BestOutside')\n",
      "\n",
      "%turn off the legend box\n",
      "legend boxoff\n",
      "\n",
      "%add annotaitons to the lines of best fit\n",
      "text(7700,3000,'$l_1$','FontSize',24,'Interpreter','latex','VerticalAlignment','Bottom');\n",
      "text(12500,3600,'$l_2$','FontSize',24,'Interpreter','latex','VerticalAlignment','Bottom');\n",
      "text(14500,3000,'$l_1 = ax + b$','FontSize',18,'Interpreter','latex','VerticalAlignment','Bottom');\n",
      "text(14500,2500,'$l_2 = ax + b$','FontSize',18,'Interpreter','latex','VerticalAlignment','Bottom');\n",
      "\n",
      "%%%%%%%%%%%%%%%%%%%%%%\n",
      "%       PLOTLY       %\n",
      "%%%%%%%%%%%%%%%%%%%%%%\n",
      "\n",
      "resp = fig2plotly(fig,'name','tourism_line_trend_annotation');"
     ],
     "language": "python",
     "metadata": {},
     "outputs": [
      {
       "metadata": {},
       "output_type": "display_data",
       "png": "[encoded data removed]"
      }
     ],
     "prompt_number": 126
    },
    {
     "cell_type": "code",
     "collapsed": false,
     "input": [
      "%%matlab \n",
      "resp.url"
     ],
     "language": "python",
     "metadata": {},
     "outputs": [
      {
       "metadata": {},
       "output_type": "display_data",
       "text": [
        "\n",
        "ans =\n",
        "\n",
        "https://plot.ly/~matlab_user_guide/781\n",
        "\n"
       ]
      }
     ],
     "prompt_number": 127
    },
    {
     "cell_type": "code",
     "collapsed": false,
     "input": [
      "show_plot('https://plot.ly/~matlab_user_guide/781')"
     ],
     "language": "python",
     "metadata": {},
     "outputs": [
      {
       "html": [
        "<iframe height=\"650\" id=\"igraph\" frameborder = 0 seamless=\"seamless\" scrolling=\"no\" src=\"https://plot.ly/~matlab_user_guide/781/800/650\" width=\"800\"></iframe>"
       ],
       "metadata": {},
       "output_type": "pyout",
       "prompt_number": 125,
       "text": [
        "<IPython.core.display.HTML at 0x1098a3090>"
       ]
      }
     ],
     "prompt_number": 125
    },
    {
     "cell_type": "markdown",
     "metadata": {},
     "source": [
      "<hr size = 5>\n",
      "<center><h2 id=\"mse\">TIME SERIES LINE PLOTS</h2></center>\n",
      "<hr size = 5>"
     ]
    },
    {
     "cell_type": "code",
     "collapsed": false,
     "input": [
      "%%matlab \n",
      "\n",
      "%---- FROM BEFORE ---- %\n",
      "\n",
      "%first line plot colour\n",
      "col1 = [50 200 200]/255;\n",
      "\n",
      "%second line plot colour\n",
      "col2 = [100 20 250]/255;\n",
      "\n",
      "%third line plot colour\n",
      "col3 = [50 100 100]/255; \n",
      "\n",
      "%sourth line plot colour\n",
      "col4 = [100 20 150]/255; \n",
      "\n",
      "\n",
      "%new matlab figure\n",
      "fig = figure; \n",
      "hold on\n",
      "plot(imports.travel,'Color',col1,'LineWidth',6)\n",
      "plot(imports.fare,'Color',col2,'LineWidth',6)\n",
      "plot(exports.travel,'Color',col3,'LineWidth',6)\n",
      "plot(exports.fares,'Color',col4,'LineWidth',6)\n",
      "grid\n",
      "\n",
      "%%%%%%%%%%%%%%%%%%%%%%\n",
      "%       PLOTLY       %\n",
      "%%%%%%%%%%%%%%%%%%%%%%\n",
      "\n",
      "resp = fig2plotly(fig,'name','tourism_line_timeseries');"
     ],
     "language": "python",
     "metadata": {},
     "outputs": [
      {
       "metadata": {},
       "output_type": "display_data",
       "png": "[encoded data removed]"
      }
     ],
     "prompt_number": 52
    },
    {
     "cell_type": "code",
     "collapsed": false,
     "input": [
      "%%matlab \n",
      "\n",
      "resp"
     ],
     "language": "python",
     "metadata": {},
     "outputs": [
      {
       "metadata": {},
       "output_type": "display_data",
       "text": [
        "\n",
        "resp = \n",
        "\n",
        "         url: 'https://plot.ly/~matlab_user_guide/729'\n",
        "     message: [1x0 char]\n",
        "     warning: [1x0 char]\n",
        "    filename: 'tourism_line_timeseries'\n",
        "       error: [1x0 char]\n",
        "\n"
       ]
      }
     ],
     "prompt_number": 37
    },
    {
     "cell_type": "code",
     "collapsed": false,
     "input": [
      "show_plot('https://plot.ly/~matlab_user_guide/729')"
     ],
     "language": "python",
     "metadata": {},
     "outputs": [
      {
       "html": [
        "<iframe height=\"650\" id=\"igraph\" frameborder = 0 seamless=\"seamless\" scrolling=\"no\" src=\"https://plot.ly/~matlab_user_guide/729/800/650\" width=\"800\"></iframe>"
       ],
       "metadata": {},
       "output_type": "pyout",
       "prompt_number": 39,
       "text": [
        "<IPython.core.display.HTML at 0x108d1dc10>"
       ]
      }
     ],
     "prompt_number": 39
    },
    {
     "cell_type": "code",
     "collapsed": false,
     "input": [
      "%%matlab \n",
      "\n",
      "%---- FROM BEFORE ---- %\n",
      "\n",
      "%first line plot colour\n",
      "col1 = [50 200 200]/255;\n",
      "\n",
      "%second line plot colour\n",
      "col2 = [100 20 250]/255;\n",
      "\n",
      "%third line plot colour\n",
      "col3 = [50 100 100]/255; \n",
      "\n",
      "%sourth line plot colour\n",
      "col4 = [100 20 150]/255; \n",
      "\n",
      "\n",
      "%new matlab figure\n",
      "fig = figure; \n",
      "subplot(2,1,1)\n",
      "plot(imports.travel,'Color',col1,'LineWidth',4)\n",
      "grid\n",
      "hold on\n",
      "plot(imports.fare,'Color',col2,'LineWidth',4)\n",
      "\n",
      "subplot(2,1,2)\n",
      "plot(exports.travel,'Color',col3,'LineWidth',4)\n",
      "grid\n",
      "hold on\n",
      "plot(exports.fares,'Color',col4,'LineWidth',4)\n",
      "\n",
      "\n",
      "\n",
      "%%%%%%%%%%%%%%%%%%%%%%\n",
      "%       PLOTLY       %\n",
      "%%%%%%%%%%%%%%%%%%%%%%\n",
      "\n",
      "resp = fig2plotly(fig,'name','tourism_line_timeseries_subplot');"
     ],
     "language": "python",
     "metadata": {},
     "outputs": [
      {
       "metadata": {},
       "output_type": "display_data",
       "png": "[encoded data removed]"
      }
     ],
     "prompt_number": 40
    },
    {
     "cell_type": "code",
     "collapsed": false,
     "input": [
      "%%matlab\n",
      "resp"
     ],
     "language": "python",
     "metadata": {},
     "outputs": [
      {
       "metadata": {},
       "output_type": "display_data",
       "text": [
        "\n",
        "resp = \n",
        "\n",
        "         url: 'https://plot.ly/~matlab_user_guide/731'\n",
        "     message: [1x0 char]\n",
        "     warning: [1x0 char]\n",
        "    filename: 'tourism_line_timeseries_subplot'\n",
        "       error: [1x0 char]\n",
        "\n"
       ]
      }
     ],
     "prompt_number": 41
    },
    {
     "cell_type": "code",
     "collapsed": false,
     "input": [
      "show_plot('https://plot.ly/~matlab_user_guide/731')"
     ],
     "language": "python",
     "metadata": {},
     "outputs": [
      {
       "html": [
        "<iframe height=\"650\" id=\"igraph\" frameborder = 0 seamless=\"seamless\" scrolling=\"no\" src=\"https://plot.ly/~matlab_user_guide/731/800/650\" width=\"800\"></iframe>"
       ],
       "metadata": {},
       "output_type": "pyout",
       "prompt_number": 128,
       "text": [
        "<IPython.core.display.HTML at 0x1098a3410>"
       ]
      }
     ],
     "prompt_number": 128
    },
    {
     "cell_type": "markdown",
     "metadata": {},
     "source": [
      "<hr size = 5>\n",
      "<center><h2 id=\"mse\">LINE AND SCATTER PLOT: PLOTLY SYNTAX</h2></center>\n",
      "<hr size = 5>"
     ]
    },
    {
     "cell_type": "markdown",
     "metadata": {},
     "source": [
      "We will now recreat the above plots using Plotly syntax. It is helpful to know how to use this Plotly syntax directly in case there are certain elements of your plot not yet captured using  **fig2plotly.m**. We begin again by making a basic scatter plot. "
     ]
    },
    {
     "cell_type": "markdown",
     "metadata": {},
     "source": [
      "<hr size = 5>\n",
      "<center><h2 id=\"mse\">BASIC SCATTER PLOT</h2></center>\n",
      "<hr size = 5>"
     ]
    },
    {
     "cell_type": "code",
     "collapsed": false,
     "input": [
      "%%matlab\n",
      "\n",
      "%--------DATA 1----------%\n",
      "data{1}.type = 'scatter'; \n",
      "data{1}.x = imports.travel; \n",
      "data{1}.y = imports.fare; \n",
      "data{1}.mode = 'markers'; \n",
      "data{1}.marker.symbol = 'dot'; \n",
      "data{1}.marker.size = 10; \n",
      "data{1}.marker.line.color = 'rgba(50,200,200,0.3)'; \n",
      "data{1}.marker.line.width = 1; \n",
      "data{1}.marker.color = 'rgba(0,0,0,0)';\n",
      "data{1}.showlegend = false; \n",
      "\n",
      "%--------DATA 2----------%\n",
      "data{2}.type = 'scatter'; \n",
      "data{2}.x = exports.travel; \n",
      "data{2}.y = exports.fares; \n",
      "data{2}.mode = 'markers'; \n",
      "data{2}.marker.symbol = 'dot'; \n",
      "data{2}.marker.size = 10; \n",
      "data{2}.marker.line.color = 'rgba(100 20 250,0.3)'; \n",
      "data{2}.marker.line.width = 1; \n",
      "data{2}.marker.color = 'rgba(0,0,0,0)'; \n",
      "data{2}.showlegend = false; \n",
      "\n",
      "%------AXIS LAYOUT------%\n",
      "layout.xaxis.range = [2000 14000];\n",
      "layout.xaxis.showline = true; \n",
      "layout.xaxis.mirror = true; \n",
      "layout.xaxis.title = 'Travel (Millions USD)'; \n",
      "layout.yaxis.range = [500 4000];\n",
      "layout.yaxis.showline = true; \n",
      "layout.yaxis.mirror = true;\n",
      "layout.yaxis.title = 'Fares (Millions USD)'; \n",
      "\n",
      "%------PLOT LAYOUT------%\n",
      "layout.title = '2014 U.S. Travel and Tourism Statistics'; \n",
      "\n",
      "%--AUXILIARY ARGUMENTS--%\n",
      "args.filename = 'tourism_basic_scater_plotly_syntax'; \n",
      "args.fileopt = 'overwrite'; \n",
      "args.layout = layout; \n",
      "\n",
      "%----CALL TO PLOTLY----%\n",
      "resp = plotly(data,args)"
     ],
     "language": "python",
     "metadata": {},
     "outputs": [
      {
       "metadata": {},
       "output_type": "display_data",
       "text": [
        "\n",
        "resp = \n",
        "\n",
        "         url: 'https://plot.ly/~matlab_user_guide/784'\n",
        "     message: [1x0 char]\n",
        "     warning: [1x0 char]\n",
        "    filename: 'tourism_basic_scater_plotly_syntax'\n",
        "       error: [1x0 char]\n",
        "\n"
       ]
      }
     ],
     "prompt_number": 202
    },
    {
     "cell_type": "code",
     "collapsed": false,
     "input": [
      "show_plot('https://plot.ly/~matlab_user_guide/784')"
     ],
     "language": "python",
     "metadata": {},
     "outputs": [
      {
       "html": [
        "<iframe height=\"650\" id=\"igraph\" frameborder = 0 seamless=\"seamless\" scrolling=\"no\" src=\"https://plot.ly/~matlab_user_guide/784/800/650\" width=\"800\"></iframe>"
       ],
       "metadata": {},
       "output_type": "pyout",
       "prompt_number": 203,
       "text": [
        "<IPython.core.display.HTML at 0x1098a1250>"
       ]
      }
     ],
     "prompt_number": 203
    },
    {
     "cell_type": "code",
     "collapsed": false,
     "input": [
      "from IPython.display import HTML\n",
      "\n",
      "def show_plot(url, width=800, height=650):\n",
      "    s = '<iframe height=\"%s\" id=\"igraph\" frameborder = 0 seamless=\"seamless\" scrolling=\"no\" src=\"%s\" width=\"%s\"></iframe>' %\\\n",
      "    (height, \"/\".join(map(str,[url, width, height])), width)\n",
      "    return HTML(s)"
     ],
     "language": "python",
     "metadata": {},
     "outputs": [],
     "prompt_number": 19
    },
    {
     "cell_type": "markdown",
     "metadata": {},
     "source": [
      "<br>\n",
      "<br>\n",
      "<center><h1>CONTACT</h1></center>"
     ]
    },
    {
     "cell_type": "markdown",
     "metadata": {},
     "source": [
      "--- \n",
      "**Note:** Want to help improve this user guide? Please send us your comments/questions! Feedback concerning this user guide can be directed to <font color=#1d3b84>** chuck [at] plot.ly **</font>. You can also reach and follow us online via social media outlets.<br>\n",
      "<br>\n",
      "\n",
      "<div class=\"image-line\">\n",
      "\n",
      "<div class=\"image-cell\">\n",
      "<a href=\"https://twitter.com/plotlygraphs\">\n",
      "<img src=\"files/images/twitter.png\" style=\"width: 40px; height: 40px; margin-left: 1px; margin-right: 1px\"; alt=\"\"> \n",
      "</a>\n",
      "</div>\n",
      "\n",
      "<div class=\"image-cell\">\n",
      "<a href=\"https://www.facebook.com/Plotly\">\n",
      "<img src=\"files/images/facebook.png\" style=\"width: 40px; height: 40px; margin-left: 1px; margin-right: 1px\"; alt=\"\"> \n",
      "</a>\n",
      "</div>\n",
      "\n",
      "<div class=\"image-cell\">\n",
      "<a href= https://plus.google.com/101741663283396748386/posts>\n",
      "<img src=\"files/images/gplus.png\" style=\"width: 40px; height: 40px; margin-left: 1px; margin-right: 1px\"; alt=\"\"> \n",
      "</a>\n",
      "</div>\n",
      "\n",
      "<div class=\"image-cell\">\n",
      "<a href= https://www.edmodo.com/publisher/plotly>\n",
      "<img src=\"files/images/ed.png\" style=\"width: 40px; height: 40px; margin-left: 1px; margin-right: 1px\"; alt=\"\"> \n",
      "</a>\n",
      "</div>\n",
      "\n",
      "</div>\n",
      "<br>\n",
      "<br>\n",
      "\n",
      "---"
     ]
    },
    {
     "cell_type": "markdown",
     "metadata": {},
     "source": [
      "<br>\n",
      "<h4>\n",
      "<center>\n",
      "**  \u2022   ** <br><br>\n",
      "**  \u2022   ** <br><br>\n",
      "**  \u2022   ** <br><br>\n",
      "**  \u2022   ** <br><br>\n",
      "</center>    \n",
      "</h4>\n",
      "<br>"
     ]
    },
    {
     "cell_type": "markdown",
     "metadata": {},
     "source": [
      "<h2>[NOTEBOOK BEAUTIFICATION]</h2>"
     ]
    },
    {
     "cell_type": "code",
     "collapsed": false,
     "input": [
      "# CSS styling within IPython notebook\n",
      "from IPython.core.display import HTML\n",
      "def css_styling():\n",
      "    styles = open(\"./css/style_notebook.css\", \"r\").read()\n",
      "    return HTML(styles)\n",
      "css_styling()\n"
     ],
     "language": "python",
     "metadata": {},
     "outputs": [
      {
       "html": [
        "<style>\n",
        "@font-face {\n",
        "  font-family: \"Computer Modern\";\n",
        "  src: url('http://9dbb143991406a7c655e-aa5fcb0a5a4ec34cff238a2d56ca4144.r56.cf5.rackcdn.com/cmunss.otf');\n",
        "}\n",
        "@font-face {\n",
        "  font-family: \"Computer Modern\";\n",
        "  font-weight: bold;\n",
        "  src: url('http://9dbb143991406a7c655e-aa5fcb0a5a4ec34cff238a2d56ca4144.r56.cf5.rackcdn.com/cmunsx.otf');\n",
        "}\n",
        "@font-face {\n",
        "  font-family: \"Computer Modern\";\n",
        "  font-style: oblique;\n",
        "  src: url('http://9dbb143991406a7c655e-aa5fcb0a5a4ec34cff238a2d56ca4144.r56.cf5.rackcdn.com/cmunsi.otf');\n",
        "}\n",
        "@font-face {\n",
        "  font-family: \"Computer Modern\";\n",
        "  font-weight: bold;\n",
        "  font-style: oblique;\n",
        "  src: url('http://9dbb143991406a7c655e-aa5fcb0a5a4ec34cff238a2d56ca4144.r56.cf5.rackcdn.com/cmunso.otf');\n",
        "}\n",
        "div.cell{\n",
        "  width:800px;\n",
        "  margin-left:16% !important;\n",
        "  margin-right:auto;\n",
        "}\n",
        "\n",
        "div.text_cell_render{\n",
        " /* font-family: Computer Modern, \"Helvetica Neue\", Arial, Helvetica, Geneva, sans-serif; */\n",
        " color: #333333;\n",
        " /* font-family: \u2018Palatino Linotype\u2019, \u2018Book Antiqua\u2019, Palatino, serif; */\n",
        " /* font-family: \u2018Trebuchet MS\u2019, Helvetica, sans-serif; */\n",
        " font-family: \u2018Lucida Sans Unicode\u2019, \u2018Lucida Grande\u2019, sans-serif;\n",
        " line-height: 145%;\n",
        " font-size: 130%;\n",
        " width: 800px; \n",
        "}\n",
        "\n",
        "code{\n",
        "  font-size: 40%;\n",
        "}\n",
        "\n",
        "ul{\n",
        "  margin: 2em;\n",
        "}\n",
        "\n",
        "ul li{\n",
        " padding-left: 0.5em;\n",
        " margin-bottom: 0.5em;\n",
        " margin-top: 0.5em;\n",
        " /*font-variant: small-caps;*/\n",
        "}\n",
        "\n",
        "a.nounderline:link{\n",
        " color: #1d3b84;\n",
        " font-weight: bold;\n",
        " text-decoration:none;\n",
        "}\n",
        "a.nounderlineblack:link{\n",
        " color: #333333;\n",
        " font-weight: bold;\n",
        " text-decoration:none;\n",
        "}\n",
        "a.nounderlineblack:visited{\n",
        " color: #333333;\n",
        " font-weight: bold;\n",
        " text-decoration:none;\n",
        "}\n",
        "a:link{\n",
        "  color: #447adb;\n",
        "  font-weight: bold;\n",
        "  text-decoration:none;\n",
        "}\n",
        "a:visited{\n",
        " font-weight: bold;\n",
        " text-decoration: none;\n",
        "}\n",
        "a:hover{\n",
        " text-decoration: none;\n",
        " font-weight: bold;\n",
        "}\n",
        "a:focus{\n",
        " text-decoration: none;\n",
        " font-weight: bold;\n",
        "}\n",
        "a:active{\n",
        " text-decoration: none;\n",
        " font-weight: bold;\n",
        "}\n",
        ".CodeMirror{ \n",
        "  background-color: white;\n",
        "  width:790px;\n",
        "  font-family: \"Source Code Pro\", source-code-pro,Consolas, monospace;\n",
        "}\n",
        ".prompt{\n",
        "  display: None;\n",
        "}\n",
        "\n",
        ".col1 {\n",
        "  background-color: white;\n",
        "  float: left;\n",
        "  width: 300px;\n",
        "  height: 100px;\n",
        "}\n",
        ".col2 {\n",
        "  background-color: white;\n",
        "  width: 400px;\n",
        "  height: 100px;\n",
        "  float:center; \n",
        "  display: table-cell; \n",
        "}\n",
        ".col3 {\n",
        "  background-color: white;\n",
        "  float: right;\n",
        "  width: 200px;\n",
        "  height: 100px; \n",
        "}\n",
        "\n",
        ".text_cell_render h1 {\n",
        "  font-size: 30pt;\n",
        "  width:775px;\n",
        "  color:#333333;\n",
        "  font-family: \u2018Lucida Console\u2019, Monaco, monospace;\n",
        "  text-align: center;\n",
        "  font-size: 50; \n",
        "}\n",
        "\n",
        ".text_cell_render h2 {\n",
        "  /* font-family: Computer Modern, serif; */\n",
        "  font-size: 20pt;\n",
        "  color: #333333;\n",
        "  font-family: \u2018Lucida Console\u2019, Monaco, monospace;\n",
        "  text-align: center;\n",
        "}\n",
        "\n",
        ".text_cell_render h3 {\n",
        "  font-weight: 10;\n",
        "  font-style: italic;\n",
        "  color:#003366; \n",
        "  font-size: 15pt;\n",
        "  margin-bottom: 0em;\n",
        "  margin-top: 1.5em;\n",
        "  display: inline;\n",
        "  white-space: nowrap;\n",
        "}\n",
        "\n",
        ".text_cell_render h4{\n",
        "  color: #333333;\n",
        "  font-family: \u2018Lucida Console\u2019, Monaco, monospace;\n",
        "  margin-top:15px;\n",
        "  margin-bottom: 3px;\n",
        "  font-size: 10pt; \n",
        "}\n",
        "\n",
        ".text_cell_render h5 {\n",
        "  font-weight: 300;\n",
        "  font-style: normal;\n",
        "  color:#003366; \n",
        "  font-size: 25pt;\n",
        "  margin-bottom: 0em;\n",
        "  margin-top: 1.5em;\n",
        "  display: inline;\n",
        "  white-space: nowrap;\n",
        "}\n",
        "\n",
        ".text_cell_render h6 {\n",
        "  font-weight: 0;\n",
        "  font-style: normal;\n",
        "  color:#003366; \n",
        "  font-size: 16pt;\n",
        "  margin-bottom: 0em;\n",
        "  margin-top: 1.5em;\n",
        "  display: inline;\n",
        "  white-space: nowrap;\n",
        "}\n",
        "\n",
        ".warning{\n",
        "  color: rgb( 240, 20, 20 )\n",
        "}\n",
        "\n",
        "blockquote{\n",
        "  display:block;\n",
        "  background: #FFFFFF;\n",
        "  border-left: 2px dashed #1d3b84;\n",
        "  border-right: 2px dashed #1d3b84;\n",
        "  font-family: 'Open sans',verdana,arial,sans-serif;\n",
        "  padding: 25px 25px 25px 25px;\n",
        "  text-align:justify;\n",
        "  text-justify:inter-word;\n",
        "  width:auto;\n",
        "  display:table\n",
        "}\n",
        "\n",
        "blockquote p {\n",
        "  margin-bottom: 0;\n",
        "  line-height: 125%;\n",
        "  font-size: 80%;\n",
        "}\n",
        "\n",
        ".image-line {\n",
        " margin-left: 22%;\n",
        "}\n",
        "\n",
        ".image-cell {\n",
        " width: 100px;\n",
        " margin: 10px;\n",
        " float: left;\n",
        "}\n",
        "\n",
        ".image-clear {\n",
        " clear: both;\n",
        "}\n",
        "\n",
        "\n",
        "</style>\n",
        "\n",
        "<script>\n",
        "MathJax.Hub.Config({\n",
        "  TeX: {\n",
        "   extensions: [\"AMSmath.js\"]\n",
        "   },\n",
        "   tex2jax: {\n",
        "    inlineMath: [ ['$','$'], [\"\\\\(\",\"\\\\)\"] ],\n",
        "    displayMath: [ ['$$','$$'], [\"\\\\[\",\"\\\\]\"] ]\n",
        "    },\n",
        "    displayAlign: 'center', // Change this to 'center' to center equations.\n",
        "    \"HTML-CSS\": {\n",
        "      styles: {'.MathJax_Display': {\"margin\": 4}}\n",
        "    }\n",
        "    });\n",
        "\n",
        "</script>\n"
       ],
       "metadata": {},
       "output_type": "pyout",
       "prompt_number": 3,
       "text": [
        "<IPython.core.display.HTML at 0x1065bdfd0>"
       ]
      }
     ],
     "prompt_number": 3
    },
    {
     "cell_type": "markdown",
     "metadata": {},
     "source": [
      "<center><sup>[<a href = \"http://camdavidsonpilon.github.io/Probabilistic-Programming-and-Bayesian-Methods-for-Hackers/\" class=\"nounderline\">STYLE INSPIRED BY CAM DAVIDSON'S NB'S - THANK YOU</a>]</sup></center>"
     ]
    }
   ],
   "metadata": {}
  }
 ]
}