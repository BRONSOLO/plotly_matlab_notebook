{
 "metadata": {
  "name": "",
  "signature": "sha256:09f5f2542f70af554a78e3e201ba7b3fbfe42762c37a08b7bec726dfaed20908"
 },
 "nbformat": 3,
 "nbformat_minor": 0,
 "worksheets": [
  {
   "cells": [
    {
     "cell_type": "markdown",
     "metadata": {},
     "source": [
      "<center>\n",
      "<img src=\"files/images/pmat.png\" style=\"width: 400px; height: 200px; margin-left: 25%;margin-right: auto\"; alt=\"\">\n",
      "</center> \n"
     ]
    },
    {
     "cell_type": "markdown",
     "metadata": {},
     "source": [
      "<h1 id=\"lasp\">[2] LINE AND SCATTER PLOTS</h1>"
     ]
    },
    {
     "cell_type": "markdown",
     "metadata": {},
     "source": [
      "<h4><center>\n",
      "  &nbsp; &nbsp;  **  \u2022   ** &nbsp; &nbsp; **  \u2022   ** &nbsp; &nbsp; **  \u2022   ** &nbsp; &nbsp; **  \u2022   ** &nbsp; &nbsp; **  \u2022   ** &nbsp; &nbsp; \n",
      "  </center></h4>"
     ]
    },
    {
     "cell_type": "markdown",
     "metadata": {},
     "source": [
      ">This notebook provides relevant examples of **LINE AND SCATTER PLOTS** creation using the Plotly Matlatb API. Please have a look at the code provided below to get started! If **LINE AND SCATTER PLOTS** are not the droids you are looking for, please check out the other Plotly Matlatb API notebooks, which provide examples of the wide range of fabulous plot types handled by Plotly. If you have any questions, suggestions or just want to chat, please\n",
      "<a href=\"/.\" class=\"nounderline\">DROP US A LINE</a>."
     ]
    },
    {
     "cell_type": "markdown",
     "metadata": {},
     "source": [
      "<center>\n",
      "<a href=\"#gs\" class=\"nounderline\">[2.1] GETTING STARTED</a> &nbsp; &nbsp; **  \u2022   ** &nbsp; &nbsp; <a href=\"#ep\" class=\"nounderline\"> [2.2] EXAMPLE PLOTS </a>\n",
      "</center>"
     ]
    },
    {
     "cell_type": "markdown",
     "metadata": {},
     "source": [
      "- - - - - - - - - - - - - - - - - - - - - - - - - - - - - - - - - - - - - - - - - - - - - - - - - - -"
     ]
    },
    {
     "cell_type": "markdown",
     "metadata": {},
     "source": [
      "<br>\n",
      "<br>\n",
      "<br>"
     ]
    },
    {
     "cell_type": "markdown",
     "metadata": {},
     "source": [
      "<h1 id=\"gs\">[2.1] GETTING STARTED</h1>"
     ]
    },
    {
     "cell_type": "heading",
     "level": 4,
     "metadata": {},
     "source": [
      "<center>\n",
      "  &nbsp; &nbsp;  **  \u2022   ** &nbsp; &nbsp; **  \u2022   ** &nbsp; &nbsp; **  \u2022   ** &nbsp; &nbsp; **  \u2022   ** &nbsp; &nbsp; **  \u2022   ** &nbsp; &nbsp; \n",
      "</center>"
     ]
    },
    {
     "cell_type": "markdown",
     "metadata": {},
     "source": [
      "**NOTE:** If you are new to Plotly please see the <a href = ./welcome_home.ipynb class = nounderline>WELCOME</a> and <a href = ./getting_started.ipynb class = nounderline>GETTING STARTED</a> notebooks.\n",
      "<br>\n",
      "<br>"
     ]
    },
    {
     "cell_type": "markdown",
     "metadata": {},
     "source": [
      "<h2>[MATLAB API STARTUP & SIGN IN]</h2>"
     ]
    },
    {
     "cell_type": "heading",
     "level": 4,
     "metadata": {},
     "source": [
      ">> OPEN YOUR MATLAB ENVIRONMENT"
     ]
    },
    {
     "cell_type": "code",
     "collapsed": false,
     "input": [
      "%load_ext pymatbridge"
     ],
     "language": "python",
     "metadata": {},
     "outputs": [
      {
       "output_type": "stream",
       "stream": "stdout",
       "text": [
        "The pymatbridge extension is already loaded. To reload it, use:\n",
        "  %reload_ext pymatbridge\n"
       ]
      }
     ],
     "prompt_number": 212
    },
    {
     "cell_type": "heading",
     "level": 4,
     "metadata": {},
     "source": [
      ">> TELL MATLAB WHERE TO FIND THE PLOTLY API"
     ]
    },
    {
     "cell_type": "code",
     "collapsed": false,
     "input": [
      "%%matlab\n",
      "\n",
      "api_path = ('/Users/chuckbronson/Documents/PLOTLY/MATLAB_API/API_V2/');\n",
      "addpath(genpath(api_path));"
     ],
     "language": "python",
     "metadata": {},
     "outputs": [],
     "prompt_number": 213
    },
    {
     "cell_type": "markdown",
     "metadata": {},
     "source": [
      "<h4>>> SIGN IN TO PLOTLY!</h4>"
     ]
    },
    {
     "cell_type": "code",
     "collapsed": false,
     "input": [
      "%%matlab \n",
      "load('config'); \n",
      "signin(config.un,config.key);"
     ],
     "language": "python",
     "metadata": {},
     "outputs": [],
     "prompt_number": 214
    },
    {
     "cell_type": "markdown",
     "metadata": {},
     "source": [
      "- - - - - - - - - - - - - - - - - - - - - - - - - - - - - - - - - - - - - - - - - - - - - - - - - - -"
     ]
    },
    {
     "cell_type": "markdown",
     "metadata": {},
     "source": [
      "<br>\n",
      "<br>\n",
      "<br>"
     ]
    },
    {
     "cell_type": "markdown",
     "metadata": {},
     "source": [
      "<h1 id=\"ep\">[2.2] EXAMPLE PLOTS</h1>"
     ]
    },
    {
     "cell_type": "markdown",
     "metadata": {},
     "source": [
      "<center>\n",
      "<h4>\n",
      "  &nbsp; &nbsp;  **  \u2022   ** &nbsp; &nbsp; **  \u2022   ** &nbsp; &nbsp; **  \u2022   ** &nbsp; &nbsp; **  \u2022   ** &nbsp; &nbsp; **  \u2022   ** &nbsp; &nbsp; \n",
      "  </h4>\n",
      "</center>"
     ]
    },
    {
     "cell_type": "markdown",
     "metadata": {},
     "source": [
      "<br>\n",
      "**NOTE:** The following code can be used to emed your Plotly plots within your own webpage. \n",
      "<br>\n",
      "<br>"
     ]
    },
    {
     "cell_type": "code",
     "collapsed": false,
     "input": [
      "from IPython.display import HTML\n",
      "\n",
      "def show_plot(url, width=700, height=500):\n",
      "    s = '<iframe height=\"%s\" id=\"igraph\" scrolling=\"no\" seamless=\"seamless\" src=\"%s\" width=\"%s\"></iframe>' %\\\n",
      "    (height+80, \"/\".join(map(str,[url, width, height])), width+80)\n",
      "    return HTML(s)"
     ],
     "language": "python",
     "metadata": {},
     "outputs": [],
     "prompt_number": 215
    },
    {
     "cell_type": "markdown",
     "metadata": {},
     "source": [
      "<br>\n",
      "**NOTE:** The following examples were taken from the <a href = http://www.mathworks.com/discovery/gallery.html?s_tid=abdoc_plot_1 class = nounderline>MATLAB PLOT GALLERY</a>. These examples demostrate just how **easy** it is to go from a MATLAB generated figure to an online - **customizable, interactive, stored and shareable** Plotly plot!  \n",
      "<br>\n",
      "<br>"
     ]
    },
    {
     "cell_type": "markdown",
     "metadata": {},
     "source": [
      "<h2>[EXAMPLE 1]</h2> "
     ]
    },
    {
     "cell_type": "markdown",
     "metadata": {},
     "source": [
      "<br>"
     ]
    },
    {
     "cell_type": "code",
     "collapsed": false,
     "input": [
      "%%matlab \n",
      "\n",
      "% Define values for x, y1, and y2\n",
      "x  = 0: .1 : 2*pi;\n",
      "y1 = cos(x);\n",
      "y2 = sin(x);\n",
      "\n",
      "% Plot y1 vs. x (blue, solid) and y2 vs. x (red, dashed)\n",
      "f = figure;\n",
      "plot(x, y1, 'b', x, y2, 'r-.', 'linewidth', 2);\n",
      "\n",
      "% Turn on the grid\n",
      "grid on;\n",
      "\n",
      "% Set the axis limits\n",
      "axis([0 2*pi -1.5 1.5]);\n",
      "\n",
      "% Add title and axis labels\n",
      "title('Trigonometric Functions', 'fontsize', 10);\n",
      "xlabel('angle');\n",
      "ylabel('sin(x) and cos(x)');\n",
      "\n",
      "fig2plotly(f,'strip',1)"
     ],
     "language": "python",
     "metadata": {},
     "outputs": [
      {
       "metadata": {},
       "output_type": "display_data",
       "text": [
        "\n",
        "ans = \n",
        "\n",
        "         url: 'https://plot.ly/~bronsolo/44'\n",
        "     message: [1x0 char]\n",
        "     warning: [1x0 char]\n",
        "    filename: 'Trigonometric Functions'\n",
        "       error: [1x0 char]\n",
        "\n"
       ]
      },
      {
       "metadata": {},
       "output_type": "display_data",
       "png": "[encoded data removed]"
      }
     ],
     "prompt_number": 216
    },
    {
     "cell_type": "code",
     "collapsed": false,
     "input": [
      "show_plot('https://plot.ly/~bronsolo/44')"
     ],
     "language": "python",
     "metadata": {},
     "outputs": [
      {
       "html": [
        "<iframe height=\"580\" id=\"igraph\" scrolling=\"no\" seamless=\"seamless\" src=\"https://plot.ly/~bronsolo/44/700/500\" width=\"780\"></iframe>"
       ],
       "metadata": {},
       "output_type": "pyout",
       "prompt_number": 217,
       "text": [
        "<IPython.core.display.HTML at 0x106d2d710>"
       ]
      }
     ],
     "prompt_number": 217
    },
    {
     "cell_type": "markdown",
     "metadata": {},
     "source": [
      "<br>"
     ]
    },
    {
     "cell_type": "markdown",
     "metadata": {},
     "source": [
      "<h2>[EXAMPLE 2]</h2>"
     ]
    },
    {
     "cell_type": "markdown",
     "metadata": {},
     "source": [
      "<br>"
     ]
    },
    {
     "cell_type": "code",
     "collapsed": false,
     "input": [
      "%%matlab\n",
      "\n",
      "%\n",
      "% This is an example of how to create an line plot with markers in MATLAB\n",
      "% \n",
      "% Read about the <http://www.mathworks.com/help/matlab/ref/plot.html |plot|> function in the MATLAB documentation.\n",
      "%\n",
      "% Go to <http://www.mathworks.com/discovery/gallery.html MATLAB Plot Gallery>\n",
      "%\n",
      "% Copyright 2012 The MathWorks, Inc.\n",
      "\n",
      "% Load Morse data\n",
      "load MDdata dissimilarities dist1 dist2 dist3\n",
      "\n",
      "% Plot the first set of data in blue\n",
      "f = figure;\n",
      "plot(dissimilarities, dist1, 'bo');\n",
      "hold on;\n",
      "\n",
      "% Plot the second set of data in red\n",
      "plot(dissimilarities, dist2, 'r+');\n",
      "\n",
      "% Plot the third set of data in green\n",
      "plot(dissimilarities, dist3, 'g^');\n",
      "\n",
      "% Add title and axis labels\n",
      "title('Morse Signal Analysis');\n",
      "xlabel('Dissimilarities'); \n",
      "ylabel('Distances');\n",
      "\n",
      "% Add a legend\n",
      "legend({'Stress', 'Sammon Mapping', 'Squared Stress'}, ...\n",
      "    'Location', 'NorthWest');\n",
      "\n",
      "fig2plotly(f,'strip',1)\n"
     ],
     "language": "python",
     "metadata": {},
     "outputs": [
      {
       "metadata": {},
       "output_type": "display_data",
       "text": [
        "\n",
        "ans = \n",
        "\n",
        "         url: 'https://plot.ly/~bronsolo/45'\n",
        "     message: [1x0 char]\n",
        "     warning: [1x0 char]\n",
        "    filename: 'Morse Signal Analysis'\n",
        "       error: [1x0 char]\n",
        "\n"
       ]
      },
      {
       "metadata": {},
       "output_type": "display_data",
       "png": "[encoded data removed]"
      }
     ],
     "prompt_number": 218
    },
    {
     "cell_type": "code",
     "collapsed": false,
     "input": [
      "show_plot('https://plot.ly/~bronsolo/45')"
     ],
     "language": "python",
     "metadata": {},
     "outputs": [
      {
       "html": [
        "<iframe height=\"580\" id=\"igraph\" scrolling=\"no\" seamless=\"seamless\" src=\"https://plot.ly/~bronsolo/45/700/500\" width=\"780\"></iframe>"
       ],
       "metadata": {},
       "output_type": "pyout",
       "prompt_number": 219,
       "text": [
        "<IPython.core.display.HTML at 0x106d2d7d0>"
       ]
      }
     ],
     "prompt_number": 219
    },
    {
     "cell_type": "markdown",
     "metadata": {},
     "source": [
      "<br>"
     ]
    },
    {
     "cell_type": "markdown",
     "metadata": {},
     "source": [
      "<h2>[EXAMPLE 3]</h2>"
     ]
    },
    {
     "cell_type": "markdown",
     "metadata": {},
     "source": [
      "<br>"
     ]
    },
    {
     "cell_type": "code",
     "collapsed": false,
     "input": [
      "%%matlab\n",
      "\n",
      "% This is an example of how to create an line plot with legend in MATLAB\n",
      "% \n",
      "% Read about the <http://www.mathworks.com/help/matlab/ref/plot.html |plot|> function in the MATLAB documentation.\n",
      "%\n",
      "% Go to <http://www.mathworks.com/discovery/gallery.html MATLAB Plot Gallery>\n",
      "%\n",
      "% Copyright 2012 The MathWorks, Inc.\n",
      "\n",
      "% Load data for the stock indices\n",
      "load IndexData dates values series;\n",
      "\n",
      "% Plot the stock index values versus time\n",
      "f = figure;\n",
      "plot(dates, values);\n",
      "\n",
      "% Use dateticks for the x axis\n",
      "datetick('x');\n",
      "\n",
      "% Add title and axis labels\n",
      "xlabel('Date');\n",
      "ylabel('Index Value');\n",
      "title ('Relative Daily Index Closings');\n",
      "\n",
      "% Add a legend in the top, left corner\n",
      "legend(series, 'Location', 'NorthWest');\n",
      "\n",
      "fig2plotly(f,'strip',1)"
     ],
     "language": "python",
     "metadata": {},
     "outputs": [
      {
       "metadata": {},
       "output_type": "display_data",
       "text": [
        "\n",
        "ans = \n",
        "\n",
        "         url: 'https://plot.ly/~bronsolo/46'\n",
        "     message: [1x0 char]\n",
        "     warning: [1x0 char]\n",
        "    filename: 'Relative Daily Index Closings'\n",
        "       error: [1x0 char]\n",
        "\n"
       ]
      },
      {
       "metadata": {},
       "output_type": "display_data",
       "png": "[encoded data removed]"
      }
     ],
     "prompt_number": 220
    },
    {
     "cell_type": "code",
     "collapsed": false,
     "input": [
      "show_plot('https://plot.ly/~bronsolo/46')"
     ],
     "language": "python",
     "metadata": {},
     "outputs": [
      {
       "html": [
        "<iframe height=\"580\" id=\"igraph\" scrolling=\"no\" seamless=\"seamless\" src=\"https://plot.ly/~bronsolo/46/700/500\" width=\"780\"></iframe>"
       ],
       "metadata": {},
       "output_type": "pyout",
       "prompt_number": 221,
       "text": [
        "<IPython.core.display.HTML at 0x106d2d890>"
       ]
      }
     ],
     "prompt_number": 221
    },
    {
     "cell_type": "markdown",
     "metadata": {},
     "source": [
      "<br>"
     ]
    },
    {
     "cell_type": "markdown",
     "metadata": {},
     "source": [
      "<h2>[EXAMPLE 4]</h2>"
     ]
    },
    {
     "cell_type": "markdown",
     "metadata": {},
     "source": [
      "<br> "
     ]
    },
    {
     "cell_type": "code",
     "collapsed": false,
     "input": [
      "%%matlab\n",
      "\n",
      "%%\n",
      "% This is an example of how to create a log-log plot in MATLAB\n",
      "% \n",
      "% Read about the <http://www.mathworks.com/help/matlab/ref/loglog.html |loglog|> function in the MATLAB documentation.\n",
      "%\n",
      "% Go to <http://www.mathworks.com/discovery/gallery.html MATLAB Plot Gallery>\n",
      "%\n",
      "% Copyright 2012 The MathWorks, Inc.\n",
      "\n",
      "% Create a set of values for the damping factor\n",
      "zeta = [0.01 .02 0.05 0.1 .2 .5 1 ];\n",
      "\n",
      "% Define a color for each damping factor\n",
      "colors = ['r' 'g' 'b' 'c' 'm' 'y' 'k'];\n",
      "\n",
      "% Create a range of frequency values equally spaced logarithmically\n",
      "w = logspace(-1, 1, 1000);\n",
      "\n",
      "% Plot the gain vs. frequency for each of the seven damping factors\n",
      "figure;\n",
      "for i = 1:7\n",
      "    a = w.^2 - 1;\n",
      "    b = 2*w*zeta(i);\n",
      "    gain = sqrt(1./(a.^2 + b.^2));\n",
      "    loglog(w, gain, 'color', colors(i), 'linewidth', 2);\n",
      "    hold on;\n",
      "end\n",
      "\n",
      "% Set the axis limits\n",
      "axis([0.1 10 0.01 100]);\n",
      "\n",
      "% Add a title and axis labels\n",
      "title('|G|(\\omega) vs \\omega');\n",
      "xlabel('\\omega');\n",
      "ylabel('|G|(\\omega)');\n",
      "\n",
      "% Turn the grid on\n",
      "grid on;\n",
      "\n",
      "\n",
      "fig2plotly(f,'strip',1)"
     ],
     "language": "python",
     "metadata": {},
     "outputs": [
      {
       "metadata": {},
       "output_type": "display_data",
       "text": [
        "\n",
        "ans = \n",
        "\n",
        "         url: 'https://plot.ly/~bronsolo/47'\n",
        "     message: [1x0 char]\n",
        "     warning: [1x0 char]\n",
        "    filename: '|G|(\\\\omega) vs \\\\omega'\n",
        "       error: [1x0 char]\n",
        "\n"
       ]
      },
      {
       "metadata": {},
       "output_type": "display_data",
       "png": "[encoded data removed]"
      }
     ],
     "prompt_number": 222
    },
    {
     "cell_type": "code",
     "collapsed": false,
     "input": [
      "show_plot('https://plot.ly/~bronsolo/47')"
     ],
     "language": "python",
     "metadata": {},
     "outputs": [
      {
       "html": [
        "<iframe height=\"580\" id=\"igraph\" scrolling=\"no\" seamless=\"seamless\" src=\"https://plot.ly/~bronsolo/47/700/500\" width=\"780\"></iframe>"
       ],
       "metadata": {},
       "output_type": "pyout",
       "prompt_number": 223,
       "text": [
        "<IPython.core.display.HTML at 0x106d2dcd0>"
       ]
      }
     ],
     "prompt_number": 223
    },
    {
     "cell_type": "markdown",
     "metadata": {},
     "source": [
      "<br>"
     ]
    },
    {
     "cell_type": "markdown",
     "metadata": {},
     "source": [
      "<h2>[EXAMPLE 5]</h2>"
     ]
    },
    {
     "cell_type": "markdown",
     "metadata": {},
     "source": [
      "<br>"
     ]
    },
    {
     "cell_type": "code",
     "collapsed": false,
     "input": [
      "%%matlab\n",
      "\n",
      "% This is an example of how to create an x-axis semilog plot in MATLAB\n",
      "% \n",
      "% Read about the <http://www.mathworks.com/help/matlab/ref/semilogx.html |semilogx|> function in the MATLAB documentation.\n",
      "%\n",
      "% Go to <http://www.mathworks.com/discovery/gallery.html MATLAB Plot Gallery>\n",
      "%\n",
      "% Copyright 2012 The MathWorks, Inc.\n",
      "\n",
      "% Load the response data\n",
      "load responseData frequency magnitude;\n",
      "\n",
      "% Create an x-axis semilog plot using the semilogx function\n",
      "f = figure;\n",
      "semilogx(frequency, magnitude);\n",
      "\n",
      "% Set the axis limits and turn on the grid\n",
      "axis([min(frequency) max(frequency) -6.5 6.5]);\n",
      "grid on;\n",
      "\n",
      "% Add title and axis labels\n",
      "title('Magnitude Response (dB)');\n",
      "xlabel('Frequency (kHz)');\n",
      "ylabel('Magnitude (dB)');\n",
      "\n",
      "fig2plotly(f,'strip',1)"
     ],
     "language": "python",
     "metadata": {},
     "outputs": []
    },
    {
     "cell_type": "markdown",
     "metadata": {},
     "source": [
      "\n",
      "<br>\n",
      "<br>\n",
      "<br>\n",
      "<h1 id=\"contact\">[CONTACT]</h1>"
     ]
    },
    {
     "cell_type": "markdown",
     "metadata": {},
     "source": [
      "--- \n",
      "**Note:** Want to help improve this user guide? Please send us your comments/questions! Feedback concerning this user guide can be directed to <font color=#1d3b84>** chuck [at] plot.ly **</font>. You can also reach and follow us online via social media outlets.<br>\n",
      "<br>\n",
      "\n",
      "<div class=\"image-line\">\n",
      "\n",
      "<div class=\"image-cell\">\n",
      "<a href=\"https://twitter.com/plotlygraphs\">\n",
      "<img src=\"files/images/twitter.png\" style=\"width: 40px; height: 40px; margin-left: 1px; margin-right: 1px\"; alt=\"\"> \n",
      "</a>\n",
      "</div>\n",
      "\n",
      "<div class=\"image-cell\">\n",
      "<a href=\"https://www.facebook.com/Plotly\">\n",
      "<img src=\"files/images/facebook.png\" style=\"width: 40px; height: 40px; margin-left: 1px; margin-right: 1px\"; alt=\"\"> \n",
      "</a>\n",
      "</div>\n",
      "\n",
      "<div class=\"image-cell\">\n",
      "<a href= https://plus.google.com/101741663283396748386/posts>\n",
      "<img src=\"files/images/gplus.png\" style=\"width: 40px; height: 40px; margin-left: 1px; margin-right: 1px\"; alt=\"\"> \n",
      "</a>\n",
      "</div>\n",
      "\n",
      "<div class=\"image-cell\">\n",
      "<a href= https://www.edmodo.com/publisher/plotly>\n",
      "<img src=\"files/images/ed.png\" style=\"width: 40px; height: 40px; margin-left: 1px; margin-right: 1px\"; alt=\"\"> \n",
      "</a>\n",
      "</div>\n",
      "\n",
      "</div>\n",
      "<br>\n",
      "<br>\n",
      "\n",
      "---"
     ]
    },
    {
     "cell_type": "markdown",
     "metadata": {},
     "source": [
      "<br>\n",
      "<h4>\n",
      "<center>\n",
      "**  \u2022   ** <br><br>\n",
      "**  \u2022   ** <br><br>\n",
      "**  \u2022   ** <br><br>\n",
      "**  \u2022   ** <br><br>\n",
      "</center>    \n",
      "</h4>\n",
      "<br>"
     ]
    },
    {
     "cell_type": "markdown",
     "metadata": {},
     "source": [
      "<center><h3>[NOTEBOOK BEAUTIFICATION]</h3></center>"
     ]
    },
    {
     "cell_type": "code",
     "collapsed": false,
     "input": [
      "# CSS styling within IPython notebook\n",
      "from IPython.core.display import HTML\n",
      "def css_styling():\n",
      "    styles = open(\"./css/style_notebook.css\", \"r\").read()\n",
      "    return HTML(styles)\n",
      "css_styling()\n"
     ],
     "language": "python",
     "metadata": {},
     "outputs": [
      {
       "html": [
        "<style>\n",
        "@font-face {\n",
        "  font-family: \"Computer Modern\";\n",
        "  src: url('http://9dbb143991406a7c655e-aa5fcb0a5a4ec34cff238a2d56ca4144.r56.cf5.rackcdn.com/cmunss.otf');\n",
        "}\n",
        "@font-face {\n",
        "  font-family: \"Computer Modern\";\n",
        "  font-weight: bold;\n",
        "  src: url('http://9dbb143991406a7c655e-aa5fcb0a5a4ec34cff238a2d56ca4144.r56.cf5.rackcdn.com/cmunsx.otf');\n",
        "}\n",
        "@font-face {\n",
        "  font-family: \"Computer Modern\";\n",
        "  font-style: oblique;\n",
        "  src: url('http://9dbb143991406a7c655e-aa5fcb0a5a4ec34cff238a2d56ca4144.r56.cf5.rackcdn.com/cmunsi.otf');\n",
        "}\n",
        "@font-face {\n",
        "  font-family: \"Computer Modern\";\n",
        "  font-weight: bold;\n",
        "  font-style: oblique;\n",
        "  src: url('http://9dbb143991406a7c655e-aa5fcb0a5a4ec34cff238a2d56ca4144.r56.cf5.rackcdn.com/cmunso.otf');\n",
        "}\n",
        "div.cell{\n",
        "  width:800px;\n",
        "  margin-left:17% !important;\n",
        "  margin-right:auto;\n",
        "}\n",
        "h1 {\n",
        "  /* font-family: Computer Modern, serif; */\n",
        "  width:775px;\n",
        "  color:#333333;\n",
        "  font-family: \u2018Lucida Console\u2019, Monaco, monospace;\n",
        "  text-align: center;\n",
        "}\n",
        "h2 {\n",
        "  /* font-family: Computer Modern, serif; */\n",
        "  color: #333333;\n",
        "  font-family: \u2018Lucida Console\u2019, Monaco, monospace;\n",
        "  text-align: center;\n",
        "}\n",
        "h3 {\n",
        "  width:775px;\n",
        "  /* font-family: Computer Modern, serif; */\n",
        "  width:775px;\n",
        "  color: #333333;\n",
        "  font-family: \u2018Lucida Console\u2019, Monaco, monospace;\n",
        "}\n",
        "h4{\n",
        "  color: #333333;\n",
        "  font-family: \u2018Lucida Console\u2019, Monaco, monospace;\n",
        "  margin-top:15px;\n",
        "  margin-bottom: 3px;\n",
        "}\n",
        "\n",
        "div.text_cell_render{\n",
        " /* font-family: Computer Modern, \"Helvetica Neue\", Arial, Helvetica, Geneva, sans-serif; */\n",
        " color: #333333;\n",
        " /* font-family: \u2018Palatino Linotype\u2019, \u2018Book Antiqua\u2019, Palatino, serif; */\n",
        " /* font-family: \u2018Trebuchet MS\u2019, Helvetica, sans-serif; */\n",
        " font-family: \u2018Lucida Sans Unicode\u2019, \u2018Lucida Grande\u2019, sans-serif;\n",
        " line-height: 145%;\n",
        " font-size: 130%;\n",
        " width: 800px; \n",
        "}\n",
        "code{\n",
        "  font-size: 40%;\n",
        "}\n",
        "ul{\n",
        "  margin: 2em;\n",
        "}\n",
        "ul li{\n",
        " padding-left: 0.5em;\n",
        " margin-bottom: 0.5em;\n",
        " margin-top: 0.5em;\n",
        " /*font-variant: small-caps;*/\n",
        "}\n",
        "a.nounderline:link{\n",
        " color: #1d3b84;\n",
        " font-weight: bold;\n",
        " text-decoration:none;\n",
        "}\n",
        "a.nounderlineblack:link{\n",
        " color: #333333;\n",
        " font-weight: bold;\n",
        " text-decoration:none;\n",
        "}\n",
        "a.nounderlineblack:visited{\n",
        " color: #333333;\n",
        " font-weight: bold;\n",
        " text-decoration:none;\n",
        "}\n",
        "a:link{\n",
        "  color: #1d3b84;\n",
        "\n",
        "co font-weight: bold;\n",
        " text-decoration:none;\n",
        "}\n",
        "a:visited{\n",
        " font-weight: bold;\n",
        " text-decoration: none;\n",
        "}\n",
        "a:hover{\n",
        " text-decoration: none;\n",
        " font-weight: bold;\n",
        "}\n",
        "a:focus{\n",
        " text-decoration: none;\n",
        " font-weight: bold;\n",
        "}\n",
        "a:active{\n",
        " text-decoration: none;\n",
        " font-weight: bold;\n",
        "}\n",
        ".CodeMirror{ \n",
        "  font-family: \"Source Code Pro\", source-code-pro,Consolas, monospace;\n",
        "}\n",
        ".prompt{\n",
        "  display: None;\n",
        "}\n",
        "h5 {\n",
        "  font-family: 'Open sans',verdana,arial,sans-serif;\n",
        "}\n",
        ".text_cell_render h5 {\n",
        "  font-weight: 300;\n",
        "  font-style: normal;\n",
        "  color: #1d3b84;\n",
        "  font-size: 22pt;\n",
        "  margin-bottom: 0em;\n",
        "  margin-top: 1.5em;\n",
        "  display: block;\n",
        "  white-space: nowrap;\n",
        "}\n",
        ".text_cell_render h6 {\n",
        "  font-weight: 300;\n",
        "  font-size: 22pt;\n",
        "  color: #1d3b84;\n",
        "  margin-bottom: .5em;\n",
        "  margin-top: 0.5em;\n",
        "  display: block;\n",
        "}\n",
        "\n",
        "\n",
        "\n",
        ".warning{\n",
        "  color: rgb( 240, 20, 20 )\n",
        "}\n",
        "blockquote{\n",
        "  display:block;\n",
        "  background: #FFFFFF;\n",
        "  border-left: 2px dashed #1d3b84;\n",
        "  border-right: 2px dashed #1d3b84;\n",
        "  font-family: 'Open sans',verdana,arial,sans-serif;\n",
        "  padding: 25px 25px 25px 25px;\n",
        "  text-align:justify;\n",
        "  text-justify:inter-word;\n",
        "  width:auto;\n",
        "  display:table\n",
        "}\n",
        "\n",
        "blockquote p {\n",
        "  margin-bottom: 0;\n",
        "  line-height: 125%;\n",
        "  font-size: 100%;\n",
        "}\n",
        "\n",
        ".image-line {\n",
        "   margin-left: 170px;\n",
        "}\n",
        ".image-cell {\n",
        "   width: 100px;\n",
        "   margin: 10px;\n",
        "   float: left;\n",
        "}\n",
        ".image-clear {\n",
        "   clear: both;\n",
        "}\n",
        "\n",
        "\n",
        "</style>\n",
        "\n",
        "<script>\n",
        "MathJax.Hub.Config({\n",
        "  TeX: {\n",
        "   extensions: [\"AMSmath.js\"]\n",
        "   },\n",
        "   tex2jax: {\n",
        "    inlineMath: [ ['$','$'], [\"\\\\(\",\"\\\\)\"] ],\n",
        "    displayMath: [ ['$$','$$'], [\"\\\\[\",\"\\\\]\"] ]\n",
        "    },\n",
        "    displayAlign: 'center', // Change this to 'center' to center equations.\n",
        "    \"HTML-CSS\": {\n",
        "      styles: {'.MathJax_Display': {\"margin\": 4}}\n",
        "    }\n",
        "    });\n",
        "\n",
        "</script>\n"
       ],
       "metadata": {},
       "output_type": "pyout",
       "prompt_number": 89,
       "text": [
        "<IPython.core.display.HTML at 0x106c62990>"
       ]
      }
     ],
     "prompt_number": 89
    },
    {
     "cell_type": "markdown",
     "metadata": {},
     "source": [
      "<center><sup>[<a href = \"http://camdavidsonpilon.github.io/Probabilistic-Programming-and-Bayesian-Methods-for-Hackers/\" class=\"nounderline\">STYLE STOLEN WITHOUT HESITATION FROM CAM DAVIDSON</a>]</sup></center>"
     ]
    }
   ],
   "metadata": {}
  }
 ]
}