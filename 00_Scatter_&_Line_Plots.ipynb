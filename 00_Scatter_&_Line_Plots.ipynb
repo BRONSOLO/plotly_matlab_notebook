{
 "metadata": {
  "name": "",
  "signature": "sha256:9b29a128821ce39befa2a420cc04e77111d8419114469e8271cb253e3b6775b8"
 },
 "nbformat": 3,
 "nbformat_minor": 0,
 "worksheets": [
  {
   "cells": [
    {
     "cell_type": "markdown",
     "metadata": {},
     "source": [
      "<center>\n",
      "<img src=\"files/images/pmat.png\" style=\"width: 400px; height: 200px; margin-left: 25%;margin-right: auto\"; alt=\"\">\n",
      "</center> \n"
     ]
    },
    {
     "cell_type": "markdown",
     "metadata": {},
     "source": [
      "<h1 id=\"lasp\">LINE AND SCATTER PLOTS</h1>"
     ]
    },
    {
     "cell_type": "markdown",
     "metadata": {},
     "source": [
      ">This notebook provides relevant examples of **LINE AND SCATTER PLOTS** creation using the Plotly Matlatb API. Please have a look at the code provided below to get started! If you are new to Plotly please see the <a href = ./welcome_home.ipynb class = nounderline><font size = \"3pt\">WELCOME</font></a> notebook. If you have any questions, suggestions or just want to chat, please\n",
      "<a href=\"/.\" class=\"nounderline\"><font size = \"3pt\">DROP US A LINE</font></a>."
     ]
    },
    {
     "cell_type": "markdown",
     "metadata": {},
     "source": [
      "<center>\n",
      "<a href = ./welcome_home.ipynb/#toc class=\"nounderline\">TABLE OF CONTENTS</a>&nbsp; &nbsp; **  \u2022   ** &nbsp; &nbsp;<a href=\"#mse\" class=\"nounderline\">MATLAB SYNTAX</a> &nbsp; &nbsp; **  \u2022   ** &nbsp; &nbsp; <a href=\"#pse\" class=\"nounderline\">PLOTLY SYNTAX</a> \n",
      "</center>"
     ]
    },
    {
     "cell_type": "markdown",
     "metadata": {},
     "source": [
      "<br>\n",
      "<br>\n",
      "<br>\n",
      "<br>"
     ]
    },
    {
     "cell_type": "markdown",
     "metadata": {},
     "source": [
      "<hr size = \"5px\">\n",
      "<center><h2 id=\"mse\">LINE AND SCATTER PLOT: MATLAB SYNTAX</h2></center>\n",
      "<hr size = \"5px\">"
     ]
    },
    {
     "cell_type": "markdown",
     "metadata": {},
     "source": [
      "To begin creating our first line and scatter Plotly graph using MATLAB syntax, we first need to import some data. For this walkthrough, we will be using meta data collected from the amazing <a href = \"http://ted.com\" class = nounderline>TED.com</a>. "
     ]
    },
    {
     "cell_type": "markdown",
     "metadata": {},
     "source": [
      "\n",
      "<h4>>> OPEN YOUR MATLAB ENVIRONMENT</h4>"
     ]
    },
    {
     "cell_type": "code",
     "collapsed": false,
     "input": [
      "%load_ext pymatbridge"
     ],
     "language": "python",
     "metadata": {},
     "outputs": [
      {
       "output_type": "stream",
       "stream": "stdout",
       "text": [
        "Starting MATLAB on ZMQ socket ipc:///tmp/pymatbridge\n",
        "Send 'exit' command to kill the server\n",
        "."
       ]
      },
      {
       "output_type": "stream",
       "stream": "stdout",
       "text": [
        "MATLAB started and connected!\n"
       ]
      }
     ],
     "prompt_number": 2
    },
    {
     "cell_type": "markdown",
     "metadata": {},
     "source": [
      "<h4> >> LOAD THE TED DATA </h4>"
     ]
    },
    {
     "cell_type": "code",
     "collapsed": false,
     "input": [
      "%%matlab\n",
      "\n",
      "%%%%%%%%%%%%%%%%%%\n",
      "%  LOAD TED DATA %\n",
      "%%%%%%%%%%%%%%%%%%\n",
      "\n",
      "ted = load('tednb');"
     ],
     "language": "python",
     "metadata": {},
     "outputs": [],
     "prompt_number": 18
    },
    {
     "cell_type": "markdown",
     "metadata": {},
     "source": [
      "For our first plot, we will analyze the total number of talks added over time. Our **.date** field of the **ted.talks** structure array contains this information. The **.date** field have been further divided into **.month** and **.year** fields.  "
     ]
    },
    {
     "cell_type": "code",
     "collapsed": false,
     "input": [
      "%%matlab\n",
      "\n",
      "ted.talks.date"
     ],
     "language": "python",
     "metadata": {},
     "outputs": [
      {
       "metadata": {},
       "output_type": "display_data",
       "text": [
        "\n",
        "ans = \n",
        "\n",
        "     year: {1x1768 cell}\n",
        "    month: {1x1768 cell}\n",
        "\n"
       ]
      }
     ],
     "prompt_number": 11
    },
    {
     "cell_type": "markdown",
     "metadata": {},
     "source": [
      "First we need to store all talks in a given month/year in a vector named **totalTalks**. "
     ]
    },
    {
     "cell_type": "code",
     "collapsed": false,
     "input": [
      "%%matlab \n",
      "\n",
      "years = cell2mat(ted.talks.date.year);\n",
      "months = ted.talks.date.month;\n",
      "monthString = {'Jan','Feb','Mar','Apr','May','Jun','Jul','Aug','Sep','Oct','Nov','Dec'};\n",
      "startYear = min(years);\n",
      "currentYear = max(years);\n",
      "numMonths = 12;\n",
      "numYears = currentYear - startYear + 1;\n",
      "totalTalks = zeros(1,numYears*numMonths); %<----- This vector will store our desired info. \n",
      "dates = zeros(1,numYears*numMonths); \n",
      "\n",
      "count = 1;\n",
      "\n",
      "for y = 0:numYears-1\n",
      "    for m = 1:numMonths\n",
      "        if(any(strcmp(months,monthString{m}) & (years == (startYear + y))))\n",
      "            totalTalks(y*numMonths + m) = sum(strcmp(months,monthString{m}) & (years == (startYear + y)));\n",
      "        else\n",
      "        end \n",
      "        dates(y*numMonths + m)= datenum( [ '01-' (monthString{m}) '-' num2str(2006 + y)] ,'dd-mmm-yyyy');\n",
      "    end\n",
      "end"
     ],
     "language": "python",
     "metadata": {},
     "outputs": [],
     "prompt_number": 28
    },
    {
     "cell_type": "markdown",
     "metadata": {},
     "source": [
      "Awesome. Now let's visualize this data. If you are new to MATLAB, function documentation is accessible using: \n",
      "**<h4>>> doc my_function_of_interest</h4>**\n",
      "**<h4>>> help my_function_of_interest</h4>** \n",
      "\n",
      "For now we will be specifically focussing on the **plot** matlab plotting commands. "
     ]
    },
    {
     "cell_type": "code",
     "collapsed": false,
     "input": [
      "%%matlab\n",
      "\n",
      "h = help('plot'); \n",
      "h(1:1000)"
     ],
     "language": "python",
     "metadata": {},
     "outputs": [
      {
       "metadata": {},
       "output_type": "display_data",
       "text": [
        "\n",
        "ans =\n",
        "\n",
        " PLOT   Linear plot. \n",
        "    PLOT(X,Y) plots vector Y versus vector X. If X or Y is a matrix,\n",
        "    then the vector is plotted versus the rows or columns of the matrix,\n",
        "    whichever line up.  If X is a scalar and Y is a vector, disconnected\n",
        "    line objects are created and plotted as discrete points vertically at\n",
        "    X.\n",
        " \n",
        "    PLOT(Y) plots the columns of Y versus their index.\n",
        "    If Y is complex, PLOT(Y) is equivalent to PLOT(real(Y),imag(Y)).\n",
        "    In all other uses of PLOT, the imaginary part is ignored.\n",
        " \n",
        "    Various line types, plot symbols and colors may be obtained with\n",
        "    PLOT(X,Y,S) where S is a character string made from one element\n",
        "    from any or all the following 3 columns:\n",
        " \n",
        "           b     blue          .     point              -     solid\n",
        "           g     green         o     circle             :     dotted\n",
        "           r     red           x     x-mark             -.    dashdot \n",
        "           c     cyan          +     plus               --    dashed   \n",
        "           m     magenta    \n",
        "\n"
       ]
      }
     ],
     "prompt_number": 3
    },
    {
     "cell_type": "markdown",
     "metadata": {},
     "source": [
      "<h4> >> PLOT THE TOTALTALKS DATA </h4>"
     ]
    },
    {
     "cell_type": "code",
     "collapsed": false,
     "input": [
      "%%matlab \n",
      "\n",
      "fig = figure(); \n",
      "plot(dates, totalTalks,'-or','LineWidth', 1, 'MarkerSize', 10)\n",
      "title('Ted Talks Added Over Time'); \n",
      "xlabel('Date'); \n",
      "ylabel('Number of Talks');\n",
      "set(gca,'XTick',dates(1:6:end)); \n",
      "datetick('x','mmmyyyy')\n",
      "\n",
      "%%%%%%%%%%%%%%%%%%\n",
      "%     PLOTLY     %\n",
      "%%%%%%%%%%%%%%%%%%\n",
      "\n",
      "resp = fig2plotly(gcf); \n"
     ],
     "language": "python",
     "metadata": {},
     "outputs": [
      {
       "metadata": {},
       "output_type": "display_data",
       "png": "[encoded data removed]"
      }
     ],
     "prompt_number": 17
    },
    {
     "cell_type": "markdown",
     "metadata": {},
     "source": [
      "Looking good MATLAB : ) Our very last line in the code above called the **fig2plotly.m** function and stored the results of our url request to Plotly in a structure array we named **resp**. More information regarding **fig2plotly.m** can be found in the <a href = ./getting_started.ipynb/#doc class = nounderline>documentation</a> of these notebooks or <a href= https://plot.ly/matlab class = nounderline> online </a>. Let's take a look at our new Plotly plot housed on our Plotly account at resp.url. "
     ]
    },
    {
     "cell_type": "code",
     "collapsed": false,
     "input": [
      "%%matlab\n",
      "\n",
      "resp.url "
     ],
     "language": "python",
     "metadata": {},
     "outputs": [
      {
       "metadata": {},
       "output_type": "display_data",
       "text": [
        "\n",
        "ans =\n",
        "\n",
        "https://plot.ly/~matlab_user_guide/26\n",
        "\n"
       ]
      }
     ],
     "prompt_number": 15
    },
    {
     "cell_type": "code",
     "collapsed": false,
     "input": [
      "show_plot('https://plot.ly/~matlab_user_guide/26')"
     ],
     "language": "python",
     "metadata": {},
     "outputs": [
      {
       "html": [
        "<center><iframe height=\"550\" id=\"igraph\" scrolling=\"no\" frameborder = 0 seamless=\"seamless\" src=\"https://plot.ly/~matlab_user_guide/26/750/550\" width=\"750\"></iframe></center>"
       ],
       "metadata": {},
       "output_type": "pyout",
       "prompt_number": 50,
       "text": [
        "<IPython.core.display.HTML at 0x10e5a5150>"
       ]
      }
     ],
     "prompt_number": 50
    },
    {
     "cell_type": "markdown",
     "metadata": {},
     "source": [
      "Awesome! Using the **fig2plotly.m** function, all the relevant data, style and layout information contained with the MATLAB figure structure was parsed and converted into Plotly syntax automatically. Other than style, there are still a few things we need to fix up. For instance, the x-axis labels do not yet indicate the month that the talks were added. We could do this in MATLAB, however adding/rotating tick labels (which we will need to do) is amazingly easy using Plotly! Now that we have our Plot in our Plotly account, we can take advantage of Plotly's online web app. Let's have a look at how this is done."
     ]
    },
    {
     "cell_type": "markdown",
     "metadata": {},
     "source": [
      "<h4>GO TO THE URL OF YOUR PLOT: (E.G., 'https://plot.ly/~matlab_user_guide/26')</h4>"
     ]
    },
    {
     "cell_type": "markdown",
     "metadata": {},
     "source": [
      "<center>\n",
      "<img src=\"files/images/mainurl.png\" style=\"width: 900px; height: 500px; margin-left: auto;margin-right: auto\"; alt=\"\">\n",
      "</center> "
     ]
    },
    {
     "cell_type": "markdown",
     "metadata": {},
     "source": [
      "We can save and edit out Plot by clicking **SAVE & EDIT** above the **VIEW DATA** link on the right (image above). Once we do we can can access the **Plotly web GUI!**.   "
     ]
    },
    {
     "cell_type": "markdown",
     "metadata": {},
     "source": [
      "<center>\n",
      "<img src=\"files/images/webappted.png\" style=\"width: 900px; height: 500px; margin-left: auto;margin-right: auto\"; alt=\"\">\n",
      "</center> "
     ]
    },
    {
     "cell_type": "markdown",
     "metadata": {},
     "source": [
      "Modifying the style and layout of the plot is now just a click away. Let's begin by adding some more x-axis ticks and rotating the labels by 50 deg. clockwise. We can do this easily by clicking on **AXES**, which opens the following axes properties window. "
     ]
    },
    {
     "cell_type": "markdown",
     "metadata": {},
     "source": [
      "<center>\n",
      "<img src=\"files/images/editaxes.png\" style=\"width: 480px; height: 350px; margin-left: auto;margin-right: auto\"; alt=\"\">\n",
      "</center> "
     ]
    },
    {
     "cell_type": "markdown",
     "metadata": {},
     "source": [
      "Now all we have to do is adjust the number of ticks and the angle of the labels under the **Ticks** and **Labels** tabs, respectively. Here is how the plot looks after performing these actions: "
     ]
    },
    {
     "cell_type": "code",
     "collapsed": false,
     "input": [
      "show_plot('https://plot.ly/~matlab_user_guide/173', 800,600)"
     ],
     "language": "python",
     "metadata": {},
     "outputs": [
      {
       "html": [
        "<iframe height=\"600\" id=\"igraph\" frameborder = 0 seamless=\"seamless\" scrolling=\"no\" src=\"https://plot.ly/~matlab_user_guide/173/800/600\" width=\"800\"></iframe>"
       ],
       "metadata": {},
       "output_type": "pyout",
       "prompt_number": 7,
       "text": [
        "<IPython.core.display.HTML at 0x10ad8d090>"
       ]
      }
     ],
     "prompt_number": 7
    },
    {
     "cell_type": "markdown",
     "metadata": {},
     "source": [
      "The number of x-axis ticks has increased and we were able to nicely fit all of the month/year labels by rotating them clokciwse. Finally, here is the final product after a few more style/layout tweaks using the web app.  "
     ]
    },
    {
     "cell_type": "code",
     "collapsed": false,
     "input": [
      "show_plot('https://plot.ly/~matlab_user_guide/30', 800, 600)"
     ],
     "language": "python",
     "metadata": {},
     "outputs": [
      {
       "html": [
        "<iframe height=\"600\" id=\"igraph\" frameborder = 0 seamless=\"seamless\" src=\"https://plot.ly/~matlab_user_guide/30/800/600\" width=\"800\"></iframe>"
       ],
       "metadata": {},
       "output_type": "pyout",
       "prompt_number": 17,
       "text": [
        "<IPython.core.display.HTML at 0x1059b3290>"
       ]
      }
     ],
     "prompt_number": 17
    },
    {
     "cell_type": "markdown",
     "metadata": {},
     "source": [
      "<hr size = \"5px\">\n",
      "<center><h2 id=\"pse\">LINE AND SCATTER PLOT: PLOTLY SYNTAX</h2></center>\n",
      "<hr size = \"5px\">"
     ]
    },
    {
     "cell_type": "markdown",
     "metadata": {},
     "source": [
      "The Plotly MATLAB API also allows you to created Plotly plots using Plotly syntax. A newly added help function **plotlyhelp.m** provides information regarding the various Plotly plot types.   "
     ]
    },
    {
     "cell_type": "markdown",
     "metadata": {},
     "source": [
      "<h4>>> CALL PLOTLYHELP</h4> "
     ]
    },
    {
     "cell_type": "code",
     "collapsed": false,
     "input": [
      "%%matlab\n",
      "\n",
      "plotlyhelp('scatter')"
     ],
     "language": "python",
     "metadata": {},
     "outputs": [
      {
       "metadata": {},
       "output_type": "display_data",
       "text": [
        "\n",
        "ans = \n",
        "\n",
        "               x: [1x1 struct]\n",
        "               y: [1x1 struct]\n",
        "            text: [1x1 struct]\n",
        "    textposition: [1x1 struct]\n",
        "            name: [1x1 struct]\n",
        "            mode: [1x1 struct]\n",
        "          marker: [1x1 struct]\n",
        "            line: [1x1 struct]\n",
        "            fill: [1x1 struct]\n",
        "       fillcolor: [1x1 struct]\n",
        "         opacity: [1x1 struct]\n",
        "      showlegend: [1x1 struct]\n",
        "          stream: [1x1 struct]\n",
        "           xaxis: [1x1 struct]\n",
        "           yaxis: [1x1 struct]\n",
        "         error_y: [1x1 struct]\n",
        "         error_x: [1x1 struct]\n",
        "         visible: [1x1 struct]\n",
        "        textfont: [1x1 struct]\n",
        "               r: [1x1 struct]\n",
        "               t: [1x1 struct]\n",
        "            type: [1x1 struct]\n",
        "\n"
       ]
      }
     ],
     "prompt_number": 26
    },
    {
     "cell_type": "code",
     "collapsed": false,
     "input": [
      "%%matlab\n",
      "plotlyhelp('marker')"
     ],
     "language": "python",
     "metadata": {},
     "outputs": [
      {
       "metadata": {},
       "output_type": "display_data",
       "text": [
        "\n",
        "ans = \n",
        "\n",
        "      symbol: [1x1 struct]\n",
        "        line: [1x1 struct]\n",
        "        size: [1x1 struct]\n",
        "    sizemode: [1x1 struct]\n",
        "     sizeref: [1x1 struct]\n",
        "       color: [1x1 struct]\n",
        "     opacity: [1x1 struct]\n",
        "        type: [1x1 struct]\n",
        "\n"
       ]
      }
     ],
     "prompt_number": 131
    },
    {
     "cell_type": "code",
     "collapsed": false,
     "input": [
      "%%matlab\n",
      "plotlyhelp('line')"
     ],
     "language": "python",
     "metadata": {},
     "outputs": [
      {
       "metadata": {},
       "output_type": "display_data",
       "text": [
        "\n",
        "ans = \n",
        "\n",
        "         dash: [1x1 struct]\n",
        "        color: [1x1 struct]\n",
        "        width: [1x1 struct]\n",
        "      opacity: [1x1 struct]\n",
        "    smoothing: [1x1 struct]\n",
        "\n"
       ]
      }
     ],
     "prompt_number": 137
    },
    {
     "cell_type": "markdown",
     "metadata": {},
     "source": [
      "Have a look at the code provided below to see an example of the Plotly syntax in action. Copy and paste relevant sections to make your own line and scatter plot! This next example creates a scatter plot of all the talks over time vs. the number of views received. "
     ]
    },
    {
     "cell_type": "code",
     "collapsed": false,
     "input": [
      "%%matlab\n",
      "\n",
      "%%%%%%%%%%%%%%%%%%\n",
      "% LOAD TED DATA  %\n",
      "%%%%%%%%%%%%%%%%%%\n",
      "\n",
      "ted = load('tednb');\n",
      "talks = ted.talks; \n",
      "num_speakers = 1768;\n",
      "dates = cell(1,num_speakers);\n",
      "views = zeros(1,num_speakers);\n",
      "\n",
      "%%%%%%%%%%%%%%%%%%\n",
      "%   FORMAT DATA  %\n",
      "%%%%%%%%%%%%%%%%%%\n",
      "\n",
      "for s = 1:num_speakers\n",
      "    dates_temp = datevec(datenum( [ '01-' (talks.date.month{s}) '-' num2str(talks.date.year{s})] ,'dd-mmm-yyyy'));\n",
      "    dates{s} = [num2str(dates_temp(1)) '-' num2str(dates_temp(2))];\n",
      "    views(s) = talks.views{s};\n",
      "    text{s} = sprintf(['TALK: ' talks.title{s} '<br>' 'SPEAKER: '  talks.speaker{s} '<br>' 'RATING: ' talks.tag1{s} ', ' talks.tag2{s} ]);\n",
      "end\n",
      "\n",
      "%%%%%%%%%%%%%%%%%%\n",
      "%      DATA      %\n",
      "%%%%%%%%%%%%%%%%%%\n",
      "\n",
      "data{1}.x = dates;\n",
      "data{1}.y = views;\n",
      "data{1}.type = 'scatter';\n",
      "data{1}.mode= 'markers';\n",
      "\n",
      "%%%%%%%%%%%%%%%%%%\n",
      "%      STYLE     %\n",
      "%%%%%%%%%%%%%%%%%%\n",
      "\n",
      "data{1}.text = text;\n",
      "data{1}.textposition = 'middle right';\n",
      "data{1}.textfont.size = 10;\n",
      "data{1}.name = 'talks';\n",
      "data{1}.opacity = 0.95;\n",
      "data{1}.marker.color = 'rgb(12, 52, 61)';\n",
      "data{1}.marker.symbol = 'circle';\n",
      "data{1}.marker.size = 16;\n",
      "data{1}.marker.opacity = 0.8;\n",
      "data{1}.marker.line.width = 3;\n",
      "data{1}.marker.line.color = 'rgb(0, 255, 0)';\n",
      "\n",
      "%%%%%%%%%%%%%%%%%%\n",
      "%     LAYOUT     %\n",
      "%%%%%%%%%%%%%%%%%%\n",
      "\n",
      "%bgcolors\n",
      "layout.paper_bgcolor =  'rgba(12, 20, 38, 0.99)';\n",
      "layout.plot_bgcolor = 'rgba(63, 56, 56, 0.54)';\n",
      "\n",
      "%page layout\n",
      "layout.width = 800;\n",
      "layout.height = 550;\n",
      "layout.position = 0;\n",
      "layout.autosize = false;\n",
      "layout.showlegend = false;\n",
      "\n",
      "%margins\n",
      "layout.margin.l = 30;\n",
      "layout.margin.r = 50;\n",
      "layout.margin.b = 80;\n",
      "layout.margin.t = 70;\n",
      "layout.margin.pad = 4;\n",
      "layout.margin.autoexpand = false;\n",
      "\n",
      "%X-AXIS\n",
      "layout.xaxis.showexponent = 'all';\n",
      "layout.xaxis.showticklabels = 1;\n",
      "layout.xaxis.domain =  [0.0500 1];\n",
      "layout.xaxis.linecolor = 'rgb(255, 255, 255)';\n",
      "layout.xaxis.mirror = 1;\n",
      "layout.xaxis.autotick = 1;\n",
      "layout.xaxis.linewidth = 3.7000;\n",
      "layout.xaxis.nticks = 50;\n",
      "layout.xaxis.title = 'DATE ADDED';\n",
      "layout.xaxis.ticks = '';\n",
      "layout.xaxis.rangemode = 'nonnegative';\n",
      "layout.xaxis.overlaying = 0;\n",
      "layout.xaxis.zeroline = 0;\n",
      "layout.xaxis.type = 'date';\n",
      "layout.xaxis.autorange =1;\n",
      "layout.xaxis.zerolinewidth = 0.1000;\n",
      "layout.xaxis.ticklen = 1;\n",
      "layout.xaxis.tickcolor = 'rgb(255, 255, 255)';\n",
      "layout.xaxis.showline = 'true';\n",
      "layout.xaxis.showgrid = false;\n",
      "layout.xaxis.tickwidth = 0.1000;\n",
      "layout.xaxis.tick0 = 9.4670e+11;\n",
      "layout.xaxis.titlefont.color = 'rgb(255, 255, 255)'; \n",
      "layout.xaxis.titlefont.family = 'Arial, sans-serif'; \n",
      "layout.xaxis.titlefont.size = 14; \n",
      "layout.xaxis.tickfont.color = 'rgb(255, 255, 255)'; \n",
      "layout.xaxis.tickfont.family = 'Arial, sans-serif'; \n",
      "layout.xaxis.tickfont.size = 10; \n",
      "layout.xaxis.tickangle = -40;\n",
      "layout.xaxis.dtick = 'M3';\n",
      "layout.xaxis.anchor = 'y';\n",
      "layout.xaxis.zerolinecolor = 'rgb(255, 255, 255)';\n",
      "layout.xaxis.range = [1.1304e+12 1.4203e+12];\n",
      "layout.xaxis.position = 0;\n",
      "layout.xaxis.side = 'bottom';\n",
      "layout.xaxis.exponentformat = 'SI';\n",
      "\n",
      "\n",
      "%Y-AXIS\n",
      "layout.yaxis.showexponent = 'all';\n",
      "layout.yaxis.showticklabels = 1;\n",
      "layout.yaxis.domain = [0 1];\n",
      "layout.yaxis.gridcolor = '#eee';\n",
      "layout.yaxis.linecolor = 'rgb(255, 255, 255)';\n",
      "layout.yaxis.mirror = 1;\n",
      "layout.yaxis.autotick = 1;\n",
      "layout.yaxis.linewidth = 3.1000;\n",
      "layout.yaxis.nticks = 50;\n",
      "layout.yaxis.title = 'VIEWS';\n",
      "layout.yaxis.rangemode = 'nonnegative';\n",
      "layout.yaxis.overlaying = 0;\n",
      "layout.yaxis.zeroline = 0;\n",
      "layout.yaxis.type = 'log';\n",
      "layout.yaxis.autorange = 1;\n",
      "layout.yaxis.zerolinewidth = 10;\n",
      "layout.yaxis.ticklen = 1;\n",
      "layout.yaxis.titlefont.color = 'rgb(255, 255, 255)'; \n",
      "layout.yaxis.titlefont.family = 'Arial, sans-serif'; \n",
      "layout.yaxis.titlefont.size = 14; \n",
      "layout.yaxis.tickfont.color = 'rgb(255, 255, 255)'; \n",
      "layout.yaxis.tickfont.family = 'Arial, sans-serif'; \n",
      "layout.yaxis.tickfont.size = 10; \n",
      "layout.yaxis.tickcolor = '#444';\n",
      "layout.yaxis.showline = 1;\n",
      "layout.yaxis.showgrid = false;\n",
      "layout.yaxis.tickwidth = 1;\n",
      "layout.yaxis.tick0 = 0;\n",
      "layout.yaxis.tickangle = 'auto';\n",
      "layout.yaxis.gridwidth = 1;\n",
      "layout.yaxis.dtick = 1000000;\n",
      "layout.yaxis.anchor = 'x';\n",
      "layout.yaxis.zerolinecolor = 'rgb(255, 255, 255)';\n",
      "layout.yaxis.range = [0 2.8108e+07];\n",
      "layout.yaxis.position = 0;\n",
      "layout.yaxis.side = 'left';\n",
      "layout.yaxis.exponentformat = 'SI';\n",
      "\n",
      "%annotation 1\n",
      "layout.annotations{1}.yanchor = 'auto';\n",
      "layout.annotations{1}.text = 'TED';\n",
      "layout.annotations{1}.bordercolor = 'rgba(0, 0, 0, 0)';\n",
      "layout.annotations{1}.arrowsize = 1;\n",
      "layout.annotations{1}.tag = [];\n",
      "layout.annotations{1}.borderwidth = 4.9000;\n",
      "layout.annotations{1}.ay = '-27';\n",
      "layout.annotations{1}.ax = -10;\n",
      "layout.annotations{1}.font.family = 'Arial, sans-serif'; \n",
      "layout.annotations{1}.font.size = 36;\n",
      "layout.annotations{1}.font.color = 'white';\n",
      "layout.annotations{1}.font.opacity = 1;\n",
      "layout.annotations{1}. arrowcolor ='';\n",
      "layout.annotations{1}.xref = 'paper';\n",
      "layout.annotations{1}.arrowhead =1;\n",
      "layout.annotations{1}.bgcolor = 'rgba(0, 0, 0, 0)';\n",
      "layout.annotations{1}.borderpad = 0;\n",
      "layout.annotations{1}.showarrow = 0;\n",
      "layout.annotations{1}.opacity = 1;\n",
      "layout.annotations{1}.xanchor = 'auto';\n",
      "layout.annotations{1}.arrowwidth = 0;\n",
      "layout.annotations{1}.yref = 'paper';\n",
      "layout.annotations{1}.align = 'center';\n",
      "layout.annotations{1}.y = 1.11775; \n",
      "layout.annotations{1}.x = 0.029028; \n",
      "\n",
      "%annotation 2\n",
      "layout.annotations{2}.yanchor = 'auto';\n",
      "layout.annotations{2}.text = 'TALKS VISUALIZED';\n",
      "layout.annotations{2}.bordercolor = 'rgba(0, 0, 0, 0)';\n",
      "layout.annotations{2}.arrowsize = 1;\n",
      "layout.annotations{2}.tag = '';\n",
      "layout.annotations{2}.borderwidth = 1;\n",
      "layout.annotations{2}.ay = '-338.835942268';\n",
      "layout.annotations{2}.ax = -147;\n",
      "layout.annotations{2}.font.color = 'rgb(255, 255, 255)'; \n",
      "layout.annotations{2}.font.family = 'Arial, sans-serif'; \n",
      "layout.annotations{2}.font.size = 12;\n",
      "layout.annotations{2}.arrowcolor =  '';\n",
      "layout.annotations{2}.xref = 'paper';\n",
      "layout.annotations{2}.arrowhead = 1;\n",
      "layout.annotations{2}.bgcolor = 'rgba(0, 0, 0, 0)';\n",
      "layout.annotations{2}.borderpad = 1;\n",
      "layout.annotations{2}.showarrow = 0;\n",
      "layout.annotations{2}.opacity = 1;\n",
      "layout.annotations{2}.xanchor = 'auto';\n",
      "layout.annotations{2}.arrowwidth = 0;\n",
      "layout.annotations{2}.yref = 'paper';\n",
      "layout.annotations{2}.align = 'center';\n",
      "layout.annotations{2}.y = 1.0675;\n",
      "layout.annotations{2}.x = 0.137;\n",
      "\n",
      "%user interaction \n",
      "layout.hovermode = 'closest'; \n",
      "\n",
      "\n",
      "\n",
      "%%%%%%%%%%%%%%%%%%\n",
      "%      ARGS      %\n",
      "%%%%%%%%%%%%%%%%%%\n",
      "\n",
      "args.layout = layout;\n",
      "args.fileopt = 'overwrite';\n",
      "args.world_readable = 'false';\n",
      "args.filename = 'TED TALK VISUALIZATION';\n",
      "\n",
      "%%%%%%%%%%%%%%%%%%\n",
      "%     PLOTLY     %\n",
      "%%%%%%%%%%%%%%%%%%\n",
      "\n",
      "resp = plotly(data,args);"
     ],
     "language": "python",
     "metadata": {},
     "outputs": [],
     "prompt_number": 13
    },
    {
     "cell_type": "code",
     "collapsed": false,
     "input": [
      "show_plot('https://plot.ly/~matlab_user_guide/174/')"
     ],
     "language": "python",
     "metadata": {},
     "outputs": [
      {
       "html": [
        "<iframe height=\"550\" id=\"igraph\" frameborder = 0 seamless=\"seamless\" scrolling=\"no\" src=\"https://plot.ly/~matlab_user_guide/174//750/550\" width=\"750\"></iframe>"
       ],
       "metadata": {},
       "output_type": "pyout",
       "prompt_number": 16,
       "text": [
        "<IPython.core.display.HTML at 0x10ad9d9d0>"
       ]
      }
     ],
     "prompt_number": 16
    },
    {
     "cell_type": "markdown",
     "metadata": {},
     "source": [
      "<font size = \"2pt\">**NOTE: ** code for **show_plot** provided at bottom of the page. "
     ]
    },
    {
     "cell_type": "markdown",
     "metadata": {},
     "source": [
      "Awesome! The interactivity of the plot allows us to zoom in and visualize the denser areas of the plot. We can also scroll over the individual markers to get addtional information, such as the title, speaker, and ratings of each talk. Now let's clean a few more things up and add another visual dimension. The code provided below demonstrates how you can map the line and marker colour of each scatter point to the two different ratings associated with each talk. "
     ]
    },
    {
     "cell_type": "code",
     "collapsed": false,
     "input": [
      "%%matlab \n",
      "\n",
      "%%%%%%%%%%%%%%%%%%\n",
      "%  LOAD TED DATA %\n",
      "%%%%%%%%%%%%%%%%%%\n",
      "\n",
      "load('tednb');\n",
      "talks = ted.talks; \n",
      "\n",
      "tags = {'jaw-dropping', 'funny', 'persuasive', 'courageous', ...\n",
      "    'ingenious', 'fascinating', 'inspiring', 'beautiful', 'informative'};\n",
      "\n",
      "num_speakers =  1764;\n",
      "num_tags = length(tags);\n",
      "dates = cell(1,num_speakers);\n",
      "views = zeros(1,num_speakers);\n",
      "data = cell(1,num_speakers + num_tags);\n",
      "\n",
      "\n",
      "%%%%%%%%%%%%%%%%%%\n",
      "%   FORMAT DATA  %\n",
      "%%%%%%%%%%%%%%%%%%\n",
      "\n",
      "for s = 1:num_speakers\n",
      "    dates_temp = datevec(datenum( [ '01-' (talks.date.month{s}) '-' num2str(talks.date.year{s})] ,'dd-mmm-yyyy'));\n",
      "    dates{s} = [num2str(dates_temp(1)) '-' num2str(dates_temp(2))];\n",
      "    talks.speaker{s} = remove_accents_from_string(talks.speaker{s});\n",
      "    views(s) = talks.views{s};\n",
      "    text{s} = sprintf(['TALK: ' talks.title{s} '<br>' 'SPEAKER: '  talks.speaker{s} '<br>' 'RATING: ' talks.tag1{s} ', ' talks.tag2{s} ]);\n",
      "end\n",
      "\n",
      "\n",
      "for s = 1:num_speakers\n",
      "    \n",
      "    %%%%%%%%%%%%%%%%%%\n",
      "    %      DATA      %\n",
      "    %%%%%%%%%%%%%%%%%%\n",
      "    \n",
      "    data{s}.x = dates{s};\n",
      "    data{s}.y = views(s);\n",
      "    data{s}.type = 'scatter';\n",
      "    data{s}.mode= 'markers';\n",
      "    data{s}.showlegend = false;\n",
      "    \n",
      "    %%%%%%%%%%%%%%%%%%\n",
      "    %      STYLE     %\n",
      "    %%%%%%%%%%%%%%%%%%\n",
      "    \n",
      "    tags_col = { 'rgb(255, 0, 0)', 'rgb(255, 102, 0)',  'rgb(255, 10, 155)', ...\n",
      "    'rgb(10, 255, 10)' ,  'rgb(155, 255, 10)', 'rgb(255,255,102)', ...\n",
      "    'rgb(10, 10, 255)', 'rgb(25, 155, 255)',  'rgb(85, 25, 255)'};\n",
      "    \n",
      "    data{s}.text = {text{s}};\n",
      "    data{s}.textposition = 'middle right';\n",
      "    data{s}.textfont.size = 10;\n",
      "    data{s}.name = '';\n",
      "    data{s}.marker.opacity = 0.7;\n",
      "    data{s}.marker.line.width = 3;\n",
      "    data{s}.marker.symbol = 'circle';\n",
      "    data{s}.marker.size = 10;\n",
      "    \n",
      "    switch lower(talks.tag1{s})\n",
      "        case tags{1}\n",
      "            data{s}.marker.color = tags_col{1};\n",
      "        case tags{2}\n",
      "            data{s}.marker.color = tags_col{2};\n",
      "        case tags{3}\n",
      "            data{s}.marker.color = tags_col{3};\n",
      "        case tags{4}\n",
      "            data{s}.marker.color = tags_col{4};\n",
      "        case tags{5}\n",
      "            data{s}.marker.color = tags_col{5};\n",
      "        case tags{6}\n",
      "            data{s}.marker.color = tags_col{6};\n",
      "        case tags{7}\n",
      "            data{s}.marker.color = tags_col{7};\n",
      "        case tags{8}\n",
      "            data{s}.marker.color = tags_col{8};\n",
      "        case tags{9}\n",
      "            data{s}.marker.color = tags_col{9};\n",
      "    end\n",
      "    \n",
      "    switch lower(talks.tag2{s})\n",
      "        case tags{1}\n",
      "            data{s}.marker.line.color = tags_col{1};\n",
      "        case tags{2}\n",
      "            data{s}.marker.line.color = tags_col{2};\n",
      "        case tags{3}\n",
      "            data{s}.marker.line.color = tags_col{3};\n",
      "        case tags{4}\n",
      "            data{s}.marker.line.color = tags_col{4};\n",
      "        case tags{5}\n",
      "            data{s}.marker.line.color = tags_col{5};\n",
      "        case tags{6}\n",
      "            data{s}.marker.line.color = tags_col{6};\n",
      "        case tags{7}\n",
      "            data{s}.marker.line.color = tags_col{7};\n",
      "        case tags{8}\n",
      "            data{s}.marker.line.color = tags_col{8};\n",
      "        case tags{9}\n",
      "            data{s}.marker.line.color = tags_col{9};\n",
      "    end\n",
      "    \n",
      "end\n",
      "    \n",
      "    \n",
      "    %%%%%%%%%%%%%%%%%%\n",
      "    %   LEGEND DATA  %\n",
      "    %%%%%%%%%%%%%%%%%%\n",
      "    \n",
      "    for t = 1:num_tags\n",
      "        \n",
      "        data{t}.x = [];\n",
      "        data{t}.y = [];\n",
      "        data{t}.type = 'scatter';\n",
      "        data{t}.mode= 'markers';\n",
      "        data{t}.showlegend = true;\n",
      "        \n",
      "        %%%%%%%%%%%%%%%%%%\n",
      "        %       STYLE    %\n",
      "        %%%%%%%%%%%%%%%%%%\n",
      "        \n",
      "        data{t}.name = upper(tags{t});\n",
      "        data{t}.opacity = 0.9;\n",
      "        data{t}.marker.opacity = 0.9;\n",
      "        data{t}.marker.line.width = 3;\n",
      "        data{t}.marker.symbol = 'circle';\n",
      "        data{t}.marker.size = 16;\n",
      "        data{t}.marker.color = tags_col{t};\n",
      "        data{t}.marker.line.color = tags_col{t};\n",
      "        \n",
      "    end\n",
      "    \n",
      "    %%%%%%%%%%%%%%%%%%\n",
      "    %     LAYOUT     %\n",
      "    %%%%%%%%%%%%%%%%%%\n",
      "    \n",
      "    %bgcolors\n",
      "    layout.paper_bgcolor =  'rgba(12, 20, 38, 0.99)';\n",
      "    layout.plot_bgcolor = 'rgba(63, 56, 56, 0.54)';\n",
      "    \n",
      "    %page layout\n",
      "    layout.width = 770;\n",
      "    layout.height = 550;\n",
      "    layout.position = 0;\n",
      "    layout.autosize = false;\n",
      "    \n",
      "    %margins\n",
      "    layout.margin.l = 30;\n",
      "    layout.margin.r = 150;\n",
      "    layout.margin.b = 80;\n",
      "    layout.margin.t = 70;\n",
      "    layout.margin.pad = 4;\n",
      "    layout.margin.autoexpand = false;\n",
      "    \n",
      "    %X-AXIS\n",
      "    layout.xaxis.showexponent = 'all';\n",
      "    layout.xaxis.showticklabels = 1;\n",
      "    layout.xaxis.domain =  [0.0500 1];\n",
      "    layout.xaxis.linecolor = 'rgb(255, 255, 255)';\n",
      "    layout.xaxis.mirror = 1;\n",
      "    layout.xaxis.autotick = 1;\n",
      "    layout.xaxis.linewidth = 3.7000;\n",
      "    layout.xaxis.nticks = 50;\n",
      "    layout.xaxis.title = 'DATE ADDED';\n",
      "    layout.xaxis.ticks = '';\n",
      "    layout.xaxis.rangemode = 'nonnegative';\n",
      "    layout.xaxis.overlaying = 0;\n",
      "    layout.xaxis.zeroline = 0;\n",
      "    layout.xaxis.type = 'date';\n",
      "    layout.xaxis.autorange =1;\n",
      "    layout.xaxis.zerolinewidth = 0.1000;\n",
      "    layout.xaxis.ticklen = 1;\n",
      "    layout.xaxis.tickcolor = 'rgb(255, 255, 255)';\n",
      "    layout.xaxis.showline = 'true';\n",
      "    layout.xaxis.showgrid = false;\n",
      "    layout.xaxis.tickwidth = 0.1000;\n",
      "    layout.xaxis.tick0 = 9.4670e+11;\n",
      "    layout.xaxis.titlefont.color = 'rgb(255, 255, 255)';\n",
      "    layout.xaxis.titlefont.family = 'Arial, sans-serif';\n",
      "    layout.xaxis.titlefont.size = 14;\n",
      "    layout.xaxis.tickfont.color = 'rgb(255, 255, 255)';\n",
      "    layout.xaxis.tickfont.family = 'Arial, sans-serif';\n",
      "    layout.xaxis.tickfont.size = 10;\n",
      "    layout.xaxis.tickangle = -40;\n",
      "    layout.xaxis.dtick = 'M3';\n",
      "    layout.xaxis.anchor = 'y';\n",
      "    layout.xaxis.zerolinecolor = 'rgb(255, 255, 255)';\n",
      "    layout.xaxis.range = [1.1304e+12 1.4203e+12];\n",
      "    layout.xaxis.position = 0;\n",
      "    layout.xaxis.side = 'bottom';\n",
      "    layout.xaxis.exponentformat = 'SI';\n",
      "    \n",
      "    \n",
      "    %Y-AXIS\n",
      "    layout.yaxis.showexponent = 'all';\n",
      "    layout.yaxis.showticklabels = 1;\n",
      "    layout.yaxis.domain = [0 1];\n",
      "    layout.yaxis.gridcolor = '#eee';\n",
      "    layout.yaxis.linecolor = 'rgb(255, 255, 255)';\n",
      "    layout.yaxis.mirror = 1;\n",
      "    layout.yaxis.autotick = 1;\n",
      "    layout.yaxis.linewidth = 3.1000;\n",
      "    layout.yaxis.nticks = 5;\n",
      "    layout.yaxis.title = 'VIEWS';\n",
      "    layout.yaxis.rangemode = 'nonnegative';\n",
      "    layout.yaxis.overlaying = 0;\n",
      "    layout.yaxis.zeroline = 0;\n",
      "    layout.yaxis.type = 'log';\n",
      "    layout.yaxis.autorange = 1;\n",
      "    layout.yaxis.zerolinewidth = 10;\n",
      "    layout.yaxis.ticklen = 1;\n",
      "    layout.yaxis.titlefont.color = 'rgb(255, 255, 255)';\n",
      "    layout.yaxis.titlefont.family = 'Arial, sans-serif';\n",
      "    layout.yaxis.titlefont.size = 14;\n",
      "    layout.yaxis.tickfont.color = 'rgb(255, 255, 255)';\n",
      "    layout.yaxis.tickfont.family = 'Arial, sans-serif';\n",
      "    layout.yaxis.tickfont.size = 10;\n",
      "    layout.yaxis.tickcolor = '#444';\n",
      "    layout.yaxis.showline = 1;\n",
      "    layout.yaxis.showgrid = false;\n",
      "    layout.yaxis.tickwidth = 1;\n",
      "    layout.yaxis.tick0 = false;\n",
      "    layout.yaxis.tickangle = 'auto';\n",
      "    layout.yaxis.gridwidth = 1;\n",
      "    layout.yaxis.dtick = 1000000;\n",
      "    layout.yaxis.anchor = 'x';\n",
      "    layout.yaxis.zerolinecolor = 'rgb(255, 255, 255)';\n",
      "    layout.yaxis.range = [0 2.8108e+07];\n",
      "    layout.yaxis.position = 0;\n",
      "    layout.yaxis.side = 'left';\n",
      "    layout.yaxis.exponentformat = 'SI';\n",
      "    \n",
      "    %annotation 1\n",
      "    layout.annotations{1}.yanchor = 'auto';\n",
      "    layout.annotations{1}.text = 'TED';\n",
      "    layout.annotations{1}.bordercolor = 'rgba(0, 0, 0, 0)';\n",
      "    layout.annotations{1}.arrowsize = 1;\n",
      "    layout.annotations{1}.tag = [];\n",
      "    layout.annotations{1}.borderwidth = 4.9000;\n",
      "    layout.annotations{1}.ay = '-27';\n",
      "    layout.annotations{1}.ax = -10;\n",
      "    layout.annotations{1}.font.family = 'Arial, sans-serif';\n",
      "    layout.annotations{1}.font.size = 36;\n",
      "    layout.annotations{1}.font.color = 'white';\n",
      "    layout.annotations{1}.font.opacity = 1;\n",
      "    layout.annotations{1}. arrowcolor ='';\n",
      "    layout.annotations{1}.xref = 'paper';\n",
      "    layout.annotations{1}.arrowhead =1;\n",
      "    layout.annotations{1}.bgcolor = 'rgba(0, 0, 0, 0)';\n",
      "    layout.annotations{1}.borderpad = 0;\n",
      "    layout.annotations{1}.showarrow = 0;\n",
      "    layout.annotations{1}.opacity = 1;\n",
      "    layout.annotations{1}.xanchor = 'auto';\n",
      "    layout.annotations{1}.arrowwidth = 0;\n",
      "    layout.annotations{1}.yref = 'paper';\n",
      "    layout.annotations{1}.align = 'center';\n",
      "    layout.annotations{1}.y = 1.11775;\n",
      "    layout.annotations{1}.x = 0.029027777777777777;\n",
      "    \n",
      "    %annotation 2\n",
      "    layout.annotations{2}.yanchor = 'auto';\n",
      "    layout.annotations{2}.text = 'TALKS VISUALIZED';\n",
      "    layout.annotations{2}.bordercolor = 'rgba(0, 0, 0, 0)';\n",
      "    layout.annotations{2}.arrowsize = 1;\n",
      "    layout.annotations{2}.tag = '';\n",
      "    layout.annotations{2}.borderwidth = 1;\n",
      "    layout.annotations{2}.ay = '-338.835942268';\n",
      "    layout.annotations{2}.ax = -147;\n",
      "    layout.annotations{2}.font.color = 'rgb(255, 255, 255)';\n",
      "    layout.annotations{2}.font.family = 'Arial, sans-serif';\n",
      "    layout.annotations{2}.font.size = 12;\n",
      "    layout.annotations{2}.arrowcolor =  '';\n",
      "    layout.annotations{2}.xref = 'paper';\n",
      "    layout.annotations{2}.arrowhead = 1;\n",
      "    layout.annotations{2}.bgcolor = 'rgba(0, 0, 0, 0)';\n",
      "    layout.annotations{2}.borderpad = 1;\n",
      "    layout.annotations{2}.showarrow = 0;\n",
      "    layout.annotations{2}.opacity = 1;\n",
      "    layout.annotations{2}.xanchor = 'auto';\n",
      "    layout.annotations{2}.arrowwidth = 0;\n",
      "    layout.annotations{2}.yref = 'paper';\n",
      "    layout.annotations{2}.align = 'center';\n",
      "    layout.annotations{2}.y = 1.0675;\n",
      "    layout.annotations{2}.x = 0.158;\n",
      "    \n",
      "    %user interaction\n",
      "    layout.hovermode = 'closest';\n",
      "    \n",
      "    %legend\n",
      "    layout.showlegend = true;\n",
      "    layout.legend.x = 10;\n",
      "    layout.legend.y = 0;\n",
      "    layout.legend.bgcolor = 'rgba(0,0,0,0)';\n",
      "    layout.legend.borderwidth = 0;\n",
      "    layout.legend.font.color = 'rgb(255, 255, 255)';\n",
      "    layout.legend.font.family = 'Arial, sans-serif';\n",
      "    layout.legend.font.size = 10;\n",
      "    \n",
      "    \n",
      "    %%%%%%%%%%%%%%%%%%\n",
      "    %      ARGS      %\n",
      "    %%%%%%%%%%%%%%%%%%\n",
      "    \n",
      "    args.layout = layout;\n",
      "    args.fileopt = 'overwrite';\n",
      "    args.world_readable = 'false';\n",
      "    args.filename = 'TED TALKS';\n",
      "    \n",
      "    %%%%%%%%%%%%%%%%%%\n",
      "    %     PLOTLY     %\n",
      "    %%%%%%%%%%%%%%%%%%\n",
      "    \n",
      "    resp = plotly(data,args);\n"
     ],
     "language": "python",
     "metadata": {},
     "outputs": [],
     "prompt_number": 23
    },
    {
     "cell_type": "code",
     "collapsed": false,
     "input": [
      "show_plot('https://plot.ly/~matlab_user_guide/25')"
     ],
     "language": "python",
     "metadata": {},
     "outputs": [
      {
       "html": [
        "<iframe height=\"550\" id=\"igraph\" frameborder = 0 seamless=\"seamless\" scrolling=\"no\" src=\"https://plot.ly/~matlab_user_guide/25/750/550\" width=\"750\"></iframe>"
       ],
       "metadata": {},
       "output_type": "pyout",
       "prompt_number": 48,
       "text": [
        "<IPython.core.display.HTML at 0x1059b3bd0>"
       ]
      }
     ],
     "prompt_number": 48
    },
    {
     "cell_type": "markdown",
     "metadata": {},
     "source": [
      "<br>\n",
      "<br>\n",
      "<br>\n",
      "<br>\n",
      "<font size = \"3pt\">\n",
      "**NOTE:** The following code can be used to embed your Plotly plots within your own webpage. \n",
      "</font>"
     ]
    },
    {
     "cell_type": "code",
     "collapsed": false,
     "input": [
      "from IPython.display import HTML\n",
      "\n",
      "def show_plot(url, width=750, height=550):\n",
      "    s = '<iframe height=\"%s\" id=\"igraph\" frameborder = 0 seamless=\"seamless\" scrolling=\"no\" src=\"%s\" width=\"%s\"></iframe>' %\\\n",
      "    (height, \"/\".join(map(str,[url, width, height])), width)\n",
      "    return HTML(s)"
     ],
     "language": "python",
     "metadata": {},
     "outputs": [],
     "prompt_number": 4
    },
    {
     "cell_type": "markdown",
     "metadata": {},
     "source": [
      "<br>\n",
      "<br>\n",
      "<center><h1>CONTACT</h1></center>"
     ]
    },
    {
     "cell_type": "markdown",
     "metadata": {},
     "source": [
      "--- \n",
      "**Note:** Want to help improve this user guide? Please send us your comments/questions! Feedback concerning this user guide can be directed to <font color=#1d3b84>** chuck [at] plot.ly **</font>. You can also reach and follow us online via social media outlets.<br>\n",
      "<br>\n",
      "\n",
      "<div class=\"image-line\">\n",
      "\n",
      "<div class=\"image-cell\">\n",
      "<a href=\"https://twitter.com/plotlygraphs\">\n",
      "<img src=\"files/images/twitter.png\" style=\"width: 40px; height: 40px; margin-left: 1px; margin-right: 1px\"; alt=\"\"> \n",
      "</a>\n",
      "</div>\n",
      "\n",
      "<div class=\"image-cell\">\n",
      "<a href=\"https://www.facebook.com/Plotly\">\n",
      "<img src=\"files/images/facebook.png\" style=\"width: 40px; height: 40px; margin-left: 1px; margin-right: 1px\"; alt=\"\"> \n",
      "</a>\n",
      "</div>\n",
      "\n",
      "<div class=\"image-cell\">\n",
      "<a href= https://plus.google.com/101741663283396748386/posts>\n",
      "<img src=\"files/images/gplus.png\" style=\"width: 40px; height: 40px; margin-left: 1px; margin-right: 1px\"; alt=\"\"> \n",
      "</a>\n",
      "</div>\n",
      "\n",
      "<div class=\"image-cell\">\n",
      "<a href= https://www.edmodo.com/publisher/plotly>\n",
      "<img src=\"files/images/ed.png\" style=\"width: 40px; height: 40px; margin-left: 1px; margin-right: 1px\"; alt=\"\"> \n",
      "</a>\n",
      "</div>\n",
      "\n",
      "</div>\n",
      "<br>\n",
      "<br>\n",
      "\n",
      "---"
     ]
    },
    {
     "cell_type": "markdown",
     "metadata": {},
     "source": [
      "<br>\n",
      "<h4>\n",
      "<center>\n",
      "**  \u2022   ** <br><br>\n",
      "**  \u2022   ** <br><br>\n",
      "**  \u2022   ** <br><br>\n",
      "**  \u2022   ** <br><br>\n",
      "</center>    \n",
      "</h4>\n",
      "<br>"
     ]
    },
    {
     "cell_type": "markdown",
     "metadata": {},
     "source": [
      "<center><h2>[NOTEBOOK BEAUTIFICATION]</h2></center>"
     ]
    },
    {
     "cell_type": "code",
     "collapsed": false,
     "input": [
      "# CSS styling within IPython notebook\n",
      "from IPython.core.display import HTML\n",
      "def css_styling():\n",
      "    styles = open(\"./css/style_notebook.css\", \"r\").read()\n",
      "    return HTML(styles)\n",
      "css_styling()\n"
     ],
     "language": "python",
     "metadata": {},
     "outputs": [
      {
       "html": [
        "<style>\n",
        "@font-face {\n",
        "  font-family: \"Computer Modern\";\n",
        "  src: url('http://9dbb143991406a7c655e-aa5fcb0a5a4ec34cff238a2d56ca4144.r56.cf5.rackcdn.com/cmunss.otf');\n",
        "}\n",
        "@font-face {\n",
        "  font-family: \"Computer Modern\";\n",
        "  font-weight: bold;\n",
        "  src: url('http://9dbb143991406a7c655e-aa5fcb0a5a4ec34cff238a2d56ca4144.r56.cf5.rackcdn.com/cmunsx.otf');\n",
        "}\n",
        "@font-face {\n",
        "  font-family: \"Computer Modern\";\n",
        "  font-style: oblique;\n",
        "  src: url('http://9dbb143991406a7c655e-aa5fcb0a5a4ec34cff238a2d56ca4144.r56.cf5.rackcdn.com/cmunsi.otf');\n",
        "}\n",
        "@font-face {\n",
        "  font-family: \"Computer Modern\";\n",
        "  font-weight: bold;\n",
        "  font-style: oblique;\n",
        "  src: url('http://9dbb143991406a7c655e-aa5fcb0a5a4ec34cff238a2d56ca4144.r56.cf5.rackcdn.com/cmunso.otf');\n",
        "}\n",
        "div.cell{\n",
        "  width:800px;\n",
        "  margin-left:17% !important;\n",
        "  margin-right:auto;\n",
        "}\n",
        "h1 {\n",
        "  /* font-family: Computer Modern, serif; */\n",
        "  width:775px;\n",
        "  color:#1d3b84;\n",
        "  font-family: \u2018Lucida Console\u2019, Monaco, monospace;\n",
        "  text-align: center;\n",
        "  font-size: 50; \n",
        "}\n",
        "h2 {\n",
        "  /* font-family: Computer Modern, serif; */\n",
        "  color: #333333;\n",
        "  font-family: \u2018Lucida Console\u2019, Monaco, monospace;\n",
        "  text-align: center;\n",
        "}\n",
        "h3 {\n",
        "  /* font-family: Computer Modern, serif; */\n",
        "  width:775px;\n",
        "  color: #333333;\n",
        "  font-family: \u2018Lucida Console\u2019, Monaco, monospace;\n",
        "}\n",
        "h4{\n",
        "  color: #333333;\n",
        "  font-family: \u2018Lucida Console\u2019, Monaco, monospace;\n",
        "}\n",
        "\n",
        "h5 {\n",
        "  font-family: 'Open sans',verdana,arial,sans-serif;\n",
        "}\n",
        "\n",
        "h6{\n",
        "  color: #333333;\n",
        "  font-family: \u2018Lucida Console\u2019, Monaco, monospace;\n",
        "  margin-top:15px;\n",
        "  margin-bottom: 3px;\n",
        "}\n",
        "\n",
        "div.text_cell_render{\n",
        " /* font-family: Computer Modern, \"Helvetica Neue\", Arial, Helvetica, Geneva, sans-serif; */\n",
        " color: #333333;\n",
        " /* font-family: \u2018Palatino Linotype\u2019, \u2018Book Antiqua\u2019, Palatino, serif; */\n",
        " /* font-family: \u2018Trebuchet MS\u2019, Helvetica, sans-serif; */\n",
        " font-family: \u2018Lucida Sans Unicode\u2019, \u2018Lucida Grande\u2019, sans-serif;\n",
        " line-height: 145%;\n",
        " font-size: 130%;\n",
        " width: 800px; \n",
        "}\n",
        "code{\n",
        "  font-size: 40%;\n",
        "}\n",
        "ul{\n",
        "  margin: 2em;\n",
        "}\n",
        "ul li{\n",
        " padding-left: 0.5em;\n",
        " margin-bottom: 0.5em;\n",
        " margin-top: 0.5em;\n",
        " /*font-variant: small-caps;*/\n",
        "}\n",
        "\n",
        "a.nounderline:link{\n",
        " color: #1d3b84;\n",
        " font-weight: bold;\n",
        " text-decoration:none;\n",
        "}\n",
        "a.nounderlineblack:link{\n",
        " color: #333333;\n",
        " font-weight: bold;\n",
        " text-decoration:none;\n",
        "}\n",
        "a.nounderlineblack:visited{\n",
        " color: #333333;\n",
        " font-weight: bold;\n",
        " text-decoration:none;\n",
        "}\n",
        "a:link{\n",
        "  color: #447adb;\n",
        "\n",
        "co font-weight: bold;\n",
        " text-decoration:none;\n",
        "}\n",
        "a:visited{\n",
        " font-weight: bold;\n",
        " text-decoration: none;\n",
        "}\n",
        "a:hover{\n",
        " text-decoration: none;\n",
        " font-weight: bold;\n",
        "}\n",
        "a:focus{\n",
        " text-decoration: none;\n",
        " font-weight: bold;\n",
        "}\n",
        "a:active{\n",
        " text-decoration: none;\n",
        " font-weight: bold;\n",
        "}\n",
        ".CodeMirror{ \n",
        "  background-color: white; \n",
        "  border-bottom: 10; \n",
        "  font-family: \"Source Code Pro\", source-code-pro,Consolas, monospace;\n",
        "}\n",
        ".prompt{\n",
        "  display: None;\n",
        "}\n",
        "\n",
        ".col1 {\n",
        "    background-color: white;\n",
        "    float: left;\n",
        "    width: 300px;\n",
        "    height: 100px;\n",
        "}\n",
        ".col2 {\n",
        "    background-color: white;\n",
        "    width: 400px;\n",
        "    height: 100px;\n",
        "    float:center; \n",
        "    display: table-cell; \n",
        "}\n",
        ".col3 {\n",
        "    background-color: white;\n",
        "    float: right;\n",
        "    width: 200px;\n",
        "    height: 100px; \n",
        "}\n",
        "\n",
        "   \n",
        "\n",
        ".text_cell_render h1 {\n",
        "  font-size: 35pt;\n",
        "  width:775px;\n",
        "  color:#333333;\n",
        "  font-family: \u2018Lucida Console\u2019, Monaco, monospace;\n",
        "  text-align: center;\n",
        "  font-size: 50; \n",
        "}\n",
        "\n",
        ".text_cell_render h3 {\n",
        "  font-weight: 10;\n",
        "  font-style: italic;\n",
        "  color:#003366; \n",
        "  font-size: 15pt;\n",
        "  margin-bottom: 0em;\n",
        "  margin-top: 1.5em;\n",
        "  display: inline;\n",
        "  white-space: nowrap;\n",
        "}\n",
        "\n",
        ".text_cell_render h4{\n",
        "  color: #333333;\n",
        "  font-family: \u2018Lucida Console\u2019, Monaco, monospace;\n",
        "  margin-top:15px;\n",
        "  margin-bottom: 3px;\n",
        "  font-size: 10pt; \n",
        "}\n",
        "\n",
        ".text_cell_render h5 {\n",
        "  font-weight: 300;\n",
        "  font-style: normal;\n",
        "  color:#003366; \n",
        "  font-size: 25pt;\n",
        "  margin-bottom: 0em;\n",
        "  margin-top: 1.5em;\n",
        "  display: inline;\n",
        "  white-space: nowrap;\n",
        "}\n",
        "\n",
        ".text_cell_render h6 {\n",
        "  font-weight: 0;\n",
        "  font-style: normal;\n",
        "  color:#003366; \n",
        "  font-size: 16pt;\n",
        "  margin-bottom: 0em;\n",
        "  margin-top: 1.5em;\n",
        "  display: inline;\n",
        "  white-space: nowrap;\n",
        "}\n",
        "\n",
        "\n",
        "\n",
        ".warning{\n",
        "  color: rgb( 240, 20, 20 )\n",
        "}\n",
        "blockquote{\n",
        "  display:block;\n",
        "  background: #FFFFFF;\n",
        "  border-left: 2px dashed #1d3b84;\n",
        "  border-right: 2px dashed #1d3b84;\n",
        "  font-family: 'Open sans',verdana,arial,sans-serif;\n",
        "  padding: 25px 25px 25px 25px;\n",
        "  text-align:justify;\n",
        "  text-justify:inter-word;\n",
        "  width:auto;\n",
        "  display:table\n",
        "}\n",
        "\n",
        "blockquote p {\n",
        "  margin-bottom: 0;\n",
        "  line-height: 125%;\n",
        "  font-size: 100%;\n",
        "}\n",
        "\n",
        ".image-line {\n",
        "   margin-left: 170px;\n",
        "}\n",
        ".image-cell {\n",
        "   width: 100px;\n",
        "   margin: 10px;\n",
        "   float: left;\n",
        "}\n",
        ".image-clear {\n",
        "   clear: both;\n",
        "}\n",
        "\n",
        "\n",
        "</style>\n",
        "\n",
        "<script>\n",
        "MathJax.Hub.Config({\n",
        "  TeX: {\n",
        "   extensions: [\"AMSmath.js\"]\n",
        "   },\n",
        "   tex2jax: {\n",
        "    inlineMath: [ ['$','$'], [\"\\\\(\",\"\\\\)\"] ],\n",
        "    displayMath: [ ['$$','$$'], [\"\\\\[\",\"\\\\]\"] ]\n",
        "    },\n",
        "    displayAlign: 'center', // Change this to 'center' to center equations.\n",
        "    \"HTML-CSS\": {\n",
        "      styles: {'.MathJax_Display': {\"margin\": 4}}\n",
        "    }\n",
        "    });\n",
        "\n",
        "</script>\n"
       ],
       "metadata": {},
       "output_type": "pyout",
       "prompt_number": 20,
       "text": [
        "<IPython.core.display.HTML at 0x10ad9dc90>"
       ]
      }
     ],
     "prompt_number": 20
    },
    {
     "cell_type": "markdown",
     "metadata": {},
     "source": [
      "<center><sup>[<a href = \"http://camdavidsonpilon.github.io/Probabilistic-Programming-and-Bayesian-Methods-for-Hackers/\" class=\"nounderline\">STYLE INSPIRED BY CAM DAVIDSON'S NB'S - THANK YOU</a>]</sup></center>"
     ]
    }
   ],
   "metadata": {}
  }
 ]
}