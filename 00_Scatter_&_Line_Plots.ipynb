{
 "metadata": {
  "name": "",
  "signature": "sha256:683986c70cde691ac8ac9af6c582e551c0c2ad22d5083df99e35d420ef05e937"
 },
 "nbformat": 3,
 "nbformat_minor": 0,
 "worksheets": [
  {
   "cells": [
    {
     "cell_type": "markdown",
     "metadata": {},
     "source": [
      "<center>\n",
      "<img src=\"files/images/pmat.png\" style=\"width: 400px; height: 200px; margin-left: auto;margin-right: auto\"; alt=\"\">\n",
      "</center> \n"
     ]
    },
    {
     "cell_type": "markdown",
     "metadata": {},
     "source": [
      "<h1 id=\"lasp\">[1] LINE AND SCATTER PLOTS</h1>"
     ]
    },
    {
     "cell_type": "heading",
     "level": 4,
     "metadata": {},
     "source": [
      "<center>\n",
      "  &nbsp; &nbsp;  **  \u2022   ** &nbsp; &nbsp; **  \u2022   ** &nbsp; &nbsp; **  \u2022   ** &nbsp; &nbsp; **  \u2022   ** &nbsp; &nbsp; **  \u2022   ** &nbsp; &nbsp; \n",
      "</center>"
     ]
    },
    {
     "cell_type": "markdown",
     "metadata": {},
     "source": [
      "This notebook provides relevant examples of **LINE AND SCATTER PLOTS** creation using the Plotly Matlatb API. Please have a look at the code provided below to get started! If **LINE AND SCATTER PLOTS** are not the droids you are looking for, please check out the other Plotly Matlatb API notebooks, which provide examples of the wide range of fabulous plot types handled by Plotly. If you have any questions, suggestions or just want to chat, please\n",
      "<a href=\"/.\" class=\"nounderline\">drop us a line</a>."
     ]
    },
    {
     "cell_type": "markdown",
     "metadata": {},
     "source": [
      " "
     ]
    },
    {
     "cell_type": "markdown",
     "metadata": {},
     "source": [
      "<center>\n",
      "<a href=\"#gs\" class=\"nounderline\">[1.1] GETTING STARTED</a> &nbsp; &nbsp; **  \u2022   ** &nbsp; &nbsp; <a href=\"#doc\" class=\"nounderline\"> [1.2] DOCUMENTATION </a> &nbsp; &nbsp;**  \u2022  ** &nbsp; &nbsp;<a href=\"#ex\" class=\"nounderline\"> [1.3] EXAMPLE PLOTS</a>\n",
      "</center>"
     ]
    },
    {
     "cell_type": "markdown",
     "metadata": {},
     "source": [
      "- - - - - - - - - - - - - - - - - - - - - - - - - - - - - - - - - - - - - - - - - - - - - - - - - - -"
     ]
    },
    {
     "cell_type": "heading",
     "level": 6,
     "metadata": {},
     "source": [
      " "
     ]
    },
    {
     "cell_type": "markdown",
     "metadata": {},
     "source": [
      "<h1 id=\"gs\">[1.1] GETTING STARTED</h1>"
     ]
    },
    {
     "cell_type": "heading",
     "level": 4,
     "metadata": {},
     "source": [
      "<center>\n",
      "  &nbsp; &nbsp;  **  \u2022   ** &nbsp; &nbsp; **  \u2022   ** &nbsp; &nbsp; **  \u2022   ** &nbsp; &nbsp; **  \u2022   ** &nbsp; &nbsp; **  \u2022   ** &nbsp; &nbsp; \n",
      "</center>"
     ]
    },
    {
     "cell_type": "markdown",
     "metadata": {},
     "source": [
      "<h2>[MATLAB API STARTUP]</h2>"
     ]
    },
    {
     "cell_type": "markdown",
     "metadata": {},
     "source": [
      "**NOTE:** throughout this notebook we will be using the super awesome <a href=\"https://pypi.python.org/pypi/pymatbridge/0.1/\" class=\"nounderline\">pymatbridge</a> package to communicate with Matlab from Python. Everything that comes below the **%%matlab** decorator will now be read as Matlab code!"
     ]
    },
    {
     "cell_type": "heading",
     "level": 4,
     "metadata": {},
     "source": [
      ">> OPEN YOUR MATLAB ENVIRONMENT"
     ]
    },
    {
     "cell_type": "code",
     "collapsed": false,
     "input": [
      "%load_ext pymatbridge"
     ],
     "language": "python",
     "metadata": {},
     "outputs": [
      {
       "output_type": "stream",
       "stream": "stdout",
       "text": [
        "Starting MATLAB on ZMQ socket ipc:///tmp/pymatbridge\n",
        "Send 'exit' command to kill the server\n",
        "."
       ]
      },
      {
       "output_type": "stream",
       "stream": "stdout",
       "text": [
        "."
       ]
      },
      {
       "output_type": "stream",
       "stream": "stdout",
       "text": [
        "."
       ]
      },
      {
       "output_type": "stream",
       "stream": "stdout",
       "text": [
        "."
       ]
      },
      {
       "output_type": "stream",
       "stream": "stdout",
       "text": [
        "."
       ]
      },
      {
       "output_type": "stream",
       "stream": "stdout",
       "text": [
        "."
       ]
      },
      {
       "output_type": "stream",
       "stream": "stdout",
       "text": [
        "."
       ]
      },
      {
       "output_type": "stream",
       "stream": "stdout",
       "text": [
        "."
       ]
      },
      {
       "output_type": "stream",
       "stream": "stdout",
       "text": [
        "."
       ]
      },
      {
       "output_type": "stream",
       "stream": "stdout",
       "text": [
        "."
       ]
      },
      {
       "output_type": "stream",
       "stream": "stdout",
       "text": [
        "."
       ]
      },
      {
       "output_type": "stream",
       "stream": "stdout",
       "text": [
        "."
       ]
      },
      {
       "output_type": "stream",
       "stream": "stdout",
       "text": [
        "."
       ]
      },
      {
       "output_type": "stream",
       "stream": "stdout",
       "text": [
        "."
       ]
      },
      {
       "output_type": "stream",
       "stream": "stdout",
       "text": [
        "."
       ]
      },
      {
       "output_type": "stream",
       "stream": "stdout",
       "text": [
        "."
       ]
      },
      {
       "output_type": "stream",
       "stream": "stdout",
       "text": [
        "."
       ]
      },
      {
       "output_type": "stream",
       "stream": "stdout",
       "text": [
        "."
       ]
      },
      {
       "output_type": "stream",
       "stream": "stdout",
       "text": [
        "."
       ]
      },
      {
       "output_type": "stream",
       "stream": "stdout",
       "text": [
        "."
       ]
      },
      {
       "output_type": "stream",
       "stream": "stdout",
       "text": [
        "."
       ]
      },
      {
       "output_type": "stream",
       "stream": "stdout",
       "text": [
        "."
       ]
      },
      {
       "output_type": "stream",
       "stream": "stdout",
       "text": [
        "."
       ]
      },
      {
       "output_type": "stream",
       "stream": "stdout",
       "text": [
        "."
       ]
      },
      {
       "output_type": "stream",
       "stream": "stdout",
       "text": [
        "."
       ]
      },
      {
       "output_type": "stream",
       "stream": "stdout",
       "text": [
        "."
       ]
      },
      {
       "output_type": "stream",
       "stream": "stdout",
       "text": [
        "."
       ]
      },
      {
       "output_type": "stream",
       "stream": "stdout",
       "text": [
        "."
       ]
      },
      {
       "output_type": "stream",
       "stream": "stdout",
       "text": [
        "."
       ]
      },
      {
       "output_type": "stream",
       "stream": "stdout",
       "text": [
        "."
       ]
      },
      {
       "output_type": "stream",
       "stream": "stdout",
       "text": [
        "."
       ]
      },
      {
       "output_type": "stream",
       "stream": "stdout",
       "text": [
        "MATLAB started and connected!\n"
       ]
      }
     ],
     "prompt_number": 3
    },
    {
     "cell_type": "heading",
     "level": 4,
     "metadata": {},
     "source": [
      ">> TELL MATLAB WHERE TO FIND THE PLOTLY API"
     ]
    },
    {
     "cell_type": "code",
     "collapsed": false,
     "input": [
      "%%matlab\n",
      "\n",
      "api_path = ('/Users/chuckbronson/Documents/PLOTLY/MATLAB_API/');\n",
      "addpath(genpath(api_path));"
     ],
     "language": "python",
     "metadata": {},
     "outputs": [],
     "prompt_number": 4
    },
    {
     "cell_type": "heading",
     "level": 6,
     "metadata": {},
     "source": [
      " "
     ]
    },
    {
     "cell_type": "markdown",
     "metadata": {},
     "source": [
      "<h2>[SIGN UP]</h2>"
     ]
    },
    {
     "cell_type": "markdown",
     "metadata": {},
     "source": [
      "**NOTE:** If you are already signed up with Plotly, skip ahead. If not - no worries! You can either sign up for a **FREE** Plotly account <a href=\"http://www.plot.ly\" class=\"nounderline\">online</a> *or* from the comfort of your Matlab command window using the **signup.m** function. Just copy and uncomment the lines in the code below (under the **%%matlab** decorator) into your Matlab command window. You'll also need to provide a username of your choice and valid email address! "
     ]
    },
    {
     "cell_type": "heading",
     "level": 4,
     "metadata": {},
     "source": [
      ">> SIGN UP WITH PLOTLY!"
     ]
    },
    {
     "cell_type": "code",
     "collapsed": false,
     "input": [
      "%%matlab\n",
      "\n",
      "%username = PICK_A_USERNAME;\n",
      "%email = VALID_EMAIL_ADDRESS;\n",
      "%response = signup(username,email)"
     ],
     "language": "python",
     "metadata": {},
     "outputs": [],
     "prompt_number": 5
    },
    {
     "cell_type": "heading",
     "level": 6,
     "metadata": {},
     "source": [
      " "
     ]
    },
    {
     "cell_type": "markdown",
     "metadata": {},
     "source": [
      "<h2>[SIGN IN]</h2>"
     ]
    },
    {
     "cell_type": "markdown",
     "metadata": {},
     "source": [
      "**NOTE:** Once you are signed up with Plotly you can sign in using the username and api key provided. If you decided to delete either of these pieces of information from your brain, you can check them <a href=\"http://www.plot.ly\" class=\"nounderline\">online</a>. Signing in is performed using the **signin.m** function. "
     ]
    },
    {
     "cell_type": "heading",
     "level": 4,
     "metadata": {},
     "source": [
      ">> SIGN IN TO PLOTLY!"
     ]
    },
    {
     "cell_type": "code",
     "collapsed": false,
     "input": [
      "%%matlab \n",
      "load('config'); \n",
      "signin(config.un,config.key);"
     ],
     "language": "python",
     "metadata": {},
     "outputs": [],
     "prompt_number": 6
    },
    {
     "cell_type": "markdown",
     "metadata": {},
     "source": [
      "**NOTE:** We suggest storing your username and api key in a matlab structure array for easy access/portability between matlab sessions/systems. Here we have loaded our \"config\" structure array which contains the aformentioned information. "
     ]
    },
    {
     "cell_type": "markdown",
     "metadata": {},
     "source": [
      "- - - - - - - - - - - - - - - - - - - - - - - - - - - - - - - - - - - - - - - - - - - - - - - - - - -"
     ]
    },
    {
     "cell_type": "heading",
     "level": 6,
     "metadata": {},
     "source": [
      "   "
     ]
    },
    {
     "cell_type": "markdown",
     "metadata": {},
     "source": [
      "<h1 id=\"doc\">[1.2] DOCUMENTATION</h1>\n"
     ]
    },
    {
     "cell_type": "heading",
     "level": 4,
     "metadata": {},
     "source": [
      "<center>\n",
      "  &nbsp; &nbsp;  **  \u2022   ** &nbsp; &nbsp; **  \u2022   ** &nbsp; &nbsp; **  \u2022   ** &nbsp; &nbsp; **  \u2022   ** &nbsp; &nbsp; **  \u2022   ** &nbsp; &nbsp; \n",
      "</center>"
     ]
    },
    {
     "cell_type": "markdown",
     "metadata": {},
     "source": [
      "<h2>[API FUNCTIONS]</h2>"
     ]
    },
    {
     "cell_type": "markdown",
     "metadata": {},
     "source": [
      "Plot creation, stylization and layout are all handled with **three** Plotly Matlab API functions: "
     ]
    },
    {
     "cell_type": "markdown",
     "metadata": {},
     "source": [
      "<center>\n",
      "<a href=\"#plotlym\" class=\"nounderlineblack\">**plotly.m**</a> &nbsp; &nbsp; **  \u2022   ** &nbsp; &nbsp; <a href=\"#plotlystylem\" class=\"nounderlineblack\">**plotlystyle.m**</a> &nbsp; &nbsp;**  \u2022  ** &nbsp; &nbsp; <a href=\"#plotlym\" class=\"nounderlineblack\">**plotlylayout.m**</a>\n",
      "</center>\n",
      "\n",
      "Once you master these three functions, you'll officially be a Plotly's Matlab API guru! In fact, we can go one step futher and say that almost all Plotly interactions via the Matlab API will take place using the **plotly.m** function. The functionality of **plotlystyle.m** and **plotlylayout.m** can be thought of a subset of the functionailty inherent in  **plotly.m**. The following section provides a documentation of these three functions."
     ]
    },
    {
     "cell_type": "markdown",
     "metadata": {},
     "source": [
      " <br>"
     ]
    },
    {
     "cell_type": "markdown",
     "metadata": {},
     "source": [
      "<center><h3 id=\"plotlym\">[plotly.m]</h3></center>"
     ]
    },
    {
     "cell_type": "markdown",
     "metadata": {},
     "source": [
      "---\n",
      "<center><h4>Create a graph in your plotly account</h4></center> \n",
      "\n",
      "---"
     ]
    },
    {
     "cell_type": "heading",
     "level": 4,
     "metadata": {},
     "source": [
      " >> CALL:"
     ]
    },
    {
     "cell_type": "code",
     "collapsed": false,
     "input": [
      "%%matlab\n",
      "\n",
      "% [response] = plotly(x1,y1, x2,y2, ..., xn,yn, kwargs);\n",
      "% [response] = plotly({data1, data2, ..., datan}, kwargs);"
     ],
     "language": "python",
     "metadata": {},
     "outputs": [],
     "prompt_number": 7
    },
    {
     "cell_type": "heading",
     "level": 4,
     "metadata": {},
     "source": [
      " >> INPUT:"
     ]
    },
    {
     "cell_type": "code",
     "collapsed": false,
     "input": [
      "%%matlab\n",
      "\n",
      "% x1,y1, x2,y2, ..., xn,yn;   ----->   [data arrays]\n",
      "% {data1, data2, ..., datan}; ----->   [cell array of data structure arrays]\n",
      "% kwargs;                     ----->   [style/layout structure array] (optional)"
     ],
     "language": "python",
     "metadata": {},
     "outputs": [],
     "prompt_number": 8
    },
    {
     "cell_type": "heading",
     "level": 4,
     "metadata": {},
     "source": [
      " >> OUTPUT:"
     ]
    },
    {
     "cell_type": "code",
     "collapsed": false,
     "input": [
      "%%matlab\n",
      "\n",
      "% response                    ----->   [structure array]\n",
      "%    \"\"   .url                ----->   [string]\n",
      "%    \"\"   .message            ----->   [string] \n",
      "%    \"\"   .warning            ----->   [string] \n",
      "%    \"\"   .filename           ----->   [string] \n",
      "%    \"\"   .error              ----->   [string] "
     ],
     "language": "python",
     "metadata": {},
     "outputs": [],
     "prompt_number": 9
    },
    {
     "cell_type": "markdown",
     "metadata": {},
     "source": [
      " <br>\n",
      " <br>"
     ]
    },
    {
     "cell_type": "markdown",
     "metadata": {},
     "source": [
      "<center><h3 id=\"plotlystylem\">[plotlystyle.m]</h3></center>"
     ]
    },
    {
     "cell_type": "markdown",
     "metadata": {},
     "source": [
      "---\n",
      "<center><h4>Apply style to the traces of a plotly plot</h4></center> \n",
      "\n",
      "---\n"
     ]
    },
    {
     "cell_type": "heading",
     "level": 4,
     "metadata": {},
     "source": [
      ">> CALL: "
     ]
    },
    {
     "cell_type": "code",
     "collapsed": false,
     "input": [
      "%%matlab\n",
      "\n",
      "% [response] = plotlystyle({data1, data2, ..., datan}, kwargs);"
     ],
     "language": "python",
     "metadata": {},
     "outputs": [],
     "prompt_number": 10
    },
    {
     "cell_type": "heading",
     "level": 4,
     "metadata": {},
     "source": [
      " >> INPUT:"
     ]
    },
    {
     "cell_type": "code",
     "collapsed": false,
     "input": [
      "%%matlab\n",
      "\n",
      "% {data1, data2, ..., datan}; ----->   [cell array of data structure arrays]\n",
      "% kwargs;                     ----->   [style/layout structure array] (optional)"
     ],
     "language": "python",
     "metadata": {},
     "outputs": [],
     "prompt_number": 11
    },
    {
     "cell_type": "heading",
     "level": 4,
     "metadata": {},
     "source": [
      ">> OUTPUT: "
     ]
    },
    {
     "cell_type": "code",
     "collapsed": false,
     "input": [
      "%%matlab\n",
      "\n",
      "% response                    ----->   [structure array]\n",
      "%    \"\"   .url                ----->   [string]\n",
      "%    \"\"   .message            ----->   [string] \n",
      "%    \"\"   .warning            ----->   [string] \n",
      "%    \"\"   .filename           ----->   [string] \n",
      "%    \"\"   .error              ----->   [string] "
     ],
     "language": "python",
     "metadata": {},
     "outputs": [],
     "prompt_number": 12
    },
    {
     "cell_type": "markdown",
     "metadata": {},
     "source": [
      " <br>\n",
      " <br>"
     ]
    },
    {
     "cell_type": "markdown",
     "metadata": {},
     "source": [
      "<center><h3 id=\"plotlystylem\">[plotlylayout.m]</h3></center>"
     ]
    },
    {
     "cell_type": "markdown",
     "metadata": {},
     "source": [
      "---\n",
      "<center><h4>Apply layout to a plotly plot</h4></center> \n",
      "\n",
      "---\n"
     ]
    },
    {
     "cell_type": "heading",
     "level": 4,
     "metadata": {},
     "source": [
      ">> CALL: "
     ]
    },
    {
     "cell_type": "code",
     "collapsed": false,
     "input": [
      "%%matlab\n",
      "\n",
      "% [response] = plotlystyle({data1, data2, ..., datan}, kwargs);"
     ],
     "language": "python",
     "metadata": {},
     "outputs": [],
     "prompt_number": 13
    },
    {
     "cell_type": "heading",
     "level": 4,
     "metadata": {},
     "source": [
      ">> INPUT: "
     ]
    },
    {
     "cell_type": "code",
     "collapsed": false,
     "input": [
      "%%matlab\n",
      "\n",
      "% {data1, data2, ..., datan}; ----->   [cell array of data structure arrays]\n",
      "% kwargs;                     ----->   [style/layout structure array] (optional)"
     ],
     "language": "python",
     "metadata": {},
     "outputs": [],
     "prompt_number": 14
    },
    {
     "cell_type": "heading",
     "level": 4,
     "metadata": {},
     "source": [
      ">> OUTPUT: "
     ]
    },
    {
     "cell_type": "code",
     "collapsed": false,
     "input": [
      "%%matlab\n",
      "\n",
      "% response                    ----->   [structure array]\n",
      "%    \"\"   .url                ----->   [string]\n",
      "%    \"\"   .message            ----->   [string] \n",
      "%    \"\"   .warning            ----->   [string] \n",
      "%    \"\"   .filename           ----->   [string] \n",
      "%    \"\"   .error              ----->   [string] "
     ],
     "language": "python",
     "metadata": {},
     "outputs": [],
     "prompt_number": 15
    },
    {
     "cell_type": "markdown",
     "metadata": {},
     "source": [
      "<br>\n",
      "<br>"
     ]
    },
    {
     "cell_type": "markdown",
     "metadata": {},
     "source": [
      "<h2>[DATA SYNTAX]</h2>"
     ]
    },
    {
     "cell_type": "markdown",
     "metadata": {},
     "source": [
      "<h2>[STYLE SYNTAX]</h2>"
     ]
    },
    {
     "cell_type": "markdown",
     "metadata": {},
     "source": [
      "<h2>[LAYOUT SYNTAX]</h2>"
     ]
    },
    {
     "cell_type": "markdown",
     "metadata": {},
     "source": [
      "* * * "
     ]
    },
    {
     "cell_type": "heading",
     "level": 6,
     "metadata": {},
     "source": [
      " "
     ]
    },
    {
     "cell_type": "markdown",
     "metadata": {},
     "source": [
      "<h1 id=\"ex\">[1.3] EXAMPLE PLOTS</h1>"
     ]
    },
    {
     "cell_type": "markdown",
     "metadata": {},
     "source": [
      "\n"
     ]
    },
    {
     "cell_type": "markdown",
     "metadata": {},
     "source": [
      " * * * "
     ]
    },
    {
     "cell_type": "markdown",
     "metadata": {},
     "source": [
      "**NOTE:** The following code is required in order to display the plots created within this notebook. "
     ]
    },
    {
     "cell_type": "code",
     "collapsed": false,
     "input": [
      "from IPython.display import HTML\n",
      "\n",
      "def show_plot(url, width=730, height=600):\n",
      "    s = '<iframe height=\"%s\" id=\"igraph\" scrolling=\"no\" seamless=\"seamless\" src=\"%s\" width=\"%s\"></iframe>' %\\\n",
      "    (height+50, \"/\".join(map(str,[url, width, height])), width+50)\n",
      "    return HTML(s)"
     ],
     "language": "python",
     "metadata": {},
     "outputs": [],
     "prompt_number": 16
    },
    {
     "cell_type": "heading",
     "level": 6,
     "metadata": {},
     "source": [
      " "
     ]
    },
    {
     "cell_type": "markdown",
     "metadata": {},
     "source": [
      "<h2>[BASIC PLOT]</h2>"
     ]
    },
    {
     "cell_type": "heading",
     "level": 6,
     "metadata": {},
     "source": [
      " "
     ]
    },
    {
     "cell_type": "code",
     "collapsed": false,
     "input": [
      "%%matlab \n",
      "\n",
      "%%%%%%%%%%%%%%%%%%%%%%%%%%%%%%%%\n",
      "%          DATA SETUP          %\n",
      "%%%%%%%%%%%%%%%%%%%%%%%%%%%%%%%%\n",
      "\n",
      "% TIME/FREQUENCY PARAMETER SETUP \n",
      "\n",
      "Fs = 100; %sampling frequency \n",
      "xf = 2; %total time duration \n",
      "x = 0:(1/Fs):xf; %discrete time variable \n",
      "w = 2*pi; %angular frequency \n",
      "\n",
      "% TRACE SETUP\n",
      "\n",
      "y1 = x.*cos(w*x).^2;\n",
      "y2 = x.*sin(w*x).^2; \n",
      "y3 = x; \n",
      "\n",
      "% SPECIFY THE STYLE OF EACH TRACE\n",
      "\n",
      "%%%%%%%%%%%%%%%%%%%%%%%%%%%%%%%%\n",
      "%         STYLE SETUP          %\n",
      "%%%%%%%%%%%%%%%%%%%%%%%%%%%%%%%%\n",
      "\n",
      "data1 = struct(...\n",
      "  'x', x, ...\n",
      "  'y', y1, ...\n",
      "  'type', 'scatter', ...\n",
      "  'name', 'sin(x)', ...\n",
      "  'line', struct('color','rgb(3,78,123)',... \n",
      "        'width',6), ...\n",
      "  'marker', struct('opacity', 1.0, ...\n",
      "    'symbol','square', ... \n",
      "    'size',12, ...\n",
      "    'color', 'rgb(54,144,192)', ...\n",
      "    'line', struct('width',3, ... \n",
      "      'color','lightblue') ...\n",
      "    ) ...\n",
      "  );\n",
      "\n",
      "data2 = struct( ...\n",
      "  'x', x, ...\n",
      "  'y', y2, ...\n",
      "  'name', 'cos(x)', ...\n",
      "  'line', struct('color', 'purple', ...\n",
      "    'width',6), ...\n",
      "  'marker', struct('opacity', 0.9, ...\n",
      "    'symbol', 'cross', ...\n",
      "    'size', 16, ...\n",
      "    'color', 'fuchsia', ...\n",
      "    'line', struct( 'width', 0, ...\n",
      "      'color','') ...\n",
      "    ) ...\n",
      "  );\n",
      "\n",
      "data3 = struct( ...\n",
      "  'x', x, ...\n",
      "  'y', y3, ...\n",
      "  'name', 'x', ...\n",
      "  'line', struct('color', 'green', ...\n",
      "    'width', 8, ...\n",
      "    'dash', 'dot'), ...\n",
      "  'marker', struct('opacity', 0.9, ...\n",
      "    'symbol', 'cross', ...\n",
      "    'size', 16, ...\n",
      "    'color', 'fuchsia', ...\n",
      "    'line', struct( 'width', 0, ...\n",
      "      'color','') ...\n",
      "    ) ...\n",
      "  );\n",
      "\n",
      "%%%%%%%%%%%%%%%%%%%%%%%%%%%%%%%%\n",
      "%        LAYOUT SETUP          %\n",
      "%%%%%%%%%%%%%%%%%%%%%%%%%%%%%%%%\n",
      "\n",
      "% SPECIFY THE LAYOUT OF THE PLOT\n",
      "kwargs = struct('fileopt', 'overwrite'); \n",
      "\n",
      "\n",
      "%%%%%%%%%%%%%%%%%%%%%%%%%%%%%%%%\n",
      "%     PLOTLY FUNCTION CALL     %\n",
      "%%%%%%%%%%%%%%%%%%%%%%%%%%%%%%%%\n",
      "\n",
      "% CALL THE plotly.m FUNCTION TO CREATE THE GRAPH IN YOUR PLOTLY ACCOUNT\n",
      "\n",
      "response = plotly({data1, data2, data3},kwargs);\n",
      "url = response.url"
     ],
     "language": "python",
     "metadata": {},
     "outputs": [
      {
       "metadata": {},
       "output_type": "display_data",
       "text": [
        "\n",
        "url =\n",
        "\n",
        "https://plot.ly/~bronsolo/41\n",
        "\n"
       ]
      }
     ],
     "prompt_number": 17
    },
    {
     "cell_type": "code",
     "collapsed": false,
     "input": [
      "show_plot('https://plot.ly/~bronsolo/41')"
     ],
     "language": "python",
     "metadata": {},
     "outputs": [
      {
       "html": [
        "<iframe height=\"650\" id=\"igraph\" scrolling=\"no\" seamless=\"seamless\" src=\"https://plot.ly/~bronsolo/41/730/600\" width=\"780\"></iframe>"
       ],
       "metadata": {},
       "output_type": "pyout",
       "prompt_number": 18,
       "text": [
        "<IPython.core.display.HTML at 0x10948c650>"
       ]
      }
     ],
     "prompt_number": 18
    },
    {
     "cell_type": "heading",
     "level": 2,
     "metadata": {},
     "source": [
      "[ADVANCED PLOT]"
     ]
    },
    {
     "cell_type": "code",
     "collapsed": false,
     "input": [
      "%%matlab \n",
      "%generate some data\n",
      "x1 = [1, 2, 3]; y1 = [2, 10, 12];\n",
      "x2 = [1, 2, 3]; y2 = [4, 5, 6];\n",
      "\n",
      "%specify the style of each trace\n",
      "data1 = struct(...note\n",
      "  'x', x1, ...\n",
      "  'y', y1, ...\n",
      "  'type', 'scatter', ...options\n",
      "  'name', 'Experiment', ...\n",
      "  'line', struct('color','rgb(3,78,123)',... options\n",
      "        'width',6, ...\n",
      "    'dash','dot'), ...options\n",
      "  'marker', struct('opacity', 1.0, ...\n",
      "    'symbol','square', ...  options\n",
      "    'size',12, ...\n",
      "    'color', 'rgb(54,144,192)', ...\n",
      "    'line', struct('width',3, ... note\n",
      "      'color','lightblue') ...\n",
      "    ) ...\n",
      "  );\n",
      "\n",
      "data2 = struct( ...\n",
      "  'x', x2, ...\n",
      "  'y', y2, ...\n",
      "  'name', 'Control', ...\n",
      "  'line', struct('color', 'purple', ...\n",
      "    'width', 4, ...\n",
      "    'dash', 'dashdot'), ...\n",
      "  'marker', struct('opacity', 0.9, ...\n",
      "    'symbol', 'cross', ...\n",
      "    'size', 16, ...\n",
      "    'color', 'fuchsia', ...\n",
      "    'line', struct( 'width', 0, ...\n",
      "      'color','') ...\n",
      "    ) ...\n",
      "  );\n",
      "\n",
      "response = plotly({data1, data2})\n",
      "url = response.url\n",
      "filename = response.filename"
     ],
     "language": "python",
     "metadata": {},
     "outputs": [
      {
       "metadata": {},
       "output_type": "display_data",
       "text": [
        "\n",
        "response = \n",
        "\n",
        "         url: 'https://plot.ly/~bronsolo/43'\n",
        "     message: [1x0 char]\n",
        "     warning: [1x0 char]\n",
        "    filename: 'plot from API (17)'\n",
        "       error: [1x0 char]\n",
        "\n",
        "\n",
        "url =\n",
        "\n",
        "https://plot.ly/~bronsolo/43\n",
        "\n",
        "\n",
        "filename =\n",
        "\n",
        "plot from API (17)\n",
        "\n"
       ]
      }
     ],
     "prompt_number": 19
    },
    {
     "cell_type": "code",
     "collapsed": false,
     "input": [
      "show_plot('https://plot.ly/~bronsolo/22')"
     ],
     "language": "python",
     "metadata": {},
     "outputs": [
      {
       "html": [
        "<iframe height=\"650\" id=\"igraph\" scrolling=\"no\" seamless=\"seamless\" src=\"https://plot.ly/~bronsolo/22/730/600\" width=\"780\"></iframe>"
       ],
       "metadata": {},
       "output_type": "pyout",
       "prompt_number": 20,
       "text": [
        "<IPython.core.display.HTML at 0x10948c990>"
       ]
      }
     ],
     "prompt_number": 20
    },
    {
     "cell_type": "code",
     "collapsed": false,
     "input": [
      "from IPython.core.display import HTML\n",
      "bu = HTML(\"<input type='button' value='TEST' id='test' onclick='onoff();'>\")\n",
      "bu"
     ],
     "language": "python",
     "metadata": {},
     "outputs": [
      {
       "ename": "SyntaxError",
       "evalue": "invalid syntax (<ipython-input-23-ba00898dd140>, line 2)",
       "output_type": "pyerr",
       "traceback": [
        "\u001b[0;36m  File \u001b[0;32m\"<ipython-input-23-ba00898dd140>\"\u001b[0;36m, line \u001b[0;32m2\u001b[0m\n\u001b[0;31m    HTML('<script> on = 'View input'; off = 'Hide input';\u001b[0m\n\u001b[0m                            ^\u001b[0m\n\u001b[0;31mSyntaxError\u001b[0m\u001b[0;31m:\u001b[0m invalid syntax\n"
       ]
      }
     ],
     "prompt_number": 23
    },
    {
     "cell_type": "code",
     "collapsed": false,
     "input": [
      "# CSS styling within IPython notebook\n",
      "from IPython.core.display import HTML\n",
      "def css_styling():\n",
      "    styles = open(\"/Users/chuckbronson/Documents/IPYTHON/PLOTLY_NOTEBOOK/css/style_notebook.css\", \"r\").read()\n",
      "    return HTML(styles)\n",
      "css_styling()\n"
     ],
     "language": "python",
     "metadata": {},
     "outputs": [
      {
       "html": [
        "<style>\n",
        "    @font-face {\n",
        "        font-family: \"Computer Modern\";\n",
        "        src: url('http://9dbb143991406a7c655e-aa5fcb0a5a4ec34cff238a2d56ca4144.r56.cf5.rackcdn.com/cmunss.otf');\n",
        "    }\n",
        "    @font-face {\n",
        "        font-family: \"Computer Modern\";\n",
        "        font-weight: bold;\n",
        "        src: url('http://9dbb143991406a7c655e-aa5fcb0a5a4ec34cff238a2d56ca4144.r56.cf5.rackcdn.com/cmunsx.otf');\n",
        "    }\n",
        "    @font-face {\n",
        "        font-family: \"Computer Modern\";\n",
        "        font-style: oblique;\n",
        "        src: url('http://9dbb143991406a7c655e-aa5fcb0a5a4ec34cff238a2d56ca4144.r56.cf5.rackcdn.com/cmunsi.otf');\n",
        "    }\n",
        "    @font-face {\n",
        "        font-family: \"Computer Modern\";\n",
        "        font-weight: bold;\n",
        "        font-style: oblique;\n",
        "        src: url('http://9dbb143991406a7c655e-aa5fcb0a5a4ec34cff238a2d56ca4144.r56.cf5.rackcdn.com/cmunso.otf');\n",
        "    }\n",
        "    div.cell{\n",
        "        width:800px;\n",
        "        margin-left:17% !important;\n",
        "        margin-right:auto;\n",
        "    }\n",
        "    h1 {\n",
        "        /* font-family: Computer Modern, serif; */\n",
        "        width:775px;\n",
        "        color:#333333;\n",
        "        font-family: \u2018Lucida Console\u2019, Monaco, monospace;\n",
        "        text-align: center;\n",
        "    }\n",
        "    h2 {\n",
        "        /* font-family: Computer Modern, serif; */\n",
        "        color: #333333;\n",
        "        font-family: \u2018Lucida Console\u2019, Monaco, monospace;\n",
        "        text-align: center;\n",
        "    }\n",
        "    h3 {\n",
        "        width:775px;\n",
        "        /* font-family: Computer Modern, serif; */\n",
        "        width:775px;\n",
        "        color: #333333;\n",
        "        font-family: \u2018Lucida Console\u2019, Monaco, monospace;\n",
        "    }\n",
        "    h4{\n",
        "        color: #333333;\n",
        "        font-family: \u2018Lucida Console\u2019, Monaco, monospace;\n",
        "        margin-top:15px;\n",
        "        margin-bottom: 3px;\n",
        "       }\n",
        "    div.text_cell_render{\n",
        "     /* font-family: Computer Modern, \"Helvetica Neue\", Arial, Helvetica, Geneva, sans-serif; */\n",
        "        color: #333333;\n",
        "     /* font-family: \u2018Palatino Linotype\u2019, \u2018Book Antiqua\u2019, Palatino, serif; */\n",
        "     /* font-family: \u2018Trebuchet MS\u2019, Helvetica, sans-serif; */\n",
        "        font-family: \u2018Lucida Sans Unicode\u2019, \u2018Lucida Grande\u2019, sans-serif;\n",
        "        line-height: 145%;\n",
        "        font-size: 130%;\n",
        "        width: 800px; \n",
        "    }\n",
        "    code{\n",
        "          font-size: 40%;\n",
        "    }\n",
        "    ul{\n",
        "        margin: 2em;\n",
        "    }\n",
        "    ul li{\n",
        "           padding-left: 0.5em;\n",
        "           margin-bottom: 0.5em;\n",
        "           margin-top: 0.5em;\n",
        "           /*font-variant: small-caps;*/\n",
        "    }\n",
        "    a.nounderline:link{\n",
        "       font-weight: bold;\n",
        "       text-decoration:none;\n",
        "    }\n",
        "    a.nounderlineblack:link{\n",
        "       color: #333333;\n",
        "       font-weight: bold;\n",
        "       text-decoration:none;\n",
        "    }\n",
        "    a.nounderlineblack:visited{\n",
        "       color: #333333;\n",
        "       font-weight: bold;\n",
        "       text-decoration:none;\n",
        "    }\n",
        "    a:link{\n",
        "       font-weight: bold;\n",
        "       text-decoration:none;\n",
        "    }\n",
        "    a:visited{\n",
        "       font-weight: bold;\n",
        "       text-decoration: none;\n",
        "    }\n",
        "    a:hover{\n",
        "       text-decoration: none;\n",
        "       font-weight: bold;\n",
        "    }\n",
        "    a:focus{\n",
        "       text-decoration: none;\n",
        "       font-weight: bold;\n",
        "    }\n",
        "    a:active{\n",
        "       text-decoration: none;\n",
        "       font-weight: bold;\n",
        "    }\n",
        "    .CodeMirror{ \n",
        "            font-family: \"Source Code Pro\", source-code-pro,Consolas, monospace;\n",
        "    }\n",
        "    .prompt{\n",
        "        display: None;\n",
        "    }\n",
        "    .text_cell_render h5 {\n",
        "        font-weight: 300;\n",
        "        font-size: 22pt;\n",
        "        color: #4057A1;\n",
        "        font-style: italic;\n",
        "        margin-bottom: .5em;\n",
        "        margin-top: 0.5em;\n",
        "        display: block;\n",
        "    }\n",
        "    .warning{\n",
        "        color: rgb( 240, 20, 20 )\n",
        "        }\n",
        "    div.input\n",
        "    {\n",
        "\n",
        "    }\n",
        "\n",
        "</style>\n",
        "<script>\n",
        "    MathJax.Hub.Config({\n",
        "                        TeX: {\n",
        "                           extensions: [\"AMSmath.js\"]\n",
        "                           },\n",
        "                tex2jax: {\n",
        "                    inlineMath: [ ['$','$'], [\"\\\\(\",\"\\\\)\"] ],\n",
        "                    displayMath: [ ['$$','$$'], [\"\\\\[\",\"\\\\]\"] ]\n",
        "                },\n",
        "                displayAlign: 'center', // Change this to 'center' to center equations.\n",
        "                \"HTML-CSS\": {\n",
        "                    styles: {'.MathJax_Display': {\"margin\": 4}}\n",
        "                }\n",
        "        });\n",
        "\n",
        "    on = \"View input\";\n",
        "    off = \"Hide input\"\n",
        "    \n",
        "    function onoff()\n",
        "    {\n",
        "      currentvalue = document.getElementById(\"test\").value;\n",
        "      if(currentvalue == off)\n",
        "      {\n",
        "        document.getElementById(\"test\").value=on;\n",
        "          $('div.input').hide();\n",
        "      }\n",
        "      else\n",
        "      {\n",
        "        document.getElementById(\"test\").value=off;\n",
        "          $('div.input').show();\n",
        "      }\n",
        "    }\n",
        "\n",
        "</script>\n"
       ],
       "metadata": {},
       "output_type": "pyout",
       "prompt_number": 1,
       "text": [
        "<IPython.core.display.HTML at 0x103d76ed0>"
       ]
      }
     ],
     "prompt_number": 1
    },
    {
     "cell_type": "markdown",
     "metadata": {},
     "source": [
      "<script type=\"text/javascript\">\n",
      "    show=true;\n",
      "    function toggle(){\n",
      "        if (show){\n",
      "            $('div.input').hide();\n",
      "        }else{\n",
      "            $('div.input').show();\n",
      "        }\n",
      "        show = !show\n",
      "    }\n",
      "</script>\n",
      "<a href=\"javascript:toggle()\" target=\"_self\">toggle input</a>\n"
     ]
    },
    {
     "cell_type": "code",
     "collapsed": false,
     "input": [],
     "language": "python",
     "metadata": {},
     "outputs": [],
     "prompt_number": 19
    },
    {
     "cell_type": "code",
     "collapsed": false,
     "input": [],
     "language": "python",
     "metadata": {},
     "outputs": []
    },
    {
     "cell_type": "code",
     "collapsed": false,
     "input": [],
     "language": "python",
     "metadata": {},
     "outputs": []
    }
   ],
   "metadata": {}
  }
 ]
}