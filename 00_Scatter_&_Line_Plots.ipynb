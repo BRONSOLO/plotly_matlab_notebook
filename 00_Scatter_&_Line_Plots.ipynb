{
 "metadata": {
  "name": "",
  "signature": "sha256:0e0b399d93c10d681c169e61e21af9703aba612ba71e09230ef38cbfd4eac68c"
 },
 "nbformat": 3,
 "nbformat_minor": 0,
 "worksheets": [
  {
   "cells": [
    {
     "cell_type": "markdown",
     "metadata": {},
     "source": [
      "<center>\n",
      "<img src=\"files/images/pmat.png\" style=\"width: 400px; height: 200px; margin-left: 30.15%;margin-right: auto\"; alt=\"\">\n",
      "</center> \n"
     ]
    },
    {
     "cell_type": "markdown",
     "metadata": {},
     "source": [
      "<h1 id=\"lasp\">LINE AND SCATTER PLOTS</h1>"
     ]
    },
    {
     "cell_type": "markdown",
     "metadata": {},
     "source": [
      ">This notebook provides relevant examples of **LINE AND SCATTER PLOTS** creation using the Plotly Matlatb API. Please have a look at the code provided below to get started! If you are new to Plotly please see the <a href = ./welcome_home.ipynb class = nounderline><font size = \"3pt\">WELCOME</font></a> notebook. If you have any questions, suggestions or just want to chat, please\n",
      "<a href=\"/.\" class=\"nounderline\"><font size = \"3pt\">DROP US A LINE</font></a>."
     ]
    },
    {
     "cell_type": "markdown",
     "metadata": {},
     "source": [
      "<center>\n",
      "<a href = ./welcome_home.ipynb/#toc class=\"nounderline\">TABLE OF CONTENTS</a>&nbsp; &nbsp; **  \u2022   ** &nbsp; &nbsp;<a href=\"#mse\" class=\"nounderline\">MATLAB SYNTAX</a> &nbsp; &nbsp; **  \u2022   ** &nbsp; &nbsp; <a href=\"#pse\" class=\"nounderline\">PLOTLY SYNTAX</a> &nbsp; &nbsp; **  \u2022   ** &nbsp; &nbsp; <a href=\"#pse\" class=\"nounderline\">EXTRAS</a> \n",
      "</center>"
     ]
    },
    {
     "cell_type": "markdown",
     "metadata": {},
     "source": [
      "<br>\n",
      "<br>\n",
      "<br>\n",
      "<br>"
     ]
    },
    {
     "cell_type": "markdown",
     "metadata": {},
     "source": [
      "<hr size = \"5px\">\n",
      "<center><h2 id=\"mse\">LINE AND SCATTER PLOT: MATLAB SYNTAX</h2></center>\n",
      "<hr size = \"5px\">"
     ]
    },
    {
     "cell_type": "markdown",
     "metadata": {},
     "source": [
      "Line and Scatter plots are an excellent way to visualize relationships between independent and dependent variables. For this walkthrough, we will be considering the <a href = \"http://travel.trade.gov/outreachpages/inbound.general_information.inbound_overview.html\" class = nounderline>2014 U.S. Travel and Tourism Statistics</a> on the monthly import/export of travel and tourism within the U.S.A. We begin by first opening up our MATLAB environment and importing <a href = \"http://travel.trade.gov/outreachpages/download_data_table/Monthly_Exports_Imports_Balance.xlsx\" class = nounderline> the collected data</a>.    "
     ]
    },
    {
     "cell_type": "markdown",
     "metadata": {},
     "source": [
      "\n",
      "<h4>>> OPEN YOUR MATLAB ENVIRONMENT</h4>"
     ]
    },
    {
     "cell_type": "code",
     "collapsed": false,
     "input": [
      "%load_ext pymatbridge"
     ],
     "language": "python",
     "metadata": {},
     "outputs": [
      {
       "output_type": "stream",
       "stream": "stdout",
       "text": [
        "Starting MATLAB on ZMQ socket ipc:///tmp/pymatbridge\n",
        "Send 'exit' command to kill the server\n",
        "."
       ]
      },
      {
       "output_type": "stream",
       "stream": "stdout",
       "text": [
        "."
       ]
      },
      {
       "output_type": "stream",
       "stream": "stdout",
       "text": [
        "."
       ]
      },
      {
       "output_type": "stream",
       "stream": "stdout",
       "text": [
        "."
       ]
      },
      {
       "output_type": "stream",
       "stream": "stdout",
       "text": [
        "."
       ]
      },
      {
       "output_type": "stream",
       "stream": "stdout",
       "text": [
        "."
       ]
      },
      {
       "output_type": "stream",
       "stream": "stdout",
       "text": [
        "."
       ]
      },
      {
       "output_type": "stream",
       "stream": "stdout",
       "text": [
        "."
       ]
      },
      {
       "output_type": "stream",
       "stream": "stdout",
       "text": [
        "."
       ]
      },
      {
       "output_type": "stream",
       "stream": "stdout",
       "text": [
        "."
       ]
      },
      {
       "output_type": "stream",
       "stream": "stdout",
       "text": [
        "MATLAB started and connected!\n"
       ]
      }
     ],
     "prompt_number": 1
    },
    {
     "cell_type": "markdown",
     "metadata": {},
     "source": [
      "<h4> >> LOAD THE TRAVEL AND TOURISM DATA </h4>"
     ]
    },
    {
     "cell_type": "code",
     "collapsed": false,
     "input": [
      "%%matlab\n",
      "\n",
      "travelData = load('./DATA/travelusa.mat') \n",
      "im = travelData.balance.imports\n",
      "ex = travelData.balance.exports \n"
     ],
     "language": "python",
     "metadata": {},
     "outputs": [
      {
       "metadata": {},
       "output_type": "display_data",
       "text": [
        "\n",
        "travelData = \n",
        "\n",
        "    balance: [1x1 struct]\n",
        "\n",
        "\n",
        "im = \n",
        "\n",
        "     total: [1x267 double]\n",
        "    travel: [1x267 double]\n",
        "      fare: [1x267 double]\n",
        "\n",
        "\n",
        "ex = \n",
        "\n",
        "    travel: [1x267 double]\n",
        "     total: [1x267 double]\n",
        "     fares: [1x267 double]\n",
        "\n"
       ]
      }
     ],
     "prompt_number": 10
    },
    {
     "cell_type": "markdown",
     "metadata": {},
     "source": [
      "The returned fields of the travelData structure array consist of **imports.travel** / **imports.fare** and **exports.travel** / **exports.fare**. As defined in the .xlsx of the collected data, these terms can be defined as follows: \n",
      "\n",
      "\n",
      ">**IMPORTS.TRAVEL**: These accounts cover purchases of goods and services by U.S. persons traveling abroad.<br><br>\n",
      "**IMPORTS.FARE**: These accounts cover the fares paid by U.S. residents to foreign air carriers for travel between the United States and foreign countries and foreign vessel operators for travel on cruise vessels.<br><br>\n",
      "**EXPORTS.TRAVEL**: These accounts cover purchases by foreign travelers in the United States for business or personal reasons.<br><br>\n",
      "**EXPORT.FARE**: These accounts cover the fares received by U.S. air carriers from foreign residents for travel between the United States and foreign countries and between two foreign points, the fares received by U.S vessel operators for travel on cruise vessels. \n",
      "<br>"
     ]
    },
    {
     "cell_type": "code",
     "collapsed": false,
     "input": [
      "%%matlab\n",
      "fig = figure; \n",
      "scatter(im.travel,im.fare,'LineWidth',4)\n",
      "hold on\n",
      "scatter(ex.travel,ex.fares,'LineWidth',4)\n",
      "\n",
      "coeffs1 = polyfit(im.travel,im.fare, 1);\n",
      "% Get fitted values\n",
      "fittedX1 = linspace(min(im.travel), max(im.travel), 200);\n",
      "fittedY1 = polyval(coeffs1, fittedX1);\n",
      "% Plot the fitted line\n",
      "hold on;\n",
      "plot(fittedX1, fittedY1, 'k-', 'LineWidth', 4);\n",
      "\n",
      "coeffs2 = polyfit(ex.travel,ex.fares, 1);\n",
      "% Get fitted values\n",
      "fittedX2 = linspace(min(ex.travel), max(ex.travel), 200);\n",
      "fittedY2 = polyval(coeffs2, fittedX2);\n",
      "% Plot the fitted line\n",
      "hold on;\n",
      "plot(fittedX2, fittedY2, 'k-', 'LineWidth', 4);\n",
      "\n",
      "resp = fig2plotly(fig,'name','tnt'); \n"
     ],
     "language": "python",
     "metadata": {},
     "outputs": [
      {
       "metadata": {},
       "output_type": "display_data",
       "png": "[encoded data removed]"
      }
     ],
     "prompt_number": 37
    },
    {
     "cell_type": "code",
     "collapsed": false,
     "input": [
      "%%matlab\n",
      "resp"
     ],
     "language": "python",
     "metadata": {},
     "outputs": [
      {
       "metadata": {},
       "output_type": "display_data",
       "text": [
        "\n",
        "resp = \n",
        "\n",
        "         url: 'https://plot.ly/~matlab_user_guide/641'\n",
        "     message: [1x0 char]\n",
        "     warning: [1x0 char]\n",
        "    filename: 'tnt'\n",
        "       error: [1x0 char]\n",
        "\n"
       ]
      }
     ],
     "prompt_number": 38
    },
    {
     "cell_type": "code",
     "collapsed": false,
     "input": [
      "show_plot('https://plot.ly/~matlab_user_guide/641')\n"
     ],
     "language": "python",
     "metadata": {},
     "outputs": [
      {
       "html": [
        "<iframe height=\"750\" id=\"igraph\" frameborder = 0 seamless=\"seamless\" scrolling=\"no\" src=\"https://plot.ly/~matlab_user_guide/641/1000/750\" width=\"1000\"></iframe>"
       ],
       "metadata": {},
       "output_type": "pyout",
       "prompt_number": 39,
       "text": [
        "<IPython.core.display.HTML at 0x10c4df590>"
       ]
      }
     ],
     "prompt_number": 39
    },
    {
     "cell_type": "markdown",
     "metadata": {},
     "source": [
      "\n",
      "- subplots with different measures"
     ]
    },
    {
     "cell_type": "markdown",
     "metadata": {},
     "source": [
      "<hr size = \"5px\">\n",
      "<center><h2 id=\"pse\">LINE AND SCATTER PLOT: PLOTLY SYNTAX</h2></center>\n",
      "<hr size = \"5px\">"
     ]
    },
    {
     "cell_type": "code",
     "collapsed": false,
     "input": [
      "from IPython.display import HTML\n",
      "\n",
      "def show_plot(url, width=1000, height=750):\n",
      "    s = '<iframe height=\"%s\" id=\"igraph\" frameborder = 0 seamless=\"seamless\" scrolling=\"no\" src=\"%s\" width=\"%s\"></iframe>' %\\\n",
      "    (height, \"/\".join(map(str,[url, width, height])), width)\n",
      "    return HTML(s)"
     ],
     "language": "python",
     "metadata": {},
     "outputs": [],
     "prompt_number": 19
    },
    {
     "cell_type": "markdown",
     "metadata": {},
     "source": [
      "<br>\n",
      "<br>\n",
      "<center><h1>CONTACT</h1></center>"
     ]
    },
    {
     "cell_type": "markdown",
     "metadata": {},
     "source": [
      "--- \n",
      "**Note:** Want to help improve this user guide? Please send us your comments/questions! Feedback concerning this user guide can be directed to <font color=#1d3b84>** chuck [at] plot.ly **</font>. You can also reach and follow us online via social media outlets.<br>\n",
      "<br>\n",
      "\n",
      "<div class=\"image-line\">\n",
      "\n",
      "<div class=\"image-cell\">\n",
      "<a href=\"https://twitter.com/plotlygraphs\">\n",
      "<img src=\"files/images/twitter.png\" style=\"width: 40px; height: 40px; margin-left: 1px; margin-right: 1px\"; alt=\"\"> \n",
      "</a>\n",
      "</div>\n",
      "\n",
      "<div class=\"image-cell\">\n",
      "<a href=\"https://www.facebook.com/Plotly\">\n",
      "<img src=\"files/images/facebook.png\" style=\"width: 40px; height: 40px; margin-left: 1px; margin-right: 1px\"; alt=\"\"> \n",
      "</a>\n",
      "</div>\n",
      "\n",
      "<div class=\"image-cell\">\n",
      "<a href= https://plus.google.com/101741663283396748386/posts>\n",
      "<img src=\"files/images/gplus.png\" style=\"width: 40px; height: 40px; margin-left: 1px; margin-right: 1px\"; alt=\"\"> \n",
      "</a>\n",
      "</div>\n",
      "\n",
      "<div class=\"image-cell\">\n",
      "<a href= https://www.edmodo.com/publisher/plotly>\n",
      "<img src=\"files/images/ed.png\" style=\"width: 40px; height: 40px; margin-left: 1px; margin-right: 1px\"; alt=\"\"> \n",
      "</a>\n",
      "</div>\n",
      "\n",
      "</div>\n",
      "<br>\n",
      "<br>\n",
      "\n",
      "---"
     ]
    },
    {
     "cell_type": "markdown",
     "metadata": {},
     "source": [
      "<br>\n",
      "<h4>\n",
      "<center>\n",
      "**  \u2022   ** <br><br>\n",
      "**  \u2022   ** <br><br>\n",
      "**  \u2022   ** <br><br>\n",
      "**  \u2022   ** <br><br>\n",
      "</center>    \n",
      "</h4>\n",
      "<br>"
     ]
    },
    {
     "cell_type": "markdown",
     "metadata": {},
     "source": [
      "<center><h2>[NOTEBOOK BEAUTIFICATION]</h2></center>"
     ]
    },
    {
     "cell_type": "code",
     "collapsed": false,
     "input": [
      "# CSS styling within IPython notebook\n",
      "from IPython.core.display import HTML\n",
      "def css_styling():\n",
      "    styles = open(\"./css/style_notebook.css\", \"r\").read()\n",
      "    return HTML(styles)\n",
      "css_styling()\n"
     ],
     "language": "python",
     "metadata": {},
     "outputs": [
      {
       "html": [
        "<style>\n",
        "@font-face {\n",
        "  font-family: \"Computer Modern\";\n",
        "  src: url('http://9dbb143991406a7c655e-aa5fcb0a5a4ec34cff238a2d56ca4144.r56.cf5.rackcdn.com/cmunss.otf');\n",
        "}\n",
        "@font-face {\n",
        "  font-family: \"Computer Modern\";\n",
        "  font-weight: bold;\n",
        "  src: url('http://9dbb143991406a7c655e-aa5fcb0a5a4ec34cff238a2d56ca4144.r56.cf5.rackcdn.com/cmunsx.otf');\n",
        "}\n",
        "@font-face {\n",
        "  font-family: \"Computer Modern\";\n",
        "  font-style: oblique;\n",
        "  src: url('http://9dbb143991406a7c655e-aa5fcb0a5a4ec34cff238a2d56ca4144.r56.cf5.rackcdn.com/cmunsi.otf');\n",
        "}\n",
        "@font-face {\n",
        "  font-family: \"Computer Modern\";\n",
        "  font-weight: bold;\n",
        "  font-style: oblique;\n",
        "  src: url('http://9dbb143991406a7c655e-aa5fcb0a5a4ec34cff238a2d56ca4144.r56.cf5.rackcdn.com/cmunso.otf');\n",
        "}\n",
        "div.cell{\n",
        "  width:1000px;\n",
        "  margin-left:8% !important;\n",
        "  margin-right:auto;\n",
        "}\n",
        "\n",
        "div.text_cell_render{\n",
        " /* font-family: Computer Modern, \"Helvetica Neue\", Arial, Helvetica, Geneva, sans-serif; */\n",
        " color: #333333;\n",
        " /* font-family: \u2018Palatino Linotype\u2019, \u2018Book Antiqua\u2019, Palatino, serif; */\n",
        " /* font-family: \u2018Trebuchet MS\u2019, Helvetica, sans-serif; */\n",
        " font-family: \u2018Lucida Sans Unicode\u2019, \u2018Lucida Grande\u2019, sans-serif;\n",
        " line-height: 145%;\n",
        " font-size: 130%;\n",
        " width: 1000px; \n",
        "}\n",
        "\n",
        "code{\n",
        "  font-size: 40%;\n",
        "}\n",
        "\n",
        "ul{\n",
        "  margin: 2em;\n",
        "}\n",
        "\n",
        "ul li{\n",
        " padding-left: 0.5em;\n",
        " margin-bottom: 0.5em;\n",
        " margin-top: 0.5em;\n",
        " /*font-variant: small-caps;*/\n",
        "}\n",
        "\n",
        "a.nounderline:link{\n",
        " color: #1d3b84;\n",
        " font-weight: bold;\n",
        " text-decoration:none;\n",
        "}\n",
        "a.nounderlineblack:link{\n",
        " color: #333333;\n",
        " font-weight: bold;\n",
        " text-decoration:none;\n",
        "}\n",
        "a.nounderlineblack:visited{\n",
        " color: #333333;\n",
        " font-weight: bold;\n",
        " text-decoration:none;\n",
        "}\n",
        "a:link{\n",
        "  color: #447adb;\n",
        "  font-weight: bold;\n",
        "  text-decoration:none;\n",
        "}\n",
        "a:visited{\n",
        " font-weight: bold;\n",
        " text-decoration: none;\n",
        "}\n",
        "a:hover{\n",
        " text-decoration: none;\n",
        " font-weight: bold;\n",
        "}\n",
        "a:focus{\n",
        " text-decoration: none;\n",
        " font-weight: bold;\n",
        "}\n",
        "a:active{\n",
        " text-decoration: none;\n",
        " font-weight: bold;\n",
        "}\n",
        ".CodeMirror{ \n",
        "  background-color: white;\n",
        "  width:990px;\n",
        "  font-family: \"Source Code Pro\", source-code-pro,Consolas, monospace;\n",
        "}\n",
        ".prompt{\n",
        "  display: None;\n",
        "}\n",
        "\n",
        ".col1 {\n",
        "  background-color: white;\n",
        "  float: left;\n",
        "  width: 300px;\n",
        "  height: 100px;\n",
        "}\n",
        ".col2 {\n",
        "  background-color: white;\n",
        "  width: 400px;\n",
        "  height: 100px;\n",
        "  float:center; \n",
        "  display: table-cell; \n",
        "}\n",
        ".col3 {\n",
        "  background-color: white;\n",
        "  float: right;\n",
        "  width: 200px;\n",
        "  height: 100px; \n",
        "}\n",
        "\n",
        ".text_cell_render h1 {\n",
        "  font-size: 35pt;\n",
        "  width:975px;\n",
        "  color:#333333;\n",
        "  font-family: \u2018Lucida Console\u2019, Monaco, monospace;\n",
        "  text-align: center;\n",
        "  font-size: 50; \n",
        "}\n",
        "\n",
        ".text_cell_render h2 {\n",
        "  /* font-family: Computer Modern, serif; */\n",
        "  color: #333333;\n",
        "  font-family: \u2018Lucida Console\u2019, Monaco, monospace;\n",
        "  text-align: center;\n",
        "}\n",
        "\n",
        ".text_cell_render h3 {\n",
        "  font-weight: 10;\n",
        "  font-style: italic;\n",
        "  color:#003366; \n",
        "  font-size: 15pt;\n",
        "  margin-bottom: 0em;\n",
        "  margin-top: 1.5em;\n",
        "  display: inline;\n",
        "  white-space: nowrap;\n",
        "}\n",
        "\n",
        ".text_cell_render h4{\n",
        "  color: #333333;\n",
        "  font-family: \u2018Lucida Console\u2019, Monaco, monospace;\n",
        "  margin-top:15px;\n",
        "  margin-bottom: 3px;\n",
        "  font-size: 10pt; \n",
        "}\n",
        "\n",
        ".text_cell_render h5 {\n",
        "  font-weight: 300;\n",
        "  font-style: normal;\n",
        "  color:#003366; \n",
        "  font-size: 25pt;\n",
        "  margin-bottom: 0em;\n",
        "  margin-top: 1.5em;\n",
        "  display: inline;\n",
        "  white-space: nowrap;\n",
        "}\n",
        "\n",
        ".text_cell_render h6 {\n",
        "  font-weight: 0;\n",
        "  font-style: normal;\n",
        "  color:#003366; \n",
        "  font-size: 16pt;\n",
        "  margin-bottom: 0em;\n",
        "  margin-top: 1.5em;\n",
        "  display: inline;\n",
        "  white-space: nowrap;\n",
        "}\n",
        "\n",
        ".warning{\n",
        "  color: rgb( 240, 20, 20 )\n",
        "}\n",
        "\n",
        "blockquote{\n",
        "  display:block;\n",
        "  background: #FFFFFF;\n",
        "  border-left: 2px dashed #1d3b84;\n",
        "  border-right: 2px dashed #1d3b84;\n",
        "  font-family: 'Open sans',verdana,arial,sans-serif;\n",
        "  padding: 25px 25px 25px 25px;\n",
        "  text-align:justify;\n",
        "  text-justify:inter-word;\n",
        "  width:auto;\n",
        "  display:table\n",
        "}\n",
        "\n",
        "blockquote p {\n",
        "  margin-bottom: 0;\n",
        "  line-height: 125%;\n",
        "  font-size: 100%;\n",
        "}\n",
        "\n",
        ".image-line {\n",
        " margin-left: 28%;\n",
        "}\n",
        "\n",
        ".image-cell {\n",
        " width: 100px;\n",
        " margin: 10px;\n",
        " float: left;\n",
        "}\n",
        "\n",
        ".image-clear {\n",
        " clear: both;\n",
        "}\n",
        "\n",
        "\n",
        "</style>\n",
        "\n",
        "<script>\n",
        "MathJax.Hub.Config({\n",
        "  TeX: {\n",
        "   extensions: [\"AMSmath.js\"]\n",
        "   },\n",
        "   tex2jax: {\n",
        "    inlineMath: [ ['$','$'], [\"\\\\(\",\"\\\\)\"] ],\n",
        "    displayMath: [ ['$$','$$'], [\"\\\\[\",\"\\\\]\"] ]\n",
        "    },\n",
        "    displayAlign: 'center', // Change this to 'center' to center equations.\n",
        "    \"HTML-CSS\": {\n",
        "      styles: {'.MathJax_Display': {\"margin\": 4}}\n",
        "    }\n",
        "    });\n",
        "\n",
        "</script>\n"
       ],
       "metadata": {},
       "output_type": "pyout",
       "prompt_number": 1,
       "text": [
        "<IPython.core.display.HTML at 0x102af9510>"
       ]
      }
     ],
     "prompt_number": 1
    },
    {
     "cell_type": "markdown",
     "metadata": {},
     "source": [
      "<center><sup>[<a href = \"http://camdavidsonpilon.github.io/Probabilistic-Programming-and-Bayesian-Methods-for-Hackers/\" class=\"nounderline\">STYLE INSPIRED BY CAM DAVIDSON'S NB'S - THANK YOU</a>]</sup></center>"
     ]
    }
   ],
   "metadata": {}
  }
 ]
}