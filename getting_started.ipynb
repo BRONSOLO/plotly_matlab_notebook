{
 "metadata": {
  "name": "",
  "signature": "sha256:be96663df17a386a6f0ba648a9a2bd5b75bc8636640b87e33ab0e80cbf62fbab"
 },
 "nbformat": 3,
 "nbformat_minor": 0,
 "worksheets": [
  {
   "cells": [
    {
     "cell_type": "markdown",
     "metadata": {},
     "source": [
      "<center>\n",
      "<img src=\"files/images/pmat.png\" style=\"width: 400px; height: 200px; margin-left: 25%;margin-right: auto\"; alt=\"\">\n",
      "</center> "
     ]
    },
    {
     "cell_type": "markdown",
     "metadata": {},
     "source": [
      "<center><h1>[1] GETTING STARTED / API BREAKDOWN</h1></center>"
     ]
    },
    {
     "cell_type": "markdown",
     "metadata": {},
     "source": [
      "> This notebook provides an **INTRODUCTION** to the Plotly Matlab API. Installation and Matlab / Plotly preliminaries are discussed, followed by a **BREAKDOWN OF THE MAIN API FUNCTIONS**. If you are comfortable with the basics, feel free to skip ahead to the other notebooks and return to this one for reference.   "
     ]
    },
    {
     "cell_type": "markdown",
     "metadata": {},
     "source": [
      "<center>\n",
      "<a href=\"#install\" class=\"nounderline\">[1.1] INSTALLATION </a> &nbsp; &nbsp; **  \u2022   ** &nbsp; &nbsp; <a href=\"#matlab_basics\" class=\"nounderline\"> [1.2] MATLAB / PLOTLY BASICS </a> &nbsp; &nbsp; **  \u2022   ** &nbsp; &nbsp; <a href=\"#api_breakdown\" class=\"nounderline\"> [1.3] API BREAKDOWN</a> \n",
      "</center>"
     ]
    },
    {
     "cell_type": "markdown",
     "metadata": {},
     "source": [
      "- - - - - - - - - - - - - - - - - - - - - - - - - - - - - - - - - - - - - - - - - - - - - - - - - - -\n",
      "<br>\n",
      "<br>"
     ]
    },
    {
     "cell_type": "markdown",
     "metadata": {},
     "source": [
      "<center><h1 id=\"install\">[1.1] INSTALLATION</h1></center>"
     ]
    },
    {
     "cell_type": "markdown",
     "metadata": {},
     "source": [
      " <h4><center>\n",
      "  &nbsp; &nbsp;  **  \u2022   ** &nbsp; &nbsp; **  \u2022   ** &nbsp; &nbsp; **  \u2022   ** &nbsp; &nbsp; **  \u2022   ** &nbsp; &nbsp; **  \u2022   ** &nbsp; &nbsp; \n",
      "  </center></h4>"
     ]
    },
    {
     "cell_type": "markdown",
     "metadata": {},
     "source": [
      "<br>\n",
      "The latest Plotly Matlab API can be <a href=\"https://github.com/plotly/MATLAB-api/archive/master.zip\" class=\"nounderline\">DOWNLOADED HERE</a>. Simply uncompress the zipped folder and place it in your favourite directory. The API is compatible with all modern MATLAB releases. If you have any issues with the installation please <a href = \"contact\" class = \"nounderline\">CONTACT</a> us and let us know.   \n",
      "<br>\n",
      "<br>\n",
      "<br>"
     ]
    },
    {
     "cell_type": "markdown",
     "metadata": {},
     "source": [
      "<center><h1 id=\"matlab_basics\">[1.2] MATLAB/PLOTLY BASICS</h1></center>"
     ]
    },
    {
     "cell_type": "markdown",
     "metadata": {},
     "source": [
      " <h4><center>\n",
      "  &nbsp; &nbsp;  **  \u2022   ** &nbsp; &nbsp; **  \u2022   ** &nbsp; &nbsp; **  \u2022   ** &nbsp; &nbsp; **  \u2022   ** &nbsp; &nbsp; **  \u2022   ** &nbsp; &nbsp; \n",
      "  </center></h4>"
     ]
    },
    {
     "cell_type": "markdown",
     "metadata": {},
     "source": [
      " "
     ]
    },
    {
     "cell_type": "markdown",
     "metadata": {},
     "source": [
      "<h2>[MATLAB API STARTUP]</h2>"
     ]
    },
    {
     "cell_type": "markdown",
     "metadata": {},
     "source": [
      "<br>\n",
      "Throughout this notebook we will be using the super awesome <a href=\"https://pypi.python.org/pypi/pymatbridge/0.1/\" class=\"nounderline\">pymatbridge</a> package to communicate with Matlab from Python. Everything that comes below the **%%matlab** decorator will now be read as Matlab code! To use the MATLAB API on your own machine, simply open the MATLAB application as you normally would.\n",
      "<br>"
     ]
    },
    {
     "cell_type": "heading",
     "level": 4,
     "metadata": {},
     "source": [
      ">> OPEN YOUR MATLAB ENVIRONMENT"
     ]
    },
    {
     "cell_type": "code",
     "collapsed": false,
     "input": [
      "%load_ext pymatbridge"
     ],
     "language": "python",
     "metadata": {},
     "outputs": [
      {
       "output_type": "stream",
       "stream": "stdout",
       "text": [
        "Starting MATLAB on ZMQ socket ipc:///tmp/pymatbridge\n",
        "Send 'exit' command to kill the server\n",
        "."
       ]
      },
      {
       "output_type": "stream",
       "stream": "stdout",
       "text": [
        "MATLAB started and connected!\n"
       ]
      }
     ],
     "prompt_number": 19
    },
    {
     "cell_type": "heading",
     "level": 4,
     "metadata": {},
     "source": [
      ">> TELL MATLAB WHERE TO FIND THE PLOTLY API"
     ]
    },
    {
     "cell_type": "code",
     "collapsed": false,
     "input": [
      "%%matlab\n",
      "\n",
      "api_path = ('/Users/chuckbronson/Documents/PLOTLY/MATLAB_API/');\n",
      "addpath(genpath(api_path));"
     ],
     "language": "python",
     "metadata": {},
     "outputs": [],
     "prompt_number": 34
    },
    {
     "cell_type": "markdown",
     "metadata": {},
     "source": [
      "<br>\n",
      "**NOTE:** We are now all set up on the MATLAB end to start using the API. For now, both these steps will be required everytime you use the API. The examples provided in every notebook of this User Guide will begin with these two steps.    \n",
      "<br>\n",
      "<br>"
     ]
    },
    {
     "cell_type": "markdown",
     "metadata": {},
     "source": [
      "<h2>[PLOTLY SIGN UP]</h2>"
     ]
    },
    {
     "cell_type": "markdown",
     "metadata": {},
     "source": [
      "<br>\n",
      "If you are already signed up with Plotly, skip ahead. If not - no worries! You can either sign up for a **FREE** Plotly account <a href=\"http://www.plot.ly\" class=\"nounderline\">ONLINE</a> *or* from the comfort of your Matlab command window using the **signup.m** function. Just copy and uncomment the lines in the code below (under the **%%matlab** decorator) into your Matlab command window. You'll also need to provide a username of your choice and valid email address! "
     ]
    },
    {
     "cell_type": "heading",
     "level": 4,
     "metadata": {},
     "source": [
      ">> SIGN UP WITH PLOTLY!"
     ]
    },
    {
     "cell_type": "code",
     "collapsed": false,
     "input": [
      "%%matlab\n",
      "\n",
      "%username = PICK_A_USERNAME;\n",
      "%email = VALID_EMAIL_ADDRESS;\n",
      "%response = signup(username,email)"
     ],
     "language": "python",
     "metadata": {},
     "outputs": [],
     "prompt_number": 21
    },
    {
     "cell_type": "markdown",
     "metadata": {},
     "source": [
      "<br>\n",
      "\n",
      "<h2>[PLOTLY SIGN IN]</h2>"
     ]
    },
    {
     "cell_type": "markdown",
     "metadata": {},
     "source": [
      "Once you are signed up with Plotly you can sign in using the **username and api key** provided. If you decided to delete either of these pieces of information from your brain, you can check them <a href=\"http://www.plot.ly\" class=\"nounderline\">online</a>. Signing in is performed using the **signin.m** function. "
     ]
    },
    {
     "cell_type": "heading",
     "level": 4,
     "metadata": {},
     "source": [
      ">> SIGN IN TO PLOTLY!"
     ]
    },
    {
     "cell_type": "code",
     "collapsed": false,
     "input": [
      "%%matlab \n",
      "load('config'); \n",
      "signin(config.un,config.key);"
     ],
     "language": "python",
     "metadata": {},
     "outputs": [],
     "prompt_number": 22
    },
    {
     "cell_type": "markdown",
     "metadata": {},
     "source": [
      "**NOTE:** We suggest storing your username and api key in a matlab structure array for easy access/portability between matlab sessions/systems. Here we have loaded our **\"config\"** structure array which contains the aformentioned information. \n",
      "\n",
      "<br>\n",
      "<br>\n",
      "<br>"
     ]
    },
    {
     "cell_type": "markdown",
     "metadata": {},
     "source": [
      "<center><h1 id=\"api_breakdown\">[1.3] API BREAKDOWN</h1></center>"
     ]
    },
    {
     "cell_type": "markdown",
     "metadata": {},
     "source": [
      "<center>\n",
      "<h4>\n",
      "  &nbsp; &nbsp;  **  \u2022   ** &nbsp; &nbsp; **  \u2022   ** &nbsp; &nbsp; **  \u2022   ** &nbsp; &nbsp; **  \u2022   ** &nbsp; &nbsp; **  \u2022   ** &nbsp; &nbsp; \n",
      "</h4>\n",
      "    </center>"
     ]
    },
    {
     "cell_type": "markdown",
     "metadata": {},
     "source": [
      "<h2>[API FUNCTIONS]</h2>"
     ]
    },
    {
     "cell_type": "markdown",
     "metadata": {},
     "source": [
      "**NOTE:** Plot creation, stylization and layout are all handled with **four** Plotly Matlab API functions: "
     ]
    },
    {
     "cell_type": "markdown",
     "metadata": {},
     "source": [
      "<center>\n",
      "<a href=\"#fig2plotlym\" class=\"nounderline\"><font color=red>  \\*NEW\\* </font> &nbsp;  **fig2plotly.m**</a> &nbsp; &nbsp; **  \u2022   ** &nbsp; &nbsp;<a href=\"#plotlym\" class=\"nounderline\">**plotly.m**</a> &nbsp; &nbsp; **  \u2022   ** &nbsp; &nbsp; <a href=\"#plotlystylem\" class=\"nounderline\">**plotlystyle.m**</a> &nbsp; &nbsp;**  \u2022  ** &nbsp; &nbsp; <a href=\"#plotlylayoutm\" class=\"nounderline\">**plotlylayout.m**</a>\n",
      "</center>"
     ]
    },
    {
     "cell_type": "markdown",
     "metadata": {},
     "source": [
      " <br>\n",
      " <br>\n"
     ]
    },
    {
     "cell_type": "markdown",
     "metadata": {},
     "source": [
      "<center><h3 id=\"fig2plotlym\">[fig2plotly.m]</h3></center>"
     ]
    },
    {
     "cell_type": "markdown",
     "metadata": {},
     "source": [
      "---\n",
      "<center><h4>Create a graph in your plotly account using Matlab syntax</h4></center> \n",
      "\n",
      "---"
     ]
    },
    {
     "cell_type": "heading",
     "level": 4,
     "metadata": {},
     "source": [
      " >> CALL:"
     ]
    },
    {
     "cell_type": "heading",
     "level": 4,
     "metadata": {},
     "source": [
      " >> INPUT:"
     ]
    },
    {
     "cell_type": "heading",
     "level": 4,
     "metadata": {},
     "source": [
      ">> OUTPUT: "
     ]
    },
    {
     "cell_type": "markdown",
     "metadata": {},
     "source": [
      "<center><h3 id=\"plotlym\">[plotly.m]</h3></center>"
     ]
    },
    {
     "cell_type": "markdown",
     "metadata": {},
     "source": [
      "---\n",
      "<center><h4>Create a graph in your plotly account using Plotly syntax</h4></center> \n",
      "\n",
      "---"
     ]
    },
    {
     "cell_type": "heading",
     "level": 4,
     "metadata": {},
     "source": [
      " >> CALL:"
     ]
    },
    {
     "cell_type": "code",
     "collapsed": false,
     "input": [
      "%%matlab\n",
      "\n",
      "% [response] = plotly(x1,y1, x2,y2, ..., xn,yn, kwargs);\n",
      "% [response] = plotly({data1, data2, ..., datan}, kwargs);"
     ],
     "language": "python",
     "metadata": {},
     "outputs": [],
     "prompt_number": 23
    },
    {
     "cell_type": "heading",
     "level": 4,
     "metadata": {},
     "source": [
      " >> INPUT:"
     ]
    },
    {
     "cell_type": "code",
     "collapsed": false,
     "input": [
      "%%matlab\n",
      "\n",
      "% x1,y1, x2,y2, ..., xn,yn;   ----->   [trace arrays]\n",
      "% {data1, data2, ..., datan}; ----->   [cell array of trace/layout structure arrays]\n",
      "% kwargs;                     ----->   [style/layout structure array] (optional)"
     ],
     "language": "python",
     "metadata": {},
     "outputs": [],
     "prompt_number": 24
    },
    {
     "cell_type": "heading",
     "level": 4,
     "metadata": {},
     "source": [
      " >> OUTPUT:"
     ]
    },
    {
     "cell_type": "code",
     "collapsed": false,
     "input": [
      "%%matlab\n",
      "\n",
      "% response                    ----->   [structure array]\n",
      "%    \"\"   .url                ----->   [string]\n",
      "%    \"\"   .message            ----->   [string] \n",
      "%    \"\"   .warning            ----->   [string] \n",
      "%    \"\"   .filename           ----->   [string] \n",
      "%    \"\"   .error              ----->   [string] "
     ],
     "language": "python",
     "metadata": {},
     "outputs": [],
     "prompt_number": 25
    },
    {
     "cell_type": "heading",
     "level": 1,
     "metadata": {},
     "source": [
      " "
     ]
    },
    {
     "cell_type": "markdown",
     "metadata": {},
     "source": [
      "<center><h3 id=\"plotlystylem\">[plotlystyle.m]</h3></center>"
     ]
    },
    {
     "cell_type": "markdown",
     "metadata": {},
     "source": [
      "---\n",
      "<center><h4>Apply style to the traces of a plotly plot using Plotly syntax</h4></center> \n",
      "\n",
      "---\n"
     ]
    },
    {
     "cell_type": "heading",
     "level": 4,
     "metadata": {},
     "source": [
      ">> CALL: "
     ]
    },
    {
     "cell_type": "code",
     "collapsed": false,
     "input": [
      "%%matlab\n",
      "\n",
      "% [response] = plotlystyle({data1, data2, ..., datan}, kwargs);"
     ],
     "language": "python",
     "metadata": {},
     "outputs": [],
     "prompt_number": 26
    },
    {
     "cell_type": "heading",
     "level": 4,
     "metadata": {},
     "source": [
      " >> INPUT:"
     ]
    },
    {
     "cell_type": "code",
     "collapsed": false,
     "input": [
      "%%matlab\n",
      "\n",
      "% {data1, data2, ..., datan}; ----->   [cell array of trace/style structure arrays]\n",
      "% kwargs;                     ----->   [style/layout structure array] (optional)"
     ],
     "language": "python",
     "metadata": {},
     "outputs": [],
     "prompt_number": 27
    },
    {
     "cell_type": "heading",
     "level": 4,
     "metadata": {},
     "source": [
      ">> OUTPUT: "
     ]
    },
    {
     "cell_type": "code",
     "collapsed": false,
     "input": [
      "%%matlab\n",
      "\n",
      "% response                    ----->   [structure array]\n",
      "%    \"\"   .url                ----->   [string]\n",
      "%    \"\"   .message            ----->   [string] \n",
      "%    \"\"   .warning            ----->   [string] \n",
      "%    \"\"   .filename           ----->   [string] \n",
      "%    \"\"   .error              ----->   [string] "
     ],
     "language": "python",
     "metadata": {},
     "outputs": [],
     "prompt_number": 28
    },
    {
     "cell_type": "heading",
     "level": 1,
     "metadata": {},
     "source": [
      " "
     ]
    },
    {
     "cell_type": "markdown",
     "metadata": {},
     "source": [
      "<center><h3 id=\"plotlylayoutm\">[plotlylayout.m]</h3></center>"
     ]
    },
    {
     "cell_type": "markdown",
     "metadata": {},
     "source": [
      "---\n",
      "<center><h4>Apply layout to a plotly plot using Plotly syntax</h4></center> \n",
      "\n",
      "---\n"
     ]
    },
    {
     "cell_type": "heading",
     "level": 4,
     "metadata": {},
     "source": [
      ">> CALL: "
     ]
    },
    {
     "cell_type": "code",
     "collapsed": false,
     "input": [
      "%%matlab\n",
      "\n",
      "% [response] = plotlystyle({data1, data2, ..., datan}, kwargs);"
     ],
     "language": "python",
     "metadata": {},
     "outputs": [],
     "prompt_number": 29
    },
    {
     "cell_type": "heading",
     "level": 4,
     "metadata": {},
     "source": [
      ">> INPUT: "
     ]
    },
    {
     "cell_type": "code",
     "collapsed": false,
     "input": [
      "%%matlab\n",
      "\n",
      "% {data1, data2, ..., datan}; ----->   [cell array of trace/style structure arrays]\n",
      "% kwargs;    "
     ],
     "language": "python",
     "metadata": {},
     "outputs": [],
     "prompt_number": 30
    },
    {
     "cell_type": "heading",
     "level": 4,
     "metadata": {},
     "source": [
      ">> OUTPUT: "
     ]
    },
    {
     "cell_type": "code",
     "collapsed": false,
     "input": [
      "%%matlab\n",
      "\n",
      "% response                    ----->   [structure array]\n",
      "%    \"\"   .url                ----->   [string]\n",
      "%    \"\"   .message            ----->   [string] \n",
      "%    \"\"   .warning            ----->   [string] \n",
      "%    \"\"   .filename           ----->   [string] \n",
      "%    \"\"   .error              ----->   [string] "
     ],
     "language": "python",
     "metadata": {},
     "outputs": [],
     "prompt_number": 31
    },
    {
     "cell_type": "markdown",
     "metadata": {},
     "source": [
      "\n",
      "<br>\n",
      "<br>\n",
      "<br>\n",
      "<h1 id=\"contact\">[CONTACT]</h1>"
     ]
    },
    {
     "cell_type": "markdown",
     "metadata": {},
     "source": [
      "--- \n",
      "**Note:** Want to help improve this user guide? Please send us your comments/questions! Feedback concerning this user guide can be directed to <font color=#1d3b84>** chuck [at] plot.ly **</font>. You can also reach and follow us online via social media outlets.<br>\n",
      "<br>\n",
      "\n",
      "<div class=\"image-line\">\n",
      "\n",
      "<div class=\"image-cell\">\n",
      "<a href=\"https://twitter.com/plotlygraphs\">\n",
      "<img src=\"files/images/twitter.png\" style=\"width: 40px; height: 40px; margin-left: 1px; margin-right: 1px\"; alt=\"\"> \n",
      "</a>\n",
      "</div>\n",
      "\n",
      "<div class=\"image-cell\">\n",
      "<a href=\"https://www.facebook.com/Plotly\">\n",
      "<img src=\"files/images/facebook.png\" style=\"width: 40px; height: 40px; margin-left: 1px; margin-right: 1px\"; alt=\"\"> \n",
      "</a>\n",
      "</div>\n",
      "\n",
      "<div class=\"image-cell\">\n",
      "<a href= https://plus.google.com/101741663283396748386/posts>\n",
      "<img src=\"files/images/gplus.png\" style=\"width: 40px; height: 40px; margin-left: 1px; margin-right: 1px\"; alt=\"\"> \n",
      "</a>\n",
      "</div>\n",
      "\n",
      "<div class=\"image-cell\">\n",
      "<a href= https://www.edmodo.com/publisher/plotly>\n",
      "<img src=\"files/images/ed.png\" style=\"width: 40px; height: 40px; margin-left: 1px; margin-right: 1px\"; alt=\"\"> \n",
      "</a>\n",
      "</div>\n",
      "\n",
      "</div>\n",
      "<br>\n",
      "<br>\n",
      "\n",
      "---"
     ]
    },
    {
     "cell_type": "markdown",
     "metadata": {},
     "source": [
      "<br>\n",
      "<h4>\n",
      "<center>\n",
      "**  \u2022   ** <br><br>\n",
      "**  \u2022   ** <br><br>\n",
      "**  \u2022   ** <br><br>\n",
      "**  \u2022   ** <br><br>\n",
      "</center>    \n",
      "</h4>\n",
      "<br>"
     ]
    },
    {
     "cell_type": "markdown",
     "metadata": {},
     "source": [
      "<center><h3>[NOTEBOOK BEAUTIFICATION]</h3></center>"
     ]
    },
    {
     "cell_type": "code",
     "collapsed": false,
     "input": [
      "# CSS styling within IPython notebook\n",
      "from IPython.core.display import HTML\n",
      "def css_styling():\n",
      "    styles = open(\"./css/style_notebook.css\", \"r\").read()\n",
      "    return HTML(styles)\n",
      "css_styling()"
     ],
     "language": "python",
     "metadata": {},
     "outputs": [
      {
       "html": [
        "<style>\n",
        "@font-face {\n",
        "  font-family: \"Computer Modern\";\n",
        "  src: url('http://9dbb143991406a7c655e-aa5fcb0a5a4ec34cff238a2d56ca4144.r56.cf5.rackcdn.com/cmunss.otf');\n",
        "}\n",
        "@font-face {\n",
        "  font-family: \"Computer Modern\";\n",
        "  font-weight: bold;\n",
        "  src: url('http://9dbb143991406a7c655e-aa5fcb0a5a4ec34cff238a2d56ca4144.r56.cf5.rackcdn.com/cmunsx.otf');\n",
        "}\n",
        "@font-face {\n",
        "  font-family: \"Computer Modern\";\n",
        "  font-style: oblique;\n",
        "  src: url('http://9dbb143991406a7c655e-aa5fcb0a5a4ec34cff238a2d56ca4144.r56.cf5.rackcdn.com/cmunsi.otf');\n",
        "}\n",
        "@font-face {\n",
        "  font-family: \"Computer Modern\";\n",
        "  font-weight: bold;\n",
        "  font-style: oblique;\n",
        "  src: url('http://9dbb143991406a7c655e-aa5fcb0a5a4ec34cff238a2d56ca4144.r56.cf5.rackcdn.com/cmunso.otf');\n",
        "}\n",
        "div.cell{\n",
        "  width:800px;\n",
        "  margin-left:17% !important;\n",
        "  margin-right:auto;\n",
        "}\n",
        "h1 {\n",
        "  /* font-family: Computer Modern, serif; */\n",
        "  width:775px;\n",
        "  color:#333333;\n",
        "  font-family: \u2018Lucida Console\u2019, Monaco, monospace;\n",
        "  text-align: center;\n",
        "}\n",
        "h2 {\n",
        "  /* font-family: Computer Modern, serif; */\n",
        "  color: #333333;\n",
        "  font-family: \u2018Lucida Console\u2019, Monaco, monospace;\n",
        "  text-align: center;\n",
        "}\n",
        "h3 {\n",
        "  width:775px;\n",
        "  /* font-family: Computer Modern, serif; */\n",
        "  width:775px;\n",
        "  color: #333333;\n",
        "  font-family: \u2018Lucida Console\u2019, Monaco, monospace;\n",
        "}\n",
        "h4{\n",
        "  color: #333333;\n",
        "  font-family: \u2018Lucida Console\u2019, Monaco, monospace;\n",
        "  margin-top:15px;\n",
        "  margin-bottom: 3px;\n",
        "}\n",
        "\n",
        "div.text_cell_render{\n",
        " /* font-family: Computer Modern, \"Helvetica Neue\", Arial, Helvetica, Geneva, sans-serif; */\n",
        " color: #333333;\n",
        " /* font-family: \u2018Palatino Linotype\u2019, \u2018Book Antiqua\u2019, Palatino, serif; */\n",
        " /* font-family: \u2018Trebuchet MS\u2019, Helvetica, sans-serif; */\n",
        " font-family: \u2018Lucida Sans Unicode\u2019, \u2018Lucida Grande\u2019, sans-serif;\n",
        " line-height: 145%;\n",
        " font-size: 130%;\n",
        " width: 800px; \n",
        "}\n",
        "code{\n",
        "  font-size: 40%;\n",
        "}\n",
        "ul{\n",
        "  margin: 2em;\n",
        "}\n",
        "ul li{\n",
        " padding-left: 0.5em;\n",
        " margin-bottom: 0.5em;\n",
        " margin-top: 0.5em;\n",
        " /*font-variant: small-caps;*/\n",
        "}\n",
        "a.nounderline:link{\n",
        " color: #1d3b84;\n",
        " font-weight: bold;\n",
        " text-decoration:none;\n",
        "}\n",
        "a.nounderlineblack:link{\n",
        " color: #333333;\n",
        " font-weight: bold;\n",
        " text-decoration:none;\n",
        "}\n",
        "a.nounderlineblack:visited{\n",
        " color: #333333;\n",
        " font-weight: bold;\n",
        " text-decoration:none;\n",
        "}\n",
        "a:link{\n",
        "  color: #1d3b84;\n",
        "\n",
        "co font-weight: bold;\n",
        " text-decoration:none;\n",
        "}\n",
        "a:visited{\n",
        " font-weight: bold;\n",
        " text-decoration: none;\n",
        "}\n",
        "a:hover{\n",
        " text-decoration: none;\n",
        " font-weight: bold;\n",
        "}\n",
        "a:focus{\n",
        " text-decoration: none;\n",
        " font-weight: bold;\n",
        "}\n",
        "a:active{\n",
        " text-decoration: none;\n",
        " font-weight: bold;\n",
        "}\n",
        ".CodeMirror{ \n",
        "  font-family: \"Source Code Pro\", source-code-pro,Consolas, monospace;\n",
        "}\n",
        ".prompt{\n",
        "  display: None;\n",
        "}\n",
        "h5 {\n",
        "  font-family: 'Open sans',verdana,arial,sans-serif;\n",
        "}\n",
        ".text_cell_render h5 {\n",
        "  font-weight: 300;\n",
        "  font-style: normal;\n",
        "  color: #1d3b84;\n",
        "  font-size: 22pt;\n",
        "  margin-bottom: 0em;\n",
        "  margin-top: 1.5em;\n",
        "  display: block;\n",
        "  white-space: nowrap;\n",
        "}\n",
        ".text_cell_render h6 {\n",
        "  font-weight: 300;\n",
        "  font-size: 22pt;\n",
        "  color: #1d3b84;\n",
        "  margin-bottom: .5em;\n",
        "  margin-top: 0.5em;\n",
        "  display: block;\n",
        "}\n",
        "\n",
        "\n",
        "\n",
        ".warning{\n",
        "  color: rgb( 240, 20, 20 )\n",
        "}\n",
        "blockquote{\n",
        "  display:block;\n",
        "  background: #FFFFFF;\n",
        "  border-left: 2px dashed #1d3b84;\n",
        "  border-right: 2px dashed #1d3b84;\n",
        "  font-family: 'Open sans',verdana,arial,sans-serif;\n",
        "  padding: 25px 25px 25px 25px;\n",
        "  text-align:justify;\n",
        "  text-justify:inter-word;\n",
        "  width:auto;\n",
        "  display:table\n",
        "}\n",
        "\n",
        "blockquote p {\n",
        "  margin-bottom: 0;\n",
        "  line-height: 125%;\n",
        "  font-size: 100%;\n",
        "}\n",
        "\n",
        ".image-line {\n",
        "   margin-left: 170px;\n",
        "}\n",
        ".image-cell {\n",
        "   width: 100px;\n",
        "   margin: 10px;\n",
        "   float: left;\n",
        "}\n",
        ".image-clear {\n",
        "   clear: both;\n",
        "}\n",
        "\n",
        "\n",
        "</style>\n",
        "\n",
        "<script>\n",
        "MathJax.Hub.Config({\n",
        "  TeX: {\n",
        "   extensions: [\"AMSmath.js\"]\n",
        "   },\n",
        "   tex2jax: {\n",
        "    inlineMath: [ ['$','$'], [\"\\\\(\",\"\\\\)\"] ],\n",
        "    displayMath: [ ['$$','$$'], [\"\\\\[\",\"\\\\]\"] ]\n",
        "    },\n",
        "    displayAlign: 'center', // Change this to 'center' to center equations.\n",
        "    \"HTML-CSS\": {\n",
        "      styles: {'.MathJax_Display': {\"margin\": 4}}\n",
        "    }\n",
        "    });\n",
        "\n",
        "</script>\n"
       ],
       "metadata": {},
       "output_type": "pyout",
       "prompt_number": 33,
       "text": [
        "<IPython.core.display.HTML at 0x10efc0250>"
       ]
      }
     ],
     "prompt_number": 33
    },
    {
     "cell_type": "markdown",
     "metadata": {},
     "source": [
      "<center><sup>[<a href = \"http://camdavidsonpilon.github.io/Probabilistic-Programming-and-Bayesian-Methods-for-Hackers/\" class=\"nounderline\">STYLE STOLEN WITHOUT HESITATION FROM CAM DAVIDSON</a>]</sup></center>"
     ]
    }
   ],
   "metadata": {}
  }
 ]
}