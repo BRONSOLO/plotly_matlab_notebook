{
 "metadata": {
  "name": "",
  "signature": "sha256:1802d382a16ce854d6ab1525782e76b37d2eb63a0b587af377b3cbd50f3d3412"
 },
 "nbformat": 3,
 "nbformat_minor": 0,
 "worksheets": [
  {
   "cells": [
    {
     "cell_type": "code",
     "collapsed": false,
     "input": [
      "%load_ext pymatbridge"
     ],
     "language": "python",
     "metadata": {},
     "outputs": [
      {
       "output_type": "stream",
       "stream": "stdout",
       "text": [
        "Starting MATLAB on ZMQ socket ipc:///tmp/pymatbridge\n",
        "Send 'exit' command to kill the server\n",
        "."
       ]
      },
      {
       "output_type": "stream",
       "stream": "stdout",
       "text": [
        "."
       ]
      },
      {
       "output_type": "stream",
       "stream": "stdout",
       "text": [
        "."
       ]
      },
      {
       "output_type": "stream",
       "stream": "stdout",
       "text": [
        "."
       ]
      },
      {
       "output_type": "stream",
       "stream": "stdout",
       "text": [
        "."
       ]
      },
      {
       "output_type": "stream",
       "stream": "stdout",
       "text": [
        "."
       ]
      },
      {
       "output_type": "stream",
       "stream": "stdout",
       "text": [
        "."
       ]
      },
      {
       "output_type": "stream",
       "stream": "stdout",
       "text": [
        "."
       ]
      },
      {
       "output_type": "stream",
       "stream": "stdout",
       "text": [
        "."
       ]
      },
      {
       "output_type": "stream",
       "stream": "stdout",
       "text": [
        "."
       ]
      },
      {
       "output_type": "stream",
       "stream": "stdout",
       "text": [
        "."
       ]
      },
      {
       "output_type": "stream",
       "stream": "stdout",
       "text": [
        "."
       ]
      },
      {
       "output_type": "stream",
       "stream": "stdout",
       "text": [
        "."
       ]
      },
      {
       "output_type": "stream",
       "stream": "stdout",
       "text": [
        "."
       ]
      },
      {
       "output_type": "stream",
       "stream": "stdout",
       "text": [
        "."
       ]
      },
      {
       "output_type": "stream",
       "stream": "stdout",
       "text": [
        "."
       ]
      },
      {
       "output_type": "stream",
       "stream": "stdout",
       "text": [
        "."
       ]
      },
      {
       "output_type": "stream",
       "stream": "stdout",
       "text": [
        "."
       ]
      },
      {
       "output_type": "stream",
       "stream": "stdout",
       "text": [
        "."
       ]
      },
      {
       "output_type": "stream",
       "stream": "stdout",
       "text": [
        "."
       ]
      },
      {
       "output_type": "stream",
       "stream": "stdout",
       "text": [
        "."
       ]
      },
      {
       "output_type": "stream",
       "stream": "stdout",
       "text": [
        "."
       ]
      },
      {
       "output_type": "stream",
       "stream": "stdout",
       "text": [
        "."
       ]
      },
      {
       "output_type": "stream",
       "stream": "stdout",
       "text": [
        "."
       ]
      },
      {
       "output_type": "stream",
       "stream": "stdout",
       "text": [
        "."
       ]
      },
      {
       "output_type": "stream",
       "stream": "stdout",
       "text": [
        "."
       ]
      },
      {
       "output_type": "stream",
       "stream": "stdout",
       "text": [
        "."
       ]
      },
      {
       "output_type": "stream",
       "stream": "stdout",
       "text": [
        "."
       ]
      },
      {
       "output_type": "stream",
       "stream": "stdout",
       "text": [
        "."
       ]
      },
      {
       "output_type": "stream",
       "stream": "stdout",
       "text": [
        "."
       ]
      },
      {
       "output_type": "stream",
       "stream": "stdout",
       "text": [
        "."
       ]
      },
      {
       "output_type": "stream",
       "stream": "stdout",
       "text": [
        "."
       ]
      },
      {
       "output_type": "stream",
       "stream": "stdout",
       "text": [
        "."
       ]
      },
      {
       "output_type": "stream",
       "stream": "stdout",
       "text": [
        "."
       ]
      },
      {
       "output_type": "stream",
       "stream": "stdout",
       "text": [
        "."
       ]
      },
      {
       "output_type": "stream",
       "stream": "stdout",
       "text": [
        "."
       ]
      },
      {
       "output_type": "stream",
       "stream": "stdout",
       "text": [
        "."
       ]
      },
      {
       "output_type": "stream",
       "stream": "stdout",
       "text": [
        "."
       ]
      },
      {
       "output_type": "stream",
       "stream": "stdout",
       "text": [
        "."
       ]
      },
      {
       "output_type": "stream",
       "stream": "stdout",
       "text": [
        "."
       ]
      },
      {
       "output_type": "stream",
       "stream": "stdout",
       "text": [
        "."
       ]
      },
      {
       "output_type": "stream",
       "stream": "stdout",
       "text": [
        "."
       ]
      },
      {
       "output_type": "stream",
       "stream": "stdout",
       "text": [
        "."
       ]
      },
      {
       "output_type": "stream",
       "stream": "stdout",
       "text": [
        "."
       ]
      },
      {
       "output_type": "stream",
       "stream": "stdout",
       "text": [
        "."
       ]
      },
      {
       "output_type": "stream",
       "stream": "stdout",
       "text": [
        "."
       ]
      },
      {
       "output_type": "stream",
       "stream": "stdout",
       "text": [
        "MATLAB started and connected!\n"
       ]
      }
     ],
     "prompt_number": 1
    },
    {
     "cell_type": "code",
     "collapsed": false,
     "input": [
      "%%matlab\n",
      "api_path = ('/Users/chuckbronson/Documents/PLOTLY/MATLAB_API/');\n",
      "addpath(genpath(api_path));"
     ],
     "language": "python",
     "metadata": {},
     "outputs": [],
     "prompt_number": 3
    },
    {
     "cell_type": "code",
     "collapsed": false,
     "input": [
      "%%matlab \n",
      "load('config'); \n",
      "signin(config.un,config.key);"
     ],
     "language": "python",
     "metadata": {},
     "outputs": [],
     "prompt_number": 4
    },
    {
     "cell_type": "code",
     "collapsed": false,
     "input": [
      "%%matlab\n",
      "categories={ {'giraffes', 'orangutans', 'monkeys'} }; \n",
      "SF = struct('name', 'SF Zoo', ...\n",
      "  'x', categories, ...\n",
      "  'y', [20, 14, 23], ...\n",
      "  'type', 'bar', ...\n",
      "  'marker', struct(...\n",
      "    'color', 'orange',... \n",
      "    'line', struct('color', 'grey',... \n",
      "      'width', 3)));\n",
      "\n",
      "LA = struct('name', 'LA Zoo', ...\n",
      "  'x', categories, ...\n",
      "  'y', [12,18,29], ...\n",
      "  'type', 'bar', ...\n",
      "  'marker', struct('color', 'rgb(111, 168, 220)', ...\n",
      "    'line', struct('color', 'grey', ...\n",
      "      'width', 3)));\n",
      "\n",
      "layout = struct(...\n",
      "  'title', 'Animal Population', ...\n",
      "  'barmode', 'group', ... \n",
      "  'yaxis', struct('name', '# of animals (thousands)'), ...\n",
      "  'xaxis', struct('type', 'category'), ...\n",
      "  'categories', categories, ...\n",
      "  'bargap', 0.25, ... \n",
      "  'bargroupgap', 0.3, ... \n",
      "  'bardir', 'v') %options\n",
      "\n",
      "response = plotly({LA, SF}, struct('layout',layout))\n",
      "url = response.url\n",
      "filename = response.filename"
     ],
     "language": "python",
     "metadata": {},
     "outputs": [
      {
       "metadata": {},
       "output_type": "display_data",
       "text": [
        "\n",
        "layout = \n",
        "\n",
        "          title: 'Animal Population'\n",
        "        barmode: 'group'\n",
        "          yaxis: [1x1 struct]\n",
        "          xaxis: [1x1 struct]\n",
        "     categories: {'giraffes'  'orangutans'  'monkeys'}\n",
        "         bargap: 0.2500\n",
        "    bargroupgap: 0.3000\n",
        "         bardir: 'v'\n",
        "\n",
        "\n",
        "response = \n",
        "\n",
        "         url: 'https://plot.ly/~bronsolo/23'\n",
        "     message: [1x0 char]\n",
        "     warning: [1x0 char]\n",
        "    filename: 'plot from API'\n",
        "       error: [1x0 char]\n",
        "\n",
        "\n",
        "url =\n",
        "\n",
        "https://plot.ly/~bronsolo/23\n",
        "\n",
        "\n",
        "filename =\n",
        "\n",
        "plot from API\n",
        "\n"
       ]
      }
     ],
     "prompt_number": 7
    },
    {
     "cell_type": "code",
     "collapsed": false,
     "input": [
      "from IPython.display import HTML\n",
      "\n",
      "def show_plot(url, width=700, height=500):\n",
      "    s = '<iframe height=\"%s\" id=\"igraph\" scrolling=\"no\" seamless=\"seamless\" src=\"%s\" width=\"%s\"></iframe>' %\\\n",
      "    (height+50, \"/\".join(map(str,[url, width, height])), width+50)\n",
      "    return HTML(s)"
     ],
     "language": "python",
     "metadata": {},
     "outputs": [],
     "prompt_number": 1
    },
    {
     "cell_type": "code",
     "collapsed": false,
     "input": [
      "show_plot('https://plot.ly/~bronsolo/39')"
     ],
     "language": "python",
     "metadata": {},
     "outputs": [
      {
       "html": [
        "<iframe height=\"550\" id=\"igraph\" scrolling=\"no\" seamless=\"seamless\" src=\"https://plot.ly/~bronsolo/39/700/500\" width=\"750\"></iframe>"
       ],
       "metadata": {},
       "output_type": "pyout",
       "prompt_number": 9,
       "text": [
        "<IPython.core.display.HTML at 0x109e26dd0>"
       ]
      }
     ],
     "prompt_number": 9
    },
    {
     "cell_type": "code",
     "collapsed": false,
     "input": [
      "# CSS styling within IPython notebook\n",
      "from IPython.core.display import HTML\n",
      "def css_styling():\n",
      "    styles = open(\"/Users/chuckbronson/Documents/IPYTHON/PLOTLY_NOTEBOOK/css/style_notebook.css\", \"r\").read()\n",
      "    return HTML(styles)\n",
      "css_styling()\n"
     ],
     "language": "python",
     "metadata": {},
     "outputs": [
      {
       "html": [
        "<style>\n",
        "    @font-face {\n",
        "        font-family: \"Computer Modern\";\n",
        "        src: url('http://9dbb143991406a7c655e-aa5fcb0a5a4ec34cff238a2d56ca4144.r56.cf5.rackcdn.com/cmunss.otf');\n",
        "    }\n",
        "    @font-face {\n",
        "        font-family: \"Computer Modern\";\n",
        "        font-weight: bold;\n",
        "        src: url('http://9dbb143991406a7c655e-aa5fcb0a5a4ec34cff238a2d56ca4144.r56.cf5.rackcdn.com/cmunsx.otf');\n",
        "    }\n",
        "    @font-face {\n",
        "        font-family: \"Computer Modern\";\n",
        "        font-style: oblique;\n",
        "        src: url('http://9dbb143991406a7c655e-aa5fcb0a5a4ec34cff238a2d56ca4144.r56.cf5.rackcdn.com/cmunsi.otf');\n",
        "    }\n",
        "    @font-face {\n",
        "        font-family: \"Computer Modern\";\n",
        "        font-weight: bold;\n",
        "        font-style: oblique;\n",
        "        src: url('http://9dbb143991406a7c655e-aa5fcb0a5a4ec34cff238a2d56ca4144.r56.cf5.rackcdn.com/cmunso.otf');\n",
        "    }\n",
        "    div.cell{\n",
        "        width:800px;\n",
        "        margin-left:17% !important;\n",
        "        margin-right:auto;\n",
        "    }\n",
        "    h1 {\n",
        "        /* font-family: Computer Modern, serif; */\n",
        "        width:775px;\n",
        "        color:#333333;\n",
        "        font-family: \u2018Lucida Console\u2019, Monaco, monospace;\n",
        "        text-align: center;\n",
        "    }\n",
        "    h2 {\n",
        "        /* font-family: Computer Modern, serif; */\n",
        "        color: #333333;\n",
        "        font-family: \u2018Lucida Console\u2019, Monaco, monospace;\n",
        "        text-align: center;\n",
        "    }\n",
        "    h3 {\n",
        "        width:775px;\n",
        "        /* font-family: Computer Modern, serif; */\n",
        "        width:775px;\n",
        "        color: #333333;\n",
        "        font-family: \u2018Lucida Console\u2019, Monaco, monospace;\n",
        "    }\n",
        "    h4{\n",
        "        color: #333333;\n",
        "        font-family: \u2018Lucida Console\u2019, Monaco, monospace;\n",
        "        margin-top:15px;\n",
        "        margin-bottom: 3px;\n",
        "       }\n",
        "    div.text_cell_render{\n",
        "     /* font-family: Computer Modern, \"Helvetica Neue\", Arial, Helvetica, Geneva, sans-serif; */\n",
        "        color: #333333;\n",
        "     /* font-family: \u2018Palatino Linotype\u2019, \u2018Book Antiqua\u2019, Palatino, serif; */\n",
        "     /* font-family: \u2018Trebuchet MS\u2019, Helvetica, sans-serif; */\n",
        "        font-family: \u2018Lucida Sans Unicode\u2019, \u2018Lucida Grande\u2019, sans-serif;\n",
        "        line-height: 145%;\n",
        "        font-size: 130%;\n",
        "        width: 800px; \n",
        "    }\n",
        "    code{\n",
        "          font-size: 40%;\n",
        "    }\n",
        "    ul{\n",
        "        margin: 2em;\n",
        "    }\n",
        "    ul li{\n",
        "           padding-left: 0.5em;\n",
        "           margin-bottom: 0.5em;\n",
        "           margin-top: 0.5em;\n",
        "           /*font-variant: small-caps;*/\n",
        "    }\n",
        "    a.nounderline:link{\n",
        "       font-weight: bold;\n",
        "       text-decoration:none;\n",
        "    }\n",
        "    a.nounderlineblack:link{\n",
        "       color: #333333;\n",
        "       font-weight: bold;\n",
        "       text-decoration:none;\n",
        "    }\n",
        "    a.nounderlineblack:visited{\n",
        "       color: #333333;\n",
        "       font-weight: bold;\n",
        "       text-decoration:none;\n",
        "    }\n",
        "    a:link{\n",
        "       font-weight: bold;\n",
        "       text-decoration:none;\n",
        "    }\n",
        "    a:visited{\n",
        "       font-weight: bold;\n",
        "       text-decoration: none;\n",
        "    }\n",
        "    a:hover{\n",
        "       text-decoration: none;\n",
        "       font-weight: bold;\n",
        "    }\n",
        "    a:focus{\n",
        "       text-decoration: none;\n",
        "       font-weight: bold;\n",
        "    }\n",
        "    a:active{\n",
        "       text-decoration: none;\n",
        "       font-weight: bold;\n",
        "    }\n",
        "    .CodeMirror{ \n",
        "            font-family: \"Source Code Pro\", source-code-pro,Consolas, monospace;\n",
        "    }\n",
        "    .prompt{\n",
        "        display: None;\n",
        "    }\n",
        "    .text_cell_render h5 {\n",
        "        font-weight: 300;\n",
        "        font-size: 22pt;\n",
        "        color: #4057A1;\n",
        "        font-style: italic;\n",
        "        margin-bottom: .5em;\n",
        "        margin-top: 0.5em;\n",
        "        display: block;\n",
        "    }\n",
        "    .warning{\n",
        "        color: rgb( 240, 20, 20 )\n",
        "        }\n",
        "\n",
        "</style>\n",
        "<script>\n",
        "    MathJax.Hub.Config({\n",
        "                        TeX: {\n",
        "                           extensions: [\"AMSmath.js\"]\n",
        "                           },\n",
        "                tex2jax: {\n",
        "                    inlineMath: [ ['$','$'], [\"\\\\(\",\"\\\\)\"] ],\n",
        "                    displayMath: [ ['$$','$$'], [\"\\\\[\",\"\\\\]\"] ]\n",
        "                },\n",
        "                displayAlign: 'center', // Change this to 'center' to center equations.\n",
        "                \"HTML-CSS\": {\n",
        "                    styles: {'.MathJax_Display': {\"margin\": 4}}\n",
        "                }\n",
        "        });\n",
        "</script>"
       ],
       "metadata": {},
       "output_type": "pyout",
       "prompt_number": 10,
       "text": [
        "<IPython.core.display.HTML at 0x109f7d410>"
       ]
      }
     ],
     "prompt_number": 10
    },
    {
     "cell_type": "code",
     "collapsed": false,
     "input": [],
     "language": "python",
     "metadata": {},
     "outputs": []
    }
   ],
   "metadata": {}
  }
 ]
}